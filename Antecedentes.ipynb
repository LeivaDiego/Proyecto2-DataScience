{
 "cells": [
  {
   "cell_type": "markdown",
   "metadata": {},
   "source": [
    "## **Antecedentes**"
   ]
  },
  {
   "cell_type": "markdown",
   "metadata": {},
   "source": [
    "### **Detección de Fracturas  de las Vértebras Cervicales en Radiografías**"
   ]
  },
  {
   "cell_type": "markdown",
   "metadata": {},
   "source": [
    "#### **¿Qué es la columna cervical y cómo está estructurada?**"
   ]
  },
  {
   "cell_type": "markdown",
   "metadata": {},
   "source": [
    "<p style=\"font-size: 16px;\">La columna vertebral es un componente vital del esqueleto axial humano, está formado por 33 vértebras y varios tejidos blandos asociados. Estas vértebras están distribuidas en cinco regiones: cervical, torácica, lumbar, sacra y coccígea, cada una con características y funciones específicas. Dentro de este conjunto, la columna cervical, compuesta por siete vértebras <strong>(C1 a C7)</strong>, juega un papel crucial en la movilidad y el soporte del cráneo. </p>"
   ]
  },
  {
   "cell_type": "markdown",
   "metadata": {},
   "source": [
    "![[Imagen 1: Representación de la Columna Vertebral Completa]](imgrep/columna.jpg)\n",
    "****\n",
    "<p style=\"font-size: 10px; font-weight: bold; font-style: italic;\">[Imagen 1: Representación de la Columna Vertebral Completa]</p>"
   ]
  },
  {
   "cell_type": "markdown",
   "metadata": {},
   "source": [
    "<p style=\"font-size: 16px;\">La columna cervical está compuesta por siete vértebras, que se dividen en dos segmentos principales: el <strong>atlas (C1)</strong> y el <strong>axis (C2)</strong>, los cuales forman la unión craneocervical (UCC), y las vértebras subaxiales <strong>(C3 a C7)</strong>, responsables del soporte del cráneo y el movimiento del cuello. A pesar de que las vértebras cervicales comparten algunas características con las torácicas y lumbares, su tamaño reducido y mayor movilidad les confieren particularidades estructurales que facilitan la flexibilidad del cuello y la cabeza.</p>"
   ]
  },
  {
   "cell_type": "markdown",
   "metadata": {},
   "source": [
    "#### **Vértebras de la Columna Cervical**"
   ]
  },
  {
   "cell_type": "markdown",
   "metadata": {},
   "source": [
    "##### **Atlas (C1)**"
   ]
  },
  {
   "cell_type": "markdown",
   "metadata": {},
   "source": [
    "<p style=\"font-size: 16px;\"><strong>El atlas (C1)</strong> es la primera vértebra cervical, y está diseñada específicamente para sostener el cráneo mediante su articulación con los cóndilos occipitales. A diferencia del resto de las vértebras, el atlas carece de cuerpo vertebral, lo que le permite formar un anillo alrededor de la médula espinal al salir del foramen magnum. Esta estructura facilita principalmente los movimientos de flexión y extensión del cuello.</p>"
   ]
  },
  {
   "cell_type": "markdown",
   "metadata": {},
   "source": [
    "![[Imagen 2: Primera vértebra cervical. Vista superior de la primera vértebra cervical, también conocida como atlas.]](imgrep/Atlas.jpg)\n",
    "****\n",
    "<p style=\"font-size: 10px; font-weight: bold; font-style: italic;\">[Imagen 2: Primera vértebra cervical. Vista superior de la primera vértebra cervical, también conocida como atlas.]</p>\n"
   ]
  },
  {
   "cell_type": "markdown",
   "metadata": {},
   "source": [
    "##### **Axis (C2)**"
   ]
  },
  {
   "cell_type": "markdown",
   "metadata": {},
   "source": [
    "<p style=\"font-size: 16px;\"><strong>El axis (C2)</strong>, por otro lado, es la vértebra que soporta la mayor parte del peso de la región cervical superior y tiene una característica única: el proceso odontoides, también conocido como dens. Este proceso sirve como un pivote que facilita la rotación del atlas y el cráneo sobre el axis, permitiendo un amplio rango de movimiento en la rotación del cuello.</p>"
   ]
  },
  {
   "cell_type": "markdown",
   "metadata": {},
   "source": [
    "![[Imagen 3: Segunda vértebra cervical. Vista superior de la segunda vértebra cervical, también conocida como axis.]](imgrep/Axis.jpg)\n",
    "****\n",
    "<p style=\"font-size: 10px; font-weight: bold; font-style: italic;\">[Imagen 3: Segunda vértebra cervical. Vista superior de la segunda vértebra cervical, también conocida como axis.]</p>"
   ]
  },
  {
   "cell_type": "markdown",
   "metadata": {},
   "source": [
    "##### **Vértebras Subaxiales: C3 a C7**"
   ]
  },
  {
   "cell_type": "markdown",
   "metadata": {},
   "source": [
    "<p style=\"font-size: 16px;\">Las vértebras subaxiales (C3 a C7) comparten varias características morfológicas y funcionales que permiten un rango significativo de movimiento, desde la flexión hasta la rotación lateral del cuello. Estas vértebras también tienen proyecciones conocidas como procesos uncinados, que ayudan a estabilizar la columna cervical y evitar el desplazamiento de las vértebras adyacentes. </p>\n",
    "\n",
    "<p style=\"font-size: 16px;\">Entre estas vértebras, C7, conocida como la vértebra prominente, es la más fácilmente palpable en la base del cuello y posee un proceso espinoso más largo que las demás vértebras cervicales. Esta particularidad permite una referencia anatómica fácil para los clínicos durante los exámenes físicos.</p>\n"
   ]
  },
  {
   "cell_type": "markdown",
   "metadata": {},
   "source": [
    "![[Imagen 4: Vértebras cervicales. Vista superior de las vértebras C3, C4, C5, C6 y C7]](imgrep/c3c7.jpg)\n",
    "****\n",
    "<p style=\"font-size: 10px; font-weight: bold; font-style: italic;\">[Imagen 4: Vértebras cervicales. Vista superior de las vértebras C3, C4, C5, C6 y C7]</p>"
   ]
  },
  {
   "cell_type": "markdown",
   "metadata": {},
   "source": [
    "> (Kaiser et al., 2023)"
   ]
  },
  {
   "cell_type": "markdown",
   "metadata": {},
   "source": [
    "#### **¿Cómo se detectan tradicionalmente las fracturas de la columna cervical en la práctica médica?**"
   ]
  },
  {
   "cell_type": "markdown",
   "metadata": {},
   "source": [
    "<p style=\"font-size: 16px;\">Primero, tenemos que saber cómo se puede llegar a interpretar una radiografía. Entonces una vez obtenida la radiografía, el radiólogo o un médico especializado en el análisis de imágenes tendría que evaluar la imagen para detectar anomalías como fracturas. Este proceso requiere un conocimiento profundo de la anatomía y de las características visuales típicas de las fracturas óseas, como cambios en la estructura ósea, discontinuidades y desplazamientos.</p>\n",
    "<br>\n",
    "\n",
    "<p style=\"font-size: 18px; font-weight: bold;\">Características comunes de las fracturas en radiografías:</p>\n",
    "<ul>\n",
    "<li><p style=\"font-size: 16px;\"><strong>Línea de fractura:</strong> Aparece como una línea oscura que atraviesa el hueso, indicando una interrupción en la continuidad.</p></li>\n",
    "<li><p style=\"font-size: 16px;\"><strong>Desplazamiento óseo:</strong> En algunos casos, los fragmentos óseos pueden desplazarse, haciendo que la fractura sea más evidente debido a la separación o mal alineación de las piezas.</p></li>\n",
    "<li><p style=\"font-size: 16px;\"><strong>Ensanchamiento o angulación:</strong> Las fracturas pueden causar que los extremos óseos se desvíen de su alineación normal.</p></li>\n",
    "<li><p style=\"font-size: 16px;\"><strong>Fracturas por compresión:</strong> Estas suelen aparecer en huesos vertebrales y se manifiestan como una pérdida de altura en los cuerpos vertebrales. </p></li>\n",
    "</ul>\n",
    "<br>\n",
    "\n",
    "<p style=\"font-size: 18px; font-weight: bold;\">Tipos de fracturas visibles en radiografías:</p>\n",
    "\n",
    "<p style=\"font-size: 16px;\">Existen varios tipos de fracturas que pueden detectarse en una radiografía, cada una con características específicas que facilitan su identificación:</p>\n",
    "\n",
    "<ul>\n",
    "<li><p style=\"font-size: 16px;\"><strong>Fractura simple:</strong> Se trata de una línea de fractura limpia sin desplazamiento significativo de los fragmentos óseos.</p></li>\n",
    "<li><p style=\"font-size: 16px;\"><strong>Fractura conminuta:</strong> El hueso se rompe en múltiples fragmentos, lo que puede verse como varias líneas de fractura. </p></li>\n",
    "<li><p style=\"font-size: 16px;\"><strong>Fractura en tallo verde:</strong> Común en niños, donde el hueso se dobla y se quiebra parcialmente.</p></li>\n",
    "<li><p style=\"font-size: 16px;\"><strong>Fractura en espiral:</strong> Ocurre cuando una fuerza torsional provoca una fractura que sigue un patrón helicoidal alrededor del hueso.</p></li>\n",
    "<li><p style=\"font-size: 16px;\"><strong>Fractura por estrés:</strong> Es una microfractura que puede no ser fácilmente visible en radiografías iniciales, pero que puede evidenciarse como una línea fina con la repetición de la imagen o a través de otras modalidades diagnósticas como la resonancia magnética.</p></li>\n",
    "</ul>"
   ]
  },
  {
   "cell_type": "markdown",
   "metadata": {},
   "source": [
    "> (Centre (UK), 2016)"
   ]
  },
  {
   "cell_type": "markdown",
   "metadata": {},
   "source": [
    "> (Hauwe et al., 2020)"
   ]
  },
  {
   "cell_type": "markdown",
   "metadata": {},
   "source": [
    "#### **Fracturas por Radiografía en Vértebras Cervicales**"
   ]
  },
  {
   "cell_type": "markdown",
   "metadata": {},
   "source": [
    "##### **Fractura de C1 (Atlas)**"
   ]
  },
  {
   "cell_type": "markdown",
   "metadata": {},
   "source": [
    "<p style=\"font-size: 16px;\">Esta fractura es la que afecta a la vértebra C1, es una lesión que se produce por la compresión axial del cráneo sobre la columna cervical. La característica principal es la pérdida de la integridad del anillo vertebral de C1. Esto se aprecia mejor en la vista radiográfica con la boca abierta, donde las masas laterales de C1 no se alinean correctamente con las de C2, y el espacio entre la clavija odontoidea de C2 y las masas laterales de C1 está ensanchado.</p>"
   ]
  },
  {
   "cell_type": "markdown",
   "metadata": {},
   "source": [
    "![[Imagen 5: Fractura C1 Atlas visto desde la parte frontal de la cabeza.]](imgrep/les1.jpg)\n",
    "****\n",
    "<p style=\"font-size: 10px; font-weight: bold; font-style: italic;\">[Imagen 5: Fractura C1 Atlas visto desde la parte frontal de la cabeza.]</p>"
   ]
  },
  {
   "cell_type": "markdown",
   "metadata": {},
   "source": [
    "##### **Fractura de C2 (Axis)**"
   ]
  },
  {
   "cell_type": "markdown",
   "metadata": {},
   "source": [
    "<p style=\"font-size: 16px;\">Existen varios tipos de fracturas que pueden afectar la vértebra C2, cada una con características radiográficas distintivas:</p>\n",
    "\n",
    "<p style=\"font-size: 16px;\"><strong>Fractura del Odontoides:</strong> Este tipo de fractura involucra el proceso odontoides de C2 y puede visualizarse en la vista lateral o en la vista con la boca abierta. La clavija puede estar desplazada o fracturada, lo que interrumpe el anillo de C2. <strong> [Imagen 6] </strong></p>\n",
    "\n",
    "<p style=\"font-size: 16px;\"><strong>Fractura del Verdugo:</strong> Causada por una hiperextensión violenta, esta fractura afecta los pedículos de C2 y resulta en un desplazamiento anterior del cuerpo de C2. Es claramente visible en la vista lateral, donde se observa una pérdida de alineación entre C2 y C3.  <strong> [Imagen 7] </strong></p>"
   ]
  },
  {
   "cell_type": "markdown",
   "metadata": {},
   "source": [
    "![[Imagen 6: Fractura del Odontoides C2.]](imgrep/les3.jpg)\n",
    "****\n",
    "<p style=\"font-size: 10px; font-weight: bold; font-style: italic;\">[Imagen 6: Fractura del Odontoides C2.]</p>\n",
    "\n",
    "![[Imagen 7: Fractura del Verdugo C3.]](imgrep/les4.jpg)\n",
    "****\n",
    "<p style=\"font-size: 10px; font-weight: bold; font-style: italic;\">[Imagen 7: Fractura del Verdugo C3.]</p>"
   ]
  },
  {
   "cell_type": "markdown",
   "metadata": {},
   "source": [
    "> (Trauma X-ray - Axial skeleton, 2018)"
   ]
  },
  {
   "cell_type": "markdown",
   "metadata": {},
   "source": [
    "##### **Conclusión**"
   ]
  },
  {
   "cell_type": "markdown",
   "metadata": {},
   "source": [
    "<p style=\"font-size: 16px;\">La detección de fracturas en la columna cervical mediante radiografías es un proceso que requiere conocimiento detallado sobre la estructura anatómica de las vértebras y sus relaciones especiales. En este pequeño proceso investigativo se determinó la importancia de tener un conocimiento claro y profundo de las características especídgicas de las vértebras cervicales.</p>\n",
    "\n",
    "<p style=\"font-size: 16px;\">En el ámbito clínico, los médicos observan diferentes proyecciones de las radiografías para analizar las alineaciones vertebrales, contornos óseos y otras estructuras asociadas, para este proyecto debemos llegar a imitar dicho comportamiento para poder obtener los resultados esperados</p>\n",
    "\n",
    "<p style=\"font-size: 16px;\">Para este proyecto de Data Science enfocado en la detección de fracturas es imperativo entrenar el modelo con una gran cantidad de radiografías anotadas para que el sistema sea capaz de reconocer patrones relacionados tanto con la estructura ósea normal como con las alteraciones que sugieren fracturas. </p>\n",
    "\n",
    "<p style=\"font-size: 16px;\">Las fracturas, por lo general, interrumpen la continuidad ósea, lo que en las radiografías se traduce en un cambio abrupto en las tonalidades. Los huesos sanos aparecen predominantemente en tonos blancos debido a su alta densidad, mientras que las fracturas o desplazamientos pueden mostrar zonas más oscuras, negras o incluso azules, dependiendo del tipo de imagen.</p>\n",
    "\n",
    "<p style=\"font-size: 16px;\">Una vez entendido esto, nuestro programa tiene que ser capaz de capaz de identificar estos cambios en la escala de grises o en la intensidad de los colores para reconocer fracturas con alta precisión. Además, el modelo debe estar capacitado para analizar posibles desplazamientos o desalineaciones en la estructura vertebral que, en ausencia de fractura evidente, podrían ser un signo clave de lesión.</p>\n",
    "\n"
   ]
  },
  {
   "cell_type": "markdown",
   "metadata": {},
   "source": [
    "#### **Referencias**"
   ]
  },
  {
   "cell_type": "markdown",
   "metadata": {},
   "source": [
    "<p style=\"font-size: 14px;\"><strong>Centre (UK), N. C. G. (2016). Diagnostic imaging. En Spinal Injury: Assessment and Initial Management. National Institute for Health and Care Excellence (NICE).</strong><em> https://www.ncbi.nlm.nih.gov/books/NBK367837/</em></p>\n",
    "\n",
    "<p style=\"font-size: 14px;\"><strong>Hauwe, L. van D., Sundgren, P. C., & Flanders, A. E. (2020). Spinal Trauma and Spinal Cord Injury (SCI). En Diseases of the Brain, Head and Neck, Spine 2020–2023: Diagnostic Imaging [Internet]. Springer. </strong><em>https://doi.org/10.1007/978-3-030-38490-6_19</em></p>\n",
    "\n",
    "<p style=\"font-size: 14px;\"><strong>Kaiser, J. T., Reddy, V., Launico, M. V., & Lugo-Pico, J. G. (2023). Anatomy, Head and Neck: Cervical Vertebrae. En StatPearls [Internet]. StatPearls Publishing.</strong><em> https://www.ncbi.nlm.nih.gov/books/NBK539734/</em></p>\n",
    "\n",
    "<p style=\"font-size: 14px;\"><strong>Trauma X-ray—Axial skeleton. (2018). Recuperado 30 de septiembre de 2024, de <em> https://www.radiologymasterclass.co.uk/tutorials/musculoskeletal/x-ray_trauma_spinal/x-ray_c-spine_fracture</strong></em></p>"
   ]
  }
 ],
 "metadata": {
  "kernelspec": {
   "display_name": "Python 3",
   "language": "python",
   "name": "python3"
  },
  "language_info": {
   "codemirror_mode": {
    "name": "ipython",
    "version": 3
   },
   "file_extension": ".py",
   "mimetype": "text/x-python",
   "name": "python",
   "nbconvert_exporter": "python",
   "pygments_lexer": "ipython3",
   "version": "3.12.4"
  }
 },
 "nbformat": 4,
 "nbformat_minor": 2
}
