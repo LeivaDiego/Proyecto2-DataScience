{
 "cells": [
  {
   "cell_type": "markdown",
   "metadata": {},
   "source": [
    "# Proyecto 2\n",
    "## RSNA 2022 Cervical Spine Fracture Detection\n",
    "**Universidad del Valle de Guatemala**\\\n",
    "**Facultad de Ingeniería**\\\n",
    "**Departamento de Ciencias de la Computación**\\\n",
    "**Data Science**\n",
    "\n",
    "---\n",
    "\n",
    "## Integrantes\n",
    "- Gustavo Gonzalez\n",
    "- Pablo Orellana\n",
    "- Diego Leiva\n",
    "- Maria Ramirez"
   ]
  },
  {
   "cell_type": "markdown",
   "metadata": {},
   "source": [
    "## Librerias"
   ]
  },
  {
   "cell_type": "markdown",
   "metadata": {},
   "source": [
    "NOTA: Importante tener el Token de la API en el folder `C:\\Users\\<Windows-username>\\.kaggle\\kaggle.json`\n",
    "\n",
    "Para una guia mas detallada o si tiene otro sistema dirigase a: https://www.kaggle.com/docs/api#getting-started-installation-&-authentication \n",
    "\n",
    "Asimismo puede visitar la documentacion oficial de la API: https://github.com/Kaggle/kaggle-api/tree/main/docs#api-credentials\n",
    "\n",
    "Si no utilizara la API de Kaggle para descargar el conjunto de datos comente las lineas para importar la libreria de kaggle."
   ]
  },
  {
   "cell_type": "code",
   "execution_count": 14,
   "metadata": {},
   "outputs": [],
   "source": [
    "# Kaggle API\n",
    "import kaggle\n",
    "from kaggle.rest import ApiException\n",
    "\n",
    "# Operaciones de archivos\n",
    "import os\n",
    "import pickle\n",
    "import zipfile\n",
    "import shutil\n",
    "\n",
    "# Operaciones de datos\n",
    "import pandas as pd\n",
    "import numpy as np\n",
    "from collections import defaultdict\n",
    "\n",
    "# Operaciones de imágenes\n",
    "from PIL import Image\n",
    "\n",
    "# Visualización\n",
    "from tqdm import tqdm\n",
    "import seaborn as sns\n",
    "import matplotlib.pyplot as plt\n",
    "\n",
    "# Utilidades\n",
    "import random\n",
    "import time\n",
    "import uuid\n",
    "\n",
    "# Pytorch y Torchvision\n",
    "import torch\n",
    "import torch.nn as nn\n",
    "from torch.autograd import Variable\n",
    "from torch.optim import lr_scheduler\n",
    "from torchvision import transforms\n",
    "\n",
    "# Sklearn\n",
    "from sklearn.model_selection import train_test_split\n",
    "from sklearn.metrics import confusion_matrix\n",
    "from sklearn.metrics import accuracy_score\n",
    "from sklearn.svm import SVC\n",
    "from sklearn.preprocessing import StandardScaler\n",
    "\n",
    "# Warnings\n",
    "# import warnings\n",
    "# warnings.filterwarnings('ignore')"
   ]
  },
  {
   "cell_type": "markdown",
   "metadata": {},
   "source": [
    "### Configuración de variable de entorno para CUDA\n",
    "De no tener un equipo compatible con CUDA, o si ya tiene configurado el PATH de CUDA, comente la siguiente línea.\n",
    "Para mas detalle puede visitar las guias de CUDA Toolkit en el siguiente enlace: https://docs.nvidia.com/cuda/archive/12.4.0/"
   ]
  },
  {
   "cell_type": "code",
   "execution_count": 15,
   "metadata": {},
   "outputs": [],
   "source": [
    "# Ruta para CUDA 12.4\n",
    "# os.environ['CUDA_PATH'] = r\"C:/Program Files/NVIDIA GPU Computing Toolkit//CUDA//v12.4\"  "
   ]
  },
  {
   "cell_type": "markdown",
   "metadata": {},
   "source": [
    "## Carga de Dataset"
   ]
  },
  {
   "cell_type": "code",
   "execution_count": 16,
   "metadata": {},
   "outputs": [],
   "source": [
    "# Definir competencia y directorio de conjunto de datos\n",
    "competition_name = 'rsna-2022-cervical-spine-fracture-detection'\n",
    "target_path = 'data'\n",
    "\n",
    "# Bandera para habilitar o deshabilitar la descarga de datos\n",
    "download_data = False"
   ]
  },
  {
   "cell_type": "markdown",
   "metadata": {},
   "source": [
    "### Descargar el archivo con Kaggle"
   ]
  },
  {
   "cell_type": "markdown",
   "metadata": {},
   "source": [
    "Puede omitir esta celda si decide descargar los archivos manualmente en el siguiente enlace:\n",
    "https://www.kaggle.com/competitions/rsna-2022-cervical-spine-fracture-detection/overview\n",
    "\n",
    "Puede que necesite aceptar las reglas de la competencia en: https://www.kaggle.com/competitions/rsna-2022-cervical-spine-fracture-detection/rules\n",
    "\n",
    "Aceptelas y siga los pasos que se le muestren en pantalla."
   ]
  },
  {
   "cell_type": "code",
   "execution_count": 17,
   "metadata": {},
   "outputs": [
    {
     "name": "stdout",
     "output_type": "stream",
     "text": [
      "Descarga de datos realizada previamente...\n"
     ]
    }
   ],
   "source": [
    "if download_data:\n",
    "    # Autenticación con Kaggle API\n",
    "    kaggle.api.authenticate()\n",
    "\n",
    "    try:\n",
    "        kaggle.api.competition_download_files(competition=competition_name,\n",
    "                                            path='data',\n",
    "                                            quiet=False,\n",
    "                                            force=False)\n",
    "        \n",
    "        print(f\"EXITO: Archivos descargados en '{target_path}'\")\n",
    "\n",
    "    except ApiException as e:\n",
    "        print(f\"ERROR al llamar KaggleApi -> competition_download \\n\\t{e}\")\n",
    "else:\n",
    "    print(\"Descarga de datos realizada previamente...\")"
   ]
  },
  {
   "cell_type": "markdown",
   "metadata": {},
   "source": [
    "### Descomprimir el Zip"
   ]
  },
  {
   "cell_type": "markdown",
   "metadata": {},
   "source": [
    "Puede comentar esta celda si ya tiene los archivos descomprimidos"
   ]
  },
  {
   "cell_type": "code",
   "execution_count": 18,
   "metadata": {},
   "outputs": [
    {
     "name": "stdout",
     "output_type": "stream",
     "text": [
      "Descompresión de archivos realizada previamente...\n",
      "Conjunto de datos en 'data'\n"
     ]
    }
   ],
   "source": [
    "if download_data:\n",
    "    try:\n",
    "        # Descomprimir archivo .zip\n",
    "        with zipfile.ZipFile(f'{target_path}/{competition_name}.zip', 'r') as zip_ref:\n",
    "            zip_ref.extractall(target_path)\n",
    "\n",
    "        # Eliminar archivo .zip\n",
    "        os.remove(f'{target_path}/{competition_name}.zip')\n",
    "\n",
    "        print(f\"EXITO: Archivo .zip descomprimido en '{target_path}'\")\n",
    "\n",
    "    except Exception as e:\n",
    "        print(f\"ERROR al descomprimir archivo .zip \\n\\t{e}\")\n",
    "else:\n",
    "    print(\"Descompresión de archivos realizada previamente...\")\n",
    "    print(f\"Conjunto de datos en '{target_path}'\")"
   ]
  },
  {
   "cell_type": "markdown",
   "metadata": {},
   "source": [
    "Deberia de tener los siguientes archivos dentro de la carpeta `data`\n",
    "\n",
    "- segmentations\n",
    "  - archivos .nii\n",
    "- test_images\n",
    "  - archivos .dcm\n",
    "- train_images\n",
    "  - 1.2.826.0....\n",
    "    - archivos .dcm\n",
    "  - ...  \n",
    "- sample_submission.csv\n",
    "- test.csv\n",
    "- train_bounding_boxes.csv\n",
    "- train.csv"
   ]
  },
  {
   "cell_type": "markdown",
   "metadata": {},
   "source": [
    "### Limpieza del entorno de trabajo"
   ]
  },
  {
   "cell_type": "markdown",
   "metadata": {},
   "source": [
    "Puede comentar esta celda si no tiene estos archivos o si no desea eliminarlos.\n",
    "\n",
    "Dado el enfoque académico de este análisis y la naturaleza de las competencias de Kaggle, los archivos relacionados con el conjunto de test no serán utilizados. Estos archivos tienen una estructura diferente al conjunto de entrenamiento y están destinados a evaluar los modelos generados en la competencia. Como no se pretende generar un modelo competitivo en este contexto, se procederá a eliminar los siguientes archivos/carpetas:\n",
    "- test_images\n",
    "- sampe_submission.csv\n",
    "- test.csv\n",
    "\n",
    "Además explorando la información proporcionada por kaggle, se menciona que se tomo una parte de los datos de imágenes y fue semgentada automáticamente utilizando un modelo 3D UNET, y los radiólogos modificaron y aprobaron las segmentaciones. Las etiquetas de segmentación proporcionadas tienen valores de 1 a 7 para C1 a C7 (las siete vértebras cervicales) y de 8 a 19 para T1 a T12 (las doce vértebras torácicas, ubicadas en el centro de la parte superior y media de la espalda), y 0 para todo lo demás. Estos datos han sido proporcionados como archivos `.nii` (formato nifti) que contienen las anotaciones a nivel pixel. Sin embargo, se indica que solo se tomó una pequeña muestra del conjunto completo. Por consiguiente también se tomó la decisión de eliminar la carpeta `segmentations`."
   ]
  },
  {
   "cell_type": "code",
   "execution_count": 19,
   "metadata": {},
   "outputs": [],
   "source": [
    "# Función para eliminar archivos o carpetas\n",
    "def remove_files(paths):\n",
    "    \"\"\"\n",
    "    Elimina archivos o carpetas de la lista de rutas especificadas.\n",
    "    \"\"\"\n",
    "    for path in paths:\n",
    "        if os.path.isdir(path):\n",
    "            # Si es una carpeta, usar shutil.rmtree() para eliminarla\n",
    "            try:\n",
    "                shutil.rmtree(path)\n",
    "                print(f\"Carpeta eliminada: {path}\")\n",
    "            except Exception as e:\n",
    "                print(f\"Error al eliminar la carpeta {path}: {e}\")\n",
    "\n",
    "        elif os.path.isfile(path):\n",
    "            # Si es un archivo, usar os.remove() para eliminarlo\n",
    "            try:\n",
    "                os.remove(path)\n",
    "                print(f\"Archivo eliminado: {path}\")\n",
    "            except Exception as e:\n",
    "                print(f\"Error al eliminar el archivo {path}: {e}\")\n",
    "        else:\n",
    "            print(f\"{path} no encontrado, omitiendo...\")"
   ]
  },
  {
   "cell_type": "code",
   "execution_count": 20,
   "metadata": {},
   "outputs": [
    {
     "name": "stdout",
     "output_type": "stream",
     "text": [
      "data/test_images no encontrado, omitiendo...\n",
      "data/sample_submission.csv no encontrado, omitiendo...\n",
      "data/test.csv no encontrado, omitiendo...\n",
      "data/segmentations no encontrado, omitiendo...\n"
     ]
    }
   ],
   "source": [
    "# Definir los caminos a los archivos y carpetas a eliminar\n",
    "paths_to_remove = [\n",
    "    'data/test_images', \n",
    "    'data/sample_submission.csv', \n",
    "    'data/test.csv',\n",
    "    'data/segmentations'\n",
    "]\n",
    "\n",
    "# Ejecutar la función\n",
    "remove_files(paths_to_remove)"
   ]
  },
  {
   "cell_type": "markdown",
   "metadata": {},
   "source": [
    "### Generar dataframes"
   ]
  },
  {
   "cell_type": "code",
   "execution_count": 21,
   "metadata": {},
   "outputs": [],
   "source": [
    "# Cargar archivos csv en DataFrames\n",
    "train_df = pd.read_csv('data/train.csv')\n",
    "bbox_df = pd.read_csv('data/train_bounding_boxes.csv')"
   ]
  },
  {
   "cell_type": "markdown",
   "metadata": {},
   "source": [
    "## Comprensión Inicial de Datos Tabulares"
   ]
  },
  {
   "cell_type": "markdown",
   "metadata": {},
   "source": [
    "### Información General del Dataset"
   ]
  },
  {
   "cell_type": "code",
   "execution_count": 22,
   "metadata": {},
   "outputs": [],
   "source": [
    "def get_DF_info(df):\n",
    "    \"\"\"\n",
    "    Función que genera un dataframe con información sobre las columnas de un dataframe dado.\n",
    "\n",
    "    Args:\n",
    "        df (pandas.DataFrame): El dataframe de entrada.\n",
    "        \n",
    "    Returns:\n",
    "        None\n",
    "    \"\"\"\n",
    "    # Crear un dataframe con la información de las columnas    \n",
    "    info = pd.DataFrame({\n",
    "        'Nombre Columna': df.columns,\n",
    "        'Tipo de Dato': df.dtypes,\n",
    "        'Valores Nulos (%)': (df.isnull().sum() * 100 / df.shape[0]).round(2),\n",
    "        'Valores Únicos': df.nunique(),\n",
    "        'Valores Duplicados': df.duplicated().sum()\n",
    "    }).reset_index(drop=True)\n",
    "\n",
    "    # Mostrar la informacion\n",
    "    print(f\"\\nEl dataframe tiene {df.shape[0]} filas (registros) y {df.shape[1]} columnas (variables)\\n\")\n",
    "    display(info)"
   ]
  },
  {
   "cell_type": "code",
   "execution_count": 23,
   "metadata": {},
   "outputs": [
    {
     "name": "stdout",
     "output_type": "stream",
     "text": [
      "Información del Dataset 'train.csv'\n",
      "\n",
      "El dataframe tiene 2019 filas (registros) y 9 columnas (variables)\n",
      "\n"
     ]
    },
    {
     "data": {
      "text/html": [
       "<div>\n",
       "<style scoped>\n",
       "    .dataframe tbody tr th:only-of-type {\n",
       "        vertical-align: middle;\n",
       "    }\n",
       "\n",
       "    .dataframe tbody tr th {\n",
       "        vertical-align: top;\n",
       "    }\n",
       "\n",
       "    .dataframe thead th {\n",
       "        text-align: right;\n",
       "    }\n",
       "</style>\n",
       "<table border=\"1\" class=\"dataframe\">\n",
       "  <thead>\n",
       "    <tr style=\"text-align: right;\">\n",
       "      <th></th>\n",
       "      <th>Nombre Columna</th>\n",
       "      <th>Tipo de Dato</th>\n",
       "      <th>Valores Nulos (%)</th>\n",
       "      <th>Valores Únicos</th>\n",
       "      <th>Valores Duplicados</th>\n",
       "    </tr>\n",
       "  </thead>\n",
       "  <tbody>\n",
       "    <tr>\n",
       "      <th>0</th>\n",
       "      <td>StudyInstanceUID</td>\n",
       "      <td>object</td>\n",
       "      <td>0.0</td>\n",
       "      <td>2019</td>\n",
       "      <td>0</td>\n",
       "    </tr>\n",
       "    <tr>\n",
       "      <th>1</th>\n",
       "      <td>patient_overall</td>\n",
       "      <td>int64</td>\n",
       "      <td>0.0</td>\n",
       "      <td>2</td>\n",
       "      <td>0</td>\n",
       "    </tr>\n",
       "    <tr>\n",
       "      <th>2</th>\n",
       "      <td>C1</td>\n",
       "      <td>int64</td>\n",
       "      <td>0.0</td>\n",
       "      <td>2</td>\n",
       "      <td>0</td>\n",
       "    </tr>\n",
       "    <tr>\n",
       "      <th>3</th>\n",
       "      <td>C2</td>\n",
       "      <td>int64</td>\n",
       "      <td>0.0</td>\n",
       "      <td>2</td>\n",
       "      <td>0</td>\n",
       "    </tr>\n",
       "    <tr>\n",
       "      <th>4</th>\n",
       "      <td>C3</td>\n",
       "      <td>int64</td>\n",
       "      <td>0.0</td>\n",
       "      <td>2</td>\n",
       "      <td>0</td>\n",
       "    </tr>\n",
       "    <tr>\n",
       "      <th>5</th>\n",
       "      <td>C4</td>\n",
       "      <td>int64</td>\n",
       "      <td>0.0</td>\n",
       "      <td>2</td>\n",
       "      <td>0</td>\n",
       "    </tr>\n",
       "    <tr>\n",
       "      <th>6</th>\n",
       "      <td>C5</td>\n",
       "      <td>int64</td>\n",
       "      <td>0.0</td>\n",
       "      <td>2</td>\n",
       "      <td>0</td>\n",
       "    </tr>\n",
       "    <tr>\n",
       "      <th>7</th>\n",
       "      <td>C6</td>\n",
       "      <td>int64</td>\n",
       "      <td>0.0</td>\n",
       "      <td>2</td>\n",
       "      <td>0</td>\n",
       "    </tr>\n",
       "    <tr>\n",
       "      <th>8</th>\n",
       "      <td>C7</td>\n",
       "      <td>int64</td>\n",
       "      <td>0.0</td>\n",
       "      <td>2</td>\n",
       "      <td>0</td>\n",
       "    </tr>\n",
       "  </tbody>\n",
       "</table>\n",
       "</div>"
      ],
      "text/plain": [
       "     Nombre Columna Tipo de Dato  Valores Nulos (%)  Valores Únicos  \\\n",
       "0  StudyInstanceUID       object                0.0            2019   \n",
       "1   patient_overall        int64                0.0               2   \n",
       "2                C1        int64                0.0               2   \n",
       "3                C2        int64                0.0               2   \n",
       "4                C3        int64                0.0               2   \n",
       "5                C4        int64                0.0               2   \n",
       "6                C5        int64                0.0               2   \n",
       "7                C6        int64                0.0               2   \n",
       "8                C7        int64                0.0               2   \n",
       "\n",
       "   Valores Duplicados  \n",
       "0                   0  \n",
       "1                   0  \n",
       "2                   0  \n",
       "3                   0  \n",
       "4                   0  \n",
       "5                   0  \n",
       "6                   0  \n",
       "7                   0  \n",
       "8                   0  "
      ]
     },
     "metadata": {},
     "output_type": "display_data"
    }
   ],
   "source": [
    "print(\"Información del Dataset 'train.csv'\")\n",
    "get_DF_info(train_df)"
   ]
  },
  {
   "cell_type": "markdown",
   "metadata": {},
   "source": [
    "El conjunto de datos `train.csv` no contiene variables con nulos, indicando que el dataframe esta completo y no requerirá un manejode nulos."
   ]
  },
  {
   "cell_type": "code",
   "execution_count": 24,
   "metadata": {},
   "outputs": [
    {
     "name": "stdout",
     "output_type": "stream",
     "text": [
      "Información del Dataset 'train_bounding_boxes.csv'\n",
      "\n",
      "El dataframe tiene 7217 filas (registros) y 6 columnas (variables)\n",
      "\n"
     ]
    },
    {
     "data": {
      "text/html": [
       "<div>\n",
       "<style scoped>\n",
       "    .dataframe tbody tr th:only-of-type {\n",
       "        vertical-align: middle;\n",
       "    }\n",
       "\n",
       "    .dataframe tbody tr th {\n",
       "        vertical-align: top;\n",
       "    }\n",
       "\n",
       "    .dataframe thead th {\n",
       "        text-align: right;\n",
       "    }\n",
       "</style>\n",
       "<table border=\"1\" class=\"dataframe\">\n",
       "  <thead>\n",
       "    <tr style=\"text-align: right;\">\n",
       "      <th></th>\n",
       "      <th>Nombre Columna</th>\n",
       "      <th>Tipo de Dato</th>\n",
       "      <th>Valores Nulos (%)</th>\n",
       "      <th>Valores Únicos</th>\n",
       "      <th>Valores Duplicados</th>\n",
       "    </tr>\n",
       "  </thead>\n",
       "  <tbody>\n",
       "    <tr>\n",
       "      <th>0</th>\n",
       "      <td>StudyInstanceUID</td>\n",
       "      <td>object</td>\n",
       "      <td>0.0</td>\n",
       "      <td>235</td>\n",
       "      <td>0</td>\n",
       "    </tr>\n",
       "    <tr>\n",
       "      <th>1</th>\n",
       "      <td>x</td>\n",
       "      <td>float64</td>\n",
       "      <td>0.0</td>\n",
       "      <td>2642</td>\n",
       "      <td>0</td>\n",
       "    </tr>\n",
       "    <tr>\n",
       "      <th>2</th>\n",
       "      <td>y</td>\n",
       "      <td>float64</td>\n",
       "      <td>0.0</td>\n",
       "      <td>2746</td>\n",
       "      <td>0</td>\n",
       "    </tr>\n",
       "    <tr>\n",
       "      <th>3</th>\n",
       "      <td>width</td>\n",
       "      <td>float64</td>\n",
       "      <td>0.0</td>\n",
       "      <td>3574</td>\n",
       "      <td>0</td>\n",
       "    </tr>\n",
       "    <tr>\n",
       "      <th>4</th>\n",
       "      <td>height</td>\n",
       "      <td>float64</td>\n",
       "      <td>0.0</td>\n",
       "      <td>3727</td>\n",
       "      <td>0</td>\n",
       "    </tr>\n",
       "    <tr>\n",
       "      <th>5</th>\n",
       "      <td>slice_number</td>\n",
       "      <td>int64</td>\n",
       "      <td>0.0</td>\n",
       "      <td>458</td>\n",
       "      <td>0</td>\n",
       "    </tr>\n",
       "  </tbody>\n",
       "</table>\n",
       "</div>"
      ],
      "text/plain": [
       "     Nombre Columna Tipo de Dato  Valores Nulos (%)  Valores Únicos  \\\n",
       "0  StudyInstanceUID       object                0.0             235   \n",
       "1                 x      float64                0.0            2642   \n",
       "2                 y      float64                0.0            2746   \n",
       "3             width      float64                0.0            3574   \n",
       "4            height      float64                0.0            3727   \n",
       "5      slice_number        int64                0.0             458   \n",
       "\n",
       "   Valores Duplicados  \n",
       "0                   0  \n",
       "1                   0  \n",
       "2                   0  \n",
       "3                   0  \n",
       "4                   0  \n",
       "5                   0  "
      ]
     },
     "metadata": {},
     "output_type": "display_data"
    }
   ],
   "source": [
    "print(\"Información del Dataset 'train_bounding_boxes.csv'\")\n",
    "get_DF_info(bbox_df)"
   ]
  },
  {
   "cell_type": "markdown",
   "metadata": {},
   "source": [
    "El archivo `train_bounding_boxes.csv` no presenta valores nulos en sus variables, indicando que el conjunto de datos esta completo y no es necesario hacer un manejo de nulos."
   ]
  },
  {
   "cell_type": "markdown",
   "metadata": {},
   "source": [
    "### Visualizar Dataframe"
   ]
  },
  {
   "cell_type": "code",
   "execution_count": 25,
   "metadata": {},
   "outputs": [
    {
     "data": {
      "text/html": [
       "<div>\n",
       "<style scoped>\n",
       "    .dataframe tbody tr th:only-of-type {\n",
       "        vertical-align: middle;\n",
       "    }\n",
       "\n",
       "    .dataframe tbody tr th {\n",
       "        vertical-align: top;\n",
       "    }\n",
       "\n",
       "    .dataframe thead th {\n",
       "        text-align: right;\n",
       "    }\n",
       "</style>\n",
       "<table border=\"1\" class=\"dataframe\">\n",
       "  <thead>\n",
       "    <tr style=\"text-align: right;\">\n",
       "      <th></th>\n",
       "      <th>StudyInstanceUID</th>\n",
       "      <th>patient_overall</th>\n",
       "      <th>C1</th>\n",
       "      <th>C2</th>\n",
       "      <th>C3</th>\n",
       "      <th>C4</th>\n",
       "      <th>C5</th>\n",
       "      <th>C6</th>\n",
       "      <th>C7</th>\n",
       "    </tr>\n",
       "  </thead>\n",
       "  <tbody>\n",
       "    <tr>\n",
       "      <th>0</th>\n",
       "      <td>1.2.826.0.1.3680043.6200</td>\n",
       "      <td>1</td>\n",
       "      <td>1</td>\n",
       "      <td>1</td>\n",
       "      <td>0</td>\n",
       "      <td>0</td>\n",
       "      <td>0</td>\n",
       "      <td>0</td>\n",
       "      <td>0</td>\n",
       "    </tr>\n",
       "    <tr>\n",
       "      <th>1</th>\n",
       "      <td>1.2.826.0.1.3680043.27262</td>\n",
       "      <td>1</td>\n",
       "      <td>0</td>\n",
       "      <td>1</td>\n",
       "      <td>0</td>\n",
       "      <td>0</td>\n",
       "      <td>0</td>\n",
       "      <td>0</td>\n",
       "      <td>0</td>\n",
       "    </tr>\n",
       "    <tr>\n",
       "      <th>2</th>\n",
       "      <td>1.2.826.0.1.3680043.21561</td>\n",
       "      <td>1</td>\n",
       "      <td>0</td>\n",
       "      <td>1</td>\n",
       "      <td>0</td>\n",
       "      <td>0</td>\n",
       "      <td>0</td>\n",
       "      <td>0</td>\n",
       "      <td>0</td>\n",
       "    </tr>\n",
       "    <tr>\n",
       "      <th>3</th>\n",
       "      <td>1.2.826.0.1.3680043.12351</td>\n",
       "      <td>0</td>\n",
       "      <td>0</td>\n",
       "      <td>0</td>\n",
       "      <td>0</td>\n",
       "      <td>0</td>\n",
       "      <td>0</td>\n",
       "      <td>0</td>\n",
       "      <td>0</td>\n",
       "    </tr>\n",
       "    <tr>\n",
       "      <th>4</th>\n",
       "      <td>1.2.826.0.1.3680043.1363</td>\n",
       "      <td>1</td>\n",
       "      <td>0</td>\n",
       "      <td>0</td>\n",
       "      <td>0</td>\n",
       "      <td>0</td>\n",
       "      <td>1</td>\n",
       "      <td>0</td>\n",
       "      <td>0</td>\n",
       "    </tr>\n",
       "  </tbody>\n",
       "</table>\n",
       "</div>"
      ],
      "text/plain": [
       "            StudyInstanceUID  patient_overall  C1  C2  C3  C4  C5  C6  C7\n",
       "0   1.2.826.0.1.3680043.6200                1   1   1   0   0   0   0   0\n",
       "1  1.2.826.0.1.3680043.27262                1   0   1   0   0   0   0   0\n",
       "2  1.2.826.0.1.3680043.21561                1   0   1   0   0   0   0   0\n",
       "3  1.2.826.0.1.3680043.12351                0   0   0   0   0   0   0   0\n",
       "4   1.2.826.0.1.3680043.1363                1   0   0   0   0   1   0   0"
      ]
     },
     "execution_count": 25,
     "metadata": {},
     "output_type": "execute_result"
    }
   ],
   "source": [
    "train_df.head()"
   ]
  },
  {
   "cell_type": "code",
   "execution_count": 26,
   "metadata": {},
   "outputs": [
    {
     "data": {
      "text/html": [
       "<div>\n",
       "<style scoped>\n",
       "    .dataframe tbody tr th:only-of-type {\n",
       "        vertical-align: middle;\n",
       "    }\n",
       "\n",
       "    .dataframe tbody tr th {\n",
       "        vertical-align: top;\n",
       "    }\n",
       "\n",
       "    .dataframe thead th {\n",
       "        text-align: right;\n",
       "    }\n",
       "</style>\n",
       "<table border=\"1\" class=\"dataframe\">\n",
       "  <thead>\n",
       "    <tr style=\"text-align: right;\">\n",
       "      <th></th>\n",
       "      <th>StudyInstanceUID</th>\n",
       "      <th>x</th>\n",
       "      <th>y</th>\n",
       "      <th>width</th>\n",
       "      <th>height</th>\n",
       "      <th>slice_number</th>\n",
       "    </tr>\n",
       "  </thead>\n",
       "  <tbody>\n",
       "    <tr>\n",
       "      <th>0</th>\n",
       "      <td>1.2.826.0.1.3680043.10051</td>\n",
       "      <td>219.27715</td>\n",
       "      <td>216.71419</td>\n",
       "      <td>17.30440</td>\n",
       "      <td>20.38517</td>\n",
       "      <td>133</td>\n",
       "    </tr>\n",
       "    <tr>\n",
       "      <th>1</th>\n",
       "      <td>1.2.826.0.1.3680043.10051</td>\n",
       "      <td>221.56460</td>\n",
       "      <td>216.71419</td>\n",
       "      <td>17.87844</td>\n",
       "      <td>25.24362</td>\n",
       "      <td>134</td>\n",
       "    </tr>\n",
       "    <tr>\n",
       "      <th>2</th>\n",
       "      <td>1.2.826.0.1.3680043.10051</td>\n",
       "      <td>216.82151</td>\n",
       "      <td>221.62546</td>\n",
       "      <td>27.00959</td>\n",
       "      <td>26.37454</td>\n",
       "      <td>135</td>\n",
       "    </tr>\n",
       "    <tr>\n",
       "      <th>3</th>\n",
       "      <td>1.2.826.0.1.3680043.10051</td>\n",
       "      <td>214.49455</td>\n",
       "      <td>215.48637</td>\n",
       "      <td>27.92726</td>\n",
       "      <td>37.51363</td>\n",
       "      <td>136</td>\n",
       "    </tr>\n",
       "    <tr>\n",
       "      <th>4</th>\n",
       "      <td>1.2.826.0.1.3680043.10051</td>\n",
       "      <td>214.00000</td>\n",
       "      <td>215.48637</td>\n",
       "      <td>27.00000</td>\n",
       "      <td>43.51363</td>\n",
       "      <td>137</td>\n",
       "    </tr>\n",
       "  </tbody>\n",
       "</table>\n",
       "</div>"
      ],
      "text/plain": [
       "            StudyInstanceUID          x          y     width    height  \\\n",
       "0  1.2.826.0.1.3680043.10051  219.27715  216.71419  17.30440  20.38517   \n",
       "1  1.2.826.0.1.3680043.10051  221.56460  216.71419  17.87844  25.24362   \n",
       "2  1.2.826.0.1.3680043.10051  216.82151  221.62546  27.00959  26.37454   \n",
       "3  1.2.826.0.1.3680043.10051  214.49455  215.48637  27.92726  37.51363   \n",
       "4  1.2.826.0.1.3680043.10051  214.00000  215.48637  27.00000  43.51363   \n",
       "\n",
       "   slice_number  \n",
       "0           133  \n",
       "1           134  \n",
       "2           135  \n",
       "3           136  \n",
       "4           137  "
      ]
     },
     "execution_count": 26,
     "metadata": {},
     "output_type": "execute_result"
    }
   ],
   "source": [
    "bbox_df.head()"
   ]
  },
  {
   "cell_type": "markdown",
   "metadata": {},
   "source": [
    "### Identificación de Variables"
   ]
  },
  {
   "cell_type": "markdown",
   "metadata": {},
   "source": [
    "#### Train dataset"
   ]
  },
  {
   "cell_type": "markdown",
   "metadata": {},
   "source": [
    "- `StudyInstanceUID`: El identificador único perteneciente al estudio realizado para cada paciente.\n",
    "- `patient_overall`: El resultado general del paciente, si se encontro una fractura en cualquier vértebra o no.\n",
    "- `C1 a C7`: El resultado de si se encontro una fractura en la vértebra dada o no. Su nombre hace referencia a la vértebra cervical correspondiente."
   ]
  },
  {
   "cell_type": "markdown",
   "metadata": {},
   "source": [
    "#### Bounding Boxes dataset"
   ]
  },
  {
   "cell_type": "markdown",
   "metadata": {},
   "source": [
    "- `StudyInstanceUID`: El identificador único perteneciente al estudio realizado para cada paciente.\n",
    "- `x`: Coordenada x del origen de la caja delimitadora.\n",
    "- `y`: Coordenada y del origen de la caja delimitadora.\n",
    "- `width`: Ancho de la caja delimitadora.\n",
    "- `height`: Alto de la caja delimitadora.\n",
    "- `slice_number`: Número del corte al que pertenece la caja."
   ]
  },
  {
   "cell_type": "markdown",
   "metadata": {},
   "source": [
    "## Análisis Exploratorio de Data Tabular"
   ]
  },
  {
   "cell_type": "code",
   "execution_count": null,
   "metadata": {},
   "outputs": [],
   "source": [
    "# CODE HERE"
   ]
  }
 ],
 "metadata": {
  "kernelspec": {
   "display_name": "DataSci_RSNA",
   "language": "python",
   "name": "python3"
  },
  "language_info": {
   "codemirror_mode": {
    "name": "ipython",
    "version": 3
   },
   "file_extension": ".py",
   "mimetype": "text/x-python",
   "name": "python",
   "nbconvert_exporter": "python",
   "pygments_lexer": "ipython3",
   "version": "3.12.5"
  }
 },
 "nbformat": 4,
 "nbformat_minor": 2
}
