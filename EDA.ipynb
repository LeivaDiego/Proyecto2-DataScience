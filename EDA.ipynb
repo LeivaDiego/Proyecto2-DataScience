{
 "cells": [
  {
   "cell_type": "markdown",
   "metadata": {},
   "source": [
    "# Proyecto 2\n",
    "## RSNA 2022 Cervical Spine Fracture Detection\n",
    "**Universidad del Valle de Guatemala**\\\n",
    "**Facultad de Ingeniería**\\\n",
    "**Departamento de Ciencias de la Computación**\\\n",
    "**Data Science**\n",
    "\n",
    "---\n",
    "\n",
    "## Integrantes\n",
    "- Gustavo Gonzalez\n",
    "- Pablo Orellana\n",
    "- Diego Leiva\n",
    "- Maria Ramirez"
   ]
  },
  {
   "cell_type": "markdown",
   "metadata": {},
   "source": [
    "## Librerias"
   ]
  },
  {
   "cell_type": "markdown",
   "metadata": {},
   "source": [
    "NOTA: Importante tener el Token de la API en el folder `C:\\Users\\<Windows-username>\\.kaggle\\kaggle.json`\n",
    "\n",
    "Para una guia mas detallada o si tiene otro sistema dirigase a: https://www.kaggle.com/docs/api#getting-started-installation-&-authentication \n",
    "\n",
    "Asimismo puede visitar la documentacion oficial de la API: https://github.com/Kaggle/kaggle-api/tree/main/docs#api-credentials\n",
    "\n",
    "Si no utilizara la API de Kaggle para descargar el conjunto de datos comente las lineas para importar la libreria de kaggle."
   ]
  },
  {
   "cell_type": "code",
   "execution_count": 1,
   "metadata": {},
   "outputs": [],
   "source": [
    "# Kaggle API\n",
    "import kaggle\n",
    "from kaggle.rest import ApiException\n",
    "\n",
    "# Operaciones de archivos\n",
    "import os\n",
    "import pickle\n",
    "import zipfile\n",
    "import shutil\n",
    "\n",
    "# Operaciones de datos\n",
    "import pandas as pd\n",
    "import numpy as np\n",
    "from collections import defaultdict\n",
    "\n",
    "# Operaciones de imágenes\n",
    "from PIL import Image\n",
    "\n",
    "# Visualización\n",
    "from tqdm import tqdm\n",
    "import seaborn as sns\n",
    "import matplotlib.pyplot as plt\n",
    "\n",
    "# Utilidades\n",
    "import random\n",
    "import time\n",
    "import uuid\n",
    "\n",
    "# Pytorch y Torchvision\n",
    "import torch\n",
    "import torch.nn as nn\n",
    "from torch.autograd import Variable\n",
    "from torch.optim import lr_scheduler\n",
    "from torchvision import transforms\n",
    "\n",
    "# Sklearn\n",
    "from sklearn.model_selection import train_test_split\n",
    "from sklearn.metrics import confusion_matrix\n",
    "from sklearn.metrics import accuracy_score\n",
    "from sklearn.svm import SVC\n",
    "from sklearn.preprocessing import StandardScaler\n",
    "\n",
    "# Warnings\n",
    "# import warnings\n",
    "# warnings.filterwarnings('ignore')"
   ]
  },
  {
   "cell_type": "markdown",
   "metadata": {},
   "source": [
    "### Configuración de variable de entorno para CUDA\n",
    "De no tener un equipo compatible con CUDA, o si ya tiene configurado el PATH de CUDA, comente la siguiente línea.\n",
    "Para mas detalle puede visitar las guias de CUDA Toolkit en el siguiente enlace: https://docs.nvidia.com/cuda/archive/12.4.0/"
   ]
  },
  {
   "cell_type": "code",
   "execution_count": 2,
   "metadata": {},
   "outputs": [],
   "source": [
    "# Ruta para CUDA 12.4\n",
    "# os.environ['CUDA_PATH'] = r\"C:/Program Files/NVIDIA GPU Computing Toolkit//CUDA//v12.4\"  "
   ]
  },
  {
   "cell_type": "markdown",
   "metadata": {},
   "source": [
    "## Carga de Dataset"
   ]
  },
  {
   "cell_type": "code",
   "execution_count": 3,
   "metadata": {},
   "outputs": [],
   "source": [
    "# Definir competencia y directorio de conjunto de datos\n",
    "competition_name = 'rsna-2022-cervical-spine-fracture-detection'\n",
    "target_path = 'data'\n",
    "\n",
    "# Bandera para habilitar o deshabilitar la descarga de datos\n",
    "download_data = False"
   ]
  },
  {
   "cell_type": "markdown",
   "metadata": {},
   "source": [
    "### Descargar el archivo con Kaggle"
   ]
  },
  {
   "cell_type": "markdown",
   "metadata": {},
   "source": [
    "Puede omitir esta celda si decide descargar los archivos manualmente en el siguiente enlace:\n",
    "https://www.kaggle.com/competitions/rsna-2022-cervical-spine-fracture-detection/overview\n",
    "\n",
    "Puede que necesite aceptar las reglas de la competencia en: https://www.kaggle.com/competitions/rsna-2022-cervical-spine-fracture-detection/rules\n",
    "\n",
    "Aceptelas y siga los pasos que se le muestren en pantalla."
   ]
  },
  {
   "cell_type": "code",
   "execution_count": 4,
   "metadata": {},
   "outputs": [
    {
     "name": "stdout",
     "output_type": "stream",
     "text": [
      "Descarga de datos realizada previamente...\n"
     ]
    }
   ],
   "source": [
    "if download_data:\n",
    "    # Autenticación con Kaggle API\n",
    "    kaggle.api.authenticate()\n",
    "\n",
    "    try:\n",
    "        kaggle.api.competition_download_files(competition=competition_name,\n",
    "                                            path='data',\n",
    "                                            quiet=False,\n",
    "                                            force=False)\n",
    "        \n",
    "        print(f\"EXITO: Archivos descargados en '{target_path}'\")\n",
    "\n",
    "    except ApiException as e:\n",
    "        print(f\"ERROR al llamar KaggleApi -> competition_download \\n\\t{e}\")\n",
    "else:\n",
    "    print(\"Descarga de datos realizada previamente...\")"
   ]
  },
  {
   "cell_type": "markdown",
   "metadata": {},
   "source": [
    "### Descomprimir el Zip"
   ]
  },
  {
   "cell_type": "markdown",
   "metadata": {},
   "source": [
    "Puede comentar esta celda si ya tiene los archivos descomprimidos"
   ]
  },
  {
   "cell_type": "code",
   "execution_count": 5,
   "metadata": {},
   "outputs": [
    {
     "name": "stdout",
     "output_type": "stream",
     "text": [
      "Descompresión de archivos realizada previamente...\n",
      "Conjunto de datos en 'data'\n"
     ]
    }
   ],
   "source": [
    "if download_data:\n",
    "    try:\n",
    "        # Descomprimir archivo .zip\n",
    "        with zipfile.ZipFile(f'{target_path}/{competition_name}.zip', 'r') as zip_ref:\n",
    "            zip_ref.extractall(target_path)\n",
    "\n",
    "        # Eliminar archivo .zip\n",
    "        os.remove(f'{target_path}/{competition_name}.zip')\n",
    "\n",
    "        print(f\"EXITO: Archivo .zip descomprimido en '{target_path}'\")\n",
    "\n",
    "    except Exception as e:\n",
    "        print(f\"ERROR al descomprimir archivo .zip \\n\\t{e}\")\n",
    "else:\n",
    "    print(\"Descompresión de archivos realizada previamente...\")\n",
    "    print(f\"Conjunto de datos en '{target_path}'\")"
   ]
  },
  {
   "cell_type": "markdown",
   "metadata": {},
   "source": [
    "Deberia de tener los siguientes archivos dentro de la carpeta `data`\n",
    "\n",
    "- segmentations\n",
    "  - archivos .nii\n",
    "- test_images\n",
    "  - archivos .dcm\n",
    "- train_images\n",
    "  - 1.2.826.0....\n",
    "    - archivos .dcm\n",
    "  - ...  \n",
    "- sample_submission.csv\n",
    "- test.csv\n",
    "- train_bounding_boxes.csv\n",
    "- train.csv"
   ]
  },
  {
   "cell_type": "markdown",
   "metadata": {},
   "source": [
    "### Limpieza del entorno de trabajo"
   ]
  },
  {
   "cell_type": "markdown",
   "metadata": {},
   "source": [
    "Puede comentar esta celda si no tiene estos archivos o si no desea eliminarlos.\n",
    "\n",
    "Dado el enfoque académico de este análisis y la naturaleza de las competencias de Kaggle, los archivos relacionados con el conjunto de test no serán utilizados. Estos archivos tienen una estructura diferente al conjunto de entrenamiento y están destinados a evaluar los modelos generados en la competencia. Como no se pretende generar un modelo competitivo en este contexto, se procederá a eliminar los siguientes archivos/carpetas:\n",
    "- test_images\n",
    "- sampe_submission.csv\n",
    "- test.csv"
   ]
  },
  {
   "cell_type": "code",
   "execution_count": 9,
   "metadata": {},
   "outputs": [],
   "source": [
    "# Función para eliminar archivos o carpetas\n",
    "def remove_files(paths):\n",
    "    \"\"\"\n",
    "    Elimina archivos o carpetas de la lista de rutas especificadas.\n",
    "    \"\"\"\n",
    "    for path in paths:\n",
    "        if os.path.isdir(path):\n",
    "            # Si es una carpeta, usar shutil.rmtree() para eliminarla\n",
    "            try:\n",
    "                shutil.rmtree(path)\n",
    "                print(f\"Carpeta eliminada: {path}\")\n",
    "            except Exception as e:\n",
    "                print(f\"Error al eliminar la carpeta {path}: {e}\")\n",
    "\n",
    "        elif os.path.isfile(path):\n",
    "            # Si es un archivo, usar os.remove() para eliminarlo\n",
    "            try:\n",
    "                os.remove(path)\n",
    "                print(f\"Archivo eliminado: {path}\")\n",
    "            except Exception as e:\n",
    "                print(f\"Error al eliminar el archivo {path}: {e}\")\n",
    "        else:\n",
    "            print(f\"{path} no encontrado, omitiendo...\")"
   ]
  },
  {
   "cell_type": "code",
   "execution_count": 10,
   "metadata": {},
   "outputs": [
    {
     "name": "stdout",
     "output_type": "stream",
     "text": [
      "Carpeta eliminada: data/test_images\n",
      "Archivo eliminado: data/sample_submission.csv\n",
      "Archivo eliminado: data/test.csv\n"
     ]
    }
   ],
   "source": [
    "# Definir los caminos a los archivos y carpetas a eliminar\n",
    "paths_to_remove = [\n",
    "    'data/test_images', \n",
    "    'data/sample_submission.csv', \n",
    "    'data/test.csv'\n",
    "]\n",
    "\n",
    "# Ejecutar la función\n",
    "remove_files(paths_to_remove)"
   ]
  }
 ],
 "metadata": {
  "kernelspec": {
   "display_name": "DataSci_RSNA",
   "language": "python",
   "name": "python3"
  },
  "language_info": {
   "codemirror_mode": {
    "name": "ipython",
    "version": 3
   },
   "file_extension": ".py",
   "mimetype": "text/x-python",
   "name": "python",
   "nbconvert_exporter": "python",
   "pygments_lexer": "ipython3",
   "version": "3.12.5"
  }
 },
 "nbformat": 4,
 "nbformat_minor": 2
}
