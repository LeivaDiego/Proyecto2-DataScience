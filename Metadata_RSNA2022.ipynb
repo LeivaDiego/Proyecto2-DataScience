{
 "cells": [
  {
   "cell_type": "markdown",
   "metadata": {},
   "source": [
    "# Proyecto 2\n",
    "## RSNA 2022 Cervical Spine Fracture Detection\n",
    "**Universidad del Valle de Guatemala**\\\n",
    "**Facultad de Ingeniería**\\\n",
    "**Departamento de Ciencias de la Computación**\\\n",
    "**Data Science**\n",
    "\n",
    "# Generador de Metadatos\n",
    "---\n",
    "\n",
    "## Integrantes\n",
    "- Gustavo Gonzalez\n",
    "- Pablo Orellana\n",
    "- Diego Leiva\n",
    "- Maria Ramirez\n",
    "\n",
    "---\n"
   ]
  },
  {
   "cell_type": "markdown",
   "metadata": {},
   "source": [
    "## Librerias"
   ]
  },
  {
   "cell_type": "code",
   "execution_count": 1,
   "metadata": {},
   "outputs": [],
   "source": [
    "# Operaciones de archivos\n",
    "import os\n",
    "from glob import glob\n",
    "\n",
    "# Operaciones de datos\n",
    "import pandas as pd\n",
    "import numpy as np\n",
    "\n",
    "# Operaciones de imágenes\n",
    "import pydicom\n",
    "\n",
    "# Visualización\n",
    "from tqdm import tqdm\n",
    "\n",
    "# Warnings\n",
    "import warnings\n",
    "warnings.filterwarnings('ignore')"
   ]
  },
  {
   "cell_type": "markdown",
   "metadata": {},
   "source": [
    "# Metadatos DICOM"
   ]
  },
  {
   "cell_type": "markdown",
   "metadata": {},
   "source": [
    "En la fase de análisis exploratorio se descubrió que las imágenes DICOM contienen etiquetas relevantes asociadas a metadatos específicos de la tomografía. Por lo tanto, se extraerá la información relevante para utilizar estos metadatos en una posterior detección de vértebras, aprovechando la información proporcionada."
   ]
  },
  {
   "cell_type": "markdown",
   "metadata": {},
   "source": [
    "## Lectura de Metadatos"
   ]
  },
  {
   "cell_type": "code",
   "execution_count": 2,
   "metadata": {},
   "outputs": [
    {
     "name": "stdout",
     "output_type": "stream",
     "text": [
      "Metadata cargado exitosamente\n"
     ]
    }
   ],
   "source": [
    "meta_train = pd.read_csv(\"data/meta_train.csv\")\n",
    "print(\"Metadata cargado exitosamente\")"
   ]
  },
  {
   "cell_type": "code",
   "execution_count": 3,
   "metadata": {},
   "outputs": [
    {
     "data": {
      "text/html": [
       "<div>\n",
       "<style scoped>\n",
       "    .dataframe tbody tr th:only-of-type {\n",
       "        vertical-align: middle;\n",
       "    }\n",
       "\n",
       "    .dataframe tbody tr th {\n",
       "        vertical-align: top;\n",
       "    }\n",
       "\n",
       "    .dataframe thead th {\n",
       "        text-align: right;\n",
       "    }\n",
       "</style>\n",
       "<table border=\"1\" class=\"dataframe\">\n",
       "  <thead>\n",
       "    <tr style=\"text-align: right;\">\n",
       "      <th></th>\n",
       "      <th>Rows</th>\n",
       "      <th>Columns</th>\n",
       "      <th>SOPInstanceUID</th>\n",
       "      <th>ContentDate</th>\n",
       "      <th>SliceThickness</th>\n",
       "      <th>InstanceNumber</th>\n",
       "      <th>ImagePositionPatient</th>\n",
       "      <th>ImageOrientationPatient</th>\n",
       "    </tr>\n",
       "  </thead>\n",
       "  <tbody>\n",
       "    <tr>\n",
       "      <th>0</th>\n",
       "      <td>512</td>\n",
       "      <td>512</td>\n",
       "      <td>1.2.826.0.1.3680043.6200.1.1</td>\n",
       "      <td>20220727</td>\n",
       "      <td>1.0</td>\n",
       "      <td>1</td>\n",
       "      <td>[-118.530, -103.5302, 334.50]</td>\n",
       "      <td>[1.00000, 0.00000, 0.00000, 0.00000, 1.00000, ...</td>\n",
       "    </tr>\n",
       "    <tr>\n",
       "      <th>1</th>\n",
       "      <td>512</td>\n",
       "      <td>512</td>\n",
       "      <td>1.2.826.0.1.3680043.6200.1.10</td>\n",
       "      <td>20220727</td>\n",
       "      <td>1.0</td>\n",
       "      <td>10</td>\n",
       "      <td>[-118.530, -103.5302, 327.30]</td>\n",
       "      <td>[1.00000, 0.00000, 0.00000, 0.00000, 1.00000, ...</td>\n",
       "    </tr>\n",
       "    <tr>\n",
       "      <th>2</th>\n",
       "      <td>512</td>\n",
       "      <td>512</td>\n",
       "      <td>1.2.826.0.1.3680043.6200.1.100</td>\n",
       "      <td>20220727</td>\n",
       "      <td>1.0</td>\n",
       "      <td>100</td>\n",
       "      <td>[-118.530, -103.5302, 255.30]</td>\n",
       "      <td>[1.00000, 0.00000, 0.00000, 0.00000, 1.00000, ...</td>\n",
       "    </tr>\n",
       "    <tr>\n",
       "      <th>3</th>\n",
       "      <td>512</td>\n",
       "      <td>512</td>\n",
       "      <td>1.2.826.0.1.3680043.6200.1.101</td>\n",
       "      <td>20220727</td>\n",
       "      <td>1.0</td>\n",
       "      <td>101</td>\n",
       "      <td>[-118.530, -103.5302, 254.50]</td>\n",
       "      <td>[1.00000, 0.00000, 0.00000, 0.00000, 1.00000, ...</td>\n",
       "    </tr>\n",
       "    <tr>\n",
       "      <th>4</th>\n",
       "      <td>512</td>\n",
       "      <td>512</td>\n",
       "      <td>1.2.826.0.1.3680043.6200.1.102</td>\n",
       "      <td>20220727</td>\n",
       "      <td>1.0</td>\n",
       "      <td>102</td>\n",
       "      <td>[-118.530, -103.5302, 253.70]</td>\n",
       "      <td>[1.00000, 0.00000, 0.00000, 0.00000, 1.00000, ...</td>\n",
       "    </tr>\n",
       "  </tbody>\n",
       "</table>\n",
       "</div>"
      ],
      "text/plain": [
       "   Rows  Columns                  SOPInstanceUID  ContentDate  SliceThickness  \\\n",
       "0   512      512    1.2.826.0.1.3680043.6200.1.1     20220727             1.0   \n",
       "1   512      512   1.2.826.0.1.3680043.6200.1.10     20220727             1.0   \n",
       "2   512      512  1.2.826.0.1.3680043.6200.1.100     20220727             1.0   \n",
       "3   512      512  1.2.826.0.1.3680043.6200.1.101     20220727             1.0   \n",
       "4   512      512  1.2.826.0.1.3680043.6200.1.102     20220727             1.0   \n",
       "\n",
       "   InstanceNumber           ImagePositionPatient  \\\n",
       "0               1  [-118.530, -103.5302, 334.50]   \n",
       "1              10  [-118.530, -103.5302, 327.30]   \n",
       "2             100  [-118.530, -103.5302, 255.30]   \n",
       "3             101  [-118.530, -103.5302, 254.50]   \n",
       "4             102  [-118.530, -103.5302, 253.70]   \n",
       "\n",
       "                             ImageOrientationPatient  \n",
       "0  [1.00000, 0.00000, 0.00000, 0.00000, 1.00000, ...  \n",
       "1  [1.00000, 0.00000, 0.00000, 0.00000, 1.00000, ...  \n",
       "2  [1.00000, 0.00000, 0.00000, 0.00000, 1.00000, ...  \n",
       "3  [1.00000, 0.00000, 0.00000, 0.00000, 1.00000, ...  \n",
       "4  [1.00000, 0.00000, 0.00000, 0.00000, 1.00000, ...  "
      ]
     },
     "execution_count": 3,
     "metadata": {},
     "output_type": "execute_result"
    }
   ],
   "source": [
    "meta_train.head()"
   ]
  },
  {
   "cell_type": "markdown",
   "metadata": {},
   "source": [
    "## Procesamiento de Metadatos"
   ]
  },
  {
   "cell_type": "markdown",
   "metadata": {},
   "source": [
    "### Columnas de Identificación y Tamaño de Imagen"
   ]
  },
  {
   "cell_type": "code",
   "execution_count": 4,
   "metadata": {},
   "outputs": [],
   "source": [
    "# Generar columna del ID del estudio a partir del ID de la imagen\n",
    "meta_train[\"StudyInstanceUID\"] = meta_train[\"SOPInstanceUID\"].apply(lambda x: \".\".join(x.split(\".\")[:-2]))\n",
    "\n",
    "# Generar columna del tamaño de la imagen a partir de las filas y columnas\n",
    "meta_train[\"ImageSize\"] = meta_train[\"Rows\"].astype(str) + \" x \" + meta_train[\"Columns\"].astype(str)"
   ]
  },
  {
   "cell_type": "markdown",
   "metadata": {},
   "source": [
    "### Extracción de Coordenadas de Posición del Paciente"
   ]
  },
  {
   "cell_type": "code",
   "execution_count": 5,
   "metadata": {},
   "outputs": [],
   "source": [
    "# Extraer las coordenadas de la posición de la imagen en los ejes x, y, z\n",
    "meta_train['ImagePositionPatient_x'] = meta_train['ImagePositionPatient'].apply(lambda x: float(x.replace(',','').replace(']','').replace('[','').split()[0]))\n",
    "meta_train['ImagePositionPatient_y'] = meta_train['ImagePositionPatient'].apply(lambda x: float(x.replace(',','').replace(']','').replace('[','').split()[1]))\n",
    "meta_train['ImagePositionPatient_z'] = meta_train['ImagePositionPatient'].apply(lambda x: float(x.replace(',','').replace(']','').replace('[','').split()[2]))"
   ]
  },
  {
   "cell_type": "code",
   "execution_count": 6,
   "metadata": {},
   "outputs": [],
   "source": [
    "# Eliminar columnas innecesarias reemplazadas por las nuevas\n",
    "meta_train_clean = meta_train.drop(['SOPInstanceUID','ImagePositionPatient','ImageOrientationPatient','ImageSize','ContentDate'], axis=1)\n",
    "# Renombrar columnas para mayor claridad\n",
    "meta_train_clean.rename(columns={\"Rows\": \"ImageHeight\", \"Columns\": \"ImageWidth\",\"InstanceNumber\": \"Slice\"}, inplace=True)\n",
    "# Reordenar las columnas\n",
    "meta_train_clean = meta_train_clean[['StudyInstanceUID','Slice','ImageHeight','ImageWidth','SliceThickness','ImagePositionPatient_x','ImagePositionPatient_y','ImagePositionPatient_z']]\n",
    "# Ordenar los datos por ID de estudio y número de corte\n",
    "meta_train_clean.sort_values(by=['StudyInstanceUID','Slice'], inplace=True)\n",
    "# Resetear el índice\n",
    "meta_train_clean.reset_index(drop=True, inplace=True)"
   ]
  },
  {
   "cell_type": "code",
   "execution_count": 7,
   "metadata": {},
   "outputs": [
    {
     "data": {
      "text/html": [
       "<div>\n",
       "<style scoped>\n",
       "    .dataframe tbody tr th:only-of-type {\n",
       "        vertical-align: middle;\n",
       "    }\n",
       "\n",
       "    .dataframe tbody tr th {\n",
       "        vertical-align: top;\n",
       "    }\n",
       "\n",
       "    .dataframe thead th {\n",
       "        text-align: right;\n",
       "    }\n",
       "</style>\n",
       "<table border=\"1\" class=\"dataframe\">\n",
       "  <thead>\n",
       "    <tr style=\"text-align: right;\">\n",
       "      <th></th>\n",
       "      <th>StudyInstanceUID</th>\n",
       "      <th>Slice</th>\n",
       "      <th>ImageHeight</th>\n",
       "      <th>ImageWidth</th>\n",
       "      <th>SliceThickness</th>\n",
       "      <th>ImagePositionPatient_x</th>\n",
       "      <th>ImagePositionPatient_y</th>\n",
       "      <th>ImagePositionPatient_z</th>\n",
       "    </tr>\n",
       "  </thead>\n",
       "  <tbody>\n",
       "    <tr>\n",
       "      <th>0</th>\n",
       "      <td>1.2.826.0.1.3680043.10001</td>\n",
       "      <td>1</td>\n",
       "      <td>512</td>\n",
       "      <td>512</td>\n",
       "      <td>0.625</td>\n",
       "      <td>-52.308</td>\n",
       "      <td>-27.712</td>\n",
       "      <td>7.282</td>\n",
       "    </tr>\n",
       "    <tr>\n",
       "      <th>1</th>\n",
       "      <td>1.2.826.0.1.3680043.10001</td>\n",
       "      <td>2</td>\n",
       "      <td>512</td>\n",
       "      <td>512</td>\n",
       "      <td>0.625</td>\n",
       "      <td>-52.308</td>\n",
       "      <td>-27.712</td>\n",
       "      <td>6.657</td>\n",
       "    </tr>\n",
       "    <tr>\n",
       "      <th>2</th>\n",
       "      <td>1.2.826.0.1.3680043.10001</td>\n",
       "      <td>3</td>\n",
       "      <td>512</td>\n",
       "      <td>512</td>\n",
       "      <td>0.625</td>\n",
       "      <td>-52.308</td>\n",
       "      <td>-27.712</td>\n",
       "      <td>6.032</td>\n",
       "    </tr>\n",
       "    <tr>\n",
       "      <th>3</th>\n",
       "      <td>1.2.826.0.1.3680043.10001</td>\n",
       "      <td>4</td>\n",
       "      <td>512</td>\n",
       "      <td>512</td>\n",
       "      <td>0.625</td>\n",
       "      <td>-52.308</td>\n",
       "      <td>-27.712</td>\n",
       "      <td>5.407</td>\n",
       "    </tr>\n",
       "    <tr>\n",
       "      <th>4</th>\n",
       "      <td>1.2.826.0.1.3680043.10001</td>\n",
       "      <td>5</td>\n",
       "      <td>512</td>\n",
       "      <td>512</td>\n",
       "      <td>0.625</td>\n",
       "      <td>-52.308</td>\n",
       "      <td>-27.712</td>\n",
       "      <td>4.782</td>\n",
       "    </tr>\n",
       "  </tbody>\n",
       "</table>\n",
       "</div>"
      ],
      "text/plain": [
       "            StudyInstanceUID  Slice  ImageHeight  ImageWidth  SliceThickness  \\\n",
       "0  1.2.826.0.1.3680043.10001      1          512         512           0.625   \n",
       "1  1.2.826.0.1.3680043.10001      2          512         512           0.625   \n",
       "2  1.2.826.0.1.3680043.10001      3          512         512           0.625   \n",
       "3  1.2.826.0.1.3680043.10001      4          512         512           0.625   \n",
       "4  1.2.826.0.1.3680043.10001      5          512         512           0.625   \n",
       "\n",
       "   ImagePositionPatient_x  ImagePositionPatient_y  ImagePositionPatient_z  \n",
       "0                 -52.308                 -27.712                   7.282  \n",
       "1                 -52.308                 -27.712                   6.657  \n",
       "2                 -52.308                 -27.712                   6.032  \n",
       "3                 -52.308                 -27.712                   5.407  \n",
       "4                 -52.308                 -27.712                   4.782  "
      ]
     },
     "execution_count": 7,
     "metadata": {},
     "output_type": "execute_result"
    }
   ],
   "source": [
    "meta_train_clean.head()"
   ]
  },
  {
   "cell_type": "markdown",
   "metadata": {},
   "source": [
    "## Exportacion de Metadatos Limpios"
   ]
  },
  {
   "cell_type": "code",
   "execution_count": 8,
   "metadata": {},
   "outputs": [],
   "source": [
    "# Guardar el archivo limpio en formato CSV\n",
    "meta_train_clean.to_csv(\"metadata/dicom_metadata.csv\", index=False)"
   ]
  }
 ],
 "metadata": {
  "kernelspec": {
   "display_name": "DataSci_RSNA",
   "language": "python",
   "name": "python3"
  },
  "language_info": {
   "codemirror_mode": {
    "name": "ipython",
    "version": 3
   },
   "file_extension": ".py",
   "mimetype": "text/x-python",
   "name": "python",
   "nbconvert_exporter": "python",
   "pygments_lexer": "ipython3",
   "version": "3.12.5"
  }
 },
 "nbformat": 4,
 "nbformat_minor": 2
}
