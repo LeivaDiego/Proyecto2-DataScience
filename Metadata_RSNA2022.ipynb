{
 "cells": [
  {
   "cell_type": "markdown",
   "metadata": {},
   "source": [
    "# Proyecto 2\n",
    "## RSNA 2022 Cervical Spine Fracture Detection\n",
    "**Universidad del Valle de Guatemala**\\\n",
    "**Facultad de Ingeniería**\\\n",
    "**Departamento de Ciencias de la Computación**\\\n",
    "**Data Science**\n",
    "\n",
    "# Generador de Metadatos\n",
    "---\n",
    "\n",
    "## Integrantes\n",
    "- Gustavo Gonzalez\n",
    "- Pablo Orellana\n",
    "- Diego Leiva\n",
    "- Maria Ramirez\n",
    "\n",
    "---\n"
   ]
  },
  {
   "cell_type": "markdown",
   "metadata": {},
   "source": [
    "## Librerias"
   ]
  },
  {
   "cell_type": "code",
   "execution_count": 1,
   "metadata": {},
   "outputs": [],
   "source": [
    "# Operaciones de archivos\n",
    "import os\n",
    "from glob import glob\n",
    "\n",
    "# Operaciones de datos\n",
    "import pandas as pd\n",
    "import numpy as np\n",
    "\n",
    "# Operaciones de imágenes\n",
    "import nibabel as nib\n",
    "\n",
    "# Visualización\n",
    "from tqdm import tqdm\n",
    "\n",
    "# Warnings\n",
    "import warnings\n",
    "warnings.filterwarnings('ignore')"
   ]
  },
  {
   "cell_type": "markdown",
   "metadata": {},
   "source": [
    "# Metadatos DICOM"
   ]
  },
  {
   "cell_type": "markdown",
   "metadata": {},
   "source": [
    "En la fase de análisis exploratorio se descubrió que las imágenes DICOM contienen etiquetas relevantes asociadas a metadatos específicos de la tomografía. Por lo tanto, se extraerá la información relevante para utilizar estos metadatos en una posterior detección de vértebras, aprovechando la información proporcionada."
   ]
  },
  {
   "cell_type": "markdown",
   "metadata": {},
   "source": [
    "## Lectura de Metadatos"
   ]
  },
  {
   "cell_type": "code",
   "execution_count": 2,
   "metadata": {},
   "outputs": [
    {
     "name": "stdout",
     "output_type": "stream",
     "text": [
      "Metadata cargado exitosamente\n"
     ]
    }
   ],
   "source": [
    "meta_train = pd.read_csv(\"data/meta_train.csv\")\n",
    "print(\"Metadata cargado exitosamente\")"
   ]
  },
  {
   "cell_type": "code",
   "execution_count": 3,
   "metadata": {},
   "outputs": [
    {
     "data": {
      "text/html": [
       "<div>\n",
       "<style scoped>\n",
       "    .dataframe tbody tr th:only-of-type {\n",
       "        vertical-align: middle;\n",
       "    }\n",
       "\n",
       "    .dataframe tbody tr th {\n",
       "        vertical-align: top;\n",
       "    }\n",
       "\n",
       "    .dataframe thead th {\n",
       "        text-align: right;\n",
       "    }\n",
       "</style>\n",
       "<table border=\"1\" class=\"dataframe\">\n",
       "  <thead>\n",
       "    <tr style=\"text-align: right;\">\n",
       "      <th></th>\n",
       "      <th>Rows</th>\n",
       "      <th>Columns</th>\n",
       "      <th>SOPInstanceUID</th>\n",
       "      <th>ContentDate</th>\n",
       "      <th>SliceThickness</th>\n",
       "      <th>InstanceNumber</th>\n",
       "      <th>ImagePositionPatient</th>\n",
       "      <th>ImageOrientationPatient</th>\n",
       "    </tr>\n",
       "  </thead>\n",
       "  <tbody>\n",
       "    <tr>\n",
       "      <th>0</th>\n",
       "      <td>512</td>\n",
       "      <td>512</td>\n",
       "      <td>1.2.826.0.1.3680043.6200.1.1</td>\n",
       "      <td>20220727</td>\n",
       "      <td>1.0</td>\n",
       "      <td>1</td>\n",
       "      <td>[-118.530, -103.5302, 334.50]</td>\n",
       "      <td>[1.00000, 0.00000, 0.00000, 0.00000, 1.00000, ...</td>\n",
       "    </tr>\n",
       "    <tr>\n",
       "      <th>1</th>\n",
       "      <td>512</td>\n",
       "      <td>512</td>\n",
       "      <td>1.2.826.0.1.3680043.6200.1.10</td>\n",
       "      <td>20220727</td>\n",
       "      <td>1.0</td>\n",
       "      <td>10</td>\n",
       "      <td>[-118.530, -103.5302, 327.30]</td>\n",
       "      <td>[1.00000, 0.00000, 0.00000, 0.00000, 1.00000, ...</td>\n",
       "    </tr>\n",
       "    <tr>\n",
       "      <th>2</th>\n",
       "      <td>512</td>\n",
       "      <td>512</td>\n",
       "      <td>1.2.826.0.1.3680043.6200.1.100</td>\n",
       "      <td>20220727</td>\n",
       "      <td>1.0</td>\n",
       "      <td>100</td>\n",
       "      <td>[-118.530, -103.5302, 255.30]</td>\n",
       "      <td>[1.00000, 0.00000, 0.00000, 0.00000, 1.00000, ...</td>\n",
       "    </tr>\n",
       "    <tr>\n",
       "      <th>3</th>\n",
       "      <td>512</td>\n",
       "      <td>512</td>\n",
       "      <td>1.2.826.0.1.3680043.6200.1.101</td>\n",
       "      <td>20220727</td>\n",
       "      <td>1.0</td>\n",
       "      <td>101</td>\n",
       "      <td>[-118.530, -103.5302, 254.50]</td>\n",
       "      <td>[1.00000, 0.00000, 0.00000, 0.00000, 1.00000, ...</td>\n",
       "    </tr>\n",
       "    <tr>\n",
       "      <th>4</th>\n",
       "      <td>512</td>\n",
       "      <td>512</td>\n",
       "      <td>1.2.826.0.1.3680043.6200.1.102</td>\n",
       "      <td>20220727</td>\n",
       "      <td>1.0</td>\n",
       "      <td>102</td>\n",
       "      <td>[-118.530, -103.5302, 253.70]</td>\n",
       "      <td>[1.00000, 0.00000, 0.00000, 0.00000, 1.00000, ...</td>\n",
       "    </tr>\n",
       "  </tbody>\n",
       "</table>\n",
       "</div>"
      ],
      "text/plain": [
       "   Rows  Columns                  SOPInstanceUID  ContentDate  SliceThickness  \\\n",
       "0   512      512    1.2.826.0.1.3680043.6200.1.1     20220727             1.0   \n",
       "1   512      512   1.2.826.0.1.3680043.6200.1.10     20220727             1.0   \n",
       "2   512      512  1.2.826.0.1.3680043.6200.1.100     20220727             1.0   \n",
       "3   512      512  1.2.826.0.1.3680043.6200.1.101     20220727             1.0   \n",
       "4   512      512  1.2.826.0.1.3680043.6200.1.102     20220727             1.0   \n",
       "\n",
       "   InstanceNumber           ImagePositionPatient  \\\n",
       "0               1  [-118.530, -103.5302, 334.50]   \n",
       "1              10  [-118.530, -103.5302, 327.30]   \n",
       "2             100  [-118.530, -103.5302, 255.30]   \n",
       "3             101  [-118.530, -103.5302, 254.50]   \n",
       "4             102  [-118.530, -103.5302, 253.70]   \n",
       "\n",
       "                             ImageOrientationPatient  \n",
       "0  [1.00000, 0.00000, 0.00000, 0.00000, 1.00000, ...  \n",
       "1  [1.00000, 0.00000, 0.00000, 0.00000, 1.00000, ...  \n",
       "2  [1.00000, 0.00000, 0.00000, 0.00000, 1.00000, ...  \n",
       "3  [1.00000, 0.00000, 0.00000, 0.00000, 1.00000, ...  \n",
       "4  [1.00000, 0.00000, 0.00000, 0.00000, 1.00000, ...  "
      ]
     },
     "execution_count": 3,
     "metadata": {},
     "output_type": "execute_result"
    }
   ],
   "source": [
    "meta_train.head()"
   ]
  },
  {
   "cell_type": "markdown",
   "metadata": {},
   "source": [
    "## Procesamiento de Metadatos"
   ]
  },
  {
   "cell_type": "markdown",
   "metadata": {},
   "source": [
    "### Columnas de Identificación y Tamaño de Imagen"
   ]
  },
  {
   "cell_type": "code",
   "execution_count": 4,
   "metadata": {},
   "outputs": [
    {
     "name": "stdout",
     "output_type": "stream",
     "text": [
      "ID de estudio generado exitosamente\n",
      "Tamaño de imagen generado exitosamente\n"
     ]
    }
   ],
   "source": [
    "if not os.path.exists(\"metadata/dicom_metadata.csv\"):\n",
    "    # Generar columna del ID del estudio a partir del ID de la imagen\n",
    "    meta_train[\"StudyInstanceUID\"] = meta_train[\"SOPInstanceUID\"].apply(lambda x: \".\".join(x.split(\".\")[:-2]))\n",
    "    print(\"ID de estudio generado exitosamente\")\n",
    "\n",
    "    # Generar columna del tamaño de la imagen a partir de las filas y columnas\n",
    "    meta_train[\"ImageSize\"] = meta_train[\"Rows\"].astype(str) + \" x \" + meta_train[\"Columns\"].astype(str)\n",
    "    print(\"Tamaño de imagen generado exitosamente\")\n",
    "else:\n",
    "    meta_train_clean = pd.read_csv(\"metadata/dicom_metadata.csv\")\n",
    "    print(\"Metadata de DICOM ya existe, cargando...\")"
   ]
  },
  {
   "cell_type": "markdown",
   "metadata": {},
   "source": [
    "### Extracción de Coordenadas de Posición del Paciente"
   ]
  },
  {
   "cell_type": "code",
   "execution_count": 5,
   "metadata": {},
   "outputs": [
    {
     "name": "stdout",
     "output_type": "stream",
     "text": [
      "Coordenadas de la posición de la imagen extraídas exitosamente\n"
     ]
    }
   ],
   "source": [
    "if not os.path.exists(\"metadata/dicom_metadata.csv\"):\n",
    "    # Extraer las coordenadas de la posición de la imagen en los ejes x, y, z\n",
    "    meta_train['ImagePositionPatient_x'] = meta_train['ImagePositionPatient'].apply(lambda x: float(x.replace(',','').replace(']','').replace('[','').split()[0]))\n",
    "    meta_train['ImagePositionPatient_y'] = meta_train['ImagePositionPatient'].apply(lambda x: float(x.replace(',','').replace(']','').replace('[','').split()[1]))\n",
    "    meta_train['ImagePositionPatient_z'] = meta_train['ImagePositionPatient'].apply(lambda x: float(x.replace(',','').replace(']','').replace('[','').split()[2]))\n",
    "    print(\"Coordenadas de la posición de la imagen extraídas exitosamente\")\n",
    "else:\n",
    "    print(\"Metadata de DICOM ya existe, omitiendo...\")"
   ]
  },
  {
   "cell_type": "code",
   "execution_count": 6,
   "metadata": {},
   "outputs": [
    {
     "name": "stdout",
     "output_type": "stream",
     "text": [
      "Metadata limpiado exitosamente\n"
     ]
    }
   ],
   "source": [
    "if not os.path.exists(\"metadata/dicom_metadata.csv\"):\n",
    "    # Eliminar columnas innecesarias reemplazadas por las nuevas\n",
    "    meta_train_clean = meta_train.drop(['SOPInstanceUID','ImagePositionPatient','ImageOrientationPatient','ImageSize','ContentDate'], axis=1)\n",
    "    # Renombrar columnas para mayor claridad\n",
    "    meta_train_clean.rename(columns={\"Rows\": \"ImageHeight\", \"Columns\": \"ImageWidth\",\"InstanceNumber\": \"Slice\"}, inplace=True)\n",
    "    # Reordenar las columnas\n",
    "    meta_train_clean = meta_train_clean[['StudyInstanceUID','Slice','ImageHeight','ImageWidth','SliceThickness','ImagePositionPatient_x','ImagePositionPatient_y','ImagePositionPatient_z']]\n",
    "    # Ordenar los datos por ID de estudio y número de corte\n",
    "    meta_train_clean.sort_values(by=['StudyInstanceUID','Slice'], inplace=True)\n",
    "    # Resetear el índice\n",
    "    meta_train_clean.reset_index(drop=True, inplace=True)\n",
    "    print(\"Metadata limpiado exitosamente\")\n",
    "else:\n",
    "    print(\"Metadata de DICOM ya existe, omitiendo...\")"
   ]
  },
  {
   "cell_type": "code",
   "execution_count": 7,
   "metadata": {},
   "outputs": [
    {
     "data": {
      "text/html": [
       "<div>\n",
       "<style scoped>\n",
       "    .dataframe tbody tr th:only-of-type {\n",
       "        vertical-align: middle;\n",
       "    }\n",
       "\n",
       "    .dataframe tbody tr th {\n",
       "        vertical-align: top;\n",
       "    }\n",
       "\n",
       "    .dataframe thead th {\n",
       "        text-align: right;\n",
       "    }\n",
       "</style>\n",
       "<table border=\"1\" class=\"dataframe\">\n",
       "  <thead>\n",
       "    <tr style=\"text-align: right;\">\n",
       "      <th></th>\n",
       "      <th>StudyInstanceUID</th>\n",
       "      <th>Slice</th>\n",
       "      <th>ImageHeight</th>\n",
       "      <th>ImageWidth</th>\n",
       "      <th>SliceThickness</th>\n",
       "      <th>ImagePositionPatient_x</th>\n",
       "      <th>ImagePositionPatient_y</th>\n",
       "      <th>ImagePositionPatient_z</th>\n",
       "    </tr>\n",
       "  </thead>\n",
       "  <tbody>\n",
       "    <tr>\n",
       "      <th>0</th>\n",
       "      <td>1.2.826.0.1.3680043.10001</td>\n",
       "      <td>1</td>\n",
       "      <td>512</td>\n",
       "      <td>512</td>\n",
       "      <td>0.625</td>\n",
       "      <td>-52.308</td>\n",
       "      <td>-27.712</td>\n",
       "      <td>7.282</td>\n",
       "    </tr>\n",
       "    <tr>\n",
       "      <th>1</th>\n",
       "      <td>1.2.826.0.1.3680043.10001</td>\n",
       "      <td>2</td>\n",
       "      <td>512</td>\n",
       "      <td>512</td>\n",
       "      <td>0.625</td>\n",
       "      <td>-52.308</td>\n",
       "      <td>-27.712</td>\n",
       "      <td>6.657</td>\n",
       "    </tr>\n",
       "    <tr>\n",
       "      <th>2</th>\n",
       "      <td>1.2.826.0.1.3680043.10001</td>\n",
       "      <td>3</td>\n",
       "      <td>512</td>\n",
       "      <td>512</td>\n",
       "      <td>0.625</td>\n",
       "      <td>-52.308</td>\n",
       "      <td>-27.712</td>\n",
       "      <td>6.032</td>\n",
       "    </tr>\n",
       "    <tr>\n",
       "      <th>3</th>\n",
       "      <td>1.2.826.0.1.3680043.10001</td>\n",
       "      <td>4</td>\n",
       "      <td>512</td>\n",
       "      <td>512</td>\n",
       "      <td>0.625</td>\n",
       "      <td>-52.308</td>\n",
       "      <td>-27.712</td>\n",
       "      <td>5.407</td>\n",
       "    </tr>\n",
       "    <tr>\n",
       "      <th>4</th>\n",
       "      <td>1.2.826.0.1.3680043.10001</td>\n",
       "      <td>5</td>\n",
       "      <td>512</td>\n",
       "      <td>512</td>\n",
       "      <td>0.625</td>\n",
       "      <td>-52.308</td>\n",
       "      <td>-27.712</td>\n",
       "      <td>4.782</td>\n",
       "    </tr>\n",
       "  </tbody>\n",
       "</table>\n",
       "</div>"
      ],
      "text/plain": [
       "            StudyInstanceUID  Slice  ImageHeight  ImageWidth  SliceThickness  \\\n",
       "0  1.2.826.0.1.3680043.10001      1          512         512           0.625   \n",
       "1  1.2.826.0.1.3680043.10001      2          512         512           0.625   \n",
       "2  1.2.826.0.1.3680043.10001      3          512         512           0.625   \n",
       "3  1.2.826.0.1.3680043.10001      4          512         512           0.625   \n",
       "4  1.2.826.0.1.3680043.10001      5          512         512           0.625   \n",
       "\n",
       "   ImagePositionPatient_x  ImagePositionPatient_y  ImagePositionPatient_z  \n",
       "0                 -52.308                 -27.712                   7.282  \n",
       "1                 -52.308                 -27.712                   6.657  \n",
       "2                 -52.308                 -27.712                   6.032  \n",
       "3                 -52.308                 -27.712                   5.407  \n",
       "4                 -52.308                 -27.712                   4.782  "
      ]
     },
     "execution_count": 7,
     "metadata": {},
     "output_type": "execute_result"
    }
   ],
   "source": [
    "meta_train_clean.head()"
   ]
  },
  {
   "cell_type": "markdown",
   "metadata": {},
   "source": [
    "## Exportacion de Metadatos Limpios"
   ]
  },
  {
   "cell_type": "code",
   "execution_count": 8,
   "metadata": {},
   "outputs": [
    {
     "name": "stdout",
     "output_type": "stream",
     "text": [
      "Metadata guardado exitosamente\n"
     ]
    }
   ],
   "source": [
    "if not os.path.exists(\"metadata/dicom_metadata.csv\"):\n",
    "    # Guardar el archivo limpio en formato CSV\n",
    "    meta_train_clean.to_csv(\"metadata/dicom_metadata.csv\", index=False)\n",
    "    print(\"Metadata guardado exitosamente\")\n",
    "else:\n",
    "    print(\"Metadata de DICOM ya existe, omitiendo...\")"
   ]
  },
  {
   "cell_type": "markdown",
   "metadata": {},
   "source": [
    "# Metadatos NIFTI"
   ]
  },
  {
   "cell_type": "markdown",
   "metadata": {},
   "source": [
    "En la fase de análisis se descubrió que los archivos de segmentación contienen metadatos asociados que permiten identificar las vértebras visualizadas en las tomografías DICOM. Por lo tanto, extraer y almacenar estos metadatos es fundamental para poder inferir las vértebras visibles en cada corte, especialmente en aquellos pacientes que no cuentan con segmentaciones."
   ]
  },
  {
   "cell_type": "markdown",
   "metadata": {},
   "source": [
    "## Obtencion de Segmentaciones"
   ]
  },
  {
   "cell_type": "code",
   "execution_count": 9,
   "metadata": {},
   "outputs": [
    {
     "name": "stdout",
     "output_type": "stream",
     "text": [
      "Existen un total de 87 pacientes con segmentaciones\n"
     ]
    },
    {
     "data": {
      "text/html": [
       "<div>\n",
       "<style scoped>\n",
       "    .dataframe tbody tr th:only-of-type {\n",
       "        vertical-align: middle;\n",
       "    }\n",
       "\n",
       "    .dataframe tbody tr th {\n",
       "        vertical-align: top;\n",
       "    }\n",
       "\n",
       "    .dataframe thead th {\n",
       "        text-align: right;\n",
       "    }\n",
       "</style>\n",
       "<table border=\"1\" class=\"dataframe\">\n",
       "  <thead>\n",
       "    <tr style=\"text-align: right;\">\n",
       "      <th></th>\n",
       "      <th>StudyInstanceUID</th>\n",
       "      <th>path</th>\n",
       "    </tr>\n",
       "  </thead>\n",
       "  <tbody>\n",
       "    <tr>\n",
       "      <th>0</th>\n",
       "      <td>1.2.826.0.1.3680043.10633</td>\n",
       "      <td>data/segmentations/1.2.826.0.1.3680043.10633.nii</td>\n",
       "    </tr>\n",
       "    <tr>\n",
       "      <th>1</th>\n",
       "      <td>1.2.826.0.1.3680043.10921</td>\n",
       "      <td>data/segmentations/1.2.826.0.1.3680043.10921.nii</td>\n",
       "    </tr>\n",
       "    <tr>\n",
       "      <th>2</th>\n",
       "      <td>1.2.826.0.1.3680043.11827</td>\n",
       "      <td>data/segmentations/1.2.826.0.1.3680043.11827.nii</td>\n",
       "    </tr>\n",
       "    <tr>\n",
       "      <th>3</th>\n",
       "      <td>1.2.826.0.1.3680043.11988</td>\n",
       "      <td>data/segmentations/1.2.826.0.1.3680043.11988.nii</td>\n",
       "    </tr>\n",
       "    <tr>\n",
       "      <th>4</th>\n",
       "      <td>1.2.826.0.1.3680043.12281</td>\n",
       "      <td>data/segmentations/1.2.826.0.1.3680043.12281.nii</td>\n",
       "    </tr>\n",
       "  </tbody>\n",
       "</table>\n",
       "</div>"
      ],
      "text/plain": [
       "            StudyInstanceUID                                              path\n",
       "0  1.2.826.0.1.3680043.10633  data/segmentations/1.2.826.0.1.3680043.10633.nii\n",
       "1  1.2.826.0.1.3680043.10921  data/segmentations/1.2.826.0.1.3680043.10921.nii\n",
       "2  1.2.826.0.1.3680043.11827  data/segmentations/1.2.826.0.1.3680043.11827.nii\n",
       "3  1.2.826.0.1.3680043.11988  data/segmentations/1.2.826.0.1.3680043.11988.nii\n",
       "4  1.2.826.0.1.3680043.12281  data/segmentations/1.2.826.0.1.3680043.12281.nii"
      ]
     },
     "execution_count": 9,
     "metadata": {},
     "output_type": "execute_result"
    }
   ],
   "source": [
    "# Definir ruta base y obtener rutas de segmentaciones\n",
    "base_path = \"data\"\n",
    "seg_paths = glob(f\"{base_path}/segmentations/*\")\n",
    "\n",
    "# Crear DataFrame y extraer el UID limpio\n",
    "seg_df = pd.DataFrame({'path': seg_paths})\n",
    "seg_df['StudyInstanceUID'] = seg_df['path'].apply(lambda x: os.path.basename(x).replace('.nii', ''))\n",
    "\n",
    "# Estandarizar el separador de ruta a \"/\"\n",
    "seg_df['path'] = seg_df['path'].apply(lambda x: x.replace(\"\\\\\", \"/\"))\n",
    "\n",
    "# Reordenar columnas y mostrar resultados\n",
    "seg_df = seg_df[['StudyInstanceUID', 'path']]\n",
    "print(f\"Existen un total de {seg_df.shape[0]} pacientes con segmentaciones\")\n",
    "seg_df.head()"
   ]
  },
  {
   "cell_type": "markdown",
   "metadata": {},
   "source": [
    "## Seleccion de Pacientes con Segmentaciones"
   ]
  },
  {
   "cell_type": "code",
   "execution_count": 10,
   "metadata": {},
   "outputs": [
    {
     "name": "stdout",
     "output_type": "stream",
     "text": [
      "Los metadatos consisten de 8 columnas\n",
      "Hay un total de 29832 instancias de segmentación\n"
     ]
    },
    {
     "data": {
      "text/html": [
       "<div>\n",
       "<style scoped>\n",
       "    .dataframe tbody tr th:only-of-type {\n",
       "        vertical-align: middle;\n",
       "    }\n",
       "\n",
       "    .dataframe tbody tr th {\n",
       "        vertical-align: top;\n",
       "    }\n",
       "\n",
       "    .dataframe thead th {\n",
       "        text-align: right;\n",
       "    }\n",
       "</style>\n",
       "<table border=\"1\" class=\"dataframe\">\n",
       "  <thead>\n",
       "    <tr style=\"text-align: right;\">\n",
       "      <th></th>\n",
       "      <th>StudyInstanceUID</th>\n",
       "      <th>Slice</th>\n",
       "      <th>ImageHeight</th>\n",
       "      <th>ImageWidth</th>\n",
       "      <th>SliceThickness</th>\n",
       "      <th>ImagePositionPatient_x</th>\n",
       "      <th>ImagePositionPatient_y</th>\n",
       "      <th>ImagePositionPatient_z</th>\n",
       "    </tr>\n",
       "  </thead>\n",
       "  <tbody>\n",
       "    <tr>\n",
       "      <th>0</th>\n",
       "      <td>1.2.826.0.1.3680043.10633</td>\n",
       "      <td>1</td>\n",
       "      <td>512</td>\n",
       "      <td>512</td>\n",
       "      <td>1.0</td>\n",
       "      <td>-68.0</td>\n",
       "      <td>98.0</td>\n",
       "      <td>314.099976</td>\n",
       "    </tr>\n",
       "    <tr>\n",
       "      <th>1</th>\n",
       "      <td>1.2.826.0.1.3680043.10633</td>\n",
       "      <td>2</td>\n",
       "      <td>512</td>\n",
       "      <td>512</td>\n",
       "      <td>1.0</td>\n",
       "      <td>-68.0</td>\n",
       "      <td>98.0</td>\n",
       "      <td>313.599976</td>\n",
       "    </tr>\n",
       "    <tr>\n",
       "      <th>2</th>\n",
       "      <td>1.2.826.0.1.3680043.10633</td>\n",
       "      <td>3</td>\n",
       "      <td>512</td>\n",
       "      <td>512</td>\n",
       "      <td>1.0</td>\n",
       "      <td>-68.0</td>\n",
       "      <td>98.0</td>\n",
       "      <td>313.099976</td>\n",
       "    </tr>\n",
       "    <tr>\n",
       "      <th>3</th>\n",
       "      <td>1.2.826.0.1.3680043.10633</td>\n",
       "      <td>4</td>\n",
       "      <td>512</td>\n",
       "      <td>512</td>\n",
       "      <td>1.0</td>\n",
       "      <td>-68.0</td>\n",
       "      <td>98.0</td>\n",
       "      <td>312.599976</td>\n",
       "    </tr>\n",
       "    <tr>\n",
       "      <th>4</th>\n",
       "      <td>1.2.826.0.1.3680043.10633</td>\n",
       "      <td>5</td>\n",
       "      <td>512</td>\n",
       "      <td>512</td>\n",
       "      <td>1.0</td>\n",
       "      <td>-68.0</td>\n",
       "      <td>98.0</td>\n",
       "      <td>312.099976</td>\n",
       "    </tr>\n",
       "  </tbody>\n",
       "</table>\n",
       "</div>"
      ],
      "text/plain": [
       "            StudyInstanceUID  Slice  ImageHeight  ImageWidth  SliceThickness  \\\n",
       "0  1.2.826.0.1.3680043.10633      1          512         512             1.0   \n",
       "1  1.2.826.0.1.3680043.10633      2          512         512             1.0   \n",
       "2  1.2.826.0.1.3680043.10633      3          512         512             1.0   \n",
       "3  1.2.826.0.1.3680043.10633      4          512         512             1.0   \n",
       "4  1.2.826.0.1.3680043.10633      5          512         512             1.0   \n",
       "\n",
       "   ImagePositionPatient_x  ImagePositionPatient_y  ImagePositionPatient_z  \n",
       "0                   -68.0                    98.0              314.099976  \n",
       "1                   -68.0                    98.0              313.599976  \n",
       "2                   -68.0                    98.0              313.099976  \n",
       "3                   -68.0                    98.0              312.599976  \n",
       "4                   -68.0                    98.0              312.099976  "
      ]
     },
     "execution_count": 10,
     "metadata": {},
     "output_type": "execute_result"
    }
   ],
   "source": [
    "# Cargar el archivo de metadatos\n",
    "meta_train = pd.read_csv(\"metadata/dicom_metadata.csv\")\n",
    "\n",
    "# Filtrar los metadatos de entrenamiento \n",
    "# para obtener solo los estudios con segmentaciones\n",
    "meta_seg = meta_train[meta_train['StudyInstanceUID'].isin(seg_df['StudyInstanceUID'])].reset_index(drop=True)\n",
    "print(f\"Los metadatos consisten de {meta_seg.shape[1]} columnas\")\n",
    "print(f\"Hay un total de {meta_seg.shape[0]} instancias de segmentación\")\n",
    "meta_seg.head()"
   ]
  },
  {
   "cell_type": "markdown",
   "metadata": {},
   "source": [
    "## Extraccion de vertebras "
   ]
  },
  {
   "cell_type": "code",
   "execution_count": 11,
   "metadata": {},
   "outputs": [],
   "source": [
    "# Inicializar las columnas de segmentación en 0\n",
    "targets = ['C1','C2','C3','C4','C5','C6','C7']\n",
    "meta_seg[targets]=0\n",
    "k=0"
   ]
  },
  {
   "cell_type": "code",
   "execution_count": 12,
   "metadata": {},
   "outputs": [
    {
     "name": "stderr",
     "output_type": "stream",
     "text": [
      "Procesando segmentaciones: 100%|██████████| 87/87 [08:36<00:00,  5.94s/paciente]"
     ]
    },
    {
     "name": "stdout",
     "output_type": "stream",
     "text": [
      "Segmentaciones procesadas exitosamente\n"
     ]
    },
    {
     "name": "stderr",
     "output_type": "stream",
     "text": [
      "\n"
     ]
    }
   ],
   "source": [
    "# Iterar sobre cada archivo de segmentación con tqdm\n",
    "for path, UID in tqdm(zip(seg_df['path'], seg_df['StudyInstanceUID']), total=len(seg_df), desc=\"Procesando segmentaciones\", unit=\"paciente\"):\n",
    "    # Obtener segmentación del paciente\n",
    "    seg_nib = nib.load(path)\n",
    "    seg = seg_nib.get_fdata()\n",
    "\n",
    "    # Ajustar orientación\n",
    "    seg = seg[:, ::-1, ::-1].transpose(2, 1, 0)\n",
    "    num_slices, _, _ = seg.shape\n",
    "    \n",
    "    # Iterar sobre los cortes con barra de progreso interna\n",
    "    for i in tqdm(range(num_slices), leave=False, desc=f\"Segmentación {UID}\"):\n",
    "        mask = seg[i]\n",
    "        unique_vals = np.unique(mask)\n",
    "        \n",
    "        # Iterar sobre los valores únicos (excepto 0)\n",
    "        for j in unique_vals[1:]:\n",
    "            # Ignorar valores mayores a 7 (Vértebras torácicas, lumbares y sacras)\n",
    "            if j <= 7:\n",
    "                meta_seg.loc[(meta_seg['StudyInstanceUID'] == UID) & (meta_seg['Slice'] == i), f'C{int(j)}'] = 1\n",
    "\n",
    "print(\"Segmentaciones procesadas exitosamente\")"
   ]
  },
  {
   "cell_type": "code",
   "execution_count": 13,
   "metadata": {},
   "outputs": [
    {
     "data": {
      "text/html": [
       "<div>\n",
       "<style scoped>\n",
       "    .dataframe tbody tr th:only-of-type {\n",
       "        vertical-align: middle;\n",
       "    }\n",
       "\n",
       "    .dataframe tbody tr th {\n",
       "        vertical-align: top;\n",
       "    }\n",
       "\n",
       "    .dataframe thead th {\n",
       "        text-align: right;\n",
       "    }\n",
       "</style>\n",
       "<table border=\"1\" class=\"dataframe\">\n",
       "  <thead>\n",
       "    <tr style=\"text-align: right;\">\n",
       "      <th></th>\n",
       "      <th>StudyInstanceUID</th>\n",
       "      <th>Slice</th>\n",
       "      <th>ImageHeight</th>\n",
       "      <th>ImageWidth</th>\n",
       "      <th>SliceThickness</th>\n",
       "      <th>ImagePositionPatient_x</th>\n",
       "      <th>ImagePositionPatient_y</th>\n",
       "      <th>ImagePositionPatient_z</th>\n",
       "      <th>C1</th>\n",
       "      <th>C2</th>\n",
       "      <th>C3</th>\n",
       "      <th>C4</th>\n",
       "      <th>C5</th>\n",
       "      <th>C6</th>\n",
       "      <th>C7</th>\n",
       "    </tr>\n",
       "  </thead>\n",
       "  <tbody>\n",
       "    <tr>\n",
       "      <th>0</th>\n",
       "      <td>1.2.826.0.1.3680043.10633</td>\n",
       "      <td>1</td>\n",
       "      <td>512</td>\n",
       "      <td>512</td>\n",
       "      <td>1.0</td>\n",
       "      <td>-68.0</td>\n",
       "      <td>98.0</td>\n",
       "      <td>314.099976</td>\n",
       "      <td>0</td>\n",
       "      <td>0</td>\n",
       "      <td>0</td>\n",
       "      <td>0</td>\n",
       "      <td>0</td>\n",
       "      <td>0</td>\n",
       "      <td>0</td>\n",
       "    </tr>\n",
       "    <tr>\n",
       "      <th>1</th>\n",
       "      <td>1.2.826.0.1.3680043.10633</td>\n",
       "      <td>2</td>\n",
       "      <td>512</td>\n",
       "      <td>512</td>\n",
       "      <td>1.0</td>\n",
       "      <td>-68.0</td>\n",
       "      <td>98.0</td>\n",
       "      <td>313.599976</td>\n",
       "      <td>0</td>\n",
       "      <td>0</td>\n",
       "      <td>0</td>\n",
       "      <td>0</td>\n",
       "      <td>0</td>\n",
       "      <td>0</td>\n",
       "      <td>0</td>\n",
       "    </tr>\n",
       "    <tr>\n",
       "      <th>2</th>\n",
       "      <td>1.2.826.0.1.3680043.10633</td>\n",
       "      <td>3</td>\n",
       "      <td>512</td>\n",
       "      <td>512</td>\n",
       "      <td>1.0</td>\n",
       "      <td>-68.0</td>\n",
       "      <td>98.0</td>\n",
       "      <td>313.099976</td>\n",
       "      <td>0</td>\n",
       "      <td>0</td>\n",
       "      <td>0</td>\n",
       "      <td>0</td>\n",
       "      <td>0</td>\n",
       "      <td>0</td>\n",
       "      <td>0</td>\n",
       "    </tr>\n",
       "    <tr>\n",
       "      <th>3</th>\n",
       "      <td>1.2.826.0.1.3680043.10633</td>\n",
       "      <td>4</td>\n",
       "      <td>512</td>\n",
       "      <td>512</td>\n",
       "      <td>1.0</td>\n",
       "      <td>-68.0</td>\n",
       "      <td>98.0</td>\n",
       "      <td>312.599976</td>\n",
       "      <td>0</td>\n",
       "      <td>0</td>\n",
       "      <td>0</td>\n",
       "      <td>0</td>\n",
       "      <td>0</td>\n",
       "      <td>0</td>\n",
       "      <td>0</td>\n",
       "    </tr>\n",
       "    <tr>\n",
       "      <th>4</th>\n",
       "      <td>1.2.826.0.1.3680043.10633</td>\n",
       "      <td>5</td>\n",
       "      <td>512</td>\n",
       "      <td>512</td>\n",
       "      <td>1.0</td>\n",
       "      <td>-68.0</td>\n",
       "      <td>98.0</td>\n",
       "      <td>312.099976</td>\n",
       "      <td>0</td>\n",
       "      <td>0</td>\n",
       "      <td>0</td>\n",
       "      <td>0</td>\n",
       "      <td>0</td>\n",
       "      <td>0</td>\n",
       "      <td>0</td>\n",
       "    </tr>\n",
       "  </tbody>\n",
       "</table>\n",
       "</div>"
      ],
      "text/plain": [
       "            StudyInstanceUID  Slice  ImageHeight  ImageWidth  SliceThickness  \\\n",
       "0  1.2.826.0.1.3680043.10633      1          512         512             1.0   \n",
       "1  1.2.826.0.1.3680043.10633      2          512         512             1.0   \n",
       "2  1.2.826.0.1.3680043.10633      3          512         512             1.0   \n",
       "3  1.2.826.0.1.3680043.10633      4          512         512             1.0   \n",
       "4  1.2.826.0.1.3680043.10633      5          512         512             1.0   \n",
       "\n",
       "   ImagePositionPatient_x  ImagePositionPatient_y  ImagePositionPatient_z  C1  \\\n",
       "0                   -68.0                    98.0              314.099976   0   \n",
       "1                   -68.0                    98.0              313.599976   0   \n",
       "2                   -68.0                    98.0              313.099976   0   \n",
       "3                   -68.0                    98.0              312.599976   0   \n",
       "4                   -68.0                    98.0              312.099976   0   \n",
       "\n",
       "   C2  C3  C4  C5  C6  C7  \n",
       "0   0   0   0   0   0   0  \n",
       "1   0   0   0   0   0   0  \n",
       "2   0   0   0   0   0   0  \n",
       "3   0   0   0   0   0   0  \n",
       "4   0   0   0   0   0   0  "
      ]
     },
     "execution_count": 13,
     "metadata": {},
     "output_type": "execute_result"
    }
   ],
   "source": [
    "meta_seg.head()"
   ]
  },
  {
   "cell_type": "markdown",
   "metadata": {},
   "source": [
    "## Exportacion de Metadatos Limpios"
   ]
  },
  {
   "cell_type": "code",
   "execution_count": 14,
   "metadata": {},
   "outputs": [
    {
     "name": "stdout",
     "output_type": "stream",
     "text": [
      "Metadata de segmentación guardado exitosamente\n"
     ]
    }
   ],
   "source": [
    "meta_seg.to_csv(\"metadata/segmentation_metadata.csv\", index=False)\n",
    "print(\"Metadata de segmentación guardado exitosamente\")"
   ]
  },
  {
   "cell_type": "code",
   "execution_count": 15,
   "metadata": {},
   "outputs": [
    {
     "data": {
      "text/html": [
       "<div>\n",
       "<style scoped>\n",
       "    .dataframe tbody tr th:only-of-type {\n",
       "        vertical-align: middle;\n",
       "    }\n",
       "\n",
       "    .dataframe tbody tr th {\n",
       "        vertical-align: top;\n",
       "    }\n",
       "\n",
       "    .dataframe thead th {\n",
       "        text-align: right;\n",
       "    }\n",
       "</style>\n",
       "<table border=\"1\" class=\"dataframe\">\n",
       "  <thead>\n",
       "    <tr style=\"text-align: right;\">\n",
       "      <th></th>\n",
       "      <th>StudyInstanceUID</th>\n",
       "      <th>Slice</th>\n",
       "      <th>C1</th>\n",
       "      <th>C2</th>\n",
       "      <th>C3</th>\n",
       "      <th>C4</th>\n",
       "      <th>C5</th>\n",
       "      <th>C6</th>\n",
       "      <th>C7</th>\n",
       "    </tr>\n",
       "  </thead>\n",
       "  <tbody>\n",
       "    <tr>\n",
       "      <th>199</th>\n",
       "      <td>1.2.826.0.1.3680043.10633</td>\n",
       "      <td>200</td>\n",
       "      <td>0</td>\n",
       "      <td>1</td>\n",
       "      <td>1</td>\n",
       "      <td>0</td>\n",
       "      <td>0</td>\n",
       "      <td>0</td>\n",
       "      <td>0</td>\n",
       "    </tr>\n",
       "    <tr>\n",
       "      <th>200</th>\n",
       "      <td>1.2.826.0.1.3680043.10633</td>\n",
       "      <td>201</td>\n",
       "      <td>0</td>\n",
       "      <td>1</td>\n",
       "      <td>1</td>\n",
       "      <td>0</td>\n",
       "      <td>0</td>\n",
       "      <td>0</td>\n",
       "      <td>0</td>\n",
       "    </tr>\n",
       "    <tr>\n",
       "      <th>201</th>\n",
       "      <td>1.2.826.0.1.3680043.10633</td>\n",
       "      <td>202</td>\n",
       "      <td>0</td>\n",
       "      <td>0</td>\n",
       "      <td>1</td>\n",
       "      <td>1</td>\n",
       "      <td>0</td>\n",
       "      <td>0</td>\n",
       "      <td>0</td>\n",
       "    </tr>\n",
       "    <tr>\n",
       "      <th>202</th>\n",
       "      <td>1.2.826.0.1.3680043.10633</td>\n",
       "      <td>203</td>\n",
       "      <td>0</td>\n",
       "      <td>0</td>\n",
       "      <td>1</td>\n",
       "      <td>1</td>\n",
       "      <td>0</td>\n",
       "      <td>0</td>\n",
       "      <td>0</td>\n",
       "    </tr>\n",
       "    <tr>\n",
       "      <th>203</th>\n",
       "      <td>1.2.826.0.1.3680043.10633</td>\n",
       "      <td>204</td>\n",
       "      <td>0</td>\n",
       "      <td>0</td>\n",
       "      <td>1</td>\n",
       "      <td>1</td>\n",
       "      <td>0</td>\n",
       "      <td>0</td>\n",
       "      <td>0</td>\n",
       "    </tr>\n",
       "  </tbody>\n",
       "</table>\n",
       "</div>"
      ],
      "text/plain": [
       "              StudyInstanceUID  Slice  C1  C2  C3  C4  C5  C6  C7\n",
       "199  1.2.826.0.1.3680043.10633    200   0   1   1   0   0   0   0\n",
       "200  1.2.826.0.1.3680043.10633    201   0   1   1   0   0   0   0\n",
       "201  1.2.826.0.1.3680043.10633    202   0   0   1   1   0   0   0\n",
       "202  1.2.826.0.1.3680043.10633    203   0   0   1   1   0   0   0\n",
       "203  1.2.826.0.1.3680043.10633    204   0   0   1   1   0   0   0"
      ]
     },
     "execution_count": 15,
     "metadata": {},
     "output_type": "execute_result"
    }
   ],
   "source": [
    "# Ejemplo de segmentación\n",
    "meta_seg[['StudyInstanceUID','Slice']+targets].iloc[199:204,:]"
   ]
  }
 ],
 "metadata": {
  "kernelspec": {
   "display_name": "DataSci_RSNA",
   "language": "python",
   "name": "python3"
  },
  "language_info": {
   "codemirror_mode": {
    "name": "ipython",
    "version": 3
   },
   "file_extension": ".py",
   "mimetype": "text/x-python",
   "name": "python",
   "nbconvert_exporter": "python",
   "pygments_lexer": "ipython3",
   "version": "3.12.5"
  }
 },
 "nbformat": 4,
 "nbformat_minor": 2
}
