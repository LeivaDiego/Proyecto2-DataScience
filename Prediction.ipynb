{
 "cells": [
  {
   "cell_type": "code",
   "execution_count": 1,
   "metadata": {},
   "outputs": [],
   "source": [
    "import os\n",
    "import glob\n",
    "import re\n",
    "import numpy as np\n",
    "import pandas as pd\n",
    "import torch\n",
    "import cv2\n",
    "import pydicom\n",
    "import pylibjpeg\n",
    "from typing import List\n",
    "from torchvision import transforms as T\n",
    "from torch.utils.data import DataLoader\n",
    "from torchvision.models import efficientnet_v2_s\n",
    "from torchvision.models.feature_extraction import create_feature_extractor\n",
    "from tqdm import tqdm"
   ]
  },
  {
   "cell_type": "code",
   "execution_count": 2,
   "metadata": {},
   "outputs": [
    {
     "name": "stdout",
     "output_type": "stream",
     "text": [
      "Dataloader size: 501\n"
     ]
    },
    {
     "name": "stderr",
     "output_type": "stream",
     "text": [
      "100%|██████████| 501/501 [02:17<00:00,  3.64it/s]"
     ]
    },
    {
     "name": "stdout",
     "output_type": "stream",
     "text": [
      "Predicción del paciente:\n"
     ]
    },
    {
     "name": "stderr",
     "output_type": "stream",
     "text": [
      "\n"
     ]
    },
    {
     "data": {
      "text/html": [
       "<div>\n",
       "<style scoped>\n",
       "    .dataframe tbody tr th:only-of-type {\n",
       "        vertical-align: middle;\n",
       "    }\n",
       "\n",
       "    .dataframe tbody tr th {\n",
       "        vertical-align: top;\n",
       "    }\n",
       "\n",
       "    .dataframe thead th {\n",
       "        text-align: right;\n",
       "    }\n",
       "</style>\n",
       "<table border=\"1\" class=\"dataframe\">\n",
       "  <thead>\n",
       "    <tr style=\"text-align: right;\">\n",
       "      <th></th>\n",
       "      <th>patient_overall</th>\n",
       "      <th>C1</th>\n",
       "      <th>C2</th>\n",
       "      <th>C3</th>\n",
       "      <th>C4</th>\n",
       "      <th>C5</th>\n",
       "      <th>C6</th>\n",
       "      <th>C7</th>\n",
       "    </tr>\n",
       "  </thead>\n",
       "  <tbody>\n",
       "    <tr>\n",
       "      <th>0</th>\n",
       "      <td>0.838825</td>\n",
       "      <td>0.245274</td>\n",
       "      <td>0.328843</td>\n",
       "      <td>0.179069</td>\n",
       "      <td>0.218363</td>\n",
       "      <td>0.226073</td>\n",
       "      <td>0.208431</td>\n",
       "      <td>0.190564</td>\n",
       "    </tr>\n",
       "  </tbody>\n",
       "</table>\n",
       "</div>"
      ],
      "text/plain": [
       "   patient_overall        C1        C2        C3        C4        C5  \\\n",
       "0         0.838825  0.245274  0.328843  0.179069  0.218363  0.226073   \n",
       "\n",
       "         C6        C7  \n",
       "0  0.208431  0.190564  "
      ]
     },
     "metadata": {},
     "output_type": "display_data"
    }
   ],
   "source": [
    "# Configuración de dispositivo\n",
    "DEVICE = 'cuda' if torch.cuda.is_available() else 'cpu'\n",
    "BATCH_SIZE = 1  # Batch pequeño para procesamiento de un solo paciente\n",
    "\n",
    "# Configuración de modelos y paths\n",
    "WEIGHTS = T.Compose([T.ToTensor(), T.Resize((224, 224))])  # Reemplaza con WEIGHTS.transforms() si es necesario\n",
    "EFFNET_CHECKPOINTS_PATH = \"models\"  # Reemplaza con la ruta correcta\n",
    "\n",
    "# Lista de nombres de modelos\n",
    "MODEL_NAMES = [f'effnetv2-f{i}' for i in range(5)]\n",
    "FRAC_COLS = [f'C{i}_effnet_frac' for i in range(1, 8)]\n",
    "VERT_COLS = [f'C{i}_effnet_vert' for i in range(1, 8)]\n",
    "columns_to_transform = ['patient_overall'] + [f'C{i}' for i in range(1, 8)]\n",
    "\n",
    "# Función para cargar modelos\n",
    "def load_model(model, name, path='.') -> torch.nn.Module:\n",
    "    data = torch.load(os.path.join(path, f'{name}.tph'), map_location=DEVICE, weights_only=True)\n",
    "    model.load_state_dict(data)\n",
    "    return model\n",
    "\n",
    "# Cargar imagen DICOM\n",
    "def load_dicom(path):\n",
    "    try:\n",
    "        img = pydicom.dcmread(path)\n",
    "        data = img.pixel_array\n",
    "        data = data - np.min(data)\n",
    "        if np.max(data) != 0:\n",
    "            data = data / np.max(data)\n",
    "        data = (data * 255).astype(np.uint8)\n",
    "        return cv2.cvtColor(data, cv2.COLOR_GRAY2RGB), img\n",
    "    except pydicom.errors.InvalidDicomError:\n",
    "        print(f\"Error loading DICOM file: {path}\")\n",
    "        return None, None\n",
    "\n",
    "# Dataset personalizado para EfficientNet\n",
    "class EffnetDataSet(torch.utils.data.Dataset):\n",
    "    def __init__(self, df, path):\n",
    "        super().__init__()\n",
    "        self.df = df\n",
    "        self.path = path\n",
    "        \n",
    "    def __getitem__(self, i):\n",
    "        path = os.path.join(self.path, f'{self.df.iloc[i].Slice}.dcm')\n",
    "        img, _ = load_dicom(path)\n",
    "        if img is None:\n",
    "            return torch.zeros(3, 224, 224)\n",
    "        \n",
    "        # Preprocessor the image\n",
    "        img = cv2.resize(img, (224, 224))\n",
    "        img = np.transpose(img, (2, 0, 1))  # Convert to (channels, height, width)\n",
    "        img = img.astype(np.float32) / 255.0  # Normalize pixel values to [0, 1]\n",
    "        return torch.from_numpy(img)\n",
    "    \n",
    "    def __len__(self):\n",
    "        return len(self.df)\n",
    "\n",
    "# Definición del modelo EfficientNet para predicción\n",
    "class EffnetModel(torch.nn.Module):\n",
    "    def __init__(self):\n",
    "        super().__init__()\n",
    "        effnet = efficientnet_v2_s()\n",
    "        self.model = create_feature_extractor(effnet, {'flatten': 'flatten'})\n",
    "        self.nn_fracture = torch.nn.Sequential(\n",
    "            torch.nn.Linear(1280, 7)\n",
    "        )\n",
    "        self.nn_vertebrae = torch.nn.Sequential(\n",
    "            torch.nn.Linear(1280, 7)\n",
    "        )\n",
    "\n",
    "    def forward(self, x):\n",
    "        x = self.model(x)['flatten']\n",
    "        return self.nn_fracture(x), self.nn_vertebrae(x)\n",
    "\n",
    "    def predict(self, x):\n",
    "        frac, vert = self.forward(x)\n",
    "        return torch.sigmoid(frac), torch.sigmoid(vert)\n",
    "\n",
    "# Predicción usando modelos EfficientNet\n",
    "def predict_effnet(models: List[EffnetModel], ds) -> np.ndarray:\n",
    "    dl_test = DataLoader(ds, batch_size=BATCH_SIZE, shuffle=False, num_workers=0)\n",
    "    print(f\"Dataloader size: {len(dl_test)}\")\n",
    "    for m in models:\n",
    "        m.eval()\n",
    "    predictions = []\n",
    "\n",
    "    with torch.no_grad():\n",
    "        for idx, X in enumerate(tqdm(dl_test, miniters=10)):\n",
    "            pred = torch.zeros(len(X), 14).to(DEVICE)\n",
    "            for m in models:\n",
    "                y1, y2 = m.predict(X.to(DEVICE))\n",
    "                pred += torch.cat([y1, y2], dim=1) / len(models)\n",
    "            predictions.append(pred)\n",
    "    return torch.cat(predictions).cpu().numpy()\n",
    "\n",
    "# Calcular predicción final del paciente\n",
    "def patient_prediction(df):\n",
    "    c1c7 = np.average(df[FRAC_COLS].values, axis=0, weights=df[VERT_COLS].values)\n",
    "    pred_patient_overall = 1 - np.prod(1 - c1c7)\n",
    "    return pd.Series(data=np.concatenate([[pred_patient_overall], c1c7]), index=['patient_overall'] + [f'C{i}' for i in range(1, 8)])\n",
    "\n",
    "# Predicción para un paciente individual\n",
    "def predict_single_patient(models: List[EffnetModel], patient_path: str):\n",
    "    dicom_files = glob.glob(f'{patient_path}/*.dcm')\n",
    "    if not dicom_files:\n",
    "        raise FileNotFoundError(f\"No DICOM files found in {patient_path}\")\n",
    "    \n",
    "    slices = [(os.path.basename(patient_path), int(re.search(r'(\\d+)\\.dcm', f).group(1))) for f in dicom_files]\n",
    "    df_patient_slices = pd.DataFrame(slices, columns=['StudyInstanceUID', 'Slice']).sort_values('Slice')\n",
    "\n",
    "    ds_patient = EffnetDataSet(df_patient_slices, patient_path)\n",
    "    effnet_pred = predict_effnet(models, ds_patient)\n",
    "\n",
    "    df_effnet_pred = pd.DataFrame(data=effnet_pred, columns=FRAC_COLS + VERT_COLS)\n",
    "    df_patient_pred = pd.concat([df_patient_slices, df_effnet_pred], axis=1)\n",
    "    pred_final = patient_prediction(df_patient_pred)\n",
    "\n",
    "    # Apply threshold of 0.6\n",
    "    # pred_final[columns_to_transform] = pred_final[columns_to_transform].apply(lambda x: 1 if x > 0.6 else 0)\n",
    "    return pred_final\n",
    "\n",
    "# Cargar modelos y hacer predicción\n",
    "effnet_models = [load_model(EffnetModel(), name, EFFNET_CHECKPOINTS_PATH).to(DEVICE) for name in MODEL_NAMES]\n",
    "patient_path = 'data/train_images/1.2.826.0.1.3680043.12351'\n",
    "df_patient_final = predict_single_patient(effnet_models, patient_path)\n",
    "\n",
    "# Mostrar el resultado en formato de tabla\n",
    "print(\"Predicción del paciente:\")\n",
    "display(df_patient_final.to_frame().transpose())\n"
   ]
  },
  {
   "cell_type": "code",
   "execution_count": 3,
   "metadata": {},
   "outputs": [
    {
     "name": "stdout",
     "output_type": "stream",
     "text": [
      "Dataloader size: 185\n"
     ]
    },
    {
     "name": "stderr",
     "output_type": "stream",
     "text": [
      "100%|██████████| 185/185 [00:47<00:00,  3.91it/s]"
     ]
    },
    {
     "name": "stdout",
     "output_type": "stream",
     "text": [
      "Predicción del paciente:\n"
     ]
    },
    {
     "name": "stderr",
     "output_type": "stream",
     "text": [
      "\n"
     ]
    },
    {
     "data": {
      "text/html": [
       "<div>\n",
       "<style scoped>\n",
       "    .dataframe tbody tr th:only-of-type {\n",
       "        vertical-align: middle;\n",
       "    }\n",
       "\n",
       "    .dataframe tbody tr th {\n",
       "        vertical-align: top;\n",
       "    }\n",
       "\n",
       "    .dataframe thead th {\n",
       "        text-align: right;\n",
       "    }\n",
       "</style>\n",
       "<table border=\"1\" class=\"dataframe\">\n",
       "  <thead>\n",
       "    <tr style=\"text-align: right;\">\n",
       "      <th></th>\n",
       "      <th>patient_overall</th>\n",
       "      <th>C1</th>\n",
       "      <th>C2</th>\n",
       "      <th>C3</th>\n",
       "      <th>C4</th>\n",
       "      <th>C5</th>\n",
       "      <th>C6</th>\n",
       "      <th>C7</th>\n",
       "    </tr>\n",
       "  </thead>\n",
       "  <tbody>\n",
       "    <tr>\n",
       "      <th>0</th>\n",
       "      <td>0.972636</td>\n",
       "      <td>0.363743</td>\n",
       "      <td>0.452143</td>\n",
       "      <td>0.364774</td>\n",
       "      <td>0.393475</td>\n",
       "      <td>0.426777</td>\n",
       "      <td>0.406666</td>\n",
       "      <td>0.400934</td>\n",
       "    </tr>\n",
       "  </tbody>\n",
       "</table>\n",
       "</div>"
      ],
      "text/plain": [
       "   patient_overall        C1        C2        C3        C4        C5  \\\n",
       "0         0.972636  0.363743  0.452143  0.364774  0.393475  0.426777   \n",
       "\n",
       "         C6        C7  \n",
       "0  0.406666  0.400934  "
      ]
     },
     "metadata": {},
     "output_type": "display_data"
    }
   ],
   "source": [
    "patient_path = 'data/train_images/1.2.826.0.1.3680043.15773'\n",
    "df_patient_final = predict_single_patient(effnet_models, patient_path)\n",
    "\n",
    "# Mostrar el resultado en formato de tabla\n",
    "print(\"Predicción del paciente:\")\n",
    "display(df_patient_final.to_frame().transpose())\n"
   ]
  },
  {
   "cell_type": "code",
   "execution_count": 4,
   "metadata": {},
   "outputs": [
    {
     "name": "stdout",
     "output_type": "stream",
     "text": [
      "Dataloader size: 322\n"
     ]
    },
    {
     "name": "stderr",
     "output_type": "stream",
     "text": [
      "100%|██████████| 322/322 [01:21<00:00,  3.97it/s]"
     ]
    },
    {
     "name": "stdout",
     "output_type": "stream",
     "text": [
      "Predicción del paciente:\n"
     ]
    },
    {
     "name": "stderr",
     "output_type": "stream",
     "text": [
      "\n"
     ]
    },
    {
     "data": {
      "text/html": [
       "<div>\n",
       "<style scoped>\n",
       "    .dataframe tbody tr th:only-of-type {\n",
       "        vertical-align: middle;\n",
       "    }\n",
       "\n",
       "    .dataframe tbody tr th {\n",
       "        vertical-align: top;\n",
       "    }\n",
       "\n",
       "    .dataframe thead th {\n",
       "        text-align: right;\n",
       "    }\n",
       "</style>\n",
       "<table border=\"1\" class=\"dataframe\">\n",
       "  <thead>\n",
       "    <tr style=\"text-align: right;\">\n",
       "      <th></th>\n",
       "      <th>patient_overall</th>\n",
       "      <th>C1</th>\n",
       "      <th>C2</th>\n",
       "      <th>C3</th>\n",
       "      <th>C4</th>\n",
       "      <th>C5</th>\n",
       "      <th>C6</th>\n",
       "      <th>C7</th>\n",
       "    </tr>\n",
       "  </thead>\n",
       "  <tbody>\n",
       "    <tr>\n",
       "      <th>0</th>\n",
       "      <td>0.880835</td>\n",
       "      <td>0.242457</td>\n",
       "      <td>0.29642</td>\n",
       "      <td>0.233949</td>\n",
       "      <td>0.265436</td>\n",
       "      <td>0.278091</td>\n",
       "      <td>0.253541</td>\n",
       "      <td>0.262688</td>\n",
       "    </tr>\n",
       "  </tbody>\n",
       "</table>\n",
       "</div>"
      ],
      "text/plain": [
       "   patient_overall        C1       C2        C3        C4        C5        C6  \\\n",
       "0         0.880835  0.242457  0.29642  0.233949  0.265436  0.278091  0.253541   \n",
       "\n",
       "         C7  \n",
       "0  0.262688  "
      ]
     },
     "metadata": {},
     "output_type": "display_data"
    }
   ],
   "source": [
    "patient_path = 'data/train_images/1.2.826.0.1.3680043.13810'\n",
    "df_patient_final = predict_single_patient(effnet_models, patient_path)\n",
    "\n",
    "# Mostrar el resultado en formato de tabla\n",
    "print(\"Predicción del paciente:\")\n",
    "display(df_patient_final.to_frame().transpose())"
   ]
  }
 ],
 "metadata": {
  "kernelspec": {
   "display_name": "DataSci_RSNA",
   "language": "python",
   "name": "python3"
  },
  "language_info": {
   "codemirror_mode": {
    "name": "ipython",
    "version": 3
   },
   "file_extension": ".py",
   "mimetype": "text/x-python",
   "name": "python",
   "nbconvert_exporter": "python",
   "pygments_lexer": "ipython3",
   "version": "3.12.5"
  }
 },
 "nbformat": 4,
 "nbformat_minor": 2
}
