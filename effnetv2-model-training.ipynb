{
 "cells": [
  {
   "cell_type": "markdown",
   "id": "27a9e80e",
   "metadata": {
    "papermill": {
     "duration": 0.018618,
     "end_time": "2024-11-04T20:30:31.219466",
     "exception": false,
     "start_time": "2024-11-04T20:30:31.200848",
     "status": "completed"
    },
    "tags": []
   },
   "source": [
    "# Proyecto 2\n",
    "## RSNA 2022 Cervical Spine Fracture Detection\n",
    "**Universidad del Valle de Guatemala**\\\n",
    "**Facultad de Ingeniería**\\\n",
    "**Departamento de Ciencias de la Computación**\\\n",
    "**Data Science**\n",
    "\n",
    "# Entrenamiento de Modelo Base EfficientNetV2 de PyTorch\n",
    "---\n",
    "\n",
    "## Integrantes\n",
    "- Gustavo Gonzalez\n",
    "- Pablo Orellana\n",
    "- Diego Leiva\n",
    "- Maria Ramirez\n",
    "\n",
    "---\n",
    "\n",
    "Este notebook contiene el codigo necesario para entrenar un modelo EfficientNetV2 de deteccion de fracturas en tomografias"
   ]
  },
  {
   "cell_type": "markdown",
   "id": "2c636540",
   "metadata": {
    "papermill": {
     "duration": 0.01612,
     "end_time": "2024-11-04T20:30:31.252521",
     "exception": false,
     "start_time": "2024-11-04T20:30:31.236401",
     "status": "completed"
    },
    "tags": []
   },
   "source": [
    "## Dependencias"
   ]
  },
  {
   "cell_type": "code",
   "execution_count": 1,
   "id": "c3b5576d",
   "metadata": {
    "execution": {
     "iopub.execute_input": "2024-11-04T20:30:31.288659Z",
     "iopub.status.busy": "2024-11-04T20:30:31.288212Z",
     "iopub.status.idle": "2024-11-04T20:31:44.996064Z",
     "shell.execute_reply": "2024-11-04T20:31:44.994789Z"
    },
    "papermill": {
     "duration": 73.729552,
     "end_time": "2024-11-04T20:31:44.998678",
     "exception": false,
     "start_time": "2024-11-04T20:30:31.269126",
     "status": "completed"
    },
    "pycharm": {
     "name": "#%%\n"
    },
    "tags": []
   },
   "outputs": [
    {
     "name": "stdout",
     "output_type": "stream",
     "text": [
      "Processing /kaggle/input/rsna-2022-whl/pydicom-2.3.0-py3-none-any.whl\r\n",
      "Processing /kaggle/input/rsna-2022-whl/pylibjpeg-1.4.0-py3-none-any.whl\r\n",
      "Processing /kaggle/input/rsna-2022-whl/python_gdcm-3.0.15-cp37-cp37m-manylinux_2_17_x86_64.manylinux2014_x86_64.whl\r\n",
      "Requirement already satisfied: numpy in /opt/conda/lib/python3.7/site-packages (from pylibjpeg==1.4.0) (1.21.6)\r\n",
      "pydicom is already installed with the same version as the provided wheel. Use --force-reinstall to force an installation of the wheel.\r\n",
      "Installing collected packages: python-gdcm, pylibjpeg\r\n",
      "Successfully installed pylibjpeg-1.4.0 python-gdcm-3.0.15\r\n",
      "\u001b[33mWARNING: Running pip as the 'root' user can result in broken permissions and conflicting behaviour with the system package manager. It is recommended to use a virtual environment instead: https://pip.pypa.io/warnings/venv\u001b[0m\u001b[33m\r\n",
      "\u001b[0mProcessing /kaggle/input/rsna-2022-whl/torch-1.12.1-cp37-cp37m-manylinux1_x86_64.whl\r\n",
      "Processing /kaggle/input/rsna-2022-whl/torchvision-0.13.1-cp37-cp37m-manylinux1_x86_64.whl\r\n",
      "Requirement already satisfied: typing-extensions in /opt/conda/lib/python3.7/site-packages (from torch==1.12.1) (4.1.1)\r\n",
      "Requirement already satisfied: pillow!=8.3.*,>=5.3.0 in /opt/conda/lib/python3.7/site-packages (from torchvision==0.13.1) (9.1.1)\r\n",
      "Requirement already satisfied: numpy in /opt/conda/lib/python3.7/site-packages (from torchvision==0.13.1) (1.21.6)\r\n",
      "Requirement already satisfied: requests in /opt/conda/lib/python3.7/site-packages (from torchvision==0.13.1) (2.28.1)\r\n",
      "Requirement already satisfied: charset-normalizer<3,>=2 in /opt/conda/lib/python3.7/site-packages (from requests->torchvision==0.13.1) (2.1.0)\r\n",
      "Requirement already satisfied: certifi>=2017.4.17 in /opt/conda/lib/python3.7/site-packages (from requests->torchvision==0.13.1) (2022.6.15)\r\n",
      "Requirement already satisfied: idna<4,>=2.5 in /opt/conda/lib/python3.7/site-packages (from requests->torchvision==0.13.1) (3.3)\r\n",
      "Requirement already satisfied: urllib3<1.27,>=1.21.1 in /opt/conda/lib/python3.7/site-packages (from requests->torchvision==0.13.1) (1.26.9)\r\n",
      "Installing collected packages: torch, torchvision\r\n",
      "  Attempting uninstall: torch\r\n",
      "    Found existing installation: torch 1.11.0\r\n",
      "    Uninstalling torch-1.11.0:\r\n",
      "      Successfully uninstalled torch-1.11.0\r\n",
      "  Attempting uninstall: torchvision\r\n",
      "    Found existing installation: torchvision 0.12.0\r\n",
      "    Uninstalling torchvision-0.12.0:\r\n",
      "      Successfully uninstalled torchvision-0.12.0\r\n",
      "\u001b[31mERROR: pip's dependency resolver does not currently take into account all the packages that are installed. This behaviour is the source of the following dependency conflicts.\r\n",
      "allennlp 2.10.0 requires protobuf==3.20.0, but you have protobuf 3.19.4 which is incompatible.\r\n",
      "allennlp 2.10.0 requires torch<1.12.0,>=1.10.0, but you have torch 1.12.1 which is incompatible.\r\n",
      "allennlp 2.10.0 requires torchvision<0.13.0,>=0.8.1, but you have torchvision 0.13.1 which is incompatible.\u001b[0m\u001b[31m\r\n",
      "\u001b[0mSuccessfully installed torch-1.12.1 torchvision-0.13.1\r\n",
      "\u001b[33mWARNING: Running pip as the 'root' user can result in broken permissions and conflicting behaviour with the system package manager. It is recommended to use a virtual environment instead: https://pip.pypa.io/warnings/venv\u001b[0m\u001b[33m\r\n",
      "\u001b[0m"
     ]
    }
   ],
   "source": [
    "try:\n",
    "    import pylibjpeg\n",
    "except:\n",
    "    # Dependencias para extraccion de JPEG y TorchVision\n",
    "    # Dependencias de https://www.kaggle.com/code/vslaykovsky/rsna-2022-whl\n",
    "    !mkdir -p /root/.cache/torch/hub/checkpoints/\n",
    "    !cp ../input/rsna-2022-whl/efficientnet_v2_s-dd5fe13b.pth  /root/.cache/torch/hub/checkpoints/\n",
    "    !pip install /kaggle/input/rsna-2022-whl/{pydicom-2.3.0-py3-none-any.whl,pylibjpeg-1.4.0-py3-none-any.whl,python_gdcm-3.0.15-cp37-cp37m-manylinux_2_17_x86_64.manylinux2014_x86_64.whl}\n",
    "    !pip install /kaggle/input/rsna-2022-whl/{torch-1.12.1-cp37-cp37m-manylinux1_x86_64.whl,torchvision-0.13.1-cp37-cp37m-manylinux1_x86_64.whl}"
   ]
  },
  {
   "cell_type": "code",
   "execution_count": 2,
   "id": "baa8dae4",
   "metadata": {
    "execution": {
     "iopub.execute_input": "2024-11-04T20:31:45.036107Z",
     "iopub.status.busy": "2024-11-04T20:31:45.035724Z",
     "iopub.status.idle": "2024-11-04T20:31:47.227669Z",
     "shell.execute_reply": "2024-11-04T20:31:47.226795Z"
    },
    "papermill": {
     "duration": 2.213602,
     "end_time": "2024-11-04T20:31:47.230151",
     "exception": false,
     "start_time": "2024-11-04T20:31:45.016549",
     "status": "completed"
    },
    "pycharm": {
     "name": "#%%\n"
    },
    "tags": []
   },
   "outputs": [],
   "source": [
    "# Sistema y archivos\n",
    "import gc\n",
    "import os\n",
    "import glob\n",
    "\n",
    "# Manejo de Imagenes DICOM\n",
    "import cv2\n",
    "import pydicom as dicom\n",
    "\n",
    "# Utilidades\n",
    "import re\n",
    "\n",
    "# Visualizaciones de Python\n",
    "import matplotlib.pyplot as plt\n",
    "from tqdm.notebook import tqdm\n",
    "\n",
    "# Manejo de Datos\n",
    "import numpy as np\n",
    "import pandas as pd\n",
    "\n",
    "# PyTorch y CUDA\n",
    "import torch\n",
    "import torchvision as tv\n",
    "from torch.cuda.amp import GradScaler, autocast\n",
    "from torchvision.models.feature_extraction import create_feature_extractor\n",
    "\n",
    "# Scikit Learn Para los Folds\n",
    "from sklearn.model_selection import GroupKFold"
   ]
  },
  {
   "cell_type": "markdown",
   "id": "c08065c1",
   "metadata": {
    "papermill": {
     "duration": 0.017315,
     "end_time": "2024-11-04T20:31:47.265497",
     "exception": false,
     "start_time": "2024-11-04T20:31:47.248182",
     "status": "completed"
    },
    "tags": []
   },
   "source": [
    "## Constantes"
   ]
  },
  {
   "cell_type": "code",
   "execution_count": 3,
   "id": "1227c9c4",
   "metadata": {
    "execution": {
     "iopub.execute_input": "2024-11-04T20:31:47.302445Z",
     "iopub.status.busy": "2024-11-04T20:31:47.301731Z",
     "iopub.status.idle": "2024-11-04T20:31:47.309933Z",
     "shell.execute_reply": "2024-11-04T20:31:47.308988Z"
    },
    "papermill": {
     "duration": 0.028884,
     "end_time": "2024-11-04T20:31:47.311985",
     "exception": false,
     "start_time": "2024-11-04T20:31:47.283101",
     "status": "completed"
    },
    "pycharm": {
     "name": "#%%\n"
    },
    "tags": []
   },
   "outputs": [],
   "source": [
    "# Configuracion para display de pandas\n",
    "plt.rcParams['figure.figsize'] = (20, 5)\n",
    "pd.set_option('display.max_rows', 10)\n",
    "pd.set_option('display.max_columns', 1000)\n",
    "\n",
    "# Pesos y Checkpoints de Efficient Net \n",
    "WEIGHTS = tv.models.efficientnet.EfficientNet_V2_S_Weights.DEFAULT\n",
    "EFFNET_CHECKPOINTS_PATH = '../input/rsna-2022-base-effnetv2'\n",
    "\n",
    "# Rutas de Archivos base\n",
    "RSNA_2022_PATH = '../input/rsna-2022-cervical-spine-fracture-detection'\n",
    "TRAIN_IMAGES_PATH = f'{RSNA_2022_PATH}/train_images'\n",
    "TEST_IMAGES_PATH = f'{RSNA_2022_PATH}/test_images'\n",
    "METADATA_PATH = '../input/vertebraeinfer-metadata'\n",
    "\n",
    "# Constantes para EfficientNet\n",
    "EFFNET_MAX_TRAIN_BATCHES = 4000\n",
    "EFFNET_MAX_EVAL_BATCHES = 200\n",
    "ONE_CYCLE_MAX_LR = 0.0001\n",
    "ONE_CYCLE_PCT_START = 0.3\n",
    "SAVE_CHECKPOINT_EVERY_STEP = 1000\n",
    "FRAC_LOSS_WEIGHT = 2.\n",
    "N_FOLDS = 5\n",
    "PREDICT_MAX_BATCHES = 1e9"
   ]
  },
  {
   "cell_type": "markdown",
   "id": "5c55de08",
   "metadata": {
    "papermill": {
     "duration": 0.017222,
     "end_time": "2024-11-04T20:31:47.346446",
     "exception": false,
     "start_time": "2024-11-04T20:31:47.329224",
     "status": "completed"
    },
    "tags": []
   },
   "source": [
    "## Configuracion de CUDA"
   ]
  },
  {
   "cell_type": "code",
   "execution_count": 4,
   "id": "01a153f8",
   "metadata": {
    "execution": {
     "iopub.execute_input": "2024-11-04T20:31:47.382730Z",
     "iopub.status.busy": "2024-11-04T20:31:47.382047Z",
     "iopub.status.idle": "2024-11-04T20:31:47.444468Z",
     "shell.execute_reply": "2024-11-04T20:31:47.443415Z"
    },
    "papermill": {
     "duration": 0.082963,
     "end_time": "2024-11-04T20:31:47.446693",
     "exception": false,
     "start_time": "2024-11-04T20:31:47.363730",
     "status": "completed"
    },
    "pycharm": {
     "name": "#%%\n"
    },
    "tags": []
   },
   "outputs": [],
   "source": [
    "# Configuracion y deteccion de CUDA\n",
    "DEVICE = 'cuda' if torch.cuda.is_available() else 'cpu'\n",
    "if DEVICE == 'cuda':\n",
    "    BATCH_SIZE = 32\n",
    "else:\n",
    "    BATCH_SIZE = 2"
   ]
  },
  {
   "cell_type": "markdown",
   "id": "89094adc",
   "metadata": {
    "papermill": {
     "duration": 0.017151,
     "end_time": "2024-11-04T20:31:47.481789",
     "exception": false,
     "start_time": "2024-11-04T20:31:47.464638",
     "status": "completed"
    },
    "tags": []
   },
   "source": [
    "## Carga de Conjunto de datos de entrenamiento y evaluacion"
   ]
  },
  {
   "cell_type": "markdown",
   "id": "4cb8558d",
   "metadata": {
    "papermill": {
     "duration": 0.01717,
     "end_time": "2024-11-04T20:31:47.516249",
     "exception": false,
     "start_time": "2024-11-04T20:31:47.499079",
     "status": "completed"
    },
    "tags": []
   },
   "source": [
    "- Se cargan los dataset de entrenamiento de la competencia `train.csv`\n",
    "- Se cargan los metadatos generados en el notebook de inferencia  `vertebraeMetadataEffNet.csv`"
   ]
  },
  {
   "cell_type": "code",
   "execution_count": 5,
   "id": "e70530bb",
   "metadata": {
    "execution": {
     "iopub.execute_input": "2024-11-04T20:31:47.552597Z",
     "iopub.status.busy": "2024-11-04T20:31:47.551908Z",
     "iopub.status.idle": "2024-11-04T20:31:47.587432Z",
     "shell.execute_reply": "2024-11-04T20:31:47.586490Z"
    },
    "papermill": {
     "duration": 0.055902,
     "end_time": "2024-11-04T20:31:47.589540",
     "exception": false,
     "start_time": "2024-11-04T20:31:47.533638",
     "status": "completed"
    },
    "pycharm": {
     "name": "#%%\n"
    },
    "tags": []
   },
   "outputs": [
    {
     "data": {
      "text/html": [
       "<div>\n",
       "<style scoped>\n",
       "    .dataframe tbody tr th:only-of-type {\n",
       "        vertical-align: middle;\n",
       "    }\n",
       "\n",
       "    .dataframe tbody tr th {\n",
       "        vertical-align: top;\n",
       "    }\n",
       "\n",
       "    .dataframe thead th {\n",
       "        text-align: right;\n",
       "    }\n",
       "</style>\n",
       "<table border=\"1\" class=\"dataframe\">\n",
       "  <thead>\n",
       "    <tr style=\"text-align: right;\">\n",
       "      <th></th>\n",
       "      <th>StudyInstanceUID</th>\n",
       "      <th>patient_overall</th>\n",
       "      <th>C1</th>\n",
       "      <th>C2</th>\n",
       "      <th>C3</th>\n",
       "      <th>C4</th>\n",
       "      <th>C5</th>\n",
       "      <th>C6</th>\n",
       "      <th>C7</th>\n",
       "    </tr>\n",
       "  </thead>\n",
       "  <tbody>\n",
       "    <tr>\n",
       "      <th>899</th>\n",
       "      <td>1.2.826.0.1.3680043.21059</td>\n",
       "      <td>1</td>\n",
       "      <td>0</td>\n",
       "      <td>0</td>\n",
       "      <td>0</td>\n",
       "      <td>0</td>\n",
       "      <td>0</td>\n",
       "      <td>1</td>\n",
       "      <td>0</td>\n",
       "    </tr>\n",
       "    <tr>\n",
       "      <th>1652</th>\n",
       "      <td>1.2.826.0.1.3680043.29631</td>\n",
       "      <td>1</td>\n",
       "      <td>0</td>\n",
       "      <td>1</td>\n",
       "      <td>0</td>\n",
       "      <td>0</td>\n",
       "      <td>0</td>\n",
       "      <td>0</td>\n",
       "      <td>0</td>\n",
       "    </tr>\n",
       "  </tbody>\n",
       "</table>\n",
       "</div>"
      ],
      "text/plain": [
       "               StudyInstanceUID  patient_overall  C1  C2  C3  C4  C5  C6  C7\n",
       "899   1.2.826.0.1.3680043.21059                1   0   0   0   0   0   1   0\n",
       "1652  1.2.826.0.1.3680043.29631                1   0   1   0   0   0   0   0"
      ]
     },
     "execution_count": 5,
     "metadata": {},
     "output_type": "execute_result"
    }
   ],
   "source": [
    "# Carga de dataset de entrenamiento de competencia\n",
    "df_train = pd.read_csv(f'{RSNA_2022_PATH}/train.csv')\n",
    "df_train.sample(2)"
   ]
  },
  {
   "cell_type": "code",
   "execution_count": 6,
   "id": "b92aaae7",
   "metadata": {
    "_cell_guid": "b1076dfc-b9ad-4769-8c92-a6c4dae69d19",
    "_uuid": "8f2839f25d086af736a60e9eeb907d3b93b6e0e5",
    "execution": {
     "iopub.execute_input": "2024-11-04T20:31:47.626503Z",
     "iopub.status.busy": "2024-11-04T20:31:47.626228Z",
     "iopub.status.idle": "2024-11-04T20:31:50.051810Z",
     "shell.execute_reply": "2024-11-04T20:31:50.050791Z"
    },
    "papermill": {
     "duration": 2.447073,
     "end_time": "2024-11-04T20:31:50.054497",
     "exception": false,
     "start_time": "2024-11-04T20:31:47.607424",
     "status": "completed"
    },
    "pycharm": {
     "name": "#%%\n"
    },
    "tags": []
   },
   "outputs": [
    {
     "data": {
      "text/html": [
       "<div>\n",
       "<style scoped>\n",
       "    .dataframe tbody tr th:only-of-type {\n",
       "        vertical-align: middle;\n",
       "    }\n",
       "\n",
       "    .dataframe tbody tr th {\n",
       "        vertical-align: top;\n",
       "    }\n",
       "\n",
       "    .dataframe thead th {\n",
       "        text-align: right;\n",
       "    }\n",
       "</style>\n",
       "<table border=\"1\" class=\"dataframe\">\n",
       "  <thead>\n",
       "    <tr style=\"text-align: right;\">\n",
       "      <th></th>\n",
       "      <th>StudyInstanceUID</th>\n",
       "      <th>C1</th>\n",
       "      <th>C2</th>\n",
       "      <th>C3</th>\n",
       "      <th>C4</th>\n",
       "      <th>C5</th>\n",
       "      <th>C6</th>\n",
       "      <th>C7</th>\n",
       "    </tr>\n",
       "  </thead>\n",
       "  <tbody>\n",
       "    <tr>\n",
       "      <th>675142</th>\n",
       "      <td>1.2.826.0.1.3680043.8391</td>\n",
       "      <td>1</td>\n",
       "      <td>1</td>\n",
       "      <td>0</td>\n",
       "      <td>0</td>\n",
       "      <td>0</td>\n",
       "      <td>0</td>\n",
       "      <td>0</td>\n",
       "    </tr>\n",
       "    <tr>\n",
       "      <th>208220</th>\n",
       "      <td>1.2.826.0.1.3680043.18971</td>\n",
       "      <td>1</td>\n",
       "      <td>1</td>\n",
       "      <td>0</td>\n",
       "      <td>0</td>\n",
       "      <td>0</td>\n",
       "      <td>0</td>\n",
       "      <td>0</td>\n",
       "    </tr>\n",
       "    <tr>\n",
       "      <th>660648</th>\n",
       "      <td>1.2.826.0.1.3680043.772</td>\n",
       "      <td>0</td>\n",
       "      <td>0</td>\n",
       "      <td>0</td>\n",
       "      <td>0</td>\n",
       "      <td>0</td>\n",
       "      <td>0</td>\n",
       "      <td>0</td>\n",
       "    </tr>\n",
       "    <tr>\n",
       "      <th>435204</th>\n",
       "      <td>1.2.826.0.1.3680043.28055</td>\n",
       "      <td>0</td>\n",
       "      <td>0</td>\n",
       "      <td>0</td>\n",
       "      <td>0</td>\n",
       "      <td>0</td>\n",
       "      <td>1</td>\n",
       "      <td>1</td>\n",
       "    </tr>\n",
       "    <tr>\n",
       "      <th>263684</th>\n",
       "      <td>1.2.826.0.1.3680043.21027</td>\n",
       "      <td>0</td>\n",
       "      <td>0</td>\n",
       "      <td>0</td>\n",
       "      <td>0</td>\n",
       "      <td>0</td>\n",
       "      <td>1</td>\n",
       "      <td>1</td>\n",
       "    </tr>\n",
       "  </tbody>\n",
       "</table>\n",
       "</div>"
      ],
      "text/plain": [
       "                 StudyInstanceUID  C1  C2  C3  C4  C5  C6  C7\n",
       "675142   1.2.826.0.1.3680043.8391   1   1   0   0   0   0   0\n",
       "208220  1.2.826.0.1.3680043.18971   1   1   0   0   0   0   0\n",
       "660648    1.2.826.0.1.3680043.772   0   0   0   0   0   0   0\n",
       "435204  1.2.826.0.1.3680043.28055   0   0   0   0   0   1   1\n",
       "263684  1.2.826.0.1.3680043.21027   0   0   0   0   0   1   1"
      ]
     },
     "metadata": {},
     "output_type": "display_data"
    }
   ],
   "source": [
    "# Metadatos de corte de tomografia generados con la inferencia de vertebras\n",
    "# Contiene las probabilidades de cada vertebra cervical C1-C7 presente en la imagen\n",
    "# El modelo final genero una precision del 95%\n",
    "df_train_slices = pd.read_csv(f'{METADATA_PATH}/vertebrae_metadataEffNet.csv')\n",
    "c1c7 = [f'C{i}' for i in range(1, 8)]\n",
    "df_train_slices[c1c7] = (df_train_slices[c1c7] > 0.5).astype(int)\n",
    "display(df_train_slices.sample(5)[['StudyInstanceUID', 'C1', 'C2', 'C3', 'C4', 'C5', 'C6', 'C7']])"
   ]
  },
  {
   "cell_type": "markdown",
   "id": "81ee2962",
   "metadata": {
    "papermill": {
     "duration": 0.018051,
     "end_time": "2024-11-04T20:31:50.092146",
     "exception": false,
     "start_time": "2024-11-04T20:31:50.074095",
     "status": "completed"
    },
    "tags": []
   },
   "source": [
    "El estudio con ID `1.2.826.0.1.3680043.20574` se eliminara del conjunto de datos debido a que no tiene un escaneo cervical completo.\n",
    "\n",
    "Discusion de Kaggle con detalles - https://www.kaggle.com/competitions/rsna-2022-cervical-spine-fracture-detection/discussion/344862"
   ]
  },
  {
   "cell_type": "code",
   "execution_count": 7,
   "id": "e39c5bac",
   "metadata": {
    "execution": {
     "iopub.execute_input": "2024-11-04T20:31:50.129857Z",
     "iopub.status.busy": "2024-11-04T20:31:50.129090Z",
     "iopub.status.idle": "2024-11-04T20:31:50.828921Z",
     "shell.execute_reply": "2024-11-04T20:31:50.827790Z"
    },
    "papermill": {
     "duration": 0.72115,
     "end_time": "2024-11-04T20:31:50.831177",
     "exception": false,
     "start_time": "2024-11-04T20:31:50.110027",
     "status": "completed"
    },
    "pycharm": {
     "name": "#%%\n"
    },
    "tags": []
   },
   "outputs": [
    {
     "data": {
      "text/html": [
       "<div>\n",
       "<style scoped>\n",
       "    .dataframe tbody tr th:only-of-type {\n",
       "        vertical-align: middle;\n",
       "    }\n",
       "\n",
       "    .dataframe tbody tr th {\n",
       "        vertical-align: top;\n",
       "    }\n",
       "\n",
       "    .dataframe thead th {\n",
       "        text-align: right;\n",
       "    }\n",
       "</style>\n",
       "<table border=\"1\" class=\"dataframe\">\n",
       "  <thead>\n",
       "    <tr style=\"text-align: right;\">\n",
       "      <th></th>\n",
       "      <th>StudyInstanceUID</th>\n",
       "      <th>Slice</th>\n",
       "      <th>ImageHeight</th>\n",
       "      <th>ImageWidth</th>\n",
       "      <th>SliceThickness</th>\n",
       "      <th>ImagePositionPatient_x</th>\n",
       "      <th>ImagePositionPatient_y</th>\n",
       "      <th>ImagePositionPatient_z</th>\n",
       "      <th>C1</th>\n",
       "      <th>C2</th>\n",
       "      <th>C3</th>\n",
       "      <th>C4</th>\n",
       "      <th>C5</th>\n",
       "      <th>C6</th>\n",
       "      <th>C7</th>\n",
       "      <th>patient_overall</th>\n",
       "      <th>C1_fracture</th>\n",
       "      <th>C2_fracture</th>\n",
       "      <th>C3_fracture</th>\n",
       "      <th>C4_fracture</th>\n",
       "      <th>C5_fracture</th>\n",
       "      <th>C6_fracture</th>\n",
       "      <th>C7_fracture</th>\n",
       "    </tr>\n",
       "  </thead>\n",
       "  <tbody>\n",
       "    <tr>\n",
       "      <th>636768</th>\n",
       "      <td>1.2.826.0.1.3680043.6774</td>\n",
       "      <td>214</td>\n",
       "      <td>512</td>\n",
       "      <td>512</td>\n",
       "      <td>0.625</td>\n",
       "      <td>-103.1</td>\n",
       "      <td>-76.2</td>\n",
       "      <td>-102.375</td>\n",
       "      <td>0</td>\n",
       "      <td>0</td>\n",
       "      <td>0</td>\n",
       "      <td>0</td>\n",
       "      <td>1</td>\n",
       "      <td>1</td>\n",
       "      <td>1</td>\n",
       "      <td>1</td>\n",
       "      <td>0</td>\n",
       "      <td>1</td>\n",
       "      <td>0</td>\n",
       "      <td>0</td>\n",
       "      <td>0</td>\n",
       "      <td>0</td>\n",
       "      <td>0</td>\n",
       "    </tr>\n",
       "    <tr>\n",
       "      <th>100871</th>\n",
       "      <td>1.2.826.0.1.3680043.14405</td>\n",
       "      <td>317</td>\n",
       "      <td>512</td>\n",
       "      <td>512</td>\n",
       "      <td>0.625</td>\n",
       "      <td>-94.5</td>\n",
       "      <td>-109.7</td>\n",
       "      <td>-7.000</td>\n",
       "      <td>0</td>\n",
       "      <td>0</td>\n",
       "      <td>0</td>\n",
       "      <td>0</td>\n",
       "      <td>0</td>\n",
       "      <td>0</td>\n",
       "      <td>0</td>\n",
       "      <td>1</td>\n",
       "      <td>0</td>\n",
       "      <td>0</td>\n",
       "      <td>0</td>\n",
       "      <td>0</td>\n",
       "      <td>0</td>\n",
       "      <td>0</td>\n",
       "      <td>1</td>\n",
       "    </tr>\n",
       "  </tbody>\n",
       "</table>\n",
       "</div>"
      ],
      "text/plain": [
       "                 StudyInstanceUID  Slice  ImageHeight  ImageWidth  \\\n",
       "636768   1.2.826.0.1.3680043.6774    214          512         512   \n",
       "100871  1.2.826.0.1.3680043.14405    317          512         512   \n",
       "\n",
       "        SliceThickness  ImagePositionPatient_x  ImagePositionPatient_y  \\\n",
       "636768           0.625                  -103.1                   -76.2   \n",
       "100871           0.625                   -94.5                  -109.7   \n",
       "\n",
       "        ImagePositionPatient_z  C1  C2  C3  C4  C5  C6  C7  patient_overall  \\\n",
       "636768                -102.375   0   0   0   0   1   1   1                1   \n",
       "100871                  -7.000   0   0   0   0   0   0   0                1   \n",
       "\n",
       "        C1_fracture  C2_fracture  C3_fracture  C4_fracture  C5_fracture  \\\n",
       "636768            0            1            0            0            0   \n",
       "100871            0            0            0            0            0   \n",
       "\n",
       "        C6_fracture  C7_fracture  \n",
       "636768            0            0  \n",
       "100871            0            1  "
      ]
     },
     "execution_count": 7,
     "metadata": {},
     "output_type": "execute_result"
    }
   ],
   "source": [
    "# Combinacion de Metadatos y Datos\n",
    "df_train = df_train_slices.set_index('StudyInstanceUID').join(df_train.set_index('StudyInstanceUID'),\n",
    "                                                              rsuffix='_fracture').reset_index().copy()\n",
    "# Eliminacion de estudio incompleto\n",
    "df_train = df_train.query('StudyInstanceUID != \"1.2.826.0.1.3680043.20574\"').reset_index(drop=True)\n",
    "df_train.sample(2)"
   ]
  },
  {
   "cell_type": "markdown",
   "id": "dcad001f",
   "metadata": {
    "papermill": {
     "duration": 0.021558,
     "end_time": "2024-11-04T20:31:50.873663",
     "exception": false,
     "start_time": "2024-11-04T20:31:50.852105",
     "status": "completed"
    },
    "tags": []
   },
   "source": [
    "### Split de Datos con Folds"
   ]
  },
  {
   "cell_type": "code",
   "execution_count": 8,
   "id": "21532e75",
   "metadata": {
    "execution": {
     "iopub.execute_input": "2024-11-04T20:31:50.913904Z",
     "iopub.status.busy": "2024-11-04T20:31:50.913580Z",
     "iopub.status.idle": "2024-11-04T20:31:51.745711Z",
     "shell.execute_reply": "2024-11-04T20:31:51.744666Z"
    },
    "papermill": {
     "duration": 0.855101,
     "end_time": "2024-11-04T20:31:51.748399",
     "exception": false,
     "start_time": "2024-11-04T20:31:50.893298",
     "status": "completed"
    },
    "pycharm": {
     "name": "#%%\n"
    },
    "tags": []
   },
   "outputs": [
    {
     "data": {
      "text/html": [
       "<div>\n",
       "<style scoped>\n",
       "    .dataframe tbody tr th:only-of-type {\n",
       "        vertical-align: middle;\n",
       "    }\n",
       "\n",
       "    .dataframe tbody tr th {\n",
       "        vertical-align: top;\n",
       "    }\n",
       "\n",
       "    .dataframe thead th {\n",
       "        text-align: right;\n",
       "    }\n",
       "</style>\n",
       "<table border=\"1\" class=\"dataframe\">\n",
       "  <thead>\n",
       "    <tr style=\"text-align: right;\">\n",
       "      <th></th>\n",
       "      <th>StudyInstanceUID</th>\n",
       "      <th>Slice</th>\n",
       "      <th>ImageHeight</th>\n",
       "      <th>ImageWidth</th>\n",
       "      <th>SliceThickness</th>\n",
       "      <th>ImagePositionPatient_x</th>\n",
       "      <th>ImagePositionPatient_y</th>\n",
       "      <th>ImagePositionPatient_z</th>\n",
       "      <th>C1</th>\n",
       "      <th>C2</th>\n",
       "      <th>C3</th>\n",
       "      <th>C4</th>\n",
       "      <th>C5</th>\n",
       "      <th>C6</th>\n",
       "      <th>C7</th>\n",
       "      <th>patient_overall</th>\n",
       "      <th>C1_fracture</th>\n",
       "      <th>C2_fracture</th>\n",
       "      <th>C3_fracture</th>\n",
       "      <th>C4_fracture</th>\n",
       "      <th>C5_fracture</th>\n",
       "      <th>C6_fracture</th>\n",
       "      <th>C7_fracture</th>\n",
       "      <th>split</th>\n",
       "    </tr>\n",
       "  </thead>\n",
       "  <tbody>\n",
       "    <tr>\n",
       "      <th>298915</th>\n",
       "      <td>1.2.826.0.1.3680043.22438</td>\n",
       "      <td>210</td>\n",
       "      <td>512</td>\n",
       "      <td>512</td>\n",
       "      <td>0.5</td>\n",
       "      <td>-144.2279</td>\n",
       "      <td>-67.07954</td>\n",
       "      <td>1740.1</td>\n",
       "      <td>0</td>\n",
       "      <td>0</td>\n",
       "      <td>0</td>\n",
       "      <td>0</td>\n",
       "      <td>1</td>\n",
       "      <td>1</td>\n",
       "      <td>1</td>\n",
       "      <td>1</td>\n",
       "      <td>0</td>\n",
       "      <td>0</td>\n",
       "      <td>0</td>\n",
       "      <td>0</td>\n",
       "      <td>0</td>\n",
       "      <td>1</td>\n",
       "      <td>1</td>\n",
       "      <td>4.0</td>\n",
       "    </tr>\n",
       "    <tr>\n",
       "      <th>621920</th>\n",
       "      <td>1.2.826.0.1.3680043.6318</td>\n",
       "      <td>221</td>\n",
       "      <td>512</td>\n",
       "      <td>512</td>\n",
       "      <td>1.0</td>\n",
       "      <td>-108.5590</td>\n",
       "      <td>-101.68450</td>\n",
       "      <td>-290.5</td>\n",
       "      <td>0</td>\n",
       "      <td>0</td>\n",
       "      <td>0</td>\n",
       "      <td>0</td>\n",
       "      <td>0</td>\n",
       "      <td>0</td>\n",
       "      <td>0</td>\n",
       "      <td>1</td>\n",
       "      <td>0</td>\n",
       "      <td>0</td>\n",
       "      <td>0</td>\n",
       "      <td>0</td>\n",
       "      <td>0</td>\n",
       "      <td>1</td>\n",
       "      <td>1</td>\n",
       "      <td>2.0</td>\n",
       "    </tr>\n",
       "  </tbody>\n",
       "</table>\n",
       "</div>"
      ],
      "text/plain": [
       "                 StudyInstanceUID  Slice  ImageHeight  ImageWidth  \\\n",
       "298915  1.2.826.0.1.3680043.22438    210          512         512   \n",
       "621920   1.2.826.0.1.3680043.6318    221          512         512   \n",
       "\n",
       "        SliceThickness  ImagePositionPatient_x  ImagePositionPatient_y  \\\n",
       "298915             0.5               -144.2279               -67.07954   \n",
       "621920             1.0               -108.5590              -101.68450   \n",
       "\n",
       "        ImagePositionPatient_z  C1  C2  C3  C4  C5  C6  C7  patient_overall  \\\n",
       "298915                  1740.1   0   0   0   0   1   1   1                1   \n",
       "621920                  -290.5   0   0   0   0   0   0   0                1   \n",
       "\n",
       "        C1_fracture  C2_fracture  C3_fracture  C4_fracture  C5_fracture  \\\n",
       "298915            0            0            0            0            0   \n",
       "621920            0            0            0            0            0   \n",
       "\n",
       "        C6_fracture  C7_fracture  split  \n",
       "298915            1            1    4.0  \n",
       "621920            1            1    2.0  "
      ]
     },
     "execution_count": 8,
     "metadata": {},
     "output_type": "execute_result"
    }
   ],
   "source": [
    "split = GroupKFold(N_FOLDS)\n",
    "for k, (_, test_idx) in enumerate(split.split(df_train, groups=df_train.StudyInstanceUID)):\n",
    "    df_train.loc[test_idx, 'split'] = k\n",
    "df_train.sample(2)"
   ]
  },
  {
   "cell_type": "markdown",
   "id": "9e26832d",
   "metadata": {
    "papermill": {
     "duration": 0.018798,
     "end_time": "2024-11-04T20:31:51.787159",
     "exception": false,
     "start_time": "2024-11-04T20:31:51.768361",
     "status": "completed"
    },
    "tags": []
   },
   "source": [
    "## Carga de Conjunto de Prueba"
   ]
  },
  {
   "cell_type": "markdown",
   "id": "6aaf8e25",
   "metadata": {
    "papermill": {
     "duration": 0.018277,
     "end_time": "2024-11-04T20:31:51.824274",
     "exception": false,
     "start_time": "2024-11-04T20:31:51.805997",
     "status": "completed"
    },
    "tags": []
   },
   "source": [
    "- Se cargan los dataset de entrenamiento de la competencia `test.csv`"
   ]
  },
  {
   "cell_type": "code",
   "execution_count": 9,
   "id": "7814b866",
   "metadata": {
    "execution": {
     "iopub.execute_input": "2024-11-04T20:31:51.863492Z",
     "iopub.status.busy": "2024-11-04T20:31:51.862675Z",
     "iopub.status.idle": "2024-11-04T20:31:51.882722Z",
     "shell.execute_reply": "2024-11-04T20:31:51.881792Z"
    },
    "papermill": {
     "duration": 0.042095,
     "end_time": "2024-11-04T20:31:51.884974",
     "exception": false,
     "start_time": "2024-11-04T20:31:51.842879",
     "status": "completed"
    },
    "pycharm": {
     "name": "#%%\n"
    },
    "tags": []
   },
   "outputs": [
    {
     "data": {
      "text/html": [
       "<div>\n",
       "<style scoped>\n",
       "    .dataframe tbody tr th:only-of-type {\n",
       "        vertical-align: middle;\n",
       "    }\n",
       "\n",
       "    .dataframe tbody tr th {\n",
       "        vertical-align: top;\n",
       "    }\n",
       "\n",
       "    .dataframe thead th {\n",
       "        text-align: right;\n",
       "    }\n",
       "</style>\n",
       "<table border=\"1\" class=\"dataframe\">\n",
       "  <thead>\n",
       "    <tr style=\"text-align: right;\">\n",
       "      <th></th>\n",
       "      <th>row_id</th>\n",
       "      <th>StudyInstanceUID</th>\n",
       "      <th>prediction_type</th>\n",
       "    </tr>\n",
       "  </thead>\n",
       "  <tbody>\n",
       "    <tr>\n",
       "      <th>0</th>\n",
       "      <td>1.2.826.0.1.3680043.22327_C1</td>\n",
       "      <td>1.2.826.0.1.3680043.22327</td>\n",
       "      <td>C1</td>\n",
       "    </tr>\n",
       "    <tr>\n",
       "      <th>1</th>\n",
       "      <td>1.2.826.0.1.3680043.25399_C1</td>\n",
       "      <td>1.2.826.0.1.3680043.25399</td>\n",
       "      <td>C1</td>\n",
       "    </tr>\n",
       "    <tr>\n",
       "      <th>2</th>\n",
       "      <td>1.2.826.0.1.3680043.5876_C1</td>\n",
       "      <td>1.2.826.0.1.3680043.5876</td>\n",
       "      <td>patient_overall</td>\n",
       "    </tr>\n",
       "  </tbody>\n",
       "</table>\n",
       "</div>"
      ],
      "text/plain": [
       "                         row_id           StudyInstanceUID  prediction_type\n",
       "0  1.2.826.0.1.3680043.22327_C1  1.2.826.0.1.3680043.22327               C1\n",
       "1  1.2.826.0.1.3680043.25399_C1  1.2.826.0.1.3680043.25399               C1\n",
       "2   1.2.826.0.1.3680043.5876_C1   1.2.826.0.1.3680043.5876  patient_overall"
      ]
     },
     "metadata": {},
     "output_type": "display_data"
    }
   ],
   "source": [
    "df_test = pd.read_csv(f'{RSNA_2022_PATH}/test.csv')\n",
    "\n",
    "if df_test.iloc[0].row_id == '1.2.826.0.1.3680043.10197_C1':\n",
    "    # Las labels son inconsistentes entre las imagenes y el conjunto de entrenamiento\n",
    "    df_test = pd.DataFrame({\n",
    "        \"row_id\": ['1.2.826.0.1.3680043.22327_C1', '1.2.826.0.1.3680043.25399_C1', '1.2.826.0.1.3680043.5876_C1'],\n",
    "        \"StudyInstanceUID\": ['1.2.826.0.1.3680043.22327', '1.2.826.0.1.3680043.25399', '1.2.826.0.1.3680043.5876'],\n",
    "        \"prediction_type\": [\"C1\", \"C1\", \"patient_overall\"]}\n",
    "    )\n",
    "\n",
    "display(df_test)"
   ]
  },
  {
   "cell_type": "code",
   "execution_count": 10,
   "id": "2e80c9eb",
   "metadata": {
    "execution": {
     "iopub.execute_input": "2024-11-04T20:31:51.923506Z",
     "iopub.status.busy": "2024-11-04T20:31:51.923220Z",
     "iopub.status.idle": "2024-11-04T20:31:52.615024Z",
     "shell.execute_reply": "2024-11-04T20:31:52.614005Z"
    },
    "papermill": {
     "duration": 0.713813,
     "end_time": "2024-11-04T20:31:52.617457",
     "exception": false,
     "start_time": "2024-11-04T20:31:51.903644",
     "status": "completed"
    },
    "pycharm": {
     "name": "#%%\n"
    },
    "tags": []
   },
   "outputs": [
    {
     "data": {
      "text/html": [
       "<div>\n",
       "<style scoped>\n",
       "    .dataframe tbody tr th:only-of-type {\n",
       "        vertical-align: middle;\n",
       "    }\n",
       "\n",
       "    .dataframe tbody tr th {\n",
       "        vertical-align: top;\n",
       "    }\n",
       "\n",
       "    .dataframe thead th {\n",
       "        text-align: right;\n",
       "    }\n",
       "</style>\n",
       "<table border=\"1\" class=\"dataframe\">\n",
       "  <thead>\n",
       "    <tr style=\"text-align: right;\">\n",
       "      <th></th>\n",
       "      <th>StudyInstanceUID</th>\n",
       "      <th>Slice</th>\n",
       "    </tr>\n",
       "  </thead>\n",
       "  <tbody>\n",
       "    <tr>\n",
       "      <th>1300</th>\n",
       "      <td>1.2.826.0.1.3680043.5876</td>\n",
       "      <td>418</td>\n",
       "    </tr>\n",
       "    <tr>\n",
       "      <th>1208</th>\n",
       "      <td>1.2.826.0.1.3680043.5876</td>\n",
       "      <td>99</td>\n",
       "    </tr>\n",
       "  </tbody>\n",
       "</table>\n",
       "</div>"
      ],
      "text/plain": [
       "              StudyInstanceUID Slice\n",
       "1300  1.2.826.0.1.3680043.5876   418\n",
       "1208  1.2.826.0.1.3680043.5876    99"
      ]
     },
     "execution_count": 10,
     "metadata": {},
     "output_type": "execute_result"
    }
   ],
   "source": [
    "test_slices = glob.glob(f'{TEST_IMAGES_PATH}/*/*')\n",
    "test_slices = [re.findall(f'{TEST_IMAGES_PATH}/(.*)/(.*).dcm', s)[0] for s in test_slices]\n",
    "df_test_slices = pd.DataFrame(data=test_slices, columns=['StudyInstanceUID', 'Slice'])\n",
    "df_test_slices.sample(2)"
   ]
  },
  {
   "cell_type": "code",
   "execution_count": 11,
   "id": "f7c07138",
   "metadata": {
    "execution": {
     "iopub.execute_input": "2024-11-04T20:31:52.657955Z",
     "iopub.status.busy": "2024-11-04T20:31:52.657571Z",
     "iopub.status.idle": "2024-11-04T20:31:52.676116Z",
     "shell.execute_reply": "2024-11-04T20:31:52.675147Z"
    },
    "papermill": {
     "duration": 0.041277,
     "end_time": "2024-11-04T20:31:52.678284",
     "exception": false,
     "start_time": "2024-11-04T20:31:52.637007",
     "status": "completed"
    },
    "pycharm": {
     "name": "#%%\n"
    },
    "tags": []
   },
   "outputs": [
    {
     "data": {
      "text/html": [
       "<div>\n",
       "<style scoped>\n",
       "    .dataframe tbody tr th:only-of-type {\n",
       "        vertical-align: middle;\n",
       "    }\n",
       "\n",
       "    .dataframe tbody tr th {\n",
       "        vertical-align: top;\n",
       "    }\n",
       "\n",
       "    .dataframe thead th {\n",
       "        text-align: right;\n",
       "    }\n",
       "</style>\n",
       "<table border=\"1\" class=\"dataframe\">\n",
       "  <thead>\n",
       "    <tr style=\"text-align: right;\">\n",
       "      <th></th>\n",
       "      <th>StudyInstanceUID</th>\n",
       "      <th>row_id</th>\n",
       "      <th>prediction_type</th>\n",
       "      <th>Slice</th>\n",
       "    </tr>\n",
       "  </thead>\n",
       "  <tbody>\n",
       "    <tr>\n",
       "      <th>890</th>\n",
       "      <td>1.2.826.0.1.3680043.5876</td>\n",
       "      <td>1.2.826.0.1.3680043.5876_C1</td>\n",
       "      <td>patient_overall</td>\n",
       "      <td>124</td>\n",
       "    </tr>\n",
       "    <tr>\n",
       "      <th>667</th>\n",
       "      <td>1.2.826.0.1.3680043.25399</td>\n",
       "      <td>1.2.826.0.1.3680043.25399_C1</td>\n",
       "      <td>C1</td>\n",
       "      <td>485</td>\n",
       "    </tr>\n",
       "  </tbody>\n",
       "</table>\n",
       "</div>"
      ],
      "text/plain": [
       "              StudyInstanceUID                        row_id  prediction_type  \\\n",
       "890   1.2.826.0.1.3680043.5876   1.2.826.0.1.3680043.5876_C1  patient_overall   \n",
       "667  1.2.826.0.1.3680043.25399  1.2.826.0.1.3680043.25399_C1               C1   \n",
       "\n",
       "    Slice  \n",
       "890   124  \n",
       "667   485  "
      ]
     },
     "execution_count": 11,
     "metadata": {},
     "output_type": "execute_result"
    }
   ],
   "source": [
    "# Unificacion de datos y metadatos asociados\n",
    "df_test = df_test.set_index('StudyInstanceUID').join(df_test_slices.set_index('StudyInstanceUID')).reset_index()\n",
    "df_test.sample(2)"
   ]
  },
  {
   "cell_type": "code",
   "execution_count": 12,
   "id": "37b891ff",
   "metadata": {
    "execution": {
     "iopub.execute_input": "2024-11-04T20:31:52.717654Z",
     "iopub.status.busy": "2024-11-04T20:31:52.717331Z",
     "iopub.status.idle": "2024-11-04T20:31:52.724235Z",
     "shell.execute_reply": "2024-11-04T20:31:52.723328Z"
    },
    "papermill": {
     "duration": 0.028767,
     "end_time": "2024-11-04T20:31:52.726272",
     "exception": false,
     "start_time": "2024-11-04T20:31:52.697505",
     "status": "completed"
    },
    "pycharm": {
     "name": "#%%\n"
    },
    "tags": []
   },
   "outputs": [],
   "source": [
    "def load_dicom(path):\n",
    "    \"\"\"\n",
    "    Carga una imagen DICOM y la convierte a RGB.\n",
    "\n",
    "    Args:\n",
    "        path (str): Ruta de la imagen DICOM.\n",
    "    \n",
    "    Returns:\n",
    "        img (np.array): Imagen RGB.\n",
    "        img (pydicom.dataset.FileDataset): Objeto DICOM.\n",
    "    \"\"\"\n",
    "    img = dicom.dcmread(path)\n",
    "    img.PhotometricInterpretation = 'YBR_FULL'\n",
    "    data = img.pixel_array\n",
    "    data = data - np.min(data)\n",
    "    if np.max(data) != 0:\n",
    "        data = data / np.max(data)\n",
    "    data = (data * 255).astype(np.uint8)\n",
    "    return cv2.cvtColor(data, cv2.COLOR_GRAY2RGB), img"
   ]
  },
  {
   "cell_type": "markdown",
   "id": "72ead65f",
   "metadata": {
    "papermill": {
     "duration": 0.018784,
     "end_time": "2024-11-04T20:31:52.764037",
     "exception": false,
     "start_time": "2024-11-04T20:31:52.745253",
     "status": "completed"
    },
    "tags": []
   },
   "source": [
    "## Clase Dataset para PyTorch"
   ]
  },
  {
   "cell_type": "markdown",
   "id": "a8f8aa78",
   "metadata": {
    "papermill": {
     "duration": 0.018942,
     "end_time": "2024-11-04T20:31:52.802192",
     "exception": false,
     "start_time": "2024-11-04T20:31:52.783250",
     "status": "completed"
    },
    "tags": []
   },
   "source": [
    "La clase `EffnetDataSet` devuelve imágenes de cortes individuales. Usa un parámetro `df` (dataframe) como fuente de metadatos de los cortes para localizar y cargar las imágenes desde una carpeta de rutas. Acepta el parámetro `transforms`, que configuramos con `WEIGHTS.transforms()`. Este conjunto de transformaciones fue utilizado para pre-entrenar el modelo en el conjunto de datos ImageNet."
   ]
  },
  {
   "cell_type": "code",
   "execution_count": 13,
   "id": "eb8973b2",
   "metadata": {
    "execution": {
     "iopub.execute_input": "2024-11-04T20:31:52.842282Z",
     "iopub.status.busy": "2024-11-04T20:31:52.841405Z",
     "iopub.status.idle": "2024-11-04T20:31:52.853946Z",
     "shell.execute_reply": "2024-11-04T20:31:52.853012Z"
    },
    "papermill": {
     "duration": 0.034783,
     "end_time": "2024-11-04T20:31:52.855968",
     "exception": false,
     "start_time": "2024-11-04T20:31:52.821185",
     "status": "completed"
    },
    "pycharm": {
     "name": "#%%\n"
    },
    "tags": []
   },
   "outputs": [],
   "source": [
    "class EffnetDataSet(torch.utils.data.Dataset):\n",
    "    \"\"\"\n",
    "    Clase para cargar las imágenes de un dataframe con las columnas 'StudyInstanceUID' y 'Slice' y los targets de fracturas\n",
    "    y vertebras. Se puede pasar un objeto de la clase 'torchvision.transforms' para aplicar transformaciones a las imágenes.\n",
    "\n",
    "    Args:\n",
    "        df (pd.DataFrame): Dataframe con las columnas 'StudyInstanceUID' y 'Slice' y los targets de fracturas y vertebras.\n",
    "        path (str): Ruta donde se encuentran las imágenes.\n",
    "        transforms (torchvision.transforms): Transformaciones a aplicar a las imágenes. (default: None)\n",
    "\n",
    "    Returns:\n",
    "        img (torch.Tensor): Imagen en formato tensor.\n",
    "        frac_targets (torch.Tensor): Targets de fracturas.\n",
    "        vert_targets (torch.Tensor): Targets de vertebras.\n",
    "    \"\"\"\n",
    "    def __init__(self, df, path, transforms=None):\n",
    "        super().__init__()\n",
    "        self.df = df\n",
    "        self.path = path\n",
    "        self.transforms = transforms\n",
    "\n",
    "    def __getitem__(self, i):\n",
    "        path = os.path.join(self.path, self.df.iloc[i].StudyInstanceUID, f'{self.df.iloc[i].Slice}.dcm')\n",
    "\n",
    "        try:\n",
    "            img = load_dicom(path)[0]\n",
    "            # Pytorch usa el orden (batch, channel, height, width). Convertimos (height, width, channel) -> (channel, height, width)\n",
    "            img = np.transpose(img, (2, 0, 1))\n",
    "            if self.transforms is not None:\n",
    "                img = self.transforms(torch.as_tensor(img))\n",
    "\n",
    "        except Exception as ex:\n",
    "            print(ex)\n",
    "            return None\n",
    "\n",
    "        # Si se detecta una fractura, se devuelven los targets\n",
    "        if 'C1_fracture' in self.df:\n",
    "            frac_targets = torch.as_tensor(self.df.iloc[i][['C1_fracture', 'C2_fracture', 'C3_fracture', 'C4_fracture',\n",
    "                                                            'C5_fracture', 'C6_fracture', 'C7_fracture']].astype(\n",
    "                'float32').values)\n",
    "            # Targets de las vertebras\n",
    "            vert_targets = torch.as_tensor(\n",
    "                self.df.iloc[i][['C1', 'C2', 'C3', 'C4', 'C5', 'C6', 'C7']].astype('float32').values)\n",
    "            frac_targets = frac_targets * vert_targets  # Solo se activan los targets que son visibles en la imagen actual\n",
    "            return img, frac_targets, vert_targets\n",
    "        return img\n",
    "\n",
    "    def __len__(self):\n",
    "        return len(self.df)"
   ]
  },
  {
   "cell_type": "code",
   "execution_count": 14,
   "id": "6796314e",
   "metadata": {
    "execution": {
     "iopub.execute_input": "2024-11-04T20:31:52.894945Z",
     "iopub.status.busy": "2024-11-04T20:31:52.894462Z",
     "iopub.status.idle": "2024-11-04T20:31:52.960513Z",
     "shell.execute_reply": "2024-11-04T20:31:52.959513Z"
    },
    "papermill": {
     "duration": 0.087771,
     "end_time": "2024-11-04T20:31:52.962629",
     "exception": false,
     "start_time": "2024-11-04T20:31:52.874858",
     "status": "completed"
    },
    "pycharm": {
     "name": "#%%\n"
    },
    "tags": []
   },
   "outputs": [
    {
     "name": "stdout",
     "output_type": "stream",
     "text": [
      "torch.Size([3, 384, 384]) torch.Size([7]) torch.Size([7])\n"
     ]
    }
   ],
   "source": [
    "# Generar un dataset de prueba\n",
    "ds_train = EffnetDataSet(df_train, TRAIN_IMAGES_PATH, WEIGHTS.transforms())\n",
    "X, y_frac, y_vert = ds_train[42]\n",
    "print(X.shape, y_frac.shape, y_vert.shape)"
   ]
  },
  {
   "cell_type": "code",
   "execution_count": 15,
   "id": "2c3629f4",
   "metadata": {
    "execution": {
     "iopub.execute_input": "2024-11-04T20:31:53.004230Z",
     "iopub.status.busy": "2024-11-04T20:31:53.003939Z",
     "iopub.status.idle": "2024-11-04T20:32:13.419628Z",
     "shell.execute_reply": "2024-11-04T20:32:13.418648Z"
    },
    "papermill": {
     "duration": 20.438619,
     "end_time": "2024-11-04T20:32:13.422156",
     "exception": false,
     "start_time": "2024-11-04T20:31:52.983537",
     "status": "completed"
    },
    "pycharm": {
     "name": "#%%\n"
    },
    "tags": []
   },
   "outputs": [
    {
     "data": {
      "text/html": [
       "<div>\n",
       "<style scoped>\n",
       "    .dataframe tbody tr th:only-of-type {\n",
       "        vertical-align: middle;\n",
       "    }\n",
       "\n",
       "    .dataframe tbody tr th {\n",
       "        vertical-align: top;\n",
       "    }\n",
       "\n",
       "    .dataframe thead th {\n",
       "        text-align: right;\n",
       "    }\n",
       "</style>\n",
       "<table border=\"1\" class=\"dataframe\">\n",
       "  <thead>\n",
       "    <tr style=\"text-align: right;\">\n",
       "      <th></th>\n",
       "      <th>StudyInstanceUID</th>\n",
       "      <th>Slice</th>\n",
       "      <th>ImageHeight</th>\n",
       "      <th>ImageWidth</th>\n",
       "      <th>SliceThickness</th>\n",
       "      <th>ImagePositionPatient_x</th>\n",
       "      <th>ImagePositionPatient_y</th>\n",
       "      <th>ImagePositionPatient_z</th>\n",
       "      <th>C1</th>\n",
       "      <th>C2</th>\n",
       "      <th>C3</th>\n",
       "      <th>C4</th>\n",
       "      <th>C5</th>\n",
       "      <th>C6</th>\n",
       "      <th>C7</th>\n",
       "      <th>patient_overall</th>\n",
       "      <th>C1_fracture</th>\n",
       "      <th>C2_fracture</th>\n",
       "      <th>C3_fracture</th>\n",
       "      <th>C4_fracture</th>\n",
       "      <th>C5_fracture</th>\n",
       "      <th>C6_fracture</th>\n",
       "      <th>C7_fracture</th>\n",
       "      <th>split</th>\n",
       "    </tr>\n",
       "  </thead>\n",
       "  <tbody>\n",
       "    <tr>\n",
       "      <th>375339</th>\n",
       "      <td>1.2.826.0.1.3680043.25515</td>\n",
       "      <td>1</td>\n",
       "      <td>512</td>\n",
       "      <td>512</td>\n",
       "      <td>1.0</td>\n",
       "      <td>-147.235</td>\n",
       "      <td>-129.1101</td>\n",
       "      <td>-141.5</td>\n",
       "      <td>0</td>\n",
       "      <td>0</td>\n",
       "      <td>0</td>\n",
       "      <td>0</td>\n",
       "      <td>0</td>\n",
       "      <td>0</td>\n",
       "      <td>0</td>\n",
       "      <td>1</td>\n",
       "      <td>0</td>\n",
       "      <td>0</td>\n",
       "      <td>0</td>\n",
       "      <td>0</td>\n",
       "      <td>0</td>\n",
       "      <td>0</td>\n",
       "      <td>1</td>\n",
       "      <td>4.0</td>\n",
       "    </tr>\n",
       "    <tr>\n",
       "      <th>375340</th>\n",
       "      <td>1.2.826.0.1.3680043.25515</td>\n",
       "      <td>2</td>\n",
       "      <td>512</td>\n",
       "      <td>512</td>\n",
       "      <td>1.0</td>\n",
       "      <td>-147.235</td>\n",
       "      <td>-129.1101</td>\n",
       "      <td>-142.3</td>\n",
       "      <td>0</td>\n",
       "      <td>0</td>\n",
       "      <td>0</td>\n",
       "      <td>0</td>\n",
       "      <td>0</td>\n",
       "      <td>0</td>\n",
       "      <td>0</td>\n",
       "      <td>1</td>\n",
       "      <td>0</td>\n",
       "      <td>0</td>\n",
       "      <td>0</td>\n",
       "      <td>0</td>\n",
       "      <td>0</td>\n",
       "      <td>0</td>\n",
       "      <td>1</td>\n",
       "      <td>4.0</td>\n",
       "    </tr>\n",
       "    <tr>\n",
       "      <th>375341</th>\n",
       "      <td>1.2.826.0.1.3680043.25515</td>\n",
       "      <td>3</td>\n",
       "      <td>512</td>\n",
       "      <td>512</td>\n",
       "      <td>1.0</td>\n",
       "      <td>-147.235</td>\n",
       "      <td>-129.1101</td>\n",
       "      <td>-143.1</td>\n",
       "      <td>0</td>\n",
       "      <td>0</td>\n",
       "      <td>0</td>\n",
       "      <td>0</td>\n",
       "      <td>0</td>\n",
       "      <td>0</td>\n",
       "      <td>0</td>\n",
       "      <td>1</td>\n",
       "      <td>0</td>\n",
       "      <td>0</td>\n",
       "      <td>0</td>\n",
       "      <td>0</td>\n",
       "      <td>0</td>\n",
       "      <td>0</td>\n",
       "      <td>1</td>\n",
       "      <td>4.0</td>\n",
       "    </tr>\n",
       "    <tr>\n",
       "      <th>375342</th>\n",
       "      <td>1.2.826.0.1.3680043.25515</td>\n",
       "      <td>4</td>\n",
       "      <td>512</td>\n",
       "      <td>512</td>\n",
       "      <td>1.0</td>\n",
       "      <td>-147.235</td>\n",
       "      <td>-129.1101</td>\n",
       "      <td>-143.9</td>\n",
       "      <td>0</td>\n",
       "      <td>0</td>\n",
       "      <td>0</td>\n",
       "      <td>0</td>\n",
       "      <td>0</td>\n",
       "      <td>0</td>\n",
       "      <td>0</td>\n",
       "      <td>1</td>\n",
       "      <td>0</td>\n",
       "      <td>0</td>\n",
       "      <td>0</td>\n",
       "      <td>0</td>\n",
       "      <td>0</td>\n",
       "      <td>0</td>\n",
       "      <td>1</td>\n",
       "      <td>4.0</td>\n",
       "    </tr>\n",
       "    <tr>\n",
       "      <th>375343</th>\n",
       "      <td>1.2.826.0.1.3680043.25515</td>\n",
       "      <td>5</td>\n",
       "      <td>512</td>\n",
       "      <td>512</td>\n",
       "      <td>1.0</td>\n",
       "      <td>-147.235</td>\n",
       "      <td>-129.1101</td>\n",
       "      <td>-144.7</td>\n",
       "      <td>0</td>\n",
       "      <td>0</td>\n",
       "      <td>0</td>\n",
       "      <td>0</td>\n",
       "      <td>0</td>\n",
       "      <td>0</td>\n",
       "      <td>0</td>\n",
       "      <td>1</td>\n",
       "      <td>0</td>\n",
       "      <td>0</td>\n",
       "      <td>0</td>\n",
       "      <td>0</td>\n",
       "      <td>0</td>\n",
       "      <td>0</td>\n",
       "      <td>1</td>\n",
       "      <td>4.0</td>\n",
       "    </tr>\n",
       "  </tbody>\n",
       "</table>\n",
       "</div>"
      ],
      "text/plain": [
       "                 StudyInstanceUID  Slice  ImageHeight  ImageWidth  \\\n",
       "375339  1.2.826.0.1.3680043.25515      1          512         512   \n",
       "375340  1.2.826.0.1.3680043.25515      2          512         512   \n",
       "375341  1.2.826.0.1.3680043.25515      3          512         512   \n",
       "375342  1.2.826.0.1.3680043.25515      4          512         512   \n",
       "375343  1.2.826.0.1.3680043.25515      5          512         512   \n",
       "\n",
       "        SliceThickness  ImagePositionPatient_x  ImagePositionPatient_y  \\\n",
       "375339             1.0                -147.235               -129.1101   \n",
       "375340             1.0                -147.235               -129.1101   \n",
       "375341             1.0                -147.235               -129.1101   \n",
       "375342             1.0                -147.235               -129.1101   \n",
       "375343             1.0                -147.235               -129.1101   \n",
       "\n",
       "        ImagePositionPatient_z  C1  C2  C3  C4  C5  C6  C7  patient_overall  \\\n",
       "375339                  -141.5   0   0   0   0   0   0   0                1   \n",
       "375340                  -142.3   0   0   0   0   0   0   0                1   \n",
       "375341                  -143.1   0   0   0   0   0   0   0                1   \n",
       "375342                  -143.9   0   0   0   0   0   0   0                1   \n",
       "375343                  -144.7   0   0   0   0   0   0   0                1   \n",
       "\n",
       "        C1_fracture  C2_fracture  C3_fracture  C4_fracture  C5_fracture  \\\n",
       "375339            0            0            0            0            0   \n",
       "375340            0            0            0            0            0   \n",
       "375341            0            0            0            0            0   \n",
       "375342            0            0            0            0            0   \n",
       "375343            0            0            0            0            0   \n",
       "\n",
       "        C6_fracture  C7_fracture  split  \n",
       "375339            0            1    4.0  \n",
       "375340            0            1    4.0  \n",
       "375341            0            1    4.0  \n",
       "375342            0            1    4.0  \n",
       "375343            0            1    4.0  "
      ]
     },
     "metadata": {},
     "output_type": "display_data"
    },
    {
     "data": {
      "image/png": "[encoded data removed]",
      "text/plain": [
       "<Figure size 1440x360 with 2 Axes>"
      ]
     },
     "metadata": {
      "needs_background": "light"
     },
     "output_type": "display_data"
    }
   ],
   "source": [
    "def plot_sample_patient(df, ds):\n",
    "    \"\"\"\n",
    "    Grafica un paciente aleatorio con sus fracturas y vertebras visibles.\n",
    "\n",
    "    Args:\n",
    "        df: pd.DataFrame con la información de los pacientes.\n",
    "        ds: Dataset con las imágenes de los pacientes.\n",
    "    \"\"\"\n",
    "    patient = np.random.choice(df.query('patient_overall > 0').StudyInstanceUID)\n",
    "    df = df.query('StudyInstanceUID == @patient')\n",
    "    display(df.head())\n",
    "\n",
    "    frac = np.stack([ds[i][1] for i in df.index])\n",
    "    vert = np.stack([ds[i][2] for i in df.index])\n",
    "    ax = plt.subplot(1, 2, 1)\n",
    "    ax.plot(frac)\n",
    "    ax.set_title(f'Vertebra con fracturas por corte (mascarado por vertebras visibles). uid:{patient}')\n",
    "    ax = plt.subplot(1, 2, 2)\n",
    "    ax.set_title(f'Vertebras visibles por corte. uid:{patient}')\n",
    "    ax.plot(vert)\n",
    "\n",
    "# Selecciona un paciente aleatorio con fracturas y lo grafica\n",
    "plot_sample_patient(df_train, ds_train)"
   ]
  },
  {
   "cell_type": "code",
   "execution_count": 16,
   "id": "fee1c0cc",
   "metadata": {
    "execution": {
     "iopub.execute_input": "2024-11-04T20:32:13.464247Z",
     "iopub.status.busy": "2024-11-04T20:32:13.463938Z",
     "iopub.status.idle": "2024-11-04T20:32:13.496746Z",
     "shell.execute_reply": "2024-11-04T20:32:13.495799Z"
    },
    "papermill": {
     "duration": 0.056047,
     "end_time": "2024-11-04T20:32:13.498924",
     "exception": false,
     "start_time": "2024-11-04T20:32:13.442877",
     "status": "completed"
    },
    "pycharm": {
     "name": "#%%\n"
    },
    "tags": []
   },
   "outputs": [
    {
     "data": {
      "text/plain": [
       "torch.Size([3, 384, 384])"
      ]
     },
     "execution_count": 16,
     "metadata": {},
     "output_type": "execute_result"
    }
   ],
   "source": [
    "# Solo valores X devueltos por el conjunto de datos de prueba\n",
    "ds_test = EffnetDataSet(df_test, TEST_IMAGES_PATH, WEIGHTS.transforms())\n",
    "X = ds_test[42]\n",
    "X.shape"
   ]
  },
  {
   "cell_type": "markdown",
   "id": "2a765093",
   "metadata": {
    "papermill": {
     "duration": 0.020132,
     "end_time": "2024-11-04T20:32:13.541494",
     "exception": false,
     "start_time": "2024-11-04T20:32:13.521362",
     "status": "completed"
    },
    "tags": []
   },
   "source": [
    "## Modelo Efficient Net V2 para deteccion de Fracturas"
   ]
  },
  {
   "cell_type": "markdown",
   "id": "886bef54",
   "metadata": {
    "papermill": {
     "duration": 0.019893,
     "end_time": "2024-11-04T20:32:13.581534",
     "exception": false,
     "start_time": "2024-11-04T20:32:13.561641",
     "status": "completed"
    },
    "tags": []
   },
   "source": [
    "En PyTorch se usa **create_feature_extractor** para acceder a las capas de características de modelos preexistentes. La última capa aplanada del modelo `efficientnet_v2_s` se llama `flatten`. Se hara la clasificacion sobre esta."
   ]
  },
  {
   "cell_type": "code",
   "execution_count": 17,
   "id": "fd8ee7ba",
   "metadata": {
    "execution": {
     "iopub.execute_input": "2024-11-04T20:32:13.624161Z",
     "iopub.status.busy": "2024-11-04T20:32:13.623241Z",
     "iopub.status.idle": "2024-11-04T20:32:13.632616Z",
     "shell.execute_reply": "2024-11-04T20:32:13.631670Z"
    },
    "papermill": {
     "duration": 0.033216,
     "end_time": "2024-11-04T20:32:13.634876",
     "exception": false,
     "start_time": "2024-11-04T20:32:13.601660",
     "status": "completed"
    },
    "pycharm": {
     "name": "#%%\n"
    },
    "tags": []
   },
   "outputs": [],
   "source": [
    "class EffnetModel(torch.nn.Module):\n",
    "    \"\"\"\n",
    "    Modelo de red neuronal basado en EfficientNetV2-S.\n",
    "\n",
    "\n",
    "    Args:\n",
    "        torch (torch.nn.Module): Clase base de PyTorch.\n",
    "\n",
    "    Attributes:\n",
    "        model (torch.nn.Module): Modelo de red neuronal EfficientNetV2-S.\n",
    "        nn_fracture (torch.nn.Module): Red neuronal para clasificación de fracturas.\n",
    "        nn_vertebrae (torch.nn.Module): Red neuronal para clasificación de vértebras.\n",
    "    \"\"\"\n",
    "    def __init__(self):\n",
    "        super().__init__()\n",
    "        effnet = tv.models.efficientnet_v2_s(weights=WEIGHTS)\n",
    "        self.model = create_feature_extractor(effnet, ['flatten'])\n",
    "        self.nn_fracture = torch.nn.Sequential(\n",
    "            torch.nn.Linear(1280, 7),\n",
    "        )\n",
    "        self.nn_vertebrae = torch.nn.Sequential(\n",
    "            torch.nn.Linear(1280, 7),\n",
    "        )\n",
    "\n",
    "    def forward(self, x):\n",
    "        x = self.model(x)['flatten']\n",
    "        return self.nn_fracture(x), self.nn_vertebrae(x)\n",
    "\n",
    "    def predict(self, x):\n",
    "        frac, vert = self.forward(x)\n",
    "        return torch.sigmoid(frac), torch.sigmoid(vert)"
   ]
  },
  {
   "cell_type": "markdown",
   "id": "842f0c6d",
   "metadata": {
    "papermill": {
     "duration": 0.020098,
     "end_time": "2024-11-04T20:32:13.675445",
     "exception": false,
     "start_time": "2024-11-04T20:32:13.655347",
     "status": "completed"
    },
    "tags": []
   },
   "source": [
    "### Funcion de Perdida"
   ]
  },
  {
   "cell_type": "code",
   "execution_count": 18,
   "id": "9a8eec81",
   "metadata": {
    "execution": {
     "iopub.execute_input": "2024-11-04T20:32:13.718298Z",
     "iopub.status.busy": "2024-11-04T20:32:13.717517Z",
     "iopub.status.idle": "2024-11-04T20:32:13.729890Z",
     "shell.execute_reply": "2024-11-04T20:32:13.728982Z"
    },
    "papermill": {
     "duration": 0.036055,
     "end_time": "2024-11-04T20:32:13.731947",
     "exception": false,
     "start_time": "2024-11-04T20:32:13.695892",
     "status": "completed"
    },
    "pycharm": {
     "name": "#%%\n"
    },
    "tags": []
   },
   "outputs": [],
   "source": [
    "def weighted_loss(y_pred_logit, y, reduction='mean', verbose=False):\n",
    "    \"\"\"\n",
    "    Funcion de perdida con pesos, se reutiliza torch.nn.functional.binary_cross_entropy_with_logits. pos_weight y weights combinados nos dan los coeficientes necesarios.\n",
    "    \"\"\"\n",
    "\n",
    "    # Inicializar los pesos\n",
    "    neg_weights = (torch.tensor([7., 1, 1, 1, 1, 1, 1, 1]) if y_pred_logit.shape[-1] == 8 else torch.ones(y_pred_logit.shape[-1])).to(DEVICE)\n",
    "    pos_weights = (torch.tensor([14., 2, 2, 2, 2, 2, 2, 2]) if y_pred_logit.shape[-1] == 8 else torch.ones(y_pred_logit.shape[-1]) * 2.).to(DEVICE)\n",
    "\n",
    "    # Calcular la perdida\n",
    "    loss = torch.nn.functional.binary_cross_entropy_with_logits(\n",
    "        y_pred_logit,\n",
    "        y,\n",
    "        reduction='none',\n",
    "    )\n",
    "\n",
    "    if verbose:\n",
    "        print('loss', loss)\n",
    "    \n",
    "    # Aplicar los pesos\n",
    "    pos_weights = y * pos_weights.unsqueeze(0)\n",
    "    neg_weights = (1 - y) * neg_weights.unsqueeze(0)\n",
    "    all_weights = pos_weights + neg_weights\n",
    "\n",
    "    if verbose:\n",
    "        print('all weights', all_weights)\n",
    "\n",
    "    # Multiplicar la perdida por los pesos\n",
    "    loss *= all_weights\n",
    "    if verbose:\n",
    "        print('weighted loss', loss)\n",
    "\n",
    "    # Normalizar\n",
    "    norm = torch.sum(all_weights, dim=1).unsqueeze(1)\n",
    "    if verbose:\n",
    "        print('normalization factors', norm)\n",
    "\n",
    "    # Evitar division por cero\n",
    "    loss /= norm\n",
    "    if verbose:\n",
    "        print('normalized loss', loss)\n",
    "\n",
    "    # Sumar las perdidas\n",
    "    loss = torch.sum(loss, dim=1)\n",
    "    if verbose:\n",
    "        print('summed up over patient_overall-C1-C7 loss', loss)\n",
    "\n",
    "    # Reduccion\n",
    "    if reduction == 'mean':\n",
    "        return torch.mean(loss)\n",
    "    return loss"
   ]
  },
  {
   "cell_type": "markdown",
   "id": "ddaff11d",
   "metadata": {
    "papermill": {
     "duration": 0.019971,
     "end_time": "2024-11-04T20:32:13.772249",
     "exception": false,
     "start_time": "2024-11-04T20:32:13.752278",
     "status": "completed"
    },
    "tags": []
   },
   "source": [
    "## Loop de Entrenamiento/Evaluacion"
   ]
  },
  {
   "cell_type": "markdown",
   "id": "c1a29d91",
   "metadata": {
    "papermill": {
     "duration": 0.020222,
     "end_time": "2024-11-04T20:32:13.812648",
     "exception": false,
     "start_time": "2024-11-04T20:32:13.792426",
     "status": "completed"
    },
    "tags": []
   },
   "source": [
    "### Funciones Auxiliares"
   ]
  },
  {
   "cell_type": "code",
   "execution_count": 19,
   "id": "78a4c654",
   "metadata": {
    "execution": {
     "iopub.execute_input": "2024-11-04T20:32:13.854794Z",
     "iopub.status.busy": "2024-11-04T20:32:13.854374Z",
     "iopub.status.idle": "2024-11-04T20:32:13.859578Z",
     "shell.execute_reply": "2024-11-04T20:32:13.858613Z"
    },
    "papermill": {
     "duration": 0.029093,
     "end_time": "2024-11-04T20:32:13.861788",
     "exception": false,
     "start_time": "2024-11-04T20:32:13.832695",
     "status": "completed"
    },
    "pycharm": {
     "name": "#%%\n"
    },
    "tags": []
   },
   "outputs": [],
   "source": [
    "def filter_nones(b):\n",
    "    return torch.utils.data.default_collate([v for v in b if v is not None])"
   ]
  },
  {
   "cell_type": "code",
   "execution_count": 20,
   "id": "41ab4029",
   "metadata": {
    "execution": {
     "iopub.execute_input": "2024-11-04T20:32:13.903532Z",
     "iopub.status.busy": "2024-11-04T20:32:13.903269Z",
     "iopub.status.idle": "2024-11-04T20:32:13.907738Z",
     "shell.execute_reply": "2024-11-04T20:32:13.906808Z"
    },
    "papermill": {
     "duration": 0.027851,
     "end_time": "2024-11-04T20:32:13.909888",
     "exception": false,
     "start_time": "2024-11-04T20:32:13.882037",
     "status": "completed"
    },
    "pycharm": {
     "name": "#%%\n"
    },
    "tags": []
   },
   "outputs": [],
   "source": [
    "def save_model(name, model):\n",
    "    torch.save(model.state_dict(), f'{name}.tph')"
   ]
  },
  {
   "cell_type": "code",
   "execution_count": 21,
   "id": "f1676669",
   "metadata": {
    "execution": {
     "iopub.execute_input": "2024-11-04T20:32:13.952200Z",
     "iopub.status.busy": "2024-11-04T20:32:13.951370Z",
     "iopub.status.idle": "2024-11-04T20:32:13.955962Z",
     "shell.execute_reply": "2024-11-04T20:32:13.955027Z"
    },
    "papermill": {
     "duration": 0.027855,
     "end_time": "2024-11-04T20:32:13.958004",
     "exception": false,
     "start_time": "2024-11-04T20:32:13.930149",
     "status": "completed"
    },
    "pycharm": {
     "name": "#%%\n"
    },
    "tags": []
   },
   "outputs": [],
   "source": [
    "def gc_collect():\n",
    "    gc.collect()\n",
    "    torch.cuda.empty_cache()"
   ]
  },
  {
   "cell_type": "code",
   "execution_count": 22,
   "id": "d966db14",
   "metadata": {
    "execution": {
     "iopub.execute_input": "2024-11-04T20:32:14.000916Z",
     "iopub.status.busy": "2024-11-04T20:32:14.000218Z",
     "iopub.status.idle": "2024-11-04T20:32:14.005750Z",
     "shell.execute_reply": "2024-11-04T20:32:14.004770Z"
    },
    "papermill": {
     "duration": 0.029407,
     "end_time": "2024-11-04T20:32:14.007755",
     "exception": false,
     "start_time": "2024-11-04T20:32:13.978348",
     "status": "completed"
    },
    "pycharm": {
     "name": "#%%\n"
    },
    "tags": []
   },
   "outputs": [],
   "source": [
    "def load_model(model, name, path='.'):\n",
    "    data = torch.load(os.path.join(path, f'{name}.tph'), map_location=DEVICE)\n",
    "    model.load_state_dict(data)\n",
    "    return model"
   ]
  },
  {
   "cell_type": "code",
   "execution_count": 23,
   "id": "923614a9",
   "metadata": {
    "execution": {
     "iopub.execute_input": "2024-11-04T20:32:14.050872Z",
     "iopub.status.busy": "2024-11-04T20:32:14.050321Z",
     "iopub.status.idle": "2024-11-04T20:32:16.082711Z",
     "shell.execute_reply": "2024-11-04T20:32:16.081646Z"
    },
    "papermill": {
     "duration": 2.05727,
     "end_time": "2024-11-04T20:32:16.085229",
     "exception": false,
     "start_time": "2024-11-04T20:32:14.027959",
     "status": "completed"
    },
    "pycharm": {
     "name": "#%%\n"
    },
    "tags": []
   },
   "outputs": [],
   "source": [
    "# quick test\n",
    "model = torch.nn.Linear(2, 1)\n",
    "save_model('testmodel', model)\n",
    "\n",
    "model1 = load_model(torch.nn.Linear(2, 1), 'testmodel')\n",
    "assert torch.all(\n",
    "    next(iter(model1.parameters())) == next(iter(model.parameters()))\n",
    ").item(), \"Loading/saving is inconsistent!\""
   ]
  },
  {
   "cell_type": "markdown",
   "id": "a7e35c9b",
   "metadata": {
    "papermill": {
     "duration": 0.020385,
     "end_time": "2024-11-04T20:32:16.126374",
     "exception": false,
     "start_time": "2024-11-04T20:32:16.105989",
     "status": "completed"
    },
    "tags": []
   },
   "source": [
    "### Evaluacion del modelo"
   ]
  },
  {
   "cell_type": "code",
   "execution_count": 24,
   "id": "f349f02a",
   "metadata": {
    "execution": {
     "iopub.execute_input": "2024-11-04T20:32:16.168430Z",
     "iopub.status.busy": "2024-11-04T20:32:16.168097Z",
     "iopub.status.idle": "2024-11-04T20:32:16.180524Z",
     "shell.execute_reply": "2024-11-04T20:32:16.179606Z"
    },
    "papermill": {
     "duration": 0.035905,
     "end_time": "2024-11-04T20:32:16.182521",
     "exception": false,
     "start_time": "2024-11-04T20:32:16.146616",
     "status": "completed"
    },
    "pycharm": {
     "name": "#%%\n"
    },
    "tags": []
   },
   "outputs": [],
   "source": [
    "def evaluate_effnet(model: EffnetModel, ds, max_batches=PREDICT_MAX_BATCHES, shuffle=False):\n",
    "    \"\"\"\n",
    "    Evalua un modelo de effnet en un dataset de torch.utils.data.Dataset\n",
    "\n",
    "    Args:\n",
    "        model: Modelo de effnet a evaluar\n",
    "        ds: Dataset de torch.utils.data.Dataset\n",
    "        max_batches: Cantidad má\n",
    "\n",
    "    Returns:\n",
    "        float: Loss de fracción de volumen\n",
    "        float: Loss de vértices\n",
    "        np.ndarray: Predicciones de fracción de volumen\n",
    "        np.ndarray: Predicciones de vértices\n",
    "    \"\"\"\n",
    "\n",
    "    # Seteamos la semilla para reproducibilidad\n",
    "    torch.manual_seed(42)\n",
    "    model = model.to(DEVICE)\n",
    "    dl_test = torch.utils.data.DataLoader(ds, batch_size=BATCH_SIZE, shuffle=shuffle, num_workers=os.cpu_count(),\n",
    "                                          collate_fn=filter_nones)\n",
    "    \n",
    "    # Inicializamos las listas de predicciones\n",
    "    pred_frac = []\n",
    "    pred_vert = []\n",
    "\n",
    "    # Evaluamos el modelo\n",
    "    with torch.no_grad():\n",
    "        model.eval()\n",
    "        frac_losses = []\n",
    "        vert_losses = []\n",
    "        # Iteramos sobre el dataset de test\n",
    "        with tqdm(dl_test, desc='Eval', miniters=10) as progress:\n",
    "            for i, (X, y_frac, y_vert) in enumerate(progress):\n",
    "                with autocast():\n",
    "                    y_frac_pred, y_vert_pred = model.forward(X.to(DEVICE))\n",
    "                    frac_loss = weighted_loss(y_frac_pred, y_frac.to(DEVICE)).item()\n",
    "                    vert_loss = torch.nn.functional.binary_cross_entropy_with_logits(y_vert_pred, y_vert.to(DEVICE)).item()\n",
    "                    pred_frac.append(torch.sigmoid(y_frac_pred))\n",
    "                    pred_vert.append(torch.sigmoid(y_vert_pred))\n",
    "                    frac_losses.append(frac_loss)\n",
    "                    vert_losses.append(vert_loss)\n",
    "\n",
    "                if i >= max_batches:\n",
    "                    break\n",
    "        # Devolvemos la media de las losses\n",
    "        return np.mean(frac_losses), np.mean(vert_losses), torch.concat(pred_frac).cpu().numpy(), torch.concat(pred_vert).cpu().numpy()"
   ]
  },
  {
   "cell_type": "markdown",
   "id": "0d92669a",
   "metadata": {
    "papermill": {
     "duration": 0.019966,
     "end_time": "2024-11-04T20:32:16.222604",
     "exception": false,
     "start_time": "2024-11-04T20:32:16.202638",
     "status": "completed"
    },
    "tags": []
   },
   "source": [
    "### Entrenamiento del modelo"
   ]
  },
  {
   "cell_type": "code",
   "execution_count": 25,
   "id": "2379dff5",
   "metadata": {
    "execution": {
     "iopub.execute_input": "2024-11-04T20:32:16.264903Z",
     "iopub.status.busy": "2024-11-04T20:32:16.264155Z",
     "iopub.status.idle": "2024-11-04T20:32:16.281025Z",
     "shell.execute_reply": "2024-11-04T20:32:16.280085Z"
    },
    "papermill": {
     "duration": 0.040102,
     "end_time": "2024-11-04T20:32:16.282931",
     "exception": false,
     "start_time": "2024-11-04T20:32:16.242829",
     "status": "completed"
    },
    "pycharm": {
     "name": "#%%\n"
    },
    "tags": []
   },
   "outputs": [],
   "source": [
    "def train_effnet(ds_train, ds_eval, name, logger=None):\n",
    "    \"\"\"\n",
    "    Entrena un modelo EfficientNet en el dataset de entrenamiento ds_train y lo evalúa en el dataset ds_eval.\n",
    "\n",
    "    Args:\n",
    "        ds_train: Dataset de entren\n",
    "        ds_eval: Dataset de evaluación\n",
    "        name: Nombre del modelo\n",
    "        logger: Logger de salida\n",
    "\n",
    "    Returns:\n",
    "        Modelo entrenado\n",
    "    \"\"\"\n",
    "    # Parámetros de entrenamiento\n",
    "    torch.manual_seed(42)\n",
    "    dl_train = torch.utils.data.DataLoader(ds_train, batch_size=BATCH_SIZE, shuffle=True, num_workers=os.cpu_count(),\n",
    "                                           collate_fn=filter_nones)\n",
    "\n",
    "    # Modelo y optimizador y scheduler\n",
    "    model = EffnetModel().to(DEVICE)\n",
    "    optim = torch.optim.Adam(model.parameters())\n",
    "    scheduler = torch.optim.lr_scheduler.OneCycleLR(optim, max_lr=ONE_CYCLE_MAX_LR, epochs=1,\n",
    "                                                    steps_per_epoch=min(EFFNET_MAX_TRAIN_BATCHES, len(dl_train)),\n",
    "                                                    pct_start=ONE_CYCLE_PCT_START)\n",
    "\n",
    "    # Entrenamiento del modelo\n",
    "    model.train()\n",
    "    # Escalador de gradientes\n",
    "    scaler = GradScaler()\n",
    "\n",
    "    # Loop de entrenamiento por batches\n",
    "    with tqdm(dl_train, desc='Train', miniters=10) as progress:\n",
    "        for batch_idx, (X, y_frac, y_vert) in enumerate(progress):\n",
    "\n",
    "            # Evaluación del modelo\n",
    "            if ds_eval is not None and batch_idx % SAVE_CHECKPOINT_EVERY_STEP == 0 and EFFNET_MAX_EVAL_BATCHES > 0:\n",
    "                frac_loss, vert_loss = evaluate_effnet(\n",
    "                    model, ds_eval, max_batches=EFFNET_MAX_EVAL_BATCHES, shuffle=True)[:2]\n",
    "                model.train()\n",
    "                if logger:\n",
    "                    print({'eval_frac_loss': frac_loss, 'eval_vert_loss': vert_loss, 'eval_loss': frac_loss + vert_loss})\n",
    "                if batch_idx > 0:\n",
    "                    save_model(name, model)\n",
    "\n",
    "            # Fin del entrenamiento\n",
    "            if batch_idx >= EFFNET_MAX_TRAIN_BATCHES:\n",
    "                break\n",
    "            \n",
    "            # Pasos Forward y Backward\n",
    "            optim.zero_grad()\n",
    "            with autocast():\n",
    "                y_frac_pred, y_vert_pred = model.forward(X.to(DEVICE))\n",
    "                frac_loss = weighted_loss(y_frac_pred, y_frac.to(DEVICE))\n",
    "                vert_loss = torch.nn.functional.binary_cross_entropy_with_logits(y_vert_pred, y_vert.to(DEVICE))\n",
    "                loss = FRAC_LOSS_WEIGHT * frac_loss + vert_loss\n",
    "\n",
    "                if np.isinf(loss.item()) or np.isnan(loss.item()):\n",
    "                    print(f'Bad loss, skipping the batch {batch_idx}')\n",
    "                    del loss, frac_loss, vert_loss, y_frac_pred, y_vert_pred\n",
    "                    gc_collect()\n",
    "                    continue\n",
    "\n",
    "            scaler.scale(loss).backward()\n",
    "            scaler.step(optim)\n",
    "            scaler.update()\n",
    "            scheduler.step()\n",
    "\n",
    "            progress.set_description(f'Train loss: {loss.item():.02f}')\n",
    "            if logger:\n",
    "                print({'loss': loss.item(), 'frac_loss': frac_loss.item(), 'vert_loss': vert_loss.item(),\n",
    "                       'lr': scheduler.get_last_lr()[0]})\n",
    "\n",
    "    save_model(name, model)\n",
    "    return model"
   ]
  },
  {
   "cell_type": "code",
   "execution_count": 26,
   "id": "3b6faaf1",
   "metadata": {
    "execution": {
     "iopub.execute_input": "2024-11-04T20:32:16.324430Z",
     "iopub.status.busy": "2024-11-04T20:32:16.324151Z",
     "iopub.status.idle": "2024-11-04T20:32:28.279461Z",
     "shell.execute_reply": "2024-11-04T20:32:28.278273Z"
    },
    "papermill": {
     "duration": 11.979006,
     "end_time": "2024-11-04T20:32:28.282105",
     "exception": false,
     "start_time": "2024-11-04T20:32:16.303099",
     "status": "completed"
    },
    "pycharm": {
     "name": "#%%\n"
    },
    "tags": []
   },
   "outputs": [
    {
     "name": "stdout",
     "output_type": "stream",
     "text": [
      "Found cached version of effnetv2-f0\n",
      "Found cached version of effnetv2-f1\n",
      "Found cached version of effnetv2-f2\n",
      "Found cached version of effnetv2-f3\n",
      "Found cached version of effnetv2-f4\n",
      "Found cached version of effnetv2\n"
     ]
    }
   ],
   "source": [
    "effnet_models = []\n",
    "# Cargar los modelos de effnet previos como checkpoints\n",
    "for fold in range(N_FOLDS):\n",
    "    # Si existe un modelo previo, cargarlo\n",
    "    if os.path.exists(os.path.join(EFFNET_CHECKPOINTS_PATH, f'effnetv2-f{fold}.tph')):\n",
    "        print(f'Found cached version of effnetv2-f{fold}')\n",
    "        effnet_models.append(load_model(EffnetModel(), f'effnetv2-f{fold}', EFFNET_CHECKPOINTS_PATH))\n",
    "    # Si no, entrenar uno nuevo\n",
    "    else:\n",
    "        gc_collect()\n",
    "        ds_train = EffnetDataSet(df_train.query('split != @fold'), TRAIN_IMAGES_PATH, WEIGHTS.transforms())\n",
    "        ds_eval = EffnetDataSet(df_train.query('split == @fold'), TRAIN_IMAGES_PATH, WEIGHTS.transforms())\n",
    "        effnet_models.append(train_effnet(ds_train, ds_eval, f'effnetv2-f{fold}'))\n",
    "\n",
    "# Cargar el modelo de effnetv2 como checkpoint\n",
    "if os.path.exists(os.path.join(EFFNET_CHECKPOINTS_PATH, 'effnetv2.tph')):\n",
    "    print('Found cached version of effnetv2')\n",
    "    effnet_models.append(load_model(EffnetModel(), 'effnetv2', EFFNET_CHECKPOINTS_PATH))\n",
    "# Si no, entrenar uno nuevo\n",
    "else:\n",
    "    gc_collect()\n",
    "    ds_train = EffnetDataSet(df_train, TRAIN_IMAGES_PATH, WEIGHTS.transforms())\n",
    "    train_effnet(ds_train, None, 'effnetv2')"
   ]
  },
  {
   "cell_type": "markdown",
   "id": "c6bc98c5",
   "metadata": {
    "papermill": {
     "duration": 0.020778,
     "end_time": "2024-11-04T20:32:28.325806",
     "exception": false,
     "start_time": "2024-11-04T20:32:28.305028",
     "status": "completed"
    },
    "tags": []
   },
   "source": [
    "## Evaluacion con validacion Cruzada"
   ]
  },
  {
   "cell_type": "code",
   "execution_count": 27,
   "id": "5a968ff1",
   "metadata": {
    "execution": {
     "iopub.execute_input": "2024-11-04T20:32:28.368958Z",
     "iopub.status.busy": "2024-11-04T20:32:28.368545Z",
     "iopub.status.idle": "2024-11-04T20:32:34.750505Z",
     "shell.execute_reply": "2024-11-04T20:32:34.749546Z"
    },
    "papermill": {
     "duration": 6.406082,
     "end_time": "2024-11-04T20:32:34.752557",
     "exception": false,
     "start_time": "2024-11-04T20:32:28.346475",
     "status": "completed"
    },
    "pycharm": {
     "name": "#%%\n"
    },
    "tags": []
   },
   "outputs": [
    {
     "data": {
      "application/vnd.jupyter.widget-view+json": {
       "model_id": "9235370b82f949008d4b4ae9c272ddc2",
       "version_major": 2,
       "version_minor": 0
      },
      "text/plain": [
       "  0%|          | 0/5 [00:00<?, ?it/s]"
      ]
     },
     "metadata": {},
     "output_type": "display_data"
    }
   ],
   "source": [
    "effnet_models = []\n",
    "for name in tqdm(range(N_FOLDS)):\n",
    "    effnet_models.append(load_model(EffnetModel(), f'effnetv2-f{name}', EFFNET_CHECKPOINTS_PATH))"
   ]
  },
  {
   "cell_type": "code",
   "execution_count": 28,
   "id": "ab731352",
   "metadata": {
    "execution": {
     "iopub.execute_input": "2024-11-04T20:32:34.796871Z",
     "iopub.status.busy": "2024-11-04T20:32:34.796515Z",
     "iopub.status.idle": "2024-11-04T20:32:34.807815Z",
     "shell.execute_reply": "2024-11-04T20:32:34.807014Z"
    },
    "papermill": {
     "duration": 0.034983,
     "end_time": "2024-11-04T20:32:34.809736",
     "exception": false,
     "start_time": "2024-11-04T20:32:34.774753",
     "status": "completed"
    },
    "pycharm": {
     "name": "#%%\n"
    },
    "tags": []
   },
   "outputs": [],
   "source": [
    "def gen_effnet_predictions(effnet_models, df_train):\n",
    "    \"\"\"\n",
    "    Genera las predicciones de los modelos EfficientNet para el conjunto de entrenamiento.\n",
    "\n",
    "    Args:\n",
    "        effnet_models: Lista de modelos EfficientNet.\n",
    "        df_train: DataFrame con las imágenes de entrenamiento.\n",
    "\n",
    "    Returns:\n",
    "        DataFrame con las predicciones de los modelos EfficientNet para el conjunto de entrenamiento.\n",
    "    \"\"\"\n",
    "    if os.path.exists(os.path.join(EFFNET_CHECKPOINTS_PATH, 'train_predictions.csv')):\n",
    "        print('Found cached version of train_predictions.csv')\n",
    "        df_train_predictions = pd.read_csv(os.path.join(EFFNET_CHECKPOINTS_PATH, 'train_predictions.csv'))\n",
    "    else:\n",
    "        df_train_predictions = []\n",
    "        with tqdm(enumerate(effnet_models), total=len(effnet_models), desc='Folds') as progress:\n",
    "            for fold, effnet_model in progress:\n",
    "                ds_eval = EffnetDataSet(df_train.query('split == @fold'), TRAIN_IMAGES_PATH, WEIGHTS.transforms())\n",
    "\n",
    "                frac_loss, vert_loss, effnet_pred_frac, effnet_pred_vert = evaluate_effnet(effnet_model, ds_eval, PREDICT_MAX_BATCHES)\n",
    "                progress.set_description(f'Fold score:{frac_loss:.02f}')\n",
    "                df_effnet_pred = pd.DataFrame(data=np.concatenate([effnet_pred_frac, effnet_pred_vert], axis=1),\n",
    "                                              columns=[f'C{i}_effnet_frac' for i in range(1, 8)] +\n",
    "                                                      [f'C{i}_effnet_vert' for i in range(1, 8)])\n",
    "\n",
    "                df = pd.concat(\n",
    "                    [df_train.query('split == @fold').head(len(df_effnet_pred)).reset_index(drop=True), df_effnet_pred],\n",
    "                    axis=1\n",
    "                ).sort_values(['StudyInstanceUID', 'Slice'])\n",
    "                df_train_predictions.append(df)\n",
    "        df_train_predictions = pd.concat(df_train_predictions)\n",
    "    return df_train_predictions"
   ]
  },
  {
   "cell_type": "code",
   "execution_count": 29,
   "id": "4fa9d540",
   "metadata": {
    "execution": {
     "iopub.execute_input": "2024-11-04T20:32:34.852287Z",
     "iopub.status.busy": "2024-11-04T20:32:34.852014Z",
     "iopub.status.idle": "2024-11-04T20:32:55.082618Z",
     "shell.execute_reply": "2024-11-04T20:32:55.081625Z"
    },
    "papermill": {
     "duration": 20.254729,
     "end_time": "2024-11-04T20:32:55.085169",
     "exception": false,
     "start_time": "2024-11-04T20:32:34.830440",
     "status": "completed"
    },
    "pycharm": {
     "is_executing": true,
     "name": "#%%\n"
    },
    "tags": []
   },
   "outputs": [
    {
     "name": "stdout",
     "output_type": "stream",
     "text": [
      "Found cached version of train_predictions.csv\n"
     ]
    },
    {
     "data": {
      "text/html": [
       "<div>\n",
       "<style scoped>\n",
       "    .dataframe tbody tr th:only-of-type {\n",
       "        vertical-align: middle;\n",
       "    }\n",
       "\n",
       "    .dataframe tbody tr th {\n",
       "        vertical-align: top;\n",
       "    }\n",
       "\n",
       "    .dataframe thead th {\n",
       "        text-align: right;\n",
       "    }\n",
       "</style>\n",
       "<table border=\"1\" class=\"dataframe\">\n",
       "  <thead>\n",
       "    <tr style=\"text-align: right;\">\n",
       "      <th></th>\n",
       "      <th>StudyInstanceUID</th>\n",
       "      <th>Slice</th>\n",
       "      <th>ImageHeight</th>\n",
       "      <th>ImageWidth</th>\n",
       "      <th>SliceThickness</th>\n",
       "      <th>ImagePositionPatient_x</th>\n",
       "      <th>ImagePositionPatient_y</th>\n",
       "      <th>ImagePositionPatient_z</th>\n",
       "      <th>C1</th>\n",
       "      <th>C2</th>\n",
       "      <th>C3</th>\n",
       "      <th>C4</th>\n",
       "      <th>C5</th>\n",
       "      <th>C6</th>\n",
       "      <th>C7</th>\n",
       "      <th>patient_overall</th>\n",
       "      <th>C1_fracture</th>\n",
       "      <th>C2_fracture</th>\n",
       "      <th>C3_fracture</th>\n",
       "      <th>C4_fracture</th>\n",
       "      <th>C5_fracture</th>\n",
       "      <th>C6_fracture</th>\n",
       "      <th>C7_fracture</th>\n",
       "      <th>split</th>\n",
       "      <th>C1_effnet_frac</th>\n",
       "      <th>C2_effnet_frac</th>\n",
       "      <th>C3_effnet_frac</th>\n",
       "      <th>C4_effnet_frac</th>\n",
       "      <th>C5_effnet_frac</th>\n",
       "      <th>C6_effnet_frac</th>\n",
       "      <th>C7_effnet_frac</th>\n",
       "      <th>C1_effnet_vert</th>\n",
       "      <th>C2_effnet_vert</th>\n",
       "      <th>C3_effnet_vert</th>\n",
       "      <th>C4_effnet_vert</th>\n",
       "      <th>C5_effnet_vert</th>\n",
       "      <th>C6_effnet_vert</th>\n",
       "      <th>C7_effnet_vert</th>\n",
       "    </tr>\n",
       "  </thead>\n",
       "  <tbody>\n",
       "    <tr>\n",
       "      <th>0</th>\n",
       "      <td>1.2.826.0.1.3680043.10032</td>\n",
       "      <td>1</td>\n",
       "      <td>512</td>\n",
       "      <td>512</td>\n",
       "      <td>0.625</td>\n",
       "      <td>-82.000</td>\n",
       "      <td>11.7120</td>\n",
       "      <td>37.166</td>\n",
       "      <td>0</td>\n",
       "      <td>0</td>\n",
       "      <td>0</td>\n",
       "      <td>0</td>\n",
       "      <td>0</td>\n",
       "      <td>0</td>\n",
       "      <td>0</td>\n",
       "      <td>0</td>\n",
       "      <td>0</td>\n",
       "      <td>0</td>\n",
       "      <td>0</td>\n",
       "      <td>0</td>\n",
       "      <td>0</td>\n",
       "      <td>0</td>\n",
       "      <td>0</td>\n",
       "      <td>0.0</td>\n",
       "      <td>0.000727</td>\n",
       "      <td>0.000883</td>\n",
       "      <td>0.000820</td>\n",
       "      <td>0.000997</td>\n",
       "      <td>0.000693</td>\n",
       "      <td>0.000422</td>\n",
       "      <td>0.000429</td>\n",
       "      <td>0.001040</td>\n",
       "      <td>0.001831</td>\n",
       "      <td>0.003172</td>\n",
       "      <td>0.007347</td>\n",
       "      <td>0.001095</td>\n",
       "      <td>0.000229</td>\n",
       "      <td>0.000194</td>\n",
       "    </tr>\n",
       "    <tr>\n",
       "      <th>1</th>\n",
       "      <td>1.2.826.0.1.3680043.10032</td>\n",
       "      <td>2</td>\n",
       "      <td>512</td>\n",
       "      <td>512</td>\n",
       "      <td>0.625</td>\n",
       "      <td>-82.000</td>\n",
       "      <td>11.7120</td>\n",
       "      <td>36.541</td>\n",
       "      <td>0</td>\n",
       "      <td>0</td>\n",
       "      <td>0</td>\n",
       "      <td>0</td>\n",
       "      <td>0</td>\n",
       "      <td>0</td>\n",
       "      <td>0</td>\n",
       "      <td>0</td>\n",
       "      <td>0</td>\n",
       "      <td>0</td>\n",
       "      <td>0</td>\n",
       "      <td>0</td>\n",
       "      <td>0</td>\n",
       "      <td>0</td>\n",
       "      <td>0</td>\n",
       "      <td>0.0</td>\n",
       "      <td>0.000675</td>\n",
       "      <td>0.000807</td>\n",
       "      <td>0.000709</td>\n",
       "      <td>0.000897</td>\n",
       "      <td>0.000600</td>\n",
       "      <td>0.000361</td>\n",
       "      <td>0.000354</td>\n",
       "      <td>0.000922</td>\n",
       "      <td>0.001411</td>\n",
       "      <td>0.002350</td>\n",
       "      <td>0.005200</td>\n",
       "      <td>0.000752</td>\n",
       "      <td>0.000163</td>\n",
       "      <td>0.000147</td>\n",
       "    </tr>\n",
       "    <tr>\n",
       "      <th>2</th>\n",
       "      <td>1.2.826.0.1.3680043.10032</td>\n",
       "      <td>3</td>\n",
       "      <td>512</td>\n",
       "      <td>512</td>\n",
       "      <td>0.625</td>\n",
       "      <td>-82.000</td>\n",
       "      <td>11.7120</td>\n",
       "      <td>35.916</td>\n",
       "      <td>0</td>\n",
       "      <td>0</td>\n",
       "      <td>0</td>\n",
       "      <td>0</td>\n",
       "      <td>0</td>\n",
       "      <td>0</td>\n",
       "      <td>0</td>\n",
       "      <td>0</td>\n",
       "      <td>0</td>\n",
       "      <td>0</td>\n",
       "      <td>0</td>\n",
       "      <td>0</td>\n",
       "      <td>0</td>\n",
       "      <td>0</td>\n",
       "      <td>0</td>\n",
       "      <td>0.0</td>\n",
       "      <td>0.000730</td>\n",
       "      <td>0.000869</td>\n",
       "      <td>0.000721</td>\n",
       "      <td>0.000883</td>\n",
       "      <td>0.000624</td>\n",
       "      <td>0.000379</td>\n",
       "      <td>0.000424</td>\n",
       "      <td>0.000915</td>\n",
       "      <td>0.001315</td>\n",
       "      <td>0.002192</td>\n",
       "      <td>0.004757</td>\n",
       "      <td>0.000789</td>\n",
       "      <td>0.000190</td>\n",
       "      <td>0.000194</td>\n",
       "    </tr>\n",
       "    <tr>\n",
       "      <th>3</th>\n",
       "      <td>1.2.826.0.1.3680043.10032</td>\n",
       "      <td>4</td>\n",
       "      <td>512</td>\n",
       "      <td>512</td>\n",
       "      <td>0.625</td>\n",
       "      <td>-82.000</td>\n",
       "      <td>11.7120</td>\n",
       "      <td>35.291</td>\n",
       "      <td>0</td>\n",
       "      <td>0</td>\n",
       "      <td>0</td>\n",
       "      <td>0</td>\n",
       "      <td>0</td>\n",
       "      <td>0</td>\n",
       "      <td>0</td>\n",
       "      <td>0</td>\n",
       "      <td>0</td>\n",
       "      <td>0</td>\n",
       "      <td>0</td>\n",
       "      <td>0</td>\n",
       "      <td>0</td>\n",
       "      <td>0</td>\n",
       "      <td>0</td>\n",
       "      <td>0.0</td>\n",
       "      <td>0.000863</td>\n",
       "      <td>0.001147</td>\n",
       "      <td>0.000846</td>\n",
       "      <td>0.001000</td>\n",
       "      <td>0.000638</td>\n",
       "      <td>0.000382</td>\n",
       "      <td>0.000439</td>\n",
       "      <td>0.001129</td>\n",
       "      <td>0.002209</td>\n",
       "      <td>0.002834</td>\n",
       "      <td>0.005120</td>\n",
       "      <td>0.000680</td>\n",
       "      <td>0.000173</td>\n",
       "      <td>0.000203</td>\n",
       "    </tr>\n",
       "    <tr>\n",
       "      <th>4</th>\n",
       "      <td>1.2.826.0.1.3680043.10032</td>\n",
       "      <td>5</td>\n",
       "      <td>512</td>\n",
       "      <td>512</td>\n",
       "      <td>0.625</td>\n",
       "      <td>-82.000</td>\n",
       "      <td>11.7120</td>\n",
       "      <td>34.666</td>\n",
       "      <td>0</td>\n",
       "      <td>0</td>\n",
       "      <td>0</td>\n",
       "      <td>0</td>\n",
       "      <td>0</td>\n",
       "      <td>0</td>\n",
       "      <td>0</td>\n",
       "      <td>0</td>\n",
       "      <td>0</td>\n",
       "      <td>0</td>\n",
       "      <td>0</td>\n",
       "      <td>0</td>\n",
       "      <td>0</td>\n",
       "      <td>0</td>\n",
       "      <td>0</td>\n",
       "      <td>0.0</td>\n",
       "      <td>0.000820</td>\n",
       "      <td>0.000940</td>\n",
       "      <td>0.000820</td>\n",
       "      <td>0.001090</td>\n",
       "      <td>0.000707</td>\n",
       "      <td>0.000386</td>\n",
       "      <td>0.000494</td>\n",
       "      <td>0.000925</td>\n",
       "      <td>0.001265</td>\n",
       "      <td>0.002405</td>\n",
       "      <td>0.005688</td>\n",
       "      <td>0.000738</td>\n",
       "      <td>0.000155</td>\n",
       "      <td>0.000220</td>\n",
       "    </tr>\n",
       "    <tr>\n",
       "      <th>...</th>\n",
       "      <td>...</td>\n",
       "      <td>...</td>\n",
       "      <td>...</td>\n",
       "      <td>...</td>\n",
       "      <td>...</td>\n",
       "      <td>...</td>\n",
       "      <td>...</td>\n",
       "      <td>...</td>\n",
       "      <td>...</td>\n",
       "      <td>...</td>\n",
       "      <td>...</td>\n",
       "      <td>...</td>\n",
       "      <td>...</td>\n",
       "      <td>...</td>\n",
       "      <td>...</td>\n",
       "      <td>...</td>\n",
       "      <td>...</td>\n",
       "      <td>...</td>\n",
       "      <td>...</td>\n",
       "      <td>...</td>\n",
       "      <td>...</td>\n",
       "      <td>...</td>\n",
       "      <td>...</td>\n",
       "      <td>...</td>\n",
       "      <td>...</td>\n",
       "      <td>...</td>\n",
       "      <td>...</td>\n",
       "      <td>...</td>\n",
       "      <td>...</td>\n",
       "      <td>...</td>\n",
       "      <td>...</td>\n",
       "      <td>...</td>\n",
       "      <td>...</td>\n",
       "      <td>...</td>\n",
       "      <td>...</td>\n",
       "      <td>...</td>\n",
       "      <td>...</td>\n",
       "      <td>...</td>\n",
       "    </tr>\n",
       "    <tr>\n",
       "      <th>711498</th>\n",
       "      <td>1.2.826.0.1.3680043.9994</td>\n",
       "      <td>260</td>\n",
       "      <td>512</td>\n",
       "      <td>512</td>\n",
       "      <td>1.000</td>\n",
       "      <td>-130.412</td>\n",
       "      <td>-119.7876</td>\n",
       "      <td>-690.700</td>\n",
       "      <td>0</td>\n",
       "      <td>0</td>\n",
       "      <td>0</td>\n",
       "      <td>0</td>\n",
       "      <td>0</td>\n",
       "      <td>0</td>\n",
       "      <td>0</td>\n",
       "      <td>0</td>\n",
       "      <td>0</td>\n",
       "      <td>0</td>\n",
       "      <td>0</td>\n",
       "      <td>0</td>\n",
       "      <td>0</td>\n",
       "      <td>0</td>\n",
       "      <td>0</td>\n",
       "      <td>4.0</td>\n",
       "      <td>0.001853</td>\n",
       "      <td>0.001450</td>\n",
       "      <td>0.001216</td>\n",
       "      <td>0.001040</td>\n",
       "      <td>0.000709</td>\n",
       "      <td>0.000575</td>\n",
       "      <td>0.002502</td>\n",
       "      <td>0.001341</td>\n",
       "      <td>0.000577</td>\n",
       "      <td>0.000918</td>\n",
       "      <td>0.000582</td>\n",
       "      <td>0.000162</td>\n",
       "      <td>0.000181</td>\n",
       "      <td>0.000951</td>\n",
       "    </tr>\n",
       "    <tr>\n",
       "      <th>711499</th>\n",
       "      <td>1.2.826.0.1.3680043.9994</td>\n",
       "      <td>261</td>\n",
       "      <td>512</td>\n",
       "      <td>512</td>\n",
       "      <td>1.000</td>\n",
       "      <td>-130.412</td>\n",
       "      <td>-119.7876</td>\n",
       "      <td>-691.500</td>\n",
       "      <td>0</td>\n",
       "      <td>0</td>\n",
       "      <td>0</td>\n",
       "      <td>0</td>\n",
       "      <td>0</td>\n",
       "      <td>0</td>\n",
       "      <td>0</td>\n",
       "      <td>0</td>\n",
       "      <td>0</td>\n",
       "      <td>0</td>\n",
       "      <td>0</td>\n",
       "      <td>0</td>\n",
       "      <td>0</td>\n",
       "      <td>0</td>\n",
       "      <td>0</td>\n",
       "      <td>4.0</td>\n",
       "      <td>0.001315</td>\n",
       "      <td>0.001269</td>\n",
       "      <td>0.001184</td>\n",
       "      <td>0.000922</td>\n",
       "      <td>0.000631</td>\n",
       "      <td>0.000542</td>\n",
       "      <td>0.002846</td>\n",
       "      <td>0.000752</td>\n",
       "      <td>0.000553</td>\n",
       "      <td>0.001124</td>\n",
       "      <td>0.000634</td>\n",
       "      <td>0.000145</td>\n",
       "      <td>0.000185</td>\n",
       "      <td>0.001394</td>\n",
       "    </tr>\n",
       "    <tr>\n",
       "      <th>711500</th>\n",
       "      <td>1.2.826.0.1.3680043.9994</td>\n",
       "      <td>262</td>\n",
       "      <td>512</td>\n",
       "      <td>512</td>\n",
       "      <td>1.000</td>\n",
       "      <td>-130.412</td>\n",
       "      <td>-119.7876</td>\n",
       "      <td>-692.300</td>\n",
       "      <td>0</td>\n",
       "      <td>0</td>\n",
       "      <td>0</td>\n",
       "      <td>0</td>\n",
       "      <td>0</td>\n",
       "      <td>0</td>\n",
       "      <td>0</td>\n",
       "      <td>0</td>\n",
       "      <td>0</td>\n",
       "      <td>0</td>\n",
       "      <td>0</td>\n",
       "      <td>0</td>\n",
       "      <td>0</td>\n",
       "      <td>0</td>\n",
       "      <td>0</td>\n",
       "      <td>4.0</td>\n",
       "      <td>0.001188</td>\n",
       "      <td>0.001037</td>\n",
       "      <td>0.001274</td>\n",
       "      <td>0.001061</td>\n",
       "      <td>0.000735</td>\n",
       "      <td>0.000677</td>\n",
       "      <td>0.004280</td>\n",
       "      <td>0.000548</td>\n",
       "      <td>0.000315</td>\n",
       "      <td>0.001044</td>\n",
       "      <td>0.000856</td>\n",
       "      <td>0.000190</td>\n",
       "      <td>0.000259</td>\n",
       "      <td>0.002672</td>\n",
       "    </tr>\n",
       "    <tr>\n",
       "      <th>711501</th>\n",
       "      <td>1.2.826.0.1.3680043.9994</td>\n",
       "      <td>263</td>\n",
       "      <td>512</td>\n",
       "      <td>512</td>\n",
       "      <td>1.000</td>\n",
       "      <td>-130.412</td>\n",
       "      <td>-119.7876</td>\n",
       "      <td>-693.100</td>\n",
       "      <td>0</td>\n",
       "      <td>0</td>\n",
       "      <td>0</td>\n",
       "      <td>0</td>\n",
       "      <td>0</td>\n",
       "      <td>0</td>\n",
       "      <td>0</td>\n",
       "      <td>0</td>\n",
       "      <td>0</td>\n",
       "      <td>0</td>\n",
       "      <td>0</td>\n",
       "      <td>0</td>\n",
       "      <td>0</td>\n",
       "      <td>0</td>\n",
       "      <td>0</td>\n",
       "      <td>4.0</td>\n",
       "      <td>0.001305</td>\n",
       "      <td>0.001037</td>\n",
       "      <td>0.001507</td>\n",
       "      <td>0.001372</td>\n",
       "      <td>0.000911</td>\n",
       "      <td>0.000770</td>\n",
       "      <td>0.004383</td>\n",
       "      <td>0.000577</td>\n",
       "      <td>0.000278</td>\n",
       "      <td>0.001192</td>\n",
       "      <td>0.001138</td>\n",
       "      <td>0.000257</td>\n",
       "      <td>0.000285</td>\n",
       "      <td>0.002571</td>\n",
       "    </tr>\n",
       "    <tr>\n",
       "      <th>711502</th>\n",
       "      <td>1.2.826.0.1.3680043.9994</td>\n",
       "      <td>264</td>\n",
       "      <td>512</td>\n",
       "      <td>512</td>\n",
       "      <td>1.000</td>\n",
       "      <td>-130.412</td>\n",
       "      <td>-119.7876</td>\n",
       "      <td>-693.900</td>\n",
       "      <td>0</td>\n",
       "      <td>0</td>\n",
       "      <td>0</td>\n",
       "      <td>0</td>\n",
       "      <td>0</td>\n",
       "      <td>0</td>\n",
       "      <td>0</td>\n",
       "      <td>0</td>\n",
       "      <td>0</td>\n",
       "      <td>0</td>\n",
       "      <td>0</td>\n",
       "      <td>0</td>\n",
       "      <td>0</td>\n",
       "      <td>0</td>\n",
       "      <td>0</td>\n",
       "      <td>4.0</td>\n",
       "      <td>0.000955</td>\n",
       "      <td>0.000830</td>\n",
       "      <td>0.001206</td>\n",
       "      <td>0.001151</td>\n",
       "      <td>0.000826</td>\n",
       "      <td>0.000699</td>\n",
       "      <td>0.002580</td>\n",
       "      <td>0.000414</td>\n",
       "      <td>0.000276</td>\n",
       "      <td>0.001048</td>\n",
       "      <td>0.000974</td>\n",
       "      <td>0.000276</td>\n",
       "      <td>0.000274</td>\n",
       "      <td>0.001192</td>\n",
       "    </tr>\n",
       "  </tbody>\n",
       "</table>\n",
       "<p>711503 rows × 38 columns</p>\n",
       "</div>"
      ],
      "text/plain": [
       "                 StudyInstanceUID  Slice  ImageHeight  ImageWidth  \\\n",
       "0       1.2.826.0.1.3680043.10032      1          512         512   \n",
       "1       1.2.826.0.1.3680043.10032      2          512         512   \n",
       "2       1.2.826.0.1.3680043.10032      3          512         512   \n",
       "3       1.2.826.0.1.3680043.10032      4          512         512   \n",
       "4       1.2.826.0.1.3680043.10032      5          512         512   \n",
       "...                           ...    ...          ...         ...   \n",
       "711498   1.2.826.0.1.3680043.9994    260          512         512   \n",
       "711499   1.2.826.0.1.3680043.9994    261          512         512   \n",
       "711500   1.2.826.0.1.3680043.9994    262          512         512   \n",
       "711501   1.2.826.0.1.3680043.9994    263          512         512   \n",
       "711502   1.2.826.0.1.3680043.9994    264          512         512   \n",
       "\n",
       "        SliceThickness  ImagePositionPatient_x  ImagePositionPatient_y  \\\n",
       "0                0.625                 -82.000                 11.7120   \n",
       "1                0.625                 -82.000                 11.7120   \n",
       "2                0.625                 -82.000                 11.7120   \n",
       "3                0.625                 -82.000                 11.7120   \n",
       "4                0.625                 -82.000                 11.7120   \n",
       "...                ...                     ...                     ...   \n",
       "711498           1.000                -130.412               -119.7876   \n",
       "711499           1.000                -130.412               -119.7876   \n",
       "711500           1.000                -130.412               -119.7876   \n",
       "711501           1.000                -130.412               -119.7876   \n",
       "711502           1.000                -130.412               -119.7876   \n",
       "\n",
       "        ImagePositionPatient_z  C1  C2  C3  C4  C5  C6  C7  patient_overall  \\\n",
       "0                       37.166   0   0   0   0   0   0   0                0   \n",
       "1                       36.541   0   0   0   0   0   0   0                0   \n",
       "2                       35.916   0   0   0   0   0   0   0                0   \n",
       "3                       35.291   0   0   0   0   0   0   0                0   \n",
       "4                       34.666   0   0   0   0   0   0   0                0   \n",
       "...                        ...  ..  ..  ..  ..  ..  ..  ..              ...   \n",
       "711498                -690.700   0   0   0   0   0   0   0                0   \n",
       "711499                -691.500   0   0   0   0   0   0   0                0   \n",
       "711500                -692.300   0   0   0   0   0   0   0                0   \n",
       "711501                -693.100   0   0   0   0   0   0   0                0   \n",
       "711502                -693.900   0   0   0   0   0   0   0                0   \n",
       "\n",
       "        C1_fracture  C2_fracture  C3_fracture  C4_fracture  C5_fracture  \\\n",
       "0                 0            0            0            0            0   \n",
       "1                 0            0            0            0            0   \n",
       "2                 0            0            0            0            0   \n",
       "3                 0            0            0            0            0   \n",
       "4                 0            0            0            0            0   \n",
       "...             ...          ...          ...          ...          ...   \n",
       "711498            0            0            0            0            0   \n",
       "711499            0            0            0            0            0   \n",
       "711500            0            0            0            0            0   \n",
       "711501            0            0            0            0            0   \n",
       "711502            0            0            0            0            0   \n",
       "\n",
       "        C6_fracture  C7_fracture  split  C1_effnet_frac  C2_effnet_frac  \\\n",
       "0                 0            0    0.0        0.000727        0.000883   \n",
       "1                 0            0    0.0        0.000675        0.000807   \n",
       "2                 0            0    0.0        0.000730        0.000869   \n",
       "3                 0            0    0.0        0.000863        0.001147   \n",
       "4                 0            0    0.0        0.000820        0.000940   \n",
       "...             ...          ...    ...             ...             ...   \n",
       "711498            0            0    4.0        0.001853        0.001450   \n",
       "711499            0            0    4.0        0.001315        0.001269   \n",
       "711500            0            0    4.0        0.001188        0.001037   \n",
       "711501            0            0    4.0        0.001305        0.001037   \n",
       "711502            0            0    4.0        0.000955        0.000830   \n",
       "\n",
       "        C3_effnet_frac  C4_effnet_frac  C5_effnet_frac  C6_effnet_frac  \\\n",
       "0             0.000820        0.000997        0.000693        0.000422   \n",
       "1             0.000709        0.000897        0.000600        0.000361   \n",
       "2             0.000721        0.000883        0.000624        0.000379   \n",
       "3             0.000846        0.001000        0.000638        0.000382   \n",
       "4             0.000820        0.001090        0.000707        0.000386   \n",
       "...                ...             ...             ...             ...   \n",
       "711498        0.001216        0.001040        0.000709        0.000575   \n",
       "711499        0.001184        0.000922        0.000631        0.000542   \n",
       "711500        0.001274        0.001061        0.000735        0.000677   \n",
       "711501        0.001507        0.001372        0.000911        0.000770   \n",
       "711502        0.001206        0.001151        0.000826        0.000699   \n",
       "\n",
       "        C7_effnet_frac  C1_effnet_vert  C2_effnet_vert  C3_effnet_vert  \\\n",
       "0             0.000429        0.001040        0.001831        0.003172   \n",
       "1             0.000354        0.000922        0.001411        0.002350   \n",
       "2             0.000424        0.000915        0.001315        0.002192   \n",
       "3             0.000439        0.001129        0.002209        0.002834   \n",
       "4             0.000494        0.000925        0.001265        0.002405   \n",
       "...                ...             ...             ...             ...   \n",
       "711498        0.002502        0.001341        0.000577        0.000918   \n",
       "711499        0.002846        0.000752        0.000553        0.001124   \n",
       "711500        0.004280        0.000548        0.000315        0.001044   \n",
       "711501        0.004383        0.000577        0.000278        0.001192   \n",
       "711502        0.002580        0.000414        0.000276        0.001048   \n",
       "\n",
       "        C4_effnet_vert  C5_effnet_vert  C6_effnet_vert  C7_effnet_vert  \n",
       "0             0.007347        0.001095        0.000229        0.000194  \n",
       "1             0.005200        0.000752        0.000163        0.000147  \n",
       "2             0.004757        0.000789        0.000190        0.000194  \n",
       "3             0.005120        0.000680        0.000173        0.000203  \n",
       "4             0.005688        0.000738        0.000155        0.000220  \n",
       "...                ...             ...             ...             ...  \n",
       "711498        0.000582        0.000162        0.000181        0.000951  \n",
       "711499        0.000634        0.000145        0.000185        0.001394  \n",
       "711500        0.000856        0.000190        0.000259        0.002672  \n",
       "711501        0.001138        0.000257        0.000285        0.002571  \n",
       "711502        0.000974        0.000276        0.000274        0.001192  \n",
       "\n",
       "[711503 rows x 38 columns]"
      ]
     },
     "execution_count": 29,
     "metadata": {},
     "output_type": "execute_result"
    }
   ],
   "source": [
    "df_pred = gen_effnet_predictions(effnet_models, df_train)\n",
    "df_pred.to_csv('train_predictions.csv', index=False)\n",
    "df_pred"
   ]
  },
  {
   "cell_type": "code",
   "execution_count": 30,
   "id": "408aeda1",
   "metadata": {
    "execution": {
     "iopub.execute_input": "2024-11-04T20:32:55.129719Z",
     "iopub.status.busy": "2024-11-04T20:32:55.129383Z",
     "iopub.status.idle": "2024-11-04T20:32:55.138817Z",
     "shell.execute_reply": "2024-11-04T20:32:55.137889Z"
    },
    "papermill": {
     "duration": 0.034119,
     "end_time": "2024-11-04T20:32:55.141149",
     "exception": false,
     "start_time": "2024-11-04T20:32:55.107030",
     "status": "completed"
    },
    "pycharm": {
     "name": "#%%\n"
    },
    "tags": []
   },
   "outputs": [],
   "source": [
    "def plot_sample_patient(df_pred):\n",
    "    \"\"\"\n",
    "    Grafica un paciente aleatorio con sus predicciones de fracturas y vértebras\n",
    "\n",
    "    Args:\n",
    "        df_pred (pd.DataFrame): DataFrame con las predicciones de fracturas y vértebras\n",
    "    \"\"\"\n",
    "    patient = np.random.choice(df_pred.StudyInstanceUID)\n",
    "    df = df_pred.query('StudyInstanceUID == @patient').reset_index()\n",
    "\n",
    "    # Primer gráfico: fracturas del paciente\n",
    "    ax1 = plt.subplot(1, 3, 1)\n",
    "    ax1.plot(df[[f'C{i}_fracture' for i in range(1, 8)]].values * df[[f'C{i}' for i in range(1, 8)]].values)\n",
    "    ax1.set_title(f'Patient {patient}, fractures')\n",
    "\n",
    "    # Segundo gráfico: predicción de fracturas\n",
    "    df[[f'C{i}_effnet_frac' for i in range(1, 8)]].plot(\n",
    "        title=f'Patient {patient}, fracture prediction',\n",
    "        ax=plt.subplot(1, 3, 2)\n",
    "    )\n",
    "\n",
    "    # Tercer gráfico: predicción de vértebras\n",
    "    df[[f'C{i}_effnet_vert' for i in range(1, 8)]].plot(\n",
    "        title=f'Patient {patient}, vertebrae prediction',\n",
    "        ax=plt.subplot(1, 3, 3)\n",
    "    )\n",
    "\n",
    "    plt.tight_layout()  # Ajusta el layout para que los títulos no se solapen\n",
    "    plt.show()\n"
   ]
  },
  {
   "cell_type": "markdown",
   "id": "ce61a9ff",
   "metadata": {
    "papermill": {
     "duration": 0.021323,
     "end_time": "2024-11-04T20:32:55.183833",
     "exception": false,
     "start_time": "2024-11-04T20:32:55.162510",
     "status": "completed"
    },
    "tags": []
   },
   "source": [
    "### Resultados con pacientes aleatorios"
   ]
  },
  {
   "cell_type": "code",
   "execution_count": 31,
   "id": "2faba55d",
   "metadata": {
    "execution": {
     "iopub.execute_input": "2024-11-04T20:32:55.228990Z",
     "iopub.status.busy": "2024-11-04T20:32:55.228648Z",
     "iopub.status.idle": "2024-11-04T20:32:55.950235Z",
     "shell.execute_reply": "2024-11-04T20:32:55.949245Z"
    },
    "papermill": {
     "duration": 0.747169,
     "end_time": "2024-11-04T20:32:55.953443",
     "exception": false,
     "start_time": "2024-11-04T20:32:55.206274",
     "status": "completed"
    },
    "tags": []
   },
   "outputs": [
    {
     "data": {
      "image/png": "[encoded data removed]",
      "text/plain": [
       "<Figure size 1440x360 with 3 Axes>"
      ]
     },
     "metadata": {
      "needs_background": "light"
     },
     "output_type": "display_data"
    }
   ],
   "source": [
    "plot_sample_patient(df_pred)"
   ]
  },
  {
   "cell_type": "code",
   "execution_count": 32,
   "id": "12c3de4e",
   "metadata": {
    "execution": {
     "iopub.execute_input": "2024-11-04T20:32:56.002774Z",
     "iopub.status.busy": "2024-11-04T20:32:56.001906Z",
     "iopub.status.idle": "2024-11-04T20:32:56.709221Z",
     "shell.execute_reply": "2024-11-04T20:32:56.708192Z"
    },
    "papermill": {
     "duration": 0.734502,
     "end_time": "2024-11-04T20:32:56.712013",
     "exception": false,
     "start_time": "2024-11-04T20:32:55.977511",
     "status": "completed"
    },
    "pycharm": {
     "name": "#%%\n"
    },
    "tags": []
   },
   "outputs": [
    {
     "data": {
      "image/png": "[encoded data removed]",
      "text/plain": [
       "<Figure size 1440x360 with 3 Axes>"
      ]
     },
     "metadata": {
      "needs_background": "light"
     },
     "output_type": "display_data"
    }
   ],
   "source": [
    "plot_sample_patient(df_pred)"
   ]
  },
  {
   "cell_type": "code",
   "execution_count": 33,
   "id": "8442338a",
   "metadata": {
    "execution": {
     "iopub.execute_input": "2024-11-04T20:32:56.763927Z",
     "iopub.status.busy": "2024-11-04T20:32:56.763550Z",
     "iopub.status.idle": "2024-11-04T20:32:57.499193Z",
     "shell.execute_reply": "2024-11-04T20:32:57.498229Z"
    },
    "papermill": {
     "duration": 0.764955,
     "end_time": "2024-11-04T20:32:57.502350",
     "exception": false,
     "start_time": "2024-11-04T20:32:56.737395",
     "status": "completed"
    },
    "pycharm": {
     "name": "#%%\n"
    },
    "tags": []
   },
   "outputs": [
    {
     "data": {
      "image/png": "[encoded data removed]",
      "text/plain": [
       "<Figure size 1440x360 with 3 Axes>"
      ]
     },
     "metadata": {
      "needs_background": "light"
     },
     "output_type": "display_data"
    }
   ],
   "source": [
    "plot_sample_patient(df_pred)"
   ]
  },
  {
   "cell_type": "markdown",
   "id": "a11eb891",
   "metadata": {
    "papermill": {
     "duration": 0.026069,
     "end_time": "2024-11-04T20:32:57.555286",
     "exception": false,
     "start_time": "2024-11-04T20:32:57.529217",
     "status": "completed"
    },
    "tags": []
   },
   "source": [
    "## Generacion de predicciones"
   ]
  },
  {
   "cell_type": "code",
   "execution_count": 34,
   "id": "9af94a33",
   "metadata": {
    "execution": {
     "iopub.execute_input": "2024-11-04T20:32:57.608978Z",
     "iopub.status.busy": "2024-11-04T20:32:57.608605Z",
     "iopub.status.idle": "2024-11-04T20:32:59.961415Z",
     "shell.execute_reply": "2024-11-04T20:32:59.960300Z"
    },
    "papermill": {
     "duration": 2.382711,
     "end_time": "2024-11-04T20:32:59.964000",
     "exception": false,
     "start_time": "2024-11-04T20:32:57.581289",
     "status": "completed"
    },
    "pycharm": {
     "name": "#%%\n"
    },
    "tags": []
   },
   "outputs": [],
   "source": [
    "target_cols = ['patient_overall'] + [f'C{i}_fracture' for i in range(1, 8)]\n",
    "frac_cols = [f'C{i}_effnet_frac' for i in range(1, 8)]\n",
    "vert_cols = [f'C{i}_effnet_vert' for i in range(1, 8)]\n",
    "\n",
    "\n",
    "def patient_prediction(df):\n",
    "    c1c7 = np.average(df[frac_cols].values, axis=0, weights=df[vert_cols].values)\n",
    "    pred_patient_overall = 1 - np.prod(1 - c1c7)\n",
    "    return np.concatenate([[pred_patient_overall], c1c7])\n",
    "\n",
    "df_patient_pred = df_pred.groupby('StudyInstanceUID').apply(lambda df: patient_prediction(df)).to_frame('pred').join(df_pred.groupby('StudyInstanceUID')[target_cols].mean())"
   ]
  },
  {
   "cell_type": "code",
   "execution_count": 35,
   "id": "d4ff45bc",
   "metadata": {
    "execution": {
     "iopub.execute_input": "2024-11-04T20:33:00.019794Z",
     "iopub.status.busy": "2024-11-04T20:33:00.019102Z",
     "iopub.status.idle": "2024-11-04T20:33:00.039626Z",
     "shell.execute_reply": "2024-11-04T20:33:00.038679Z"
    },
    "papermill": {
     "duration": 0.050554,
     "end_time": "2024-11-04T20:33:00.041642",
     "exception": false,
     "start_time": "2024-11-04T20:32:59.991088",
     "status": "completed"
    },
    "pycharm": {
     "name": "#%%\n"
    },
    "tags": []
   },
   "outputs": [
    {
     "data": {
      "text/html": [
       "<div>\n",
       "<style scoped>\n",
       "    .dataframe tbody tr th:only-of-type {\n",
       "        vertical-align: middle;\n",
       "    }\n",
       "\n",
       "    .dataframe tbody tr th {\n",
       "        vertical-align: top;\n",
       "    }\n",
       "\n",
       "    .dataframe thead th {\n",
       "        text-align: right;\n",
       "    }\n",
       "</style>\n",
       "<table border=\"1\" class=\"dataframe\">\n",
       "  <thead>\n",
       "    <tr style=\"text-align: right;\">\n",
       "      <th></th>\n",
       "      <th>pred</th>\n",
       "      <th>patient_overall</th>\n",
       "      <th>C1_fracture</th>\n",
       "      <th>C2_fracture</th>\n",
       "      <th>C3_fracture</th>\n",
       "      <th>C4_fracture</th>\n",
       "      <th>C5_fracture</th>\n",
       "      <th>C6_fracture</th>\n",
       "      <th>C7_fracture</th>\n",
       "    </tr>\n",
       "    <tr>\n",
       "      <th>StudyInstanceUID</th>\n",
       "      <th></th>\n",
       "      <th></th>\n",
       "      <th></th>\n",
       "      <th></th>\n",
       "      <th></th>\n",
       "      <th></th>\n",
       "      <th></th>\n",
       "      <th></th>\n",
       "      <th></th>\n",
       "    </tr>\n",
       "  </thead>\n",
       "  <tbody>\n",
       "    <tr>\n",
       "      <th>1.2.826.0.1.3680043.10001</th>\n",
       "      <td>[0.6597993086925601, 0.016618907838660275, 0.0...</td>\n",
       "      <td>0.0</td>\n",
       "      <td>0.0</td>\n",
       "      <td>0.0</td>\n",
       "      <td>0.0</td>\n",
       "      <td>0.0</td>\n",
       "      <td>0.0</td>\n",
       "      <td>0.0</td>\n",
       "      <td>0.0</td>\n",
       "    </tr>\n",
       "    <tr>\n",
       "      <th>1.2.826.0.1.3680043.10005</th>\n",
       "      <td>[0.5736867044966425, 0.045942942809370294, 0.2...</td>\n",
       "      <td>0.0</td>\n",
       "      <td>0.0</td>\n",
       "      <td>0.0</td>\n",
       "      <td>0.0</td>\n",
       "      <td>0.0</td>\n",
       "      <td>0.0</td>\n",
       "      <td>0.0</td>\n",
       "      <td>0.0</td>\n",
       "    </tr>\n",
       "    <tr>\n",
       "      <th>1.2.826.0.1.3680043.10014</th>\n",
       "      <td>[0.45689148601955476, 0.04066260208031813, 0.0...</td>\n",
       "      <td>0.0</td>\n",
       "      <td>0.0</td>\n",
       "      <td>0.0</td>\n",
       "      <td>0.0</td>\n",
       "      <td>0.0</td>\n",
       "      <td>0.0</td>\n",
       "      <td>0.0</td>\n",
       "      <td>0.0</td>\n",
       "    </tr>\n",
       "    <tr>\n",
       "      <th>1.2.826.0.1.3680043.10016</th>\n",
       "      <td>[0.2460321392949666, 0.015621005477521474, 0.0...</td>\n",
       "      <td>1.0</td>\n",
       "      <td>0.0</td>\n",
       "      <td>1.0</td>\n",
       "      <td>0.0</td>\n",
       "      <td>0.0</td>\n",
       "      <td>0.0</td>\n",
       "      <td>0.0</td>\n",
       "      <td>0.0</td>\n",
       "    </tr>\n",
       "    <tr>\n",
       "      <th>1.2.826.0.1.3680043.10032</th>\n",
       "      <td>[0.43718611420226183, 0.04664682763992611, 0.0...</td>\n",
       "      <td>0.0</td>\n",
       "      <td>0.0</td>\n",
       "      <td>0.0</td>\n",
       "      <td>0.0</td>\n",
       "      <td>0.0</td>\n",
       "      <td>0.0</td>\n",
       "      <td>0.0</td>\n",
       "      <td>0.0</td>\n",
       "    </tr>\n",
       "  </tbody>\n",
       "</table>\n",
       "</div>"
      ],
      "text/plain": [
       "                                                                        pred  \\\n",
       "StudyInstanceUID                                                               \n",
       "1.2.826.0.1.3680043.10001  [0.6597993086925601, 0.016618907838660275, 0.0...   \n",
       "1.2.826.0.1.3680043.10005  [0.5736867044966425, 0.045942942809370294, 0.2...   \n",
       "1.2.826.0.1.3680043.10014  [0.45689148601955476, 0.04066260208031813, 0.0...   \n",
       "1.2.826.0.1.3680043.10016  [0.2460321392949666, 0.015621005477521474, 0.0...   \n",
       "1.2.826.0.1.3680043.10032  [0.43718611420226183, 0.04664682763992611, 0.0...   \n",
       "\n",
       "                           patient_overall  C1_fracture  C2_fracture  \\\n",
       "StudyInstanceUID                                                       \n",
       "1.2.826.0.1.3680043.10001              0.0          0.0          0.0   \n",
       "1.2.826.0.1.3680043.10005              0.0          0.0          0.0   \n",
       "1.2.826.0.1.3680043.10014              0.0          0.0          0.0   \n",
       "1.2.826.0.1.3680043.10016              1.0          0.0          1.0   \n",
       "1.2.826.0.1.3680043.10032              0.0          0.0          0.0   \n",
       "\n",
       "                           C3_fracture  C4_fracture  C5_fracture  C6_fracture  \\\n",
       "StudyInstanceUID                                                                \n",
       "1.2.826.0.1.3680043.10001          0.0          0.0          0.0          0.0   \n",
       "1.2.826.0.1.3680043.10005          0.0          0.0          0.0          0.0   \n",
       "1.2.826.0.1.3680043.10014          0.0          0.0          0.0          0.0   \n",
       "1.2.826.0.1.3680043.10016          0.0          0.0          0.0          0.0   \n",
       "1.2.826.0.1.3680043.10032          0.0          0.0          0.0          0.0   \n",
       "\n",
       "                           C7_fracture  \n",
       "StudyInstanceUID                        \n",
       "1.2.826.0.1.3680043.10001          0.0  \n",
       "1.2.826.0.1.3680043.10005          0.0  \n",
       "1.2.826.0.1.3680043.10014          0.0  \n",
       "1.2.826.0.1.3680043.10016          0.0  \n",
       "1.2.826.0.1.3680043.10032          0.0  "
      ]
     },
     "metadata": {},
     "output_type": "display_data"
    }
   ],
   "source": [
    "display(df_patient_pred.head())"
   ]
  },
  {
   "cell_type": "code",
   "execution_count": 36,
   "id": "bfb002fc",
   "metadata": {
    "execution": {
     "iopub.execute_input": "2024-11-04T20:33:00.095990Z",
     "iopub.status.busy": "2024-11-04T20:33:00.095300Z",
     "iopub.status.idle": "2024-11-04T20:33:00.594947Z",
     "shell.execute_reply": "2024-11-04T20:33:00.593692Z"
    },
    "papermill": {
     "duration": 0.529397,
     "end_time": "2024-11-04T20:33:00.597472",
     "exception": false,
     "start_time": "2024-11-04T20:33:00.068075",
     "status": "completed"
    },
    "tags": []
   },
   "outputs": [
    {
     "data": {
      "text/html": [
       "<div>\n",
       "<style scoped>\n",
       "    .dataframe tbody tr th:only-of-type {\n",
       "        vertical-align: middle;\n",
       "    }\n",
       "\n",
       "    .dataframe tbody tr th {\n",
       "        vertical-align: top;\n",
       "    }\n",
       "\n",
       "    .dataframe thead th {\n",
       "        text-align: right;\n",
       "    }\n",
       "</style>\n",
       "<table border=\"1\" class=\"dataframe\">\n",
       "  <thead>\n",
       "    <tr style=\"text-align: right;\">\n",
       "      <th></th>\n",
       "      <th>StudyInstanceUID</th>\n",
       "      <th>patient_overall</th>\n",
       "      <th>C1</th>\n",
       "      <th>C2</th>\n",
       "      <th>C3</th>\n",
       "      <th>C4</th>\n",
       "      <th>C5</th>\n",
       "      <th>C6</th>\n",
       "      <th>C7</th>\n",
       "    </tr>\n",
       "  </thead>\n",
       "  <tbody>\n",
       "    <tr>\n",
       "      <th>0</th>\n",
       "      <td>1.2.826.0.1.3680043.10001</td>\n",
       "      <td>0.659799</td>\n",
       "      <td>0.016619</td>\n",
       "      <td>0.032367</td>\n",
       "      <td>0.022265</td>\n",
       "      <td>0.070120</td>\n",
       "      <td>0.173664</td>\n",
       "      <td>0.303744</td>\n",
       "      <td>0.316515</td>\n",
       "    </tr>\n",
       "    <tr>\n",
       "      <th>1</th>\n",
       "      <td>1.2.826.0.1.3680043.10005</td>\n",
       "      <td>0.573687</td>\n",
       "      <td>0.045943</td>\n",
       "      <td>0.206739</td>\n",
       "      <td>0.070035</td>\n",
       "      <td>0.031125</td>\n",
       "      <td>0.098427</td>\n",
       "      <td>0.162626</td>\n",
       "      <td>0.171899</td>\n",
       "    </tr>\n",
       "    <tr>\n",
       "      <th>2</th>\n",
       "      <td>1.2.826.0.1.3680043.10014</td>\n",
       "      <td>0.456891</td>\n",
       "      <td>0.040663</td>\n",
       "      <td>0.041848</td>\n",
       "      <td>0.049432</td>\n",
       "      <td>0.102014</td>\n",
       "      <td>0.083907</td>\n",
       "      <td>0.062477</td>\n",
       "      <td>0.194053</td>\n",
       "    </tr>\n",
       "    <tr>\n",
       "      <th>3</th>\n",
       "      <td>1.2.826.0.1.3680043.10016</td>\n",
       "      <td>0.246032</td>\n",
       "      <td>0.015621</td>\n",
       "      <td>0.016703</td>\n",
       "      <td>0.011127</td>\n",
       "      <td>0.007588</td>\n",
       "      <td>0.048375</td>\n",
       "      <td>0.061466</td>\n",
       "      <td>0.111296</td>\n",
       "    </tr>\n",
       "    <tr>\n",
       "      <th>4</th>\n",
       "      <td>1.2.826.0.1.3680043.10032</td>\n",
       "      <td>0.437186</td>\n",
       "      <td>0.046647</td>\n",
       "      <td>0.050965</td>\n",
       "      <td>0.015643</td>\n",
       "      <td>0.025782</td>\n",
       "      <td>0.049071</td>\n",
       "      <td>0.102950</td>\n",
       "      <td>0.239577</td>\n",
       "    </tr>\n",
       "    <tr>\n",
       "      <th>...</th>\n",
       "      <td>...</td>\n",
       "      <td>...</td>\n",
       "      <td>...</td>\n",
       "      <td>...</td>\n",
       "      <td>...</td>\n",
       "      <td>...</td>\n",
       "      <td>...</td>\n",
       "      <td>...</td>\n",
       "      <td>...</td>\n",
       "    </tr>\n",
       "    <tr>\n",
       "      <th>2013</th>\n",
       "      <td>1.2.826.0.1.3680043.9926</td>\n",
       "      <td>0.767675</td>\n",
       "      <td>0.041172</td>\n",
       "      <td>0.099847</td>\n",
       "      <td>0.042485</td>\n",
       "      <td>0.089577</td>\n",
       "      <td>0.142878</td>\n",
       "      <td>0.375630</td>\n",
       "      <td>0.423014</td>\n",
       "    </tr>\n",
       "    <tr>\n",
       "      <th>2014</th>\n",
       "      <td>1.2.826.0.1.3680043.9940</td>\n",
       "      <td>0.368383</td>\n",
       "      <td>0.014101</td>\n",
       "      <td>0.036256</td>\n",
       "      <td>0.048889</td>\n",
       "      <td>0.040401</td>\n",
       "      <td>0.031873</td>\n",
       "      <td>0.066625</td>\n",
       "      <td>0.193973</td>\n",
       "    </tr>\n",
       "    <tr>\n",
       "      <th>2015</th>\n",
       "      <td>1.2.826.0.1.3680043.9994</td>\n",
       "      <td>0.728813</td>\n",
       "      <td>0.113028</td>\n",
       "      <td>0.150320</td>\n",
       "      <td>0.027344</td>\n",
       "      <td>0.030463</td>\n",
       "      <td>0.124349</td>\n",
       "      <td>0.307062</td>\n",
       "      <td>0.371139</td>\n",
       "    </tr>\n",
       "    <tr>\n",
       "      <th>2016</th>\n",
       "      <td>1.2.826.0.1.3680043.9996</td>\n",
       "      <td>0.596007</td>\n",
       "      <td>0.220462</td>\n",
       "      <td>0.310470</td>\n",
       "      <td>0.021631</td>\n",
       "      <td>0.013604</td>\n",
       "      <td>0.027134</td>\n",
       "      <td>0.036550</td>\n",
       "      <td>0.169102</td>\n",
       "    </tr>\n",
       "    <tr>\n",
       "      <th>2017</th>\n",
       "      <td>1.2.826.0.1.3680043.9997</td>\n",
       "      <td>0.606465</td>\n",
       "      <td>0.022465</td>\n",
       "      <td>0.043880</td>\n",
       "      <td>0.026823</td>\n",
       "      <td>0.072269</td>\n",
       "      <td>0.158223</td>\n",
       "      <td>0.157777</td>\n",
       "      <td>0.342190</td>\n",
       "    </tr>\n",
       "  </tbody>\n",
       "</table>\n",
       "<p>2018 rows × 9 columns</p>\n",
       "</div>"
      ],
      "text/plain": [
       "               StudyInstanceUID  patient_overall        C1        C2  \\\n",
       "0     1.2.826.0.1.3680043.10001         0.659799  0.016619  0.032367   \n",
       "1     1.2.826.0.1.3680043.10005         0.573687  0.045943  0.206739   \n",
       "2     1.2.826.0.1.3680043.10014         0.456891  0.040663  0.041848   \n",
       "3     1.2.826.0.1.3680043.10016         0.246032  0.015621  0.016703   \n",
       "4     1.2.826.0.1.3680043.10032         0.437186  0.046647  0.050965   \n",
       "...                         ...              ...       ...       ...   \n",
       "2013   1.2.826.0.1.3680043.9926         0.767675  0.041172  0.099847   \n",
       "2014   1.2.826.0.1.3680043.9940         0.368383  0.014101  0.036256   \n",
       "2015   1.2.826.0.1.3680043.9994         0.728813  0.113028  0.150320   \n",
       "2016   1.2.826.0.1.3680043.9996         0.596007  0.220462  0.310470   \n",
       "2017   1.2.826.0.1.3680043.9997         0.606465  0.022465  0.043880   \n",
       "\n",
       "            C3        C4        C5        C6        C7  \n",
       "0     0.022265  0.070120  0.173664  0.303744  0.316515  \n",
       "1     0.070035  0.031125  0.098427  0.162626  0.171899  \n",
       "2     0.049432  0.102014  0.083907  0.062477  0.194053  \n",
       "3     0.011127  0.007588  0.048375  0.061466  0.111296  \n",
       "4     0.015643  0.025782  0.049071  0.102950  0.239577  \n",
       "...        ...       ...       ...       ...       ...  \n",
       "2013  0.042485  0.089577  0.142878  0.375630  0.423014  \n",
       "2014  0.048889  0.040401  0.031873  0.066625  0.193973  \n",
       "2015  0.027344  0.030463  0.124349  0.307062  0.371139  \n",
       "2016  0.021631  0.013604  0.027134  0.036550  0.169102  \n",
       "2017  0.026823  0.072269  0.158223  0.157777  0.342190  \n",
       "\n",
       "[2018 rows x 9 columns]"
      ]
     },
     "metadata": {},
     "output_type": "display_data"
    }
   ],
   "source": [
    "# Crear el DataFrame inicial con 'StudyInstanceUID' como índice y 'pred' desglosado en columnas\n",
    "df_patient_pred_expanded = (\n",
    "    df_patient_pred['pred']\n",
    "    .apply(pd.Series)  # Expande el array en columnas separadas\n",
    "    .rename(columns={0: 'patient_overall', 1: 'C1', 2: 'C2', 3: 'C3', 4: 'C4', 5: 'C5', 6: 'C6', 7: 'C7'})\n",
    ")\n",
    "\n",
    "# Agregar 'StudyInstanceUID' como columna, si no es ya parte del índice\n",
    "df_patient_pred_expanded = df_patient_pred_expanded.reset_index()\n",
    "\n",
    "# Ahora el DataFrame tendrá las columnas: 'StudyInstanceUID', 'patient_overall', 'C1', 'C2', ..., 'C7'\n",
    "display(df_patient_pred_expanded)"
   ]
  },
  {
   "cell_type": "code",
   "execution_count": 37,
   "id": "0c7b4040",
   "metadata": {
    "execution": {
     "iopub.execute_input": "2024-11-04T20:33:00.661443Z",
     "iopub.status.busy": "2024-11-04T20:33:00.661094Z",
     "iopub.status.idle": "2024-11-04T20:33:00.712521Z",
     "shell.execute_reply": "2024-11-04T20:33:00.711771Z"
    },
    "papermill": {
     "duration": 0.084297,
     "end_time": "2024-11-04T20:33:00.714621",
     "exception": false,
     "start_time": "2024-11-04T20:33:00.630324",
     "status": "completed"
    },
    "tags": []
   },
   "outputs": [],
   "source": [
    "# Guardar el primer CSV con las columnas necesarias de df_patient_pred_expanded\n",
    "df_patient_pred_expanded[['StudyInstanceUID', 'patient_overall', 'C1', 'C2', 'C3', 'C4', 'C5', 'C6', 'C7']].to_csv('train_patient_predictions.csv', index=False)\n",
    "\n",
    "# Crear una copia de df_patient_pred sin la columna 'pred'\n",
    "df_patient_pred_no_pred = df_patient_pred.drop(columns=['pred'])\n",
    "\n",
    "# Renombrar las columnas C1_fracture - C7_fracture a C1 - C7\n",
    "df_patient_pred_no_pred = df_patient_pred_no_pred.rename(columns={\n",
    "    'C1_fracture': 'C1', 'C2_fracture': 'C2', 'C3_fracture': 'C3',\n",
    "    'C4_fracture': 'C4', 'C5_fracture': 'C5', 'C6_fracture': 'C6', 'C7_fracture': 'C7'\n",
    "})\n",
    "\n",
    "# Guardar el segundo CSV\n",
    "df_patient_pred_no_pred.to_csv('train_fracture_predictions.csv', index=False)\n"
   ]
  },
  {
   "cell_type": "code",
   "execution_count": 38,
   "id": "17bae061",
   "metadata": {
    "execution": {
     "iopub.execute_input": "2024-11-04T20:33:00.782925Z",
     "iopub.status.busy": "2024-11-04T20:33:00.781786Z",
     "iopub.status.idle": "2024-11-04T20:33:00.791915Z",
     "shell.execute_reply": "2024-11-04T20:33:00.790826Z"
    },
    "papermill": {
     "duration": 0.050566,
     "end_time": "2024-11-04T20:33:00.794622",
     "exception": false,
     "start_time": "2024-11-04T20:33:00.744056",
     "status": "completed"
    },
    "pycharm": {
     "name": "#%%\n"
    },
    "tags": []
   },
   "outputs": [],
   "source": [
    "# Pasar a numpy stack\n",
    "predictions = np.stack(df_patient_pred.pred.values.tolist())"
   ]
  },
  {
   "cell_type": "code",
   "execution_count": 39,
   "id": "8e84676e",
   "metadata": {
    "execution": {
     "iopub.execute_input": "2024-11-04T20:33:00.853319Z",
     "iopub.status.busy": "2024-11-04T20:33:00.852634Z",
     "iopub.status.idle": "2024-11-04T20:33:00.857715Z",
     "shell.execute_reply": "2024-11-04T20:33:00.856825Z"
    },
    "papermill": {
     "duration": 0.034882,
     "end_time": "2024-11-04T20:33:00.859847",
     "exception": false,
     "start_time": "2024-11-04T20:33:00.824965",
     "status": "completed"
    },
    "pycharm": {
     "name": "#%%\n"
    },
    "tags": []
   },
   "outputs": [],
   "source": [
    "# Generar array de targets\n",
    "targets = df_patient_pred[target_cols].values"
   ]
  },
  {
   "cell_type": "code",
   "execution_count": 40,
   "id": "33d46da5",
   "metadata": {
    "execution": {
     "iopub.execute_input": "2024-11-04T20:33:00.915916Z",
     "iopub.status.busy": "2024-11-04T20:33:00.915236Z",
     "iopub.status.idle": "2024-11-04T20:33:00.928456Z",
     "shell.execute_reply": "2024-11-04T20:33:00.927063Z"
    },
    "papermill": {
     "duration": 0.044033,
     "end_time": "2024-11-04T20:33:00.930736",
     "exception": false,
     "start_time": "2024-11-04T20:33:00.886703",
     "status": "completed"
    },
    "pycharm": {
     "name": "#%%\n"
    },
    "tags": []
   },
   "outputs": [
    {
     "name": "stdout",
     "output_type": "stream",
     "text": [
      "CV score: tensor(0.4955, device='cuda:0', dtype=torch.float64)\n"
     ]
    }
   ],
   "source": [
    "# Obtener el Cross Valdation score\n",
    "print('CV score:', weighted_loss(torch.logit(torch.as_tensor(predictions)).to(DEVICE), torch.as_tensor(targets).to(DEVICE)))"
   ]
  }
 ],
 "metadata": {
  "kaggle": {
   "accelerator": "gpu",
   "dataSources": [
    {
     "databundleVersionId": 4050810,
     "sourceId": 36363,
     "sourceType": "competition"
    },
    {
     "datasetId": 2438951,
     "sourceId": 4128666,
     "sourceType": "datasetVersion"
    },
    {
     "datasetId": 2440666,
     "sourceId": 4131877,
     "sourceType": "datasetVersion"
    },
    {
     "datasetId": 6004626,
     "sourceId": 9797883,
     "sourceType": "datasetVersion"
    },
    {
     "sourceId": 104036025,
     "sourceType": "kernelVersion"
    }
   ],
   "dockerImageVersionId": 30214,
   "isGpuEnabled": true,
   "isInternetEnabled": true,
   "language": "python",
   "sourceType": "notebook"
  },
  "kernelspec": {
   "display_name": "Python 3",
   "language": "python",
   "name": "python3"
  },
  "language_info": {
   "codemirror_mode": {
    "name": "ipython",
    "version": 3
   },
   "file_extension": ".py",
   "mimetype": "text/x-python",
   "name": "python",
   "nbconvert_exporter": "python",
   "pygments_lexer": "ipython3",
   "version": "3.7.12"
  },
  "papermill": {
   "default_parameters": {},
   "duration": 159.892665,
   "end_time": "2024-11-04T20:33:02.080342",
   "environment_variables": {},
   "exception": null,
   "input_path": "__notebook__.ipynb",
   "output_path": "__notebook__.ipynb",
   "parameters": {},
   "start_time": "2024-11-04T20:30:22.187677",
   "version": "2.3.4"
  },
  "widgets": {
   "application/vnd.jupyter.widget-state+json": {
    "state": {
     "189b1e7d0e5f4339b14e7797c45a4020": {
      "model_module": "@jupyter-widgets/controls",
      "model_module_version": "1.5.0",
      "model_name": "HTMLModel",
      "state": {
       "_dom_classes": [],
       "_model_module": "@jupyter-widgets/controls",
       "_model_module_version": "1.5.0",
       "_model_name": "HTMLModel",
       "_view_count": null,
       "_view_module": "@jupyter-widgets/controls",
       "_view_module_version": "1.5.0",
       "_view_name": "HTMLView",
       "description": "",
       "description_tooltip": null,
       "layout": "IPY_MODEL_ffdd5d3810f84bc985cc6ce01cc3328d",
       "placeholder": "​",
       "style": "IPY_MODEL_a2ca005f2bbf47b893abdd3767bcfe22",
       "value": " 5/5 [00:06&lt;00:00,  1.25s/it]"
      }
     },
     "59e94cfdcc4745c3891db29f9e247315": {
      "model_module": "@jupyter-widgets/controls",
      "model_module_version": "1.5.0",
      "model_name": "DescriptionStyleModel",
      "state": {
       "_model_module": "@jupyter-widgets/controls",
       "_model_module_version": "1.5.0",
       "_model_name": "DescriptionStyleModel",
       "_view_count": null,
       "_view_module": "@jupyter-widgets/base",
       "_view_module_version": "1.2.0",
       "_view_name": "StyleView",
       "description_width": ""
      }
     },
     "5f7444bd6a714954b5696cf586f437f6": {
      "model_module": "@jupyter-widgets/base",
      "model_module_version": "1.2.0",
      "model_name": "LayoutModel",
      "state": {
       "_model_module": "@jupyter-widgets/base",
       "_model_module_version": "1.2.0",
       "_model_name": "LayoutModel",
       "_view_count": null,
       "_view_module": "@jupyter-widgets/base",
       "_view_module_version": "1.2.0",
       "_view_name": "LayoutView",
       "align_content": null,
       "align_items": null,
       "align_self": null,
       "border": null,
       "bottom": null,
       "display": null,
       "flex": null,
       "flex_flow": null,
       "grid_area": null,
       "grid_auto_columns": null,
       "grid_auto_flow": null,
       "grid_auto_rows": null,
       "grid_column": null,
       "grid_gap": null,
       "grid_row": null,
       "grid_template_areas": null,
       "grid_template_columns": null,
       "grid_template_rows": null,
       "height": null,
       "justify_content": null,
       "justify_items": null,
       "left": null,
       "margin": null,
       "max_height": null,
       "max_width": null,
       "min_height": null,
       "min_width": null,
       "object_fit": null,
       "object_position": null,
       "order": null,
       "overflow": null,
       "overflow_x": null,
       "overflow_y": null,
       "padding": null,
       "right": null,
       "top": null,
       "visibility": null,
       "width": null
      }
     },
     "6992c013c5dd4fa881618408aae677d9": {
      "model_module": "@jupyter-widgets/base",
      "model_module_version": "1.2.0",
      "model_name": "LayoutModel",
      "state": {
       "_model_module": "@jupyter-widgets/base",
       "_model_module_version": "1.2.0",
       "_model_name": "LayoutModel",
       "_view_count": null,
       "_view_module": "@jupyter-widgets/base",
       "_view_module_version": "1.2.0",
       "_view_name": "LayoutView",
       "align_content": null,
       "align_items": null,
       "align_self": null,
       "border": null,
       "bottom": null,
       "display": null,
       "flex": null,
       "flex_flow": null,
       "grid_area": null,
       "grid_auto_columns": null,
       "grid_auto_flow": null,
       "grid_auto_rows": null,
       "grid_column": null,
       "grid_gap": null,
       "grid_row": null,
       "grid_template_areas": null,
       "grid_template_columns": null,
       "grid_template_rows": null,
       "height": null,
       "justify_content": null,
       "justify_items": null,
       "left": null,
       "margin": null,
       "max_height": null,
       "max_width": null,
       "min_height": null,
       "min_width": null,
       "object_fit": null,
       "object_position": null,
       "order": null,
       "overflow": null,
       "overflow_x": null,
       "overflow_y": null,
       "padding": null,
       "right": null,
       "top": null,
       "visibility": null,
       "width": null
      }
     },
     "825886653139481aac236d09c8fbe6be": {
      "model_module": "@jupyter-widgets/controls",
      "model_module_version": "1.5.0",
      "model_name": "ProgressStyleModel",
      "state": {
       "_model_module": "@jupyter-widgets/controls",
       "_model_module_version": "1.5.0",
       "_model_name": "ProgressStyleModel",
       "_view_count": null,
       "_view_module": "@jupyter-widgets/base",
       "_view_module_version": "1.2.0",
       "_view_name": "StyleView",
       "bar_color": null,
       "description_width": ""
      }
     },
     "840dcc17e36c4cf380a1083b0e61c9d6": {
      "model_module": "@jupyter-widgets/controls",
      "model_module_version": "1.5.0",
      "model_name": "FloatProgressModel",
      "state": {
       "_dom_classes": [],
       "_model_module": "@jupyter-widgets/controls",
       "_model_module_version": "1.5.0",
       "_model_name": "FloatProgressModel",
       "_view_count": null,
       "_view_module": "@jupyter-widgets/controls",
       "_view_module_version": "1.5.0",
       "_view_name": "ProgressView",
       "bar_style": "success",
       "description": "",
       "description_tooltip": null,
       "layout": "IPY_MODEL_faf9c9769c06407989c9d4edaa4e7599",
       "max": 5.0,
       "min": 0.0,
       "orientation": "horizontal",
       "style": "IPY_MODEL_825886653139481aac236d09c8fbe6be",
       "value": 5.0
      }
     },
     "9235370b82f949008d4b4ae9c272ddc2": {
      "model_module": "@jupyter-widgets/controls",
      "model_module_version": "1.5.0",
      "model_name": "HBoxModel",
      "state": {
       "_dom_classes": [],
       "_model_module": "@jupyter-widgets/controls",
       "_model_module_version": "1.5.0",
       "_model_name": "HBoxModel",
       "_view_count": null,
       "_view_module": "@jupyter-widgets/controls",
       "_view_module_version": "1.5.0",
       "_view_name": "HBoxView",
       "box_style": "",
       "children": [
        "IPY_MODEL_ba8821a5735d43f8add29823f9eff6a9",
        "IPY_MODEL_840dcc17e36c4cf380a1083b0e61c9d6",
        "IPY_MODEL_189b1e7d0e5f4339b14e7797c45a4020"
       ],
       "layout": "IPY_MODEL_6992c013c5dd4fa881618408aae677d9"
      }
     },
     "a2ca005f2bbf47b893abdd3767bcfe22": {
      "model_module": "@jupyter-widgets/controls",
      "model_module_version": "1.5.0",
      "model_name": "DescriptionStyleModel",
      "state": {
       "_model_module": "@jupyter-widgets/controls",
       "_model_module_version": "1.5.0",
       "_model_name": "DescriptionStyleModel",
       "_view_count": null,
       "_view_module": "@jupyter-widgets/base",
       "_view_module_version": "1.2.0",
       "_view_name": "StyleView",
       "description_width": ""
      }
     },
     "ba8821a5735d43f8add29823f9eff6a9": {
      "model_module": "@jupyter-widgets/controls",
      "model_module_version": "1.5.0",
      "model_name": "HTMLModel",
      "state": {
       "_dom_classes": [],
       "_model_module": "@jupyter-widgets/controls",
       "_model_module_version": "1.5.0",
       "_model_name": "HTMLModel",
       "_view_count": null,
       "_view_module": "@jupyter-widgets/controls",
       "_view_module_version": "1.5.0",
       "_view_name": "HTMLView",
       "description": "",
       "description_tooltip": null,
       "layout": "IPY_MODEL_5f7444bd6a714954b5696cf586f437f6",
       "placeholder": "​",
       "style": "IPY_MODEL_59e94cfdcc4745c3891db29f9e247315",
       "value": "100%"
      }
     },
     "faf9c9769c06407989c9d4edaa4e7599": {
      "model_module": "@jupyter-widgets/base",
      "model_module_version": "1.2.0",
      "model_name": "LayoutModel",
      "state": {
       "_model_module": "@jupyter-widgets/base",
       "_model_module_version": "1.2.0",
       "_model_name": "LayoutModel",
       "_view_count": null,
       "_view_module": "@jupyter-widgets/base",
       "_view_module_version": "1.2.0",
       "_view_name": "LayoutView",
       "align_content": null,
       "align_items": null,
       "align_self": null,
       "border": null,
       "bottom": null,
       "display": null,
       "flex": null,
       "flex_flow": null,
       "grid_area": null,
       "grid_auto_columns": null,
       "grid_auto_flow": null,
       "grid_auto_rows": null,
       "grid_column": null,
       "grid_gap": null,
       "grid_row": null,
       "grid_template_areas": null,
       "grid_template_columns": null,
       "grid_template_rows": null,
       "height": null,
       "justify_content": null,
       "justify_items": null,
       "left": null,
       "margin": null,
       "max_height": null,
       "max_width": null,
       "min_height": null,
       "min_width": null,
       "object_fit": null,
       "object_position": null,
       "order": null,
       "overflow": null,
       "overflow_x": null,
       "overflow_y": null,
       "padding": null,
       "right": null,
       "top": null,
       "visibility": null,
       "width": null
      }
     },
     "ffdd5d3810f84bc985cc6ce01cc3328d": {
      "model_module": "@jupyter-widgets/base",
      "model_module_version": "1.2.0",
      "model_name": "LayoutModel",
      "state": {
       "_model_module": "@jupyter-widgets/base",
       "_model_module_version": "1.2.0",
       "_model_name": "LayoutModel",
       "_view_count": null,
       "_view_module": "@jupyter-widgets/base",
       "_view_module_version": "1.2.0",
       "_view_name": "LayoutView",
       "align_content": null,
       "align_items": null,
       "align_self": null,
       "border": null,
       "bottom": null,
       "display": null,
       "flex": null,
       "flex_flow": null,
       "grid_area": null,
       "grid_auto_columns": null,
       "grid_auto_flow": null,
       "grid_auto_rows": null,
       "grid_column": null,
       "grid_gap": null,
       "grid_row": null,
       "grid_template_areas": null,
       "grid_template_columns": null,
       "grid_template_rows": null,
       "height": null,
       "justify_content": null,
       "justify_items": null,
       "left": null,
       "margin": null,
       "max_height": null,
       "max_width": null,
       "min_height": null,
       "min_width": null,
       "object_fit": null,
       "object_position": null,
       "order": null,
       "overflow": null,
       "overflow_x": null,
       "overflow_y": null,
       "padding": null,
       "right": null,
       "top": null,
       "visibility": null,
       "width": null
      }
     }
    },
    "version_major": 2,
    "version_minor": 0
   }
  }
 },
 "nbformat": 4,
 "nbformat_minor": 5
}
