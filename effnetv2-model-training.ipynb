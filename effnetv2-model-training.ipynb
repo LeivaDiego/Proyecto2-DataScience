{
 "cells": [
  {
   "cell_type": "markdown",
   "id": "f33ebe5b",
   "metadata": {
    "papermill": {
     "duration": 0.017436,
     "end_time": "2024-11-04T00:23:18.934250",
     "exception": false,
     "start_time": "2024-11-04T00:23:18.916814",
     "status": "completed"
    },
    "tags": []
   },
   "source": [
    "# Proyecto 2\n",
    "## RSNA 2022 Cervical Spine Fracture Detection\n",
    "**Universidad del Valle de Guatemala**\\\n",
    "**Facultad de Ingeniería**\\\n",
    "**Departamento de Ciencias de la Computación**\\\n",
    "**Data Science**\n",
    "\n",
    "# Entrenamiento de Modelo Base EfficientNetV2 de PyTorch\n",
    "---\n",
    "\n",
    "## Integrantes\n",
    "- Gustavo Gonzalez\n",
    "- Pablo Orellana\n",
    "- Diego Leiva\n",
    "- Maria Ramirez\n",
    "\n",
    "---\n",
    "\n",
    "Este notebook contiene el codigo necesario para entrenar un modelo EfficientNetV2 de deteccion de fracturas en tomografias"
   ]
  },
  {
   "cell_type": "markdown",
   "id": "66425682",
   "metadata": {
    "papermill": {
     "duration": 0.015548,
     "end_time": "2024-11-04T00:23:18.965768",
     "exception": false,
     "start_time": "2024-11-04T00:23:18.950220",
     "status": "completed"
    },
    "tags": []
   },
   "source": [
    "## Dependencias"
   ]
  },
  {
   "cell_type": "code",
   "execution_count": 1,
   "id": "d87985cc",
   "metadata": {
    "execution": {
     "iopub.execute_input": "2024-11-04T00:23:19.001228Z",
     "iopub.status.busy": "2024-11-04T00:23:19.000135Z",
     "iopub.status.idle": "2024-11-04T00:24:32.147576Z",
     "shell.execute_reply": "2024-11-04T00:24:32.146226Z"
    },
    "papermill": {
     "duration": 73.16744,
     "end_time": "2024-11-04T00:24:32.150473",
     "exception": false,
     "start_time": "2024-11-04T00:23:18.983033",
     "status": "completed"
    },
    "pycharm": {
     "name": "#%%\n"
    },
    "tags": []
   },
   "outputs": [
    {
     "name": "stdout",
     "output_type": "stream",
     "text": [
      "Processing /kaggle/input/rsna-2022-whl/pydicom-2.3.0-py3-none-any.whl\r\n",
      "Processing /kaggle/input/rsna-2022-whl/pylibjpeg-1.4.0-py3-none-any.whl\r\n",
      "Processing /kaggle/input/rsna-2022-whl/python_gdcm-3.0.15-cp37-cp37m-manylinux_2_17_x86_64.manylinux2014_x86_64.whl\r\n",
      "Requirement already satisfied: numpy in /opt/conda/lib/python3.7/site-packages (from pylibjpeg==1.4.0) (1.21.6)\r\n",
      "pydicom is already installed with the same version as the provided wheel. Use --force-reinstall to force an installation of the wheel.\r\n",
      "Installing collected packages: python-gdcm, pylibjpeg\r\n",
      "Successfully installed pylibjpeg-1.4.0 python-gdcm-3.0.15\r\n",
      "\u001b[33mWARNING: Running pip as the 'root' user can result in broken permissions and conflicting behaviour with the system package manager. It is recommended to use a virtual environment instead: https://pip.pypa.io/warnings/venv\u001b[0m\u001b[33m\r\n",
      "\u001b[0mProcessing /kaggle/input/rsna-2022-whl/torch-1.12.1-cp37-cp37m-manylinux1_x86_64.whl\r\n",
      "Processing /kaggle/input/rsna-2022-whl/torchvision-0.13.1-cp37-cp37m-manylinux1_x86_64.whl\r\n",
      "Requirement already satisfied: typing-extensions in /opt/conda/lib/python3.7/site-packages (from torch==1.12.1) (4.1.1)\r\n",
      "Requirement already satisfied: numpy in /opt/conda/lib/python3.7/site-packages (from torchvision==0.13.1) (1.21.6)\r\n",
      "Requirement already satisfied: requests in /opt/conda/lib/python3.7/site-packages (from torchvision==0.13.1) (2.28.1)\r\n",
      "Requirement already satisfied: pillow!=8.3.*,>=5.3.0 in /opt/conda/lib/python3.7/site-packages (from torchvision==0.13.1) (9.1.1)\r\n",
      "Requirement already satisfied: idna<4,>=2.5 in /opt/conda/lib/python3.7/site-packages (from requests->torchvision==0.13.1) (3.3)\r\n",
      "Requirement already satisfied: charset-normalizer<3,>=2 in /opt/conda/lib/python3.7/site-packages (from requests->torchvision==0.13.1) (2.1.0)\r\n",
      "Requirement already satisfied: urllib3<1.27,>=1.21.1 in /opt/conda/lib/python3.7/site-packages (from requests->torchvision==0.13.1) (1.26.9)\r\n",
      "Requirement already satisfied: certifi>=2017.4.17 in /opt/conda/lib/python3.7/site-packages (from requests->torchvision==0.13.1) (2022.6.15)\r\n",
      "Installing collected packages: torch, torchvision\r\n",
      "  Attempting uninstall: torch\r\n",
      "    Found existing installation: torch 1.11.0\r\n",
      "    Uninstalling torch-1.11.0:\r\n",
      "      Successfully uninstalled torch-1.11.0\r\n",
      "  Attempting uninstall: torchvision\r\n",
      "    Found existing installation: torchvision 0.12.0\r\n",
      "    Uninstalling torchvision-0.12.0:\r\n",
      "      Successfully uninstalled torchvision-0.12.0\r\n",
      "\u001b[31mERROR: pip's dependency resolver does not currently take into account all the packages that are installed. This behaviour is the source of the following dependency conflicts.\r\n",
      "allennlp 2.10.0 requires protobuf==3.20.0, but you have protobuf 3.19.4 which is incompatible.\r\n",
      "allennlp 2.10.0 requires torch<1.12.0,>=1.10.0, but you have torch 1.12.1 which is incompatible.\r\n",
      "allennlp 2.10.0 requires torchvision<0.13.0,>=0.8.1, but you have torchvision 0.13.1 which is incompatible.\u001b[0m\u001b[31m\r\n",
      "\u001b[0mSuccessfully installed torch-1.12.1 torchvision-0.13.1\r\n",
      "\u001b[33mWARNING: Running pip as the 'root' user can result in broken permissions and conflicting behaviour with the system package manager. It is recommended to use a virtual environment instead: https://pip.pypa.io/warnings/venv\u001b[0m\u001b[33m\r\n",
      "\u001b[0m"
     ]
    }
   ],
   "source": [
    "try:\n",
    "    import pylibjpeg\n",
    "except:\n",
    "    # Dependencias para extraccion de JPEG y TorchVision\n",
    "    # Dependencias de https://www.kaggle.com/code/vslaykovsky/rsna-2022-whl\n",
    "    !mkdir -p /root/.cache/torch/hub/checkpoints/\n",
    "    !cp ../input/rsna-2022-whl/efficientnet_v2_s-dd5fe13b.pth  /root/.cache/torch/hub/checkpoints/\n",
    "    !pip install /kaggle/input/rsna-2022-whl/{pydicom-2.3.0-py3-none-any.whl,pylibjpeg-1.4.0-py3-none-any.whl,python_gdcm-3.0.15-cp37-cp37m-manylinux_2_17_x86_64.manylinux2014_x86_64.whl}\n",
    "    !pip install /kaggle/input/rsna-2022-whl/{torch-1.12.1-cp37-cp37m-manylinux1_x86_64.whl,torchvision-0.13.1-cp37-cp37m-manylinux1_x86_64.whl}"
   ]
  },
  {
   "cell_type": "code",
   "execution_count": 2,
   "id": "664da479",
   "metadata": {
    "execution": {
     "iopub.execute_input": "2024-11-04T00:24:32.186683Z",
     "iopub.status.busy": "2024-11-04T00:24:32.186295Z",
     "iopub.status.idle": "2024-11-04T00:24:34.414603Z",
     "shell.execute_reply": "2024-11-04T00:24:34.413704Z"
    },
    "papermill": {
     "duration": 2.249243,
     "end_time": "2024-11-04T00:24:34.417083",
     "exception": false,
     "start_time": "2024-11-04T00:24:32.167840",
     "status": "completed"
    },
    "pycharm": {
     "name": "#%%\n"
    },
    "tags": []
   },
   "outputs": [],
   "source": [
    "# Sistema y archivos\n",
    "import gc\n",
    "import os\n",
    "import glob\n",
    "\n",
    "# Manejo de Imagenes DICOM\n",
    "import cv2\n",
    "import pydicom as dicom\n",
    "\n",
    "# Utilidades\n",
    "import re\n",
    "\n",
    "# Visualizaciones de Python\n",
    "import matplotlib.pyplot as plt\n",
    "from tqdm.notebook import tqdm\n",
    "\n",
    "# Manejo de Datos\n",
    "import numpy as np\n",
    "import pandas as pd\n",
    "\n",
    "# PyTorch y CUDA\n",
    "import torch\n",
    "import torchvision as tv\n",
    "from torch.cuda.amp import GradScaler, autocast\n",
    "from torchvision.models.feature_extraction import create_feature_extractor\n",
    "\n",
    "# Scikit Learn Para los Folds\n",
    "from sklearn.model_selection import GroupKFold"
   ]
  },
  {
   "cell_type": "markdown",
   "id": "4a47fa96",
   "metadata": {
    "papermill": {
     "duration": 0.016835,
     "end_time": "2024-11-04T00:24:34.451344",
     "exception": false,
     "start_time": "2024-11-04T00:24:34.434509",
     "status": "completed"
    },
    "tags": []
   },
   "source": [
    "## Constantes"
   ]
  },
  {
   "cell_type": "code",
   "execution_count": 3,
   "id": "b99790fe",
   "metadata": {
    "execution": {
     "iopub.execute_input": "2024-11-04T00:24:34.486678Z",
     "iopub.status.busy": "2024-11-04T00:24:34.486110Z",
     "iopub.status.idle": "2024-11-04T00:24:34.493974Z",
     "shell.execute_reply": "2024-11-04T00:24:34.493127Z"
    },
    "papermill": {
     "duration": 0.027677,
     "end_time": "2024-11-04T00:24:34.496033",
     "exception": false,
     "start_time": "2024-11-04T00:24:34.468356",
     "status": "completed"
    },
    "pycharm": {
     "name": "#%%\n"
    },
    "tags": []
   },
   "outputs": [],
   "source": [
    "# Configuracion para display de pandas\n",
    "plt.rcParams['figure.figsize'] = (20, 5)\n",
    "pd.set_option('display.max_rows', 10)\n",
    "pd.set_option('display.max_columns', 1000)\n",
    "\n",
    "# Pesos y Checkpoints de Efficient Net \n",
    "WEIGHTS = tv.models.efficientnet.EfficientNet_V2_S_Weights.DEFAULT\n",
    "EFFNET_CHECKPOINTS_PATH = '../input/rsna-2022-base-effnetv2'\n",
    "\n",
    "# Rutas de Archivos base\n",
    "RSNA_2022_PATH = '../input/rsna-2022-cervical-spine-fracture-detection'\n",
    "TRAIN_IMAGES_PATH = f'{RSNA_2022_PATH}/train_images'\n",
    "TEST_IMAGES_PATH = f'{RSNA_2022_PATH}/test_images'\n",
    "METADATA_PATH = '../input/vertebraeinfer-metadata'\n",
    "\n",
    "# Constantes para EfficientNet\n",
    "EFFNET_MAX_TRAIN_BATCHES = 4000\n",
    "EFFNET_MAX_EVAL_BATCHES = 200\n",
    "ONE_CYCLE_MAX_LR = 0.0001\n",
    "ONE_CYCLE_PCT_START = 0.3\n",
    "SAVE_CHECKPOINT_EVERY_STEP = 1000\n",
    "FRAC_LOSS_WEIGHT = 2.\n",
    "N_FOLDS = 5\n",
    "PREDICT_MAX_BATCHES = 1e9"
   ]
  },
  {
   "cell_type": "markdown",
   "id": "901b67bb",
   "metadata": {
    "papermill": {
     "duration": 0.016763,
     "end_time": "2024-11-04T00:24:34.529706",
     "exception": false,
     "start_time": "2024-11-04T00:24:34.512943",
     "status": "completed"
    },
    "tags": []
   },
   "source": [
    "## Configuracion de CUDA"
   ]
  },
  {
   "cell_type": "code",
   "execution_count": 4,
   "id": "03b5dcde",
   "metadata": {
    "execution": {
     "iopub.execute_input": "2024-11-04T00:24:34.564550Z",
     "iopub.status.busy": "2024-11-04T00:24:34.564227Z",
     "iopub.status.idle": "2024-11-04T00:24:34.626634Z",
     "shell.execute_reply": "2024-11-04T00:24:34.625690Z"
    },
    "papermill": {
     "duration": 0.082533,
     "end_time": "2024-11-04T00:24:34.628921",
     "exception": false,
     "start_time": "2024-11-04T00:24:34.546388",
     "status": "completed"
    },
    "pycharm": {
     "name": "#%%\n"
    },
    "tags": []
   },
   "outputs": [],
   "source": [
    "# Configuracion y deteccion de CUDA\n",
    "DEVICE = 'cuda' if torch.cuda.is_available() else 'cpu'\n",
    "if DEVICE == 'cuda':\n",
    "    BATCH_SIZE = 32\n",
    "else:\n",
    "    BATCH_SIZE = 2"
   ]
  },
  {
   "cell_type": "markdown",
   "id": "d2fc587c",
   "metadata": {
    "papermill": {
     "duration": 0.016761,
     "end_time": "2024-11-04T00:24:34.662570",
     "exception": false,
     "start_time": "2024-11-04T00:24:34.645809",
     "status": "completed"
    },
    "tags": []
   },
   "source": [
    "## Carga de Conjunto de datos de entrenamiento y evaluacion"
   ]
  },
  {
   "cell_type": "markdown",
   "id": "a7533e7b",
   "metadata": {
    "papermill": {
     "duration": 0.016418,
     "end_time": "2024-11-04T00:24:34.695999",
     "exception": false,
     "start_time": "2024-11-04T00:24:34.679581",
     "status": "completed"
    },
    "tags": []
   },
   "source": [
    "- Se cargan los dataset de entrenamiento de la competencia `train.csv`\n",
    "- Se cargan los metadatos generados en el notebook de inferencia  `vertebraeMetadataEffNet.csv`"
   ]
  },
  {
   "cell_type": "code",
   "execution_count": 5,
   "id": "4f00381b",
   "metadata": {
    "execution": {
     "iopub.execute_input": "2024-11-04T00:24:34.730974Z",
     "iopub.status.busy": "2024-11-04T00:24:34.730689Z",
     "iopub.status.idle": "2024-11-04T00:24:34.765454Z",
     "shell.execute_reply": "2024-11-04T00:24:34.764510Z"
    },
    "papermill": {
     "duration": 0.054686,
     "end_time": "2024-11-04T00:24:34.767540",
     "exception": false,
     "start_time": "2024-11-04T00:24:34.712854",
     "status": "completed"
    },
    "pycharm": {
     "name": "#%%\n"
    },
    "tags": []
   },
   "outputs": [
    {
     "data": {
      "text/html": [
       "<div>\n",
       "<style scoped>\n",
       "    .dataframe tbody tr th:only-of-type {\n",
       "        vertical-align: middle;\n",
       "    }\n",
       "\n",
       "    .dataframe tbody tr th {\n",
       "        vertical-align: top;\n",
       "    }\n",
       "\n",
       "    .dataframe thead th {\n",
       "        text-align: right;\n",
       "    }\n",
       "</style>\n",
       "<table border=\"1\" class=\"dataframe\">\n",
       "  <thead>\n",
       "    <tr style=\"text-align: right;\">\n",
       "      <th></th>\n",
       "      <th>StudyInstanceUID</th>\n",
       "      <th>patient_overall</th>\n",
       "      <th>C1</th>\n",
       "      <th>C2</th>\n",
       "      <th>C3</th>\n",
       "      <th>C4</th>\n",
       "      <th>C5</th>\n",
       "      <th>C6</th>\n",
       "      <th>C7</th>\n",
       "    </tr>\n",
       "  </thead>\n",
       "  <tbody>\n",
       "    <tr>\n",
       "      <th>1079</th>\n",
       "      <td>1.2.826.0.1.3680043.2172</td>\n",
       "      <td>0</td>\n",
       "      <td>0</td>\n",
       "      <td>0</td>\n",
       "      <td>0</td>\n",
       "      <td>0</td>\n",
       "      <td>0</td>\n",
       "      <td>0</td>\n",
       "      <td>0</td>\n",
       "    </tr>\n",
       "    <tr>\n",
       "      <th>464</th>\n",
       "      <td>1.2.826.0.1.3680043.5563</td>\n",
       "      <td>1</td>\n",
       "      <td>0</td>\n",
       "      <td>0</td>\n",
       "      <td>0</td>\n",
       "      <td>0</td>\n",
       "      <td>0</td>\n",
       "      <td>1</td>\n",
       "      <td>0</td>\n",
       "    </tr>\n",
       "  </tbody>\n",
       "</table>\n",
       "</div>"
      ],
      "text/plain": [
       "              StudyInstanceUID  patient_overall  C1  C2  C3  C4  C5  C6  C7\n",
       "1079  1.2.826.0.1.3680043.2172                0   0   0   0   0   0   0   0\n",
       "464   1.2.826.0.1.3680043.5563                1   0   0   0   0   0   1   0"
      ]
     },
     "execution_count": 5,
     "metadata": {},
     "output_type": "execute_result"
    }
   ],
   "source": [
    "# Carga de dataset de entrenamiento de competencia\n",
    "df_train = pd.read_csv(f'{RSNA_2022_PATH}/train.csv')\n",
    "df_train.sample(2)"
   ]
  },
  {
   "cell_type": "code",
   "execution_count": 6,
   "id": "66ee653a",
   "metadata": {
    "_cell_guid": "b1076dfc-b9ad-4769-8c92-a6c4dae69d19",
    "_uuid": "8f2839f25d086af736a60e9eeb907d3b93b6e0e5",
    "execution": {
     "iopub.execute_input": "2024-11-04T00:24:34.803592Z",
     "iopub.status.busy": "2024-11-04T00:24:34.803325Z",
     "iopub.status.idle": "2024-11-04T00:24:37.625874Z",
     "shell.execute_reply": "2024-11-04T00:24:37.624829Z"
    },
    "papermill": {
     "duration": 2.843289,
     "end_time": "2024-11-04T00:24:37.628283",
     "exception": false,
     "start_time": "2024-11-04T00:24:34.784994",
     "status": "completed"
    },
    "pycharm": {
     "name": "#%%\n"
    },
    "tags": []
   },
   "outputs": [
    {
     "data": {
      "text/html": [
       "<div>\n",
       "<style scoped>\n",
       "    .dataframe tbody tr th:only-of-type {\n",
       "        vertical-align: middle;\n",
       "    }\n",
       "\n",
       "    .dataframe tbody tr th {\n",
       "        vertical-align: top;\n",
       "    }\n",
       "\n",
       "    .dataframe thead th {\n",
       "        text-align: right;\n",
       "    }\n",
       "</style>\n",
       "<table border=\"1\" class=\"dataframe\">\n",
       "  <thead>\n",
       "    <tr style=\"text-align: right;\">\n",
       "      <th></th>\n",
       "      <th>StudyInstanceUID</th>\n",
       "      <th>C1</th>\n",
       "      <th>C2</th>\n",
       "      <th>C3</th>\n",
       "      <th>C4</th>\n",
       "      <th>C5</th>\n",
       "      <th>C6</th>\n",
       "      <th>C7</th>\n",
       "    </tr>\n",
       "  </thead>\n",
       "  <tbody>\n",
       "    <tr>\n",
       "      <th>51547</th>\n",
       "      <td>1.2.826.0.1.3680043.1252</td>\n",
       "      <td>0</td>\n",
       "      <td>0</td>\n",
       "      <td>0</td>\n",
       "      <td>0</td>\n",
       "      <td>1</td>\n",
       "      <td>1</td>\n",
       "      <td>1</td>\n",
       "    </tr>\n",
       "    <tr>\n",
       "      <th>425390</th>\n",
       "      <td>1.2.826.0.1.3680043.27583</td>\n",
       "      <td>0</td>\n",
       "      <td>0</td>\n",
       "      <td>0</td>\n",
       "      <td>0</td>\n",
       "      <td>1</td>\n",
       "      <td>0</td>\n",
       "      <td>0</td>\n",
       "    </tr>\n",
       "    <tr>\n",
       "      <th>600169</th>\n",
       "      <td>1.2.826.0.1.3680043.5383</td>\n",
       "      <td>0</td>\n",
       "      <td>0</td>\n",
       "      <td>0</td>\n",
       "      <td>0</td>\n",
       "      <td>0</td>\n",
       "      <td>0</td>\n",
       "      <td>0</td>\n",
       "    </tr>\n",
       "    <tr>\n",
       "      <th>306412</th>\n",
       "      <td>1.2.826.0.1.3680043.22711</td>\n",
       "      <td>0</td>\n",
       "      <td>0</td>\n",
       "      <td>0</td>\n",
       "      <td>0</td>\n",
       "      <td>0</td>\n",
       "      <td>1</td>\n",
       "      <td>1</td>\n",
       "    </tr>\n",
       "    <tr>\n",
       "      <th>303865</th>\n",
       "      <td>1.2.826.0.1.3680043.22643</td>\n",
       "      <td>0</td>\n",
       "      <td>0</td>\n",
       "      <td>0</td>\n",
       "      <td>1</td>\n",
       "      <td>1</td>\n",
       "      <td>0</td>\n",
       "      <td>0</td>\n",
       "    </tr>\n",
       "  </tbody>\n",
       "</table>\n",
       "</div>"
      ],
      "text/plain": [
       "                 StudyInstanceUID  C1  C2  C3  C4  C5  C6  C7\n",
       "51547    1.2.826.0.1.3680043.1252   0   0   0   0   1   1   1\n",
       "425390  1.2.826.0.1.3680043.27583   0   0   0   0   1   0   0\n",
       "600169   1.2.826.0.1.3680043.5383   0   0   0   0   0   0   0\n",
       "306412  1.2.826.0.1.3680043.22711   0   0   0   0   0   1   1\n",
       "303865  1.2.826.0.1.3680043.22643   0   0   0   1   1   0   0"
      ]
     },
     "metadata": {},
     "output_type": "display_data"
    }
   ],
   "source": [
    "# Metadatos de corte de tomografia generados con la inferencia de vertebras\n",
    "# Contiene las probabilidades de cada vertebra cervical C1-C7 presente en la imagen\n",
    "# El modelo final genero una precision del 95%\n",
    "df_train_slices = pd.read_csv(f'{METADATA_PATH}/vertebrae_metadataEffNet.csv')\n",
    "c1c7 = [f'C{i}' for i in range(1, 8)]\n",
    "df_train_slices[c1c7] = (df_train_slices[c1c7] > 0.5).astype(int)\n",
    "display(df_train_slices.sample(5)[['StudyInstanceUID', 'C1', 'C2', 'C3', 'C4', 'C5', 'C6', 'C7']])"
   ]
  },
  {
   "cell_type": "markdown",
   "id": "88e5cfb4",
   "metadata": {
    "papermill": {
     "duration": 0.017305,
     "end_time": "2024-11-04T00:24:37.663406",
     "exception": false,
     "start_time": "2024-11-04T00:24:37.646101",
     "status": "completed"
    },
    "tags": []
   },
   "source": [
    "El estudio con ID `1.2.826.0.1.3680043.20574` se eliminara del conjunto de datos debido a que no tiene un escaneo cervical completo.\n",
    "\n",
    "Discusion de Kaggle con detalles - https://www.kaggle.com/competitions/rsna-2022-cervical-spine-fracture-detection/discussion/344862"
   ]
  },
  {
   "cell_type": "code",
   "execution_count": 7,
   "id": "2733d47f",
   "metadata": {
    "execution": {
     "iopub.execute_input": "2024-11-04T00:24:37.699615Z",
     "iopub.status.busy": "2024-11-04T00:24:37.699262Z",
     "iopub.status.idle": "2024-11-04T00:24:38.386525Z",
     "shell.execute_reply": "2024-11-04T00:24:38.385507Z"
    },
    "papermill": {
     "duration": 0.708069,
     "end_time": "2024-11-04T00:24:38.388987",
     "exception": false,
     "start_time": "2024-11-04T00:24:37.680918",
     "status": "completed"
    },
    "pycharm": {
     "name": "#%%\n"
    },
    "tags": []
   },
   "outputs": [
    {
     "data": {
      "text/html": [
       "<div>\n",
       "<style scoped>\n",
       "    .dataframe tbody tr th:only-of-type {\n",
       "        vertical-align: middle;\n",
       "    }\n",
       "\n",
       "    .dataframe tbody tr th {\n",
       "        vertical-align: top;\n",
       "    }\n",
       "\n",
       "    .dataframe thead th {\n",
       "        text-align: right;\n",
       "    }\n",
       "</style>\n",
       "<table border=\"1\" class=\"dataframe\">\n",
       "  <thead>\n",
       "    <tr style=\"text-align: right;\">\n",
       "      <th></th>\n",
       "      <th>StudyInstanceUID</th>\n",
       "      <th>Slice</th>\n",
       "      <th>ImageHeight</th>\n",
       "      <th>ImageWidth</th>\n",
       "      <th>SliceThickness</th>\n",
       "      <th>ImagePositionPatient_x</th>\n",
       "      <th>ImagePositionPatient_y</th>\n",
       "      <th>ImagePositionPatient_z</th>\n",
       "      <th>C1</th>\n",
       "      <th>C2</th>\n",
       "      <th>C3</th>\n",
       "      <th>C4</th>\n",
       "      <th>C5</th>\n",
       "      <th>C6</th>\n",
       "      <th>C7</th>\n",
       "      <th>patient_overall</th>\n",
       "      <th>C1_fracture</th>\n",
       "      <th>C2_fracture</th>\n",
       "      <th>C3_fracture</th>\n",
       "      <th>C4_fracture</th>\n",
       "      <th>C5_fracture</th>\n",
       "      <th>C6_fracture</th>\n",
       "      <th>C7_fracture</th>\n",
       "    </tr>\n",
       "  </thead>\n",
       "  <tbody>\n",
       "    <tr>\n",
       "      <th>394001</th>\n",
       "      <td>1.2.826.0.1.3680043.26306</td>\n",
       "      <td>270</td>\n",
       "      <td>512</td>\n",
       "      <td>512</td>\n",
       "      <td>0.900</td>\n",
       "      <td>-107.5</td>\n",
       "      <td>38.500</td>\n",
       "      <td>403.549988</td>\n",
       "      <td>1</td>\n",
       "      <td>1</td>\n",
       "      <td>0</td>\n",
       "      <td>0</td>\n",
       "      <td>0</td>\n",
       "      <td>0</td>\n",
       "      <td>0</td>\n",
       "      <td>1</td>\n",
       "      <td>1</td>\n",
       "      <td>0</td>\n",
       "      <td>0</td>\n",
       "      <td>0</td>\n",
       "      <td>0</td>\n",
       "      <td>1</td>\n",
       "      <td>1</td>\n",
       "    </tr>\n",
       "    <tr>\n",
       "      <th>405544</th>\n",
       "      <td>1.2.826.0.1.3680043.26917</td>\n",
       "      <td>187</td>\n",
       "      <td>512</td>\n",
       "      <td>512</td>\n",
       "      <td>0.625</td>\n",
       "      <td>-72.5</td>\n",
       "      <td>-75.821</td>\n",
       "      <td>-112.923000</td>\n",
       "      <td>0</td>\n",
       "      <td>0</td>\n",
       "      <td>0</td>\n",
       "      <td>0</td>\n",
       "      <td>1</td>\n",
       "      <td>1</td>\n",
       "      <td>0</td>\n",
       "      <td>1</td>\n",
       "      <td>0</td>\n",
       "      <td>1</td>\n",
       "      <td>1</td>\n",
       "      <td>0</td>\n",
       "      <td>0</td>\n",
       "      <td>0</td>\n",
       "      <td>0</td>\n",
       "    </tr>\n",
       "  </tbody>\n",
       "</table>\n",
       "</div>"
      ],
      "text/plain": [
       "                 StudyInstanceUID  Slice  ImageHeight  ImageWidth  \\\n",
       "394001  1.2.826.0.1.3680043.26306    270          512         512   \n",
       "405544  1.2.826.0.1.3680043.26917    187          512         512   \n",
       "\n",
       "        SliceThickness  ImagePositionPatient_x  ImagePositionPatient_y  \\\n",
       "394001           0.900                  -107.5                  38.500   \n",
       "405544           0.625                   -72.5                 -75.821   \n",
       "\n",
       "        ImagePositionPatient_z  C1  C2  C3  C4  C5  C6  C7  patient_overall  \\\n",
       "394001              403.549988   1   1   0   0   0   0   0                1   \n",
       "405544             -112.923000   0   0   0   0   1   1   0                1   \n",
       "\n",
       "        C1_fracture  C2_fracture  C3_fracture  C4_fracture  C5_fracture  \\\n",
       "394001            1            0            0            0            0   \n",
       "405544            0            1            1            0            0   \n",
       "\n",
       "        C6_fracture  C7_fracture  \n",
       "394001            1            1  \n",
       "405544            0            0  "
      ]
     },
     "execution_count": 7,
     "metadata": {},
     "output_type": "execute_result"
    }
   ],
   "source": [
    "# Combinacion de Metadatos y Datos\n",
    "df_train = df_train_slices.set_index('StudyInstanceUID').join(df_train.set_index('StudyInstanceUID'),\n",
    "                                                              rsuffix='_fracture').reset_index().copy()\n",
    "# Eliminacion de estudio incompleto\n",
    "df_train = df_train.query('StudyInstanceUID != \"1.2.826.0.1.3680043.20574\"').reset_index(drop=True)\n",
    "df_train.sample(2)"
   ]
  },
  {
   "cell_type": "markdown",
   "id": "70d0a548",
   "metadata": {
    "papermill": {
     "duration": 0.017418,
     "end_time": "2024-11-04T00:24:38.425822",
     "exception": false,
     "start_time": "2024-11-04T00:24:38.408404",
     "status": "completed"
    },
    "tags": []
   },
   "source": [
    "### Split de Datos con Folds"
   ]
  },
  {
   "cell_type": "code",
   "execution_count": 8,
   "id": "2ee5e935",
   "metadata": {
    "execution": {
     "iopub.execute_input": "2024-11-04T00:24:38.462717Z",
     "iopub.status.busy": "2024-11-04T00:24:38.462379Z",
     "iopub.status.idle": "2024-11-04T00:24:39.303900Z",
     "shell.execute_reply": "2024-11-04T00:24:39.303140Z"
    },
    "papermill": {
     "duration": 0.862633,
     "end_time": "2024-11-04T00:24:39.306194",
     "exception": false,
     "start_time": "2024-11-04T00:24:38.443561",
     "status": "completed"
    },
    "pycharm": {
     "name": "#%%\n"
    },
    "tags": []
   },
   "outputs": [
    {
     "data": {
      "text/html": [
       "<div>\n",
       "<style scoped>\n",
       "    .dataframe tbody tr th:only-of-type {\n",
       "        vertical-align: middle;\n",
       "    }\n",
       "\n",
       "    .dataframe tbody tr th {\n",
       "        vertical-align: top;\n",
       "    }\n",
       "\n",
       "    .dataframe thead th {\n",
       "        text-align: right;\n",
       "    }\n",
       "</style>\n",
       "<table border=\"1\" class=\"dataframe\">\n",
       "  <thead>\n",
       "    <tr style=\"text-align: right;\">\n",
       "      <th></th>\n",
       "      <th>StudyInstanceUID</th>\n",
       "      <th>Slice</th>\n",
       "      <th>ImageHeight</th>\n",
       "      <th>ImageWidth</th>\n",
       "      <th>SliceThickness</th>\n",
       "      <th>ImagePositionPatient_x</th>\n",
       "      <th>ImagePositionPatient_y</th>\n",
       "      <th>ImagePositionPatient_z</th>\n",
       "      <th>C1</th>\n",
       "      <th>C2</th>\n",
       "      <th>C3</th>\n",
       "      <th>C4</th>\n",
       "      <th>C5</th>\n",
       "      <th>C6</th>\n",
       "      <th>C7</th>\n",
       "      <th>patient_overall</th>\n",
       "      <th>C1_fracture</th>\n",
       "      <th>C2_fracture</th>\n",
       "      <th>C3_fracture</th>\n",
       "      <th>C4_fracture</th>\n",
       "      <th>C5_fracture</th>\n",
       "      <th>C6_fracture</th>\n",
       "      <th>C7_fracture</th>\n",
       "      <th>split</th>\n",
       "    </tr>\n",
       "  </thead>\n",
       "  <tbody>\n",
       "    <tr>\n",
       "      <th>568568</th>\n",
       "      <td>1.2.826.0.1.3680043.4041</td>\n",
       "      <td>206</td>\n",
       "      <td>512</td>\n",
       "      <td>512</td>\n",
       "      <td>1.000</td>\n",
       "      <td>-72.351</td>\n",
       "      <td>-46.10107</td>\n",
       "      <td>-729.50</td>\n",
       "      <td>0</td>\n",
       "      <td>0</td>\n",
       "      <td>0</td>\n",
       "      <td>0</td>\n",
       "      <td>0</td>\n",
       "      <td>0</td>\n",
       "      <td>0</td>\n",
       "      <td>0</td>\n",
       "      <td>0</td>\n",
       "      <td>0</td>\n",
       "      <td>0</td>\n",
       "      <td>0</td>\n",
       "      <td>0</td>\n",
       "      <td>0</td>\n",
       "      <td>0</td>\n",
       "      <td>2.0</td>\n",
       "    </tr>\n",
       "    <tr>\n",
       "      <th>87191</th>\n",
       "      <td>1.2.826.0.1.3680043.13950</td>\n",
       "      <td>265</td>\n",
       "      <td>512</td>\n",
       "      <td>512</td>\n",
       "      <td>0.625</td>\n",
       "      <td>-89.100</td>\n",
       "      <td>-77.20000</td>\n",
       "      <td>-231.75</td>\n",
       "      <td>0</td>\n",
       "      <td>0</td>\n",
       "      <td>0</td>\n",
       "      <td>0</td>\n",
       "      <td>0</td>\n",
       "      <td>0</td>\n",
       "      <td>0</td>\n",
       "      <td>0</td>\n",
       "      <td>0</td>\n",
       "      <td>0</td>\n",
       "      <td>0</td>\n",
       "      <td>0</td>\n",
       "      <td>0</td>\n",
       "      <td>0</td>\n",
       "      <td>0</td>\n",
       "      <td>3.0</td>\n",
       "    </tr>\n",
       "  </tbody>\n",
       "</table>\n",
       "</div>"
      ],
      "text/plain": [
       "                 StudyInstanceUID  Slice  ImageHeight  ImageWidth  \\\n",
       "568568   1.2.826.0.1.3680043.4041    206          512         512   \n",
       "87191   1.2.826.0.1.3680043.13950    265          512         512   \n",
       "\n",
       "        SliceThickness  ImagePositionPatient_x  ImagePositionPatient_y  \\\n",
       "568568           1.000                 -72.351               -46.10107   \n",
       "87191            0.625                 -89.100               -77.20000   \n",
       "\n",
       "        ImagePositionPatient_z  C1  C2  C3  C4  C5  C6  C7  patient_overall  \\\n",
       "568568                 -729.50   0   0   0   0   0   0   0                0   \n",
       "87191                  -231.75   0   0   0   0   0   0   0                0   \n",
       "\n",
       "        C1_fracture  C2_fracture  C3_fracture  C4_fracture  C5_fracture  \\\n",
       "568568            0            0            0            0            0   \n",
       "87191             0            0            0            0            0   \n",
       "\n",
       "        C6_fracture  C7_fracture  split  \n",
       "568568            0            0    2.0  \n",
       "87191             0            0    3.0  "
      ]
     },
     "execution_count": 8,
     "metadata": {},
     "output_type": "execute_result"
    }
   ],
   "source": [
    "split = GroupKFold(N_FOLDS)\n",
    "for k, (_, test_idx) in enumerate(split.split(df_train, groups=df_train.StudyInstanceUID)):\n",
    "    df_train.loc[test_idx, 'split'] = k\n",
    "df_train.sample(2)"
   ]
  },
  {
   "cell_type": "markdown",
   "id": "3edf71a9",
   "metadata": {
    "papermill": {
     "duration": 0.018091,
     "end_time": "2024-11-04T00:24:39.342840",
     "exception": false,
     "start_time": "2024-11-04T00:24:39.324749",
     "status": "completed"
    },
    "tags": []
   },
   "source": [
    "## Carga de Conjunto de Prueba"
   ]
  },
  {
   "cell_type": "markdown",
   "id": "45a1e90c",
   "metadata": {
    "papermill": {
     "duration": 0.017804,
     "end_time": "2024-11-04T00:24:39.378995",
     "exception": false,
     "start_time": "2024-11-04T00:24:39.361191",
     "status": "completed"
    },
    "tags": []
   },
   "source": [
    "- Se cargan los dataset de entrenamiento de la competencia `test.csv`"
   ]
  },
  {
   "cell_type": "code",
   "execution_count": 9,
   "id": "18ba3a5b",
   "metadata": {
    "execution": {
     "iopub.execute_input": "2024-11-04T00:24:39.417392Z",
     "iopub.status.busy": "2024-11-04T00:24:39.417015Z",
     "iopub.status.idle": "2024-11-04T00:24:39.435694Z",
     "shell.execute_reply": "2024-11-04T00:24:39.434767Z"
    },
    "papermill": {
     "duration": 0.041081,
     "end_time": "2024-11-04T00:24:39.437869",
     "exception": false,
     "start_time": "2024-11-04T00:24:39.396788",
     "status": "completed"
    },
    "pycharm": {
     "name": "#%%\n"
    },
    "tags": []
   },
   "outputs": [
    {
     "data": {
      "text/html": [
       "<div>\n",
       "<style scoped>\n",
       "    .dataframe tbody tr th:only-of-type {\n",
       "        vertical-align: middle;\n",
       "    }\n",
       "\n",
       "    .dataframe tbody tr th {\n",
       "        vertical-align: top;\n",
       "    }\n",
       "\n",
       "    .dataframe thead th {\n",
       "        text-align: right;\n",
       "    }\n",
       "</style>\n",
       "<table border=\"1\" class=\"dataframe\">\n",
       "  <thead>\n",
       "    <tr style=\"text-align: right;\">\n",
       "      <th></th>\n",
       "      <th>row_id</th>\n",
       "      <th>StudyInstanceUID</th>\n",
       "      <th>prediction_type</th>\n",
       "    </tr>\n",
       "  </thead>\n",
       "  <tbody>\n",
       "    <tr>\n",
       "      <th>0</th>\n",
       "      <td>1.2.826.0.1.3680043.22327_C1</td>\n",
       "      <td>1.2.826.0.1.3680043.22327</td>\n",
       "      <td>C1</td>\n",
       "    </tr>\n",
       "    <tr>\n",
       "      <th>1</th>\n",
       "      <td>1.2.826.0.1.3680043.25399_C1</td>\n",
       "      <td>1.2.826.0.1.3680043.25399</td>\n",
       "      <td>C1</td>\n",
       "    </tr>\n",
       "    <tr>\n",
       "      <th>2</th>\n",
       "      <td>1.2.826.0.1.3680043.5876_C1</td>\n",
       "      <td>1.2.826.0.1.3680043.5876</td>\n",
       "      <td>patient_overall</td>\n",
       "    </tr>\n",
       "  </tbody>\n",
       "</table>\n",
       "</div>"
      ],
      "text/plain": [
       "                         row_id           StudyInstanceUID  prediction_type\n",
       "0  1.2.826.0.1.3680043.22327_C1  1.2.826.0.1.3680043.22327               C1\n",
       "1  1.2.826.0.1.3680043.25399_C1  1.2.826.0.1.3680043.25399               C1\n",
       "2   1.2.826.0.1.3680043.5876_C1   1.2.826.0.1.3680043.5876  patient_overall"
      ]
     },
     "metadata": {},
     "output_type": "display_data"
    }
   ],
   "source": [
    "df_test = pd.read_csv(f'{RSNA_2022_PATH}/test.csv')\n",
    "\n",
    "if df_test.iloc[0].row_id == '1.2.826.0.1.3680043.10197_C1':\n",
    "    # Las labels son inconsistentes entre las imagenes y el conjunto de entrenamiento\n",
    "    df_test = pd.DataFrame({\n",
    "        \"row_id\": ['1.2.826.0.1.3680043.22327_C1', '1.2.826.0.1.3680043.25399_C1', '1.2.826.0.1.3680043.5876_C1'],\n",
    "        \"StudyInstanceUID\": ['1.2.826.0.1.3680043.22327', '1.2.826.0.1.3680043.25399', '1.2.826.0.1.3680043.5876'],\n",
    "        \"prediction_type\": [\"C1\", \"C1\", \"patient_overall\"]}\n",
    "    )\n",
    "\n",
    "display(df_test)"
   ]
  },
  {
   "cell_type": "code",
   "execution_count": 10,
   "id": "c27992d3",
   "metadata": {
    "execution": {
     "iopub.execute_input": "2024-11-04T00:24:39.476659Z",
     "iopub.status.busy": "2024-11-04T00:24:39.475650Z",
     "iopub.status.idle": "2024-11-04T00:24:40.041083Z",
     "shell.execute_reply": "2024-11-04T00:24:40.040130Z"
    },
    "papermill": {
     "duration": 0.587004,
     "end_time": "2024-11-04T00:24:40.043341",
     "exception": false,
     "start_time": "2024-11-04T00:24:39.456337",
     "status": "completed"
    },
    "pycharm": {
     "name": "#%%\n"
    },
    "tags": []
   },
   "outputs": [
    {
     "data": {
      "text/html": [
       "<div>\n",
       "<style scoped>\n",
       "    .dataframe tbody tr th:only-of-type {\n",
       "        vertical-align: middle;\n",
       "    }\n",
       "\n",
       "    .dataframe tbody tr th {\n",
       "        vertical-align: top;\n",
       "    }\n",
       "\n",
       "    .dataframe thead th {\n",
       "        text-align: right;\n",
       "    }\n",
       "</style>\n",
       "<table border=\"1\" class=\"dataframe\">\n",
       "  <thead>\n",
       "    <tr style=\"text-align: right;\">\n",
       "      <th></th>\n",
       "      <th>StudyInstanceUID</th>\n",
       "      <th>Slice</th>\n",
       "    </tr>\n",
       "  </thead>\n",
       "  <tbody>\n",
       "    <tr>\n",
       "      <th>60</th>\n",
       "      <td>1.2.826.0.1.3680043.22327</td>\n",
       "      <td>211</td>\n",
       "    </tr>\n",
       "    <tr>\n",
       "      <th>330</th>\n",
       "      <td>1.2.826.0.1.3680043.25399</td>\n",
       "      <td>380</td>\n",
       "    </tr>\n",
       "  </tbody>\n",
       "</table>\n",
       "</div>"
      ],
      "text/plain": [
       "              StudyInstanceUID Slice\n",
       "60   1.2.826.0.1.3680043.22327   211\n",
       "330  1.2.826.0.1.3680043.25399   380"
      ]
     },
     "execution_count": 10,
     "metadata": {},
     "output_type": "execute_result"
    }
   ],
   "source": [
    "test_slices = glob.glob(f'{TEST_IMAGES_PATH}/*/*')\n",
    "test_slices = [re.findall(f'{TEST_IMAGES_PATH}/(.*)/(.*).dcm', s)[0] for s in test_slices]\n",
    "df_test_slices = pd.DataFrame(data=test_slices, columns=['StudyInstanceUID', 'Slice'])\n",
    "df_test_slices.sample(2)"
   ]
  },
  {
   "cell_type": "code",
   "execution_count": 11,
   "id": "dc20358b",
   "metadata": {
    "execution": {
     "iopub.execute_input": "2024-11-04T00:24:40.081747Z",
     "iopub.status.busy": "2024-11-04T00:24:40.081426Z",
     "iopub.status.idle": "2024-11-04T00:24:40.098986Z",
     "shell.execute_reply": "2024-11-04T00:24:40.098022Z"
    },
    "papermill": {
     "duration": 0.038871,
     "end_time": "2024-11-04T00:24:40.100969",
     "exception": false,
     "start_time": "2024-11-04T00:24:40.062098",
     "status": "completed"
    },
    "pycharm": {
     "name": "#%%\n"
    },
    "tags": []
   },
   "outputs": [
    {
     "data": {
      "text/html": [
       "<div>\n",
       "<style scoped>\n",
       "    .dataframe tbody tr th:only-of-type {\n",
       "        vertical-align: middle;\n",
       "    }\n",
       "\n",
       "    .dataframe tbody tr th {\n",
       "        vertical-align: top;\n",
       "    }\n",
       "\n",
       "    .dataframe thead th {\n",
       "        text-align: right;\n",
       "    }\n",
       "</style>\n",
       "<table border=\"1\" class=\"dataframe\">\n",
       "  <thead>\n",
       "    <tr style=\"text-align: right;\">\n",
       "      <th></th>\n",
       "      <th>StudyInstanceUID</th>\n",
       "      <th>row_id</th>\n",
       "      <th>prediction_type</th>\n",
       "      <th>Slice</th>\n",
       "    </tr>\n",
       "  </thead>\n",
       "  <tbody>\n",
       "    <tr>\n",
       "      <th>119</th>\n",
       "      <td>1.2.826.0.1.3680043.22327</td>\n",
       "      <td>1.2.826.0.1.3680043.22327_C1</td>\n",
       "      <td>C1</td>\n",
       "      <td>93</td>\n",
       "    </tr>\n",
       "    <tr>\n",
       "      <th>1315</th>\n",
       "      <td>1.2.826.0.1.3680043.5876</td>\n",
       "      <td>1.2.826.0.1.3680043.5876_C1</td>\n",
       "      <td>patient_overall</td>\n",
       "      <td>13</td>\n",
       "    </tr>\n",
       "  </tbody>\n",
       "</table>\n",
       "</div>"
      ],
      "text/plain": [
       "               StudyInstanceUID                        row_id  \\\n",
       "119   1.2.826.0.1.3680043.22327  1.2.826.0.1.3680043.22327_C1   \n",
       "1315   1.2.826.0.1.3680043.5876   1.2.826.0.1.3680043.5876_C1   \n",
       "\n",
       "      prediction_type Slice  \n",
       "119                C1    93  \n",
       "1315  patient_overall    13  "
      ]
     },
     "execution_count": 11,
     "metadata": {},
     "output_type": "execute_result"
    }
   ],
   "source": [
    "# Unificacion de datos y metadatos asociados\n",
    "df_test = df_test.set_index('StudyInstanceUID').join(df_test_slices.set_index('StudyInstanceUID')).reset_index()\n",
    "df_test.sample(2)"
   ]
  },
  {
   "cell_type": "code",
   "execution_count": 12,
   "id": "89c5afec",
   "metadata": {
    "execution": {
     "iopub.execute_input": "2024-11-04T00:24:40.138753Z",
     "iopub.status.busy": "2024-11-04T00:24:40.138432Z",
     "iopub.status.idle": "2024-11-04T00:24:40.145192Z",
     "shell.execute_reply": "2024-11-04T00:24:40.144307Z"
    },
    "papermill": {
     "duration": 0.028012,
     "end_time": "2024-11-04T00:24:40.147379",
     "exception": false,
     "start_time": "2024-11-04T00:24:40.119367",
     "status": "completed"
    },
    "pycharm": {
     "name": "#%%\n"
    },
    "tags": []
   },
   "outputs": [],
   "source": [
    "def load_dicom(path):\n",
    "    \"\"\"\n",
    "    Carga una imagen DICOM y la convierte a RGB.\n",
    "\n",
    "    Args:\n",
    "        path (str): Ruta de la imagen DICOM.\n",
    "    \n",
    "    Returns:\n",
    "        img (np.array): Imagen RGB.\n",
    "        img (pydicom.dataset.FileDataset): Objeto DICOM.\n",
    "    \"\"\"\n",
    "    img = dicom.dcmread(path)\n",
    "    img.PhotometricInterpretation = 'YBR_FULL'\n",
    "    data = img.pixel_array\n",
    "    data = data - np.min(data)\n",
    "    if np.max(data) != 0:\n",
    "        data = data / np.max(data)\n",
    "    data = (data * 255).astype(np.uint8)\n",
    "    return cv2.cvtColor(data, cv2.COLOR_GRAY2RGB), img"
   ]
  },
  {
   "cell_type": "markdown",
   "id": "d4fc4b29",
   "metadata": {
    "papermill": {
     "duration": 0.018424,
     "end_time": "2024-11-04T00:24:40.184223",
     "exception": false,
     "start_time": "2024-11-04T00:24:40.165799",
     "status": "completed"
    },
    "tags": []
   },
   "source": [
    "## Clase Dataset para PyTorch"
   ]
  },
  {
   "cell_type": "markdown",
   "id": "5776e031",
   "metadata": {
    "papermill": {
     "duration": 0.018707,
     "end_time": "2024-11-04T00:24:40.221719",
     "exception": false,
     "start_time": "2024-11-04T00:24:40.203012",
     "status": "completed"
    },
    "tags": []
   },
   "source": [
    "La clase `EffnetDataSet` devuelve imágenes de cortes individuales. Usa un parámetro `df` (dataframe) como fuente de metadatos de los cortes para localizar y cargar las imágenes desde una carpeta de rutas. Acepta el parámetro `transforms`, que configuramos con `WEIGHTS.transforms()`. Este conjunto de transformaciones fue utilizado para pre-entrenar el modelo en el conjunto de datos ImageNet."
   ]
  },
  {
   "cell_type": "code",
   "execution_count": 13,
   "id": "bed2447e",
   "metadata": {
    "execution": {
     "iopub.execute_input": "2024-11-04T00:24:40.260396Z",
     "iopub.status.busy": "2024-11-04T00:24:40.260087Z",
     "iopub.status.idle": "2024-11-04T00:24:40.272543Z",
     "shell.execute_reply": "2024-11-04T00:24:40.271506Z"
    },
    "papermill": {
     "duration": 0.034708,
     "end_time": "2024-11-04T00:24:40.274813",
     "exception": false,
     "start_time": "2024-11-04T00:24:40.240105",
     "status": "completed"
    },
    "pycharm": {
     "name": "#%%\n"
    },
    "tags": []
   },
   "outputs": [],
   "source": [
    "class EffnetDataSet(torch.utils.data.Dataset):\n",
    "    \"\"\"\n",
    "    Clase para cargar las imágenes de un dataframe con las columnas 'StudyInstanceUID' y 'Slice' y los targets de fracturas\n",
    "    y vertebras. Se puede pasar un objeto de la clase 'torchvision.transforms' para aplicar transformaciones a las imágenes.\n",
    "\n",
    "    Args:\n",
    "        df (pd.DataFrame): Dataframe con las columnas 'StudyInstanceUID' y 'Slice' y los targets de fracturas y vertebras.\n",
    "        path (str): Ruta donde se encuentran las imágenes.\n",
    "        transforms (torchvision.transforms): Transformaciones a aplicar a las imágenes. (default: None)\n",
    "\n",
    "    Returns:\n",
    "        img (torch.Tensor): Imagen en formato tensor.\n",
    "        frac_targets (torch.Tensor): Targets de fracturas.\n",
    "        vert_targets (torch.Tensor): Targets de vertebras.\n",
    "    \"\"\"\n",
    "    def __init__(self, df, path, transforms=None):\n",
    "        super().__init__()\n",
    "        self.df = df\n",
    "        self.path = path\n",
    "        self.transforms = transforms\n",
    "\n",
    "    def __getitem__(self, i):\n",
    "        path = os.path.join(self.path, self.df.iloc[i].StudyInstanceUID, f'{self.df.iloc[i].Slice}.dcm')\n",
    "\n",
    "        try:\n",
    "            img = load_dicom(path)[0]\n",
    "            # Pytorch usa el orden (batch, channel, height, width). Convertimos (height, width, channel) -> (channel, height, width)\n",
    "            img = np.transpose(img, (2, 0, 1))\n",
    "            if self.transforms is not None:\n",
    "                img = self.transforms(torch.as_tensor(img))\n",
    "\n",
    "        except Exception as ex:\n",
    "            print(ex)\n",
    "            return None\n",
    "\n",
    "        # Si se detecta una fractura, se devuelven los targets\n",
    "        if 'C1_fracture' in self.df:\n",
    "            frac_targets = torch.as_tensor(self.df.iloc[i][['C1_fracture', 'C2_fracture', 'C3_fracture', 'C4_fracture',\n",
    "                                                            'C5_fracture', 'C6_fracture', 'C7_fracture']].astype(\n",
    "                'float32').values)\n",
    "            # Targets de las vertebras\n",
    "            vert_targets = torch.as_tensor(\n",
    "                self.df.iloc[i][['C1', 'C2', 'C3', 'C4', 'C5', 'C6', 'C7']].astype('float32').values)\n",
    "            frac_targets = frac_targets * vert_targets  # Solo se activan los targets que son visibles en la imagen actual\n",
    "            return img, frac_targets, vert_targets\n",
    "        return img\n",
    "\n",
    "    def __len__(self):\n",
    "        return len(self.df)"
   ]
  },
  {
   "cell_type": "code",
   "execution_count": 14,
   "id": "cc8470d8",
   "metadata": {
    "execution": {
     "iopub.execute_input": "2024-11-04T00:24:40.313637Z",
     "iopub.status.busy": "2024-11-04T00:24:40.313339Z",
     "iopub.status.idle": "2024-11-04T00:24:40.373987Z",
     "shell.execute_reply": "2024-11-04T00:24:40.373018Z"
    },
    "papermill": {
     "duration": 0.08238,
     "end_time": "2024-11-04T00:24:40.376128",
     "exception": false,
     "start_time": "2024-11-04T00:24:40.293748",
     "status": "completed"
    },
    "pycharm": {
     "name": "#%%\n"
    },
    "tags": []
   },
   "outputs": [
    {
     "name": "stdout",
     "output_type": "stream",
     "text": [
      "torch.Size([3, 384, 384]) torch.Size([7]) torch.Size([7])\n"
     ]
    }
   ],
   "source": [
    "# Generar un dataset de prueba\n",
    "ds_train = EffnetDataSet(df_train, TRAIN_IMAGES_PATH, WEIGHTS.transforms())\n",
    "X, y_frac, y_vert = ds_train[42]\n",
    "print(X.shape, y_frac.shape, y_vert.shape)"
   ]
  },
  {
   "cell_type": "code",
   "execution_count": 15,
   "id": "9c239718",
   "metadata": {
    "execution": {
     "iopub.execute_input": "2024-11-04T00:24:40.416656Z",
     "iopub.status.busy": "2024-11-04T00:24:40.416080Z",
     "iopub.status.idle": "2024-11-04T00:24:58.147017Z",
     "shell.execute_reply": "2024-11-04T00:24:58.145974Z"
    },
    "papermill": {
     "duration": 17.754643,
     "end_time": "2024-11-04T00:24:58.149486",
     "exception": false,
     "start_time": "2024-11-04T00:24:40.394843",
     "status": "completed"
    },
    "pycharm": {
     "name": "#%%\n"
    },
    "tags": []
   },
   "outputs": [
    {
     "data": {
      "text/html": [
       "<div>\n",
       "<style scoped>\n",
       "    .dataframe tbody tr th:only-of-type {\n",
       "        vertical-align: middle;\n",
       "    }\n",
       "\n",
       "    .dataframe tbody tr th {\n",
       "        vertical-align: top;\n",
       "    }\n",
       "\n",
       "    .dataframe thead th {\n",
       "        text-align: right;\n",
       "    }\n",
       "</style>\n",
       "<table border=\"1\" class=\"dataframe\">\n",
       "  <thead>\n",
       "    <tr style=\"text-align: right;\">\n",
       "      <th></th>\n",
       "      <th>StudyInstanceUID</th>\n",
       "      <th>Slice</th>\n",
       "      <th>ImageHeight</th>\n",
       "      <th>ImageWidth</th>\n",
       "      <th>SliceThickness</th>\n",
       "      <th>ImagePositionPatient_x</th>\n",
       "      <th>ImagePositionPatient_y</th>\n",
       "      <th>ImagePositionPatient_z</th>\n",
       "      <th>C1</th>\n",
       "      <th>C2</th>\n",
       "      <th>C3</th>\n",
       "      <th>C4</th>\n",
       "      <th>C5</th>\n",
       "      <th>C6</th>\n",
       "      <th>C7</th>\n",
       "      <th>patient_overall</th>\n",
       "      <th>C1_fracture</th>\n",
       "      <th>C2_fracture</th>\n",
       "      <th>C3_fracture</th>\n",
       "      <th>C4_fracture</th>\n",
       "      <th>C5_fracture</th>\n",
       "      <th>C6_fracture</th>\n",
       "      <th>C7_fracture</th>\n",
       "      <th>split</th>\n",
       "    </tr>\n",
       "  </thead>\n",
       "  <tbody>\n",
       "    <tr>\n",
       "      <th>625715</th>\n",
       "      <td>1.2.826.0.1.3680043.6404</td>\n",
       "      <td>1</td>\n",
       "      <td>512</td>\n",
       "      <td>512</td>\n",
       "      <td>1.0</td>\n",
       "      <td>-48.6071</td>\n",
       "      <td>-88.60718</td>\n",
       "      <td>-449.5</td>\n",
       "      <td>0</td>\n",
       "      <td>0</td>\n",
       "      <td>0</td>\n",
       "      <td>0</td>\n",
       "      <td>0</td>\n",
       "      <td>0</td>\n",
       "      <td>0</td>\n",
       "      <td>1</td>\n",
       "      <td>0</td>\n",
       "      <td>1</td>\n",
       "      <td>0</td>\n",
       "      <td>0</td>\n",
       "      <td>0</td>\n",
       "      <td>0</td>\n",
       "      <td>0</td>\n",
       "      <td>0.0</td>\n",
       "    </tr>\n",
       "    <tr>\n",
       "      <th>625716</th>\n",
       "      <td>1.2.826.0.1.3680043.6404</td>\n",
       "      <td>2</td>\n",
       "      <td>512</td>\n",
       "      <td>512</td>\n",
       "      <td>1.0</td>\n",
       "      <td>-48.6071</td>\n",
       "      <td>-88.60718</td>\n",
       "      <td>-450.3</td>\n",
       "      <td>0</td>\n",
       "      <td>0</td>\n",
       "      <td>0</td>\n",
       "      <td>0</td>\n",
       "      <td>0</td>\n",
       "      <td>0</td>\n",
       "      <td>0</td>\n",
       "      <td>1</td>\n",
       "      <td>0</td>\n",
       "      <td>1</td>\n",
       "      <td>0</td>\n",
       "      <td>0</td>\n",
       "      <td>0</td>\n",
       "      <td>0</td>\n",
       "      <td>0</td>\n",
       "      <td>0.0</td>\n",
       "    </tr>\n",
       "    <tr>\n",
       "      <th>625717</th>\n",
       "      <td>1.2.826.0.1.3680043.6404</td>\n",
       "      <td>3</td>\n",
       "      <td>512</td>\n",
       "      <td>512</td>\n",
       "      <td>1.0</td>\n",
       "      <td>-48.6071</td>\n",
       "      <td>-88.60718</td>\n",
       "      <td>-451.1</td>\n",
       "      <td>0</td>\n",
       "      <td>0</td>\n",
       "      <td>0</td>\n",
       "      <td>0</td>\n",
       "      <td>0</td>\n",
       "      <td>0</td>\n",
       "      <td>0</td>\n",
       "      <td>1</td>\n",
       "      <td>0</td>\n",
       "      <td>1</td>\n",
       "      <td>0</td>\n",
       "      <td>0</td>\n",
       "      <td>0</td>\n",
       "      <td>0</td>\n",
       "      <td>0</td>\n",
       "      <td>0.0</td>\n",
       "    </tr>\n",
       "    <tr>\n",
       "      <th>625718</th>\n",
       "      <td>1.2.826.0.1.3680043.6404</td>\n",
       "      <td>4</td>\n",
       "      <td>512</td>\n",
       "      <td>512</td>\n",
       "      <td>1.0</td>\n",
       "      <td>-48.6071</td>\n",
       "      <td>-88.60718</td>\n",
       "      <td>-451.9</td>\n",
       "      <td>0</td>\n",
       "      <td>0</td>\n",
       "      <td>0</td>\n",
       "      <td>0</td>\n",
       "      <td>0</td>\n",
       "      <td>0</td>\n",
       "      <td>0</td>\n",
       "      <td>1</td>\n",
       "      <td>0</td>\n",
       "      <td>1</td>\n",
       "      <td>0</td>\n",
       "      <td>0</td>\n",
       "      <td>0</td>\n",
       "      <td>0</td>\n",
       "      <td>0</td>\n",
       "      <td>0.0</td>\n",
       "    </tr>\n",
       "    <tr>\n",
       "      <th>625719</th>\n",
       "      <td>1.2.826.0.1.3680043.6404</td>\n",
       "      <td>5</td>\n",
       "      <td>512</td>\n",
       "      <td>512</td>\n",
       "      <td>1.0</td>\n",
       "      <td>-48.6071</td>\n",
       "      <td>-88.60718</td>\n",
       "      <td>-452.7</td>\n",
       "      <td>0</td>\n",
       "      <td>0</td>\n",
       "      <td>0</td>\n",
       "      <td>0</td>\n",
       "      <td>0</td>\n",
       "      <td>0</td>\n",
       "      <td>0</td>\n",
       "      <td>1</td>\n",
       "      <td>0</td>\n",
       "      <td>1</td>\n",
       "      <td>0</td>\n",
       "      <td>0</td>\n",
       "      <td>0</td>\n",
       "      <td>0</td>\n",
       "      <td>0</td>\n",
       "      <td>0.0</td>\n",
       "    </tr>\n",
       "  </tbody>\n",
       "</table>\n",
       "</div>"
      ],
      "text/plain": [
       "                StudyInstanceUID  Slice  ImageHeight  ImageWidth  \\\n",
       "625715  1.2.826.0.1.3680043.6404      1          512         512   \n",
       "625716  1.2.826.0.1.3680043.6404      2          512         512   \n",
       "625717  1.2.826.0.1.3680043.6404      3          512         512   \n",
       "625718  1.2.826.0.1.3680043.6404      4          512         512   \n",
       "625719  1.2.826.0.1.3680043.6404      5          512         512   \n",
       "\n",
       "        SliceThickness  ImagePositionPatient_x  ImagePositionPatient_y  \\\n",
       "625715             1.0                -48.6071               -88.60718   \n",
       "625716             1.0                -48.6071               -88.60718   \n",
       "625717             1.0                -48.6071               -88.60718   \n",
       "625718             1.0                -48.6071               -88.60718   \n",
       "625719             1.0                -48.6071               -88.60718   \n",
       "\n",
       "        ImagePositionPatient_z  C1  C2  C3  C4  C5  C6  C7  patient_overall  \\\n",
       "625715                  -449.5   0   0   0   0   0   0   0                1   \n",
       "625716                  -450.3   0   0   0   0   0   0   0                1   \n",
       "625717                  -451.1   0   0   0   0   0   0   0                1   \n",
       "625718                  -451.9   0   0   0   0   0   0   0                1   \n",
       "625719                  -452.7   0   0   0   0   0   0   0                1   \n",
       "\n",
       "        C1_fracture  C2_fracture  C3_fracture  C4_fracture  C5_fracture  \\\n",
       "625715            0            1            0            0            0   \n",
       "625716            0            1            0            0            0   \n",
       "625717            0            1            0            0            0   \n",
       "625718            0            1            0            0            0   \n",
       "625719            0            1            0            0            0   \n",
       "\n",
       "        C6_fracture  C7_fracture  split  \n",
       "625715            0            0    0.0  \n",
       "625716            0            0    0.0  \n",
       "625717            0            0    0.0  \n",
       "625718            0            0    0.0  \n",
       "625719            0            0    0.0  "
      ]
     },
     "metadata": {},
     "output_type": "display_data"
    },
    {
     "data": {
      "image/png": "[encoded data removed]",
      "text/plain": [
       "<Figure size 1440x360 with 2 Axes>"
      ]
     },
     "metadata": {
      "needs_background": "light"
     },
     "output_type": "display_data"
    }
   ],
   "source": [
    "def plot_sample_patient(df, ds):\n",
    "    \"\"\"\n",
    "    Grafica un paciente aleatorio con sus fracturas y vertebras visibles.\n",
    "\n",
    "    Args:\n",
    "        df: pd.DataFrame con la información de los pacientes.\n",
    "        ds: Dataset con las imágenes de los pacientes.\n",
    "    \"\"\"\n",
    "    patient = np.random.choice(df.query('patient_overall > 0').StudyInstanceUID)\n",
    "    df = df.query('StudyInstanceUID == @patient')\n",
    "    display(df.head())\n",
    "\n",
    "    frac = np.stack([ds[i][1] for i in df.index])\n",
    "    vert = np.stack([ds[i][2] for i in df.index])\n",
    "    ax = plt.subplot(1, 2, 1)\n",
    "    ax.plot(frac)\n",
    "    ax.set_title(f'Vertebra con fracturas por corte (mascarado por vertebras visibles). uid:{patient}')\n",
    "    ax = plt.subplot(1, 2, 2)\n",
    "    ax.set_title(f'Vertebras visibles por corte. uid:{patient}')\n",
    "    ax.plot(vert)\n",
    "\n",
    "# Selecciona un paciente aleatorio con fracturas y lo grafica\n",
    "plot_sample_patient(df_train, ds_train)"
   ]
  },
  {
   "cell_type": "code",
   "execution_count": 16,
   "id": "9b77f2a2",
   "metadata": {
    "execution": {
     "iopub.execute_input": "2024-11-04T00:24:58.191386Z",
     "iopub.status.busy": "2024-11-04T00:24:58.191059Z",
     "iopub.status.idle": "2024-11-04T00:24:58.245321Z",
     "shell.execute_reply": "2024-11-04T00:24:58.244372Z"
    },
    "papermill": {
     "duration": 0.077975,
     "end_time": "2024-11-04T00:24:58.247848",
     "exception": false,
     "start_time": "2024-11-04T00:24:58.169873",
     "status": "completed"
    },
    "pycharm": {
     "name": "#%%\n"
    },
    "tags": []
   },
   "outputs": [
    {
     "data": {
      "text/plain": [
       "torch.Size([3, 384, 384])"
      ]
     },
     "execution_count": 16,
     "metadata": {},
     "output_type": "execute_result"
    }
   ],
   "source": [
    "# Solo valores X devueltos por el conjunto de datos de prueba\n",
    "ds_test = EffnetDataSet(df_test, TEST_IMAGES_PATH, WEIGHTS.transforms())\n",
    "X = ds_test[42]\n",
    "X.shape"
   ]
  },
  {
   "cell_type": "markdown",
   "id": "1a3fcc0c",
   "metadata": {
    "papermill": {
     "duration": 0.019481,
     "end_time": "2024-11-04T00:24:58.288703",
     "exception": false,
     "start_time": "2024-11-04T00:24:58.269222",
     "status": "completed"
    },
    "tags": []
   },
   "source": [
    "## Modelo Efficient Net V2 para deteccion de Fracturas"
   ]
  },
  {
   "cell_type": "markdown",
   "id": "9955ce2d",
   "metadata": {
    "papermill": {
     "duration": 0.019382,
     "end_time": "2024-11-04T00:24:58.327894",
     "exception": false,
     "start_time": "2024-11-04T00:24:58.308512",
     "status": "completed"
    },
    "tags": []
   },
   "source": [
    "En PyTorch se usa **create_feature_extractor** para acceder a las capas de características de modelos preexistentes. La última capa aplanada del modelo `efficientnet_v2_s` se llama `flatten`. Se hara la clasificacion sobre esta."
   ]
  },
  {
   "cell_type": "code",
   "execution_count": 17,
   "id": "9ba4362a",
   "metadata": {
    "execution": {
     "iopub.execute_input": "2024-11-04T00:24:58.368909Z",
     "iopub.status.busy": "2024-11-04T00:24:58.368579Z",
     "iopub.status.idle": "2024-11-04T00:24:58.377443Z",
     "shell.execute_reply": "2024-11-04T00:24:58.376737Z"
    },
    "papermill": {
     "duration": 0.031672,
     "end_time": "2024-11-04T00:24:58.379476",
     "exception": false,
     "start_time": "2024-11-04T00:24:58.347804",
     "status": "completed"
    },
    "pycharm": {
     "name": "#%%\n"
    },
    "tags": []
   },
   "outputs": [],
   "source": [
    "class EffnetModel(torch.nn.Module):\n",
    "    \"\"\"\n",
    "    Modelo de red neuronal basado en EfficientNetV2-S.\n",
    "\n",
    "\n",
    "    Args:\n",
    "        torch (torch.nn.Module): Clase base de PyTorch.\n",
    "\n",
    "    Attributes:\n",
    "        model (torch.nn.Module): Modelo de red neuronal EfficientNetV2-S.\n",
    "        nn_fracture (torch.nn.Module): Red neuronal para clasificación de fracturas.\n",
    "        nn_vertebrae (torch.nn.Module): Red neuronal para clasificación de vértebras.\n",
    "    \"\"\"\n",
    "    def __init__(self):\n",
    "        super().__init__()\n",
    "        effnet = tv.models.efficientnet_v2_s(weights=WEIGHTS)\n",
    "        self.model = create_feature_extractor(effnet, ['flatten'])\n",
    "        self.nn_fracture = torch.nn.Sequential(\n",
    "            torch.nn.Linear(1280, 7),\n",
    "        )\n",
    "        self.nn_vertebrae = torch.nn.Sequential(\n",
    "            torch.nn.Linear(1280, 7),\n",
    "        )\n",
    "\n",
    "    def forward(self, x):\n",
    "        x = self.model(x)['flatten']\n",
    "        return self.nn_fracture(x), self.nn_vertebrae(x)\n",
    "\n",
    "    def predict(self, x):\n",
    "        frac, vert = self.forward(x)\n",
    "        return torch.sigmoid(frac), torch.sigmoid(vert)"
   ]
  },
  {
   "cell_type": "markdown",
   "id": "7d6147a1",
   "metadata": {
    "papermill": {
     "duration": 0.020962,
     "end_time": "2024-11-04T00:24:58.423759",
     "exception": false,
     "start_time": "2024-11-04T00:24:58.402797",
     "status": "completed"
    },
    "tags": []
   },
   "source": [
    "### Funcion de Perdida"
   ]
  },
  {
   "cell_type": "code",
   "execution_count": 18,
   "id": "757d7073",
   "metadata": {
    "execution": {
     "iopub.execute_input": "2024-11-04T00:24:58.466952Z",
     "iopub.status.busy": "2024-11-04T00:24:58.466632Z",
     "iopub.status.idle": "2024-11-04T00:24:58.480334Z",
     "shell.execute_reply": "2024-11-04T00:24:58.479338Z"
    },
    "papermill": {
     "duration": 0.037382,
     "end_time": "2024-11-04T00:24:58.482545",
     "exception": false,
     "start_time": "2024-11-04T00:24:58.445163",
     "status": "completed"
    },
    "pycharm": {
     "name": "#%%\n"
    },
    "tags": []
   },
   "outputs": [],
   "source": [
    "def weighted_loss(y_pred_logit, y, reduction='mean', verbose=False):\n",
    "    \"\"\"\n",
    "    Funcion de perdida con pesos, se reutiliza torch.nn.functional.binary_cross_entropy_with_logits. pos_weight y weights combinados nos dan los coeficientes necesarios.\n",
    "    \"\"\"\n",
    "\n",
    "    # Inicializar los pesos\n",
    "    neg_weights = (torch.tensor([7., 1, 1, 1, 1, 1, 1, 1]) if y_pred_logit.shape[-1] == 8 else torch.ones(y_pred_logit.shape[-1])).to(DEVICE)\n",
    "    pos_weights = (torch.tensor([14., 2, 2, 2, 2, 2, 2, 2]) if y_pred_logit.shape[-1] == 8 else torch.ones(y_pred_logit.shape[-1]) * 2.).to(DEVICE)\n",
    "\n",
    "    # Calcular la perdida\n",
    "    loss = torch.nn.functional.binary_cross_entropy_with_logits(\n",
    "        y_pred_logit,\n",
    "        y,\n",
    "        reduction='none',\n",
    "    )\n",
    "\n",
    "    if verbose:\n",
    "        print('loss', loss)\n",
    "    \n",
    "    # Aplicar los pesos\n",
    "    pos_weights = y * pos_weights.unsqueeze(0)\n",
    "    neg_weights = (1 - y) * neg_weights.unsqueeze(0)\n",
    "    all_weights = pos_weights + neg_weights\n",
    "\n",
    "    if verbose:\n",
    "        print('all weights', all_weights)\n",
    "\n",
    "    # Multiplicar la perdida por los pesos\n",
    "    loss *= all_weights\n",
    "    if verbose:\n",
    "        print('weighted loss', loss)\n",
    "\n",
    "    # Normalizar\n",
    "    norm = torch.sum(all_weights, dim=1).unsqueeze(1)\n",
    "    if verbose:\n",
    "        print('normalization factors', norm)\n",
    "\n",
    "    # Evitar division por cero\n",
    "    loss /= norm\n",
    "    if verbose:\n",
    "        print('normalized loss', loss)\n",
    "\n",
    "    # Sumar las perdidas\n",
    "    loss = torch.sum(loss, dim=1)\n",
    "    if verbose:\n",
    "        print('summed up over patient_overall-C1-C7 loss', loss)\n",
    "\n",
    "    # Reduccion\n",
    "    if reduction == 'mean':\n",
    "        return torch.mean(loss)\n",
    "    return loss"
   ]
  },
  {
   "cell_type": "markdown",
   "id": "2b129622",
   "metadata": {
    "papermill": {
     "duration": 0.020414,
     "end_time": "2024-11-04T00:24:58.524399",
     "exception": false,
     "start_time": "2024-11-04T00:24:58.503985",
     "status": "completed"
    },
    "tags": []
   },
   "source": [
    "## Loop de Entrenamiento/Evaluacion"
   ]
  },
  {
   "cell_type": "markdown",
   "id": "4195766e",
   "metadata": {
    "papermill": {
     "duration": 0.020712,
     "end_time": "2024-11-04T00:24:58.566170",
     "exception": false,
     "start_time": "2024-11-04T00:24:58.545458",
     "status": "completed"
    },
    "tags": []
   },
   "source": [
    "### Funciones Auxiliares"
   ]
  },
  {
   "cell_type": "code",
   "execution_count": 19,
   "id": "2bffe453",
   "metadata": {
    "execution": {
     "iopub.execute_input": "2024-11-04T00:24:58.609643Z",
     "iopub.status.busy": "2024-11-04T00:24:58.609324Z",
     "iopub.status.idle": "2024-11-04T00:24:58.614310Z",
     "shell.execute_reply": "2024-11-04T00:24:58.613372Z"
    },
    "papermill": {
     "duration": 0.029635,
     "end_time": "2024-11-04T00:24:58.616386",
     "exception": false,
     "start_time": "2024-11-04T00:24:58.586751",
     "status": "completed"
    },
    "pycharm": {
     "name": "#%%\n"
    },
    "tags": []
   },
   "outputs": [],
   "source": [
    "def filter_nones(b):\n",
    "    return torch.utils.data.default_collate([v for v in b if v is not None])"
   ]
  },
  {
   "cell_type": "code",
   "execution_count": 20,
   "id": "52596177",
   "metadata": {
    "execution": {
     "iopub.execute_input": "2024-11-04T00:24:58.658519Z",
     "iopub.status.busy": "2024-11-04T00:24:58.657988Z",
     "iopub.status.idle": "2024-11-04T00:24:58.662683Z",
     "shell.execute_reply": "2024-11-04T00:24:58.661803Z"
    },
    "papermill": {
     "duration": 0.027699,
     "end_time": "2024-11-04T00:24:58.664676",
     "exception": false,
     "start_time": "2024-11-04T00:24:58.636977",
     "status": "completed"
    },
    "pycharm": {
     "name": "#%%\n"
    },
    "tags": []
   },
   "outputs": [],
   "source": [
    "def save_model(name, model):\n",
    "    torch.save(model.state_dict(), f'{name}.tph')"
   ]
  },
  {
   "cell_type": "code",
   "execution_count": 21,
   "id": "29109cb5",
   "metadata": {
    "execution": {
     "iopub.execute_input": "2024-11-04T00:24:58.707405Z",
     "iopub.status.busy": "2024-11-04T00:24:58.706671Z",
     "iopub.status.idle": "2024-11-04T00:24:58.711135Z",
     "shell.execute_reply": "2024-11-04T00:24:58.710154Z"
    },
    "papermill": {
     "duration": 0.028083,
     "end_time": "2024-11-04T00:24:58.713287",
     "exception": false,
     "start_time": "2024-11-04T00:24:58.685204",
     "status": "completed"
    },
    "pycharm": {
     "name": "#%%\n"
    },
    "tags": []
   },
   "outputs": [],
   "source": [
    "def gc_collect():\n",
    "    gc.collect()\n",
    "    torch.cuda.empty_cache()"
   ]
  },
  {
   "cell_type": "code",
   "execution_count": 22,
   "id": "a0f7a709",
   "metadata": {
    "execution": {
     "iopub.execute_input": "2024-11-04T00:24:58.754887Z",
     "iopub.status.busy": "2024-11-04T00:24:58.754166Z",
     "iopub.status.idle": "2024-11-04T00:24:58.759158Z",
     "shell.execute_reply": "2024-11-04T00:24:58.758306Z"
    },
    "papermill": {
     "duration": 0.028138,
     "end_time": "2024-11-04T00:24:58.761298",
     "exception": false,
     "start_time": "2024-11-04T00:24:58.733160",
     "status": "completed"
    },
    "pycharm": {
     "name": "#%%\n"
    },
    "tags": []
   },
   "outputs": [],
   "source": [
    "def load_model(model, name, path='.'):\n",
    "    data = torch.load(os.path.join(path, f'{name}.tph'), map_location=DEVICE)\n",
    "    model.load_state_dict(data)\n",
    "    return model"
   ]
  },
  {
   "cell_type": "code",
   "execution_count": 23,
   "id": "e87a67bd",
   "metadata": {
    "execution": {
     "iopub.execute_input": "2024-11-04T00:24:58.802725Z",
     "iopub.status.busy": "2024-11-04T00:24:58.802005Z",
     "iopub.status.idle": "2024-11-04T00:25:00.839870Z",
     "shell.execute_reply": "2024-11-04T00:25:00.839040Z"
    },
    "papermill": {
     "duration": 2.061559,
     "end_time": "2024-11-04T00:25:00.842475",
     "exception": false,
     "start_time": "2024-11-04T00:24:58.780916",
     "status": "completed"
    },
    "pycharm": {
     "name": "#%%\n"
    },
    "tags": []
   },
   "outputs": [],
   "source": [
    "# quick test\n",
    "model = torch.nn.Linear(2, 1)\n",
    "save_model('testmodel', model)\n",
    "\n",
    "model1 = load_model(torch.nn.Linear(2, 1), 'testmodel')\n",
    "assert torch.all(\n",
    "    next(iter(model1.parameters())) == next(iter(model.parameters()))\n",
    ").item(), \"Loading/saving is inconsistent!\""
   ]
  },
  {
   "cell_type": "markdown",
   "id": "4330d3d5",
   "metadata": {
    "papermill": {
     "duration": 0.019625,
     "end_time": "2024-11-04T00:25:00.882438",
     "exception": false,
     "start_time": "2024-11-04T00:25:00.862813",
     "status": "completed"
    },
    "tags": []
   },
   "source": [
    "### Evaluacion del modelo"
   ]
  },
  {
   "cell_type": "code",
   "execution_count": 24,
   "id": "4fd9cc66",
   "metadata": {
    "execution": {
     "iopub.execute_input": "2024-11-04T00:25:00.923601Z",
     "iopub.status.busy": "2024-11-04T00:25:00.922939Z",
     "iopub.status.idle": "2024-11-04T00:25:00.935159Z",
     "shell.execute_reply": "2024-11-04T00:25:00.934306Z"
    },
    "papermill": {
     "duration": 0.035112,
     "end_time": "2024-11-04T00:25:00.937300",
     "exception": false,
     "start_time": "2024-11-04T00:25:00.902188",
     "status": "completed"
    },
    "pycharm": {
     "name": "#%%\n"
    },
    "tags": []
   },
   "outputs": [],
   "source": [
    "def evaluate_effnet(model: EffnetModel, ds, max_batches=PREDICT_MAX_BATCHES, shuffle=False):\n",
    "    \"\"\"\n",
    "    Evalua un modelo de effnet en un dataset de torch.utils.data.Dataset\n",
    "\n",
    "    Args:\n",
    "        model: Modelo de effnet a evaluar\n",
    "        ds: Dataset de torch.utils.data.Dataset\n",
    "        max_batches: Cantidad má\n",
    "\n",
    "    Returns:\n",
    "        float: Loss de fracción de volumen\n",
    "        float: Loss de vértices\n",
    "        np.ndarray: Predicciones de fracción de volumen\n",
    "        np.ndarray: Predicciones de vértices\n",
    "    \"\"\"\n",
    "\n",
    "    # Seteamos la semilla para reproducibilidad\n",
    "    torch.manual_seed(42)\n",
    "    model = model.to(DEVICE)\n",
    "    dl_test = torch.utils.data.DataLoader(ds, batch_size=BATCH_SIZE, shuffle=shuffle, num_workers=os.cpu_count(),\n",
    "                                          collate_fn=filter_nones)\n",
    "    \n",
    "    # Inicializamos las listas de predicciones\n",
    "    pred_frac = []\n",
    "    pred_vert = []\n",
    "\n",
    "    # Evaluamos el modelo\n",
    "    with torch.no_grad():\n",
    "        model.eval()\n",
    "        frac_losses = []\n",
    "        vert_losses = []\n",
    "        # Iteramos sobre el dataset de test\n",
    "        with tqdm(dl_test, desc='Eval', miniters=10) as progress:\n",
    "            for i, (X, y_frac, y_vert) in enumerate(progress):\n",
    "                with autocast():\n",
    "                    y_frac_pred, y_vert_pred = model.forward(X.to(DEVICE))\n",
    "                    frac_loss = weighted_loss(y_frac_pred, y_frac.to(DEVICE)).item()\n",
    "                    vert_loss = torch.nn.functional.binary_cross_entropy_with_logits(y_vert_pred, y_vert.to(DEVICE)).item()\n",
    "                    pred_frac.append(torch.sigmoid(y_frac_pred))\n",
    "                    pred_vert.append(torch.sigmoid(y_vert_pred))\n",
    "                    frac_losses.append(frac_loss)\n",
    "                    vert_losses.append(vert_loss)\n",
    "\n",
    "                if i >= max_batches:\n",
    "                    break\n",
    "        # Devolvemos la media de las losses\n",
    "        return np.mean(frac_losses), np.mean(vert_losses), torch.concat(pred_frac).cpu().numpy(), torch.concat(pred_vert).cpu().numpy()"
   ]
  },
  {
   "cell_type": "markdown",
   "id": "660c3fbc",
   "metadata": {
    "papermill": {
     "duration": 0.01942,
     "end_time": "2024-11-04T00:25:00.976228",
     "exception": false,
     "start_time": "2024-11-04T00:25:00.956808",
     "status": "completed"
    },
    "tags": []
   },
   "source": [
    "### Entrenamiento del modelo"
   ]
  },
  {
   "cell_type": "code",
   "execution_count": 25,
   "id": "3f4ae020",
   "metadata": {
    "execution": {
     "iopub.execute_input": "2024-11-04T00:25:01.016810Z",
     "iopub.status.busy": "2024-11-04T00:25:01.016551Z",
     "iopub.status.idle": "2024-11-04T00:25:01.032717Z",
     "shell.execute_reply": "2024-11-04T00:25:01.031830Z"
    },
    "papermill": {
     "duration": 0.03899,
     "end_time": "2024-11-04T00:25:01.034784",
     "exception": false,
     "start_time": "2024-11-04T00:25:00.995794",
     "status": "completed"
    },
    "pycharm": {
     "name": "#%%\n"
    },
    "tags": []
   },
   "outputs": [],
   "source": [
    "def train_effnet(ds_train, ds_eval, name, logger=None):\n",
    "    \"\"\"\n",
    "    Entrena un modelo EfficientNet en el dataset de entrenamiento ds_train y lo evalúa en el dataset ds_eval.\n",
    "\n",
    "    Args:\n",
    "        ds_train: Dataset de entren\n",
    "        ds_eval: Dataset de evaluación\n",
    "        name: Nombre del modelo\n",
    "        logger: Logger de salida\n",
    "\n",
    "    Returns:\n",
    "        Modelo entrenado\n",
    "    \"\"\"\n",
    "    # Parámetros de entrenamiento\n",
    "    torch.manual_seed(42)\n",
    "    dl_train = torch.utils.data.DataLoader(ds_train, batch_size=BATCH_SIZE, shuffle=True, num_workers=os.cpu_count(),\n",
    "                                           collate_fn=filter_nones)\n",
    "\n",
    "    # Modelo y optimizador y scheduler\n",
    "    model = EffnetModel().to(DEVICE)\n",
    "    optim = torch.optim.Adam(model.parameters())\n",
    "    scheduler = torch.optim.lr_scheduler.OneCycleLR(optim, max_lr=ONE_CYCLE_MAX_LR, epochs=1,\n",
    "                                                    steps_per_epoch=min(EFFNET_MAX_TRAIN_BATCHES, len(dl_train)),\n",
    "                                                    pct_start=ONE_CYCLE_PCT_START)\n",
    "\n",
    "    # Entrenamiento del modelo\n",
    "    model.train()\n",
    "    # Escalador de gradientes\n",
    "    scaler = GradScaler()\n",
    "\n",
    "    # Loop de entrenamiento por batches\n",
    "    with tqdm(dl_train, desc='Train', miniters=10) as progress:\n",
    "        for batch_idx, (X, y_frac, y_vert) in enumerate(progress):\n",
    "\n",
    "            # Evaluación del modelo\n",
    "            if ds_eval is not None and batch_idx % SAVE_CHECKPOINT_EVERY_STEP == 0 and EFFNET_MAX_EVAL_BATCHES > 0:\n",
    "                frac_loss, vert_loss = evaluate_effnet(\n",
    "                    model, ds_eval, max_batches=EFFNET_MAX_EVAL_BATCHES, shuffle=True)[:2]\n",
    "                model.train()\n",
    "                if logger:\n",
    "                    print({'eval_frac_loss': frac_loss, 'eval_vert_loss': vert_loss, 'eval_loss': frac_loss + vert_loss})\n",
    "                if batch_idx > 0:\n",
    "                    save_model(name, model)\n",
    "\n",
    "            # Fin del entrenamiento\n",
    "            if batch_idx >= EFFNET_MAX_TRAIN_BATCHES:\n",
    "                break\n",
    "            \n",
    "            # Pasos Forward y Backward\n",
    "            optim.zero_grad()\n",
    "            with autocast():\n",
    "                y_frac_pred, y_vert_pred = model.forward(X.to(DEVICE))\n",
    "                frac_loss = weighted_loss(y_frac_pred, y_frac.to(DEVICE))\n",
    "                vert_loss = torch.nn.functional.binary_cross_entropy_with_logits(y_vert_pred, y_vert.to(DEVICE))\n",
    "                loss = FRAC_LOSS_WEIGHT * frac_loss + vert_loss\n",
    "\n",
    "                if np.isinf(loss.item()) or np.isnan(loss.item()):\n",
    "                    print(f'Bad loss, skipping the batch {batch_idx}')\n",
    "                    del loss, frac_loss, vert_loss, y_frac_pred, y_vert_pred\n",
    "                    gc_collect()\n",
    "                    continue\n",
    "\n",
    "            scaler.scale(loss).backward()\n",
    "            scaler.step(optim)\n",
    "            scaler.update()\n",
    "            scheduler.step()\n",
    "\n",
    "            progress.set_description(f'Train loss: {loss.item():.02f}')\n",
    "            if logger:\n",
    "                print({'loss': loss.item(), 'frac_loss': frac_loss.item(), 'vert_loss': vert_loss.item(),\n",
    "                       'lr': scheduler.get_last_lr()[0]})\n",
    "\n",
    "    save_model(name, model)\n",
    "    return model"
   ]
  },
  {
   "cell_type": "code",
   "execution_count": 26,
   "id": "504cfc24",
   "metadata": {
    "execution": {
     "iopub.execute_input": "2024-11-04T00:25:01.075569Z",
     "iopub.status.busy": "2024-11-04T00:25:01.074964Z",
     "iopub.status.idle": "2024-11-04T00:25:12.088031Z",
     "shell.execute_reply": "2024-11-04T00:25:12.087153Z"
    },
    "papermill": {
     "duration": 11.035901,
     "end_time": "2024-11-04T00:25:12.090498",
     "exception": false,
     "start_time": "2024-11-04T00:25:01.054597",
     "status": "completed"
    },
    "pycharm": {
     "name": "#%%\n"
    },
    "tags": []
   },
   "outputs": [
    {
     "name": "stdout",
     "output_type": "stream",
     "text": [
      "Found cached version of effnetv2-f0\n",
      "Found cached version of effnetv2-f1\n",
      "Found cached version of effnetv2-f2\n",
      "Found cached version of effnetv2-f3\n",
      "Found cached version of effnetv2-f4\n",
      "Found cached version of effnetv2\n"
     ]
    }
   ],
   "source": [
    "effnet_models = []\n",
    "# Cargar los modelos de effnet previos como checkpoints\n",
    "for fold in range(N_FOLDS):\n",
    "    # Si existe un modelo previo, cargarlo\n",
    "    if os.path.exists(os.path.join(EFFNET_CHECKPOINTS_PATH, f'effnetv2-f{fold}.tph')):\n",
    "        print(f'Found cached version of effnetv2-f{fold}')\n",
    "        effnet_models.append(load_model(EffnetModel(), f'effnetv2-f{fold}', EFFNET_CHECKPOINTS_PATH))\n",
    "    # Si no, entrenar uno nuevo\n",
    "    else:\n",
    "        gc_collect()\n",
    "        ds_train = EffnetDataSet(df_train.query('split != @fold'), TRAIN_IMAGES_PATH, WEIGHTS.transforms())\n",
    "        ds_eval = EffnetDataSet(df_train.query('split == @fold'), TRAIN_IMAGES_PATH, WEIGHTS.transforms())\n",
    "        effnet_models.append(train_effnet(ds_train, ds_eval, f'effnetv2-f{fold}'))\n",
    "\n",
    "# Cargar el modelo de effnetv2 como checkpoint\n",
    "if os.path.exists(os.path.join(EFFNET_CHECKPOINTS_PATH, 'effnetv2.tph')):\n",
    "    print('Found cached version of effnetv2')\n",
    "    effnet_models.append(load_model(EffnetModel(), 'effnetv2', EFFNET_CHECKPOINTS_PATH))\n",
    "# Si no, entrenar uno nuevo\n",
    "else:\n",
    "    gc_collect()\n",
    "    ds_train = EffnetDataSet(df_train, TRAIN_IMAGES_PATH, WEIGHTS.transforms())\n",
    "    train_effnet(ds_train, None, 'effnetv2')"
   ]
  },
  {
   "cell_type": "markdown",
   "id": "315a257c",
   "metadata": {
    "papermill": {
     "duration": 0.020276,
     "end_time": "2024-11-04T00:25:12.132576",
     "exception": false,
     "start_time": "2024-11-04T00:25:12.112300",
     "status": "completed"
    },
    "tags": []
   },
   "source": [
    "## Evaluacion con validacion Cruzada"
   ]
  },
  {
   "cell_type": "code",
   "execution_count": 27,
   "id": "fc3c6e10",
   "metadata": {
    "execution": {
     "iopub.execute_input": "2024-11-04T00:25:12.174215Z",
     "iopub.status.busy": "2024-11-04T00:25:12.173883Z",
     "iopub.status.idle": "2024-11-04T00:25:18.096286Z",
     "shell.execute_reply": "2024-11-04T00:25:18.095294Z"
    },
    "papermill": {
     "duration": 5.945739,
     "end_time": "2024-11-04T00:25:18.098398",
     "exception": false,
     "start_time": "2024-11-04T00:25:12.152659",
     "status": "completed"
    },
    "pycharm": {
     "name": "#%%\n"
    },
    "tags": []
   },
   "outputs": [
    {
     "data": {
      "application/vnd.jupyter.widget-view+json": {
       "model_id": "5dd2ca9a2bbb4bb79bfe9f6627acc995",
       "version_major": 2,
       "version_minor": 0
      },
      "text/plain": [
       "  0%|          | 0/5 [00:00<?, ?it/s]"
      ]
     },
     "metadata": {},
     "output_type": "display_data"
    }
   ],
   "source": [
    "effnet_models = []\n",
    "for name in tqdm(range(N_FOLDS)):\n",
    "    effnet_models.append(load_model(EffnetModel(), f'effnetv2-f{name}', EFFNET_CHECKPOINTS_PATH))"
   ]
  },
  {
   "cell_type": "code",
   "execution_count": 28,
   "id": "14e4017b",
   "metadata": {
    "execution": {
     "iopub.execute_input": "2024-11-04T00:25:18.141441Z",
     "iopub.status.busy": "2024-11-04T00:25:18.141097Z",
     "iopub.status.idle": "2024-11-04T00:25:18.152961Z",
     "shell.execute_reply": "2024-11-04T00:25:18.151923Z"
    },
    "papermill": {
     "duration": 0.035721,
     "end_time": "2024-11-04T00:25:18.155070",
     "exception": false,
     "start_time": "2024-11-04T00:25:18.119349",
     "status": "completed"
    },
    "pycharm": {
     "name": "#%%\n"
    },
    "tags": []
   },
   "outputs": [],
   "source": [
    "def gen_effnet_predictions(effnet_models, df_train):\n",
    "    \"\"\"\n",
    "    Genera las predicciones de los modelos EfficientNet para el conjunto de entrenamiento.\n",
    "\n",
    "    Args:\n",
    "        effnet_models: Lista de modelos EfficientNet.\n",
    "        df_train: DataFrame con las imágenes de entrenamiento.\n",
    "\n",
    "    Returns:\n",
    "        DataFrame con las predicciones de los modelos EfficientNet para el conjunto de entrenamiento.\n",
    "    \"\"\"\n",
    "    if os.path.exists(os.path.join(EFFNET_CHECKPOINTS_PATH, 'train_predictions.csv')):\n",
    "        print('Found cached version of train_predictions.csv')\n",
    "        df_train_predictions = pd.read_csv(os.path.join(EFFNET_CHECKPOINTS_PATH, 'train_predictions.csv'))\n",
    "    else:\n",
    "        df_train_predictions = []\n",
    "        with tqdm(enumerate(effnet_models), total=len(effnet_models), desc='Folds') as progress:\n",
    "            for fold, effnet_model in progress:\n",
    "                ds_eval = EffnetDataSet(df_train.query('split == @fold'), TRAIN_IMAGES_PATH, WEIGHTS.transforms())\n",
    "\n",
    "                frac_loss, vert_loss, effnet_pred_frac, effnet_pred_vert = evaluate_effnet(effnet_model, ds_eval, PREDICT_MAX_BATCHES)\n",
    "                progress.set_description(f'Fold score:{frac_loss:.02f}')\n",
    "                df_effnet_pred = pd.DataFrame(data=np.concatenate([effnet_pred_frac, effnet_pred_vert], axis=1),\n",
    "                                              columns=[f'C{i}_effnet_frac' for i in range(1, 8)] +\n",
    "                                                      [f'C{i}_effnet_vert' for i in range(1, 8)])\n",
    "\n",
    "                df = pd.concat(\n",
    "                    [df_train.query('split == @fold').head(len(df_effnet_pred)).reset_index(drop=True), df_effnet_pred],\n",
    "                    axis=1\n",
    "                ).sort_values(['StudyInstanceUID', 'Slice'])\n",
    "                df_train_predictions.append(df)\n",
    "        df_train_predictions = pd.concat(df_train_predictions)\n",
    "    return df_train_predictions"
   ]
  },
  {
   "cell_type": "code",
   "execution_count": 29,
   "id": "57244f0d",
   "metadata": {
    "execution": {
     "iopub.execute_input": "2024-11-04T00:25:18.197004Z",
     "iopub.status.busy": "2024-11-04T00:25:18.196183Z",
     "iopub.status.idle": "2024-11-04T00:25:39.008308Z",
     "shell.execute_reply": "2024-11-04T00:25:39.007001Z"
    },
    "papermill": {
     "duration": 20.835668,
     "end_time": "2024-11-04T00:25:39.010831",
     "exception": false,
     "start_time": "2024-11-04T00:25:18.175163",
     "status": "completed"
    },
    "pycharm": {
     "is_executing": true,
     "name": "#%%\n"
    },
    "tags": []
   },
   "outputs": [
    {
     "name": "stdout",
     "output_type": "stream",
     "text": [
      "Found cached version of train_predictions.csv\n"
     ]
    },
    {
     "data": {
      "text/html": [
       "<div>\n",
       "<style scoped>\n",
       "    .dataframe tbody tr th:only-of-type {\n",
       "        vertical-align: middle;\n",
       "    }\n",
       "\n",
       "    .dataframe tbody tr th {\n",
       "        vertical-align: top;\n",
       "    }\n",
       "\n",
       "    .dataframe thead th {\n",
       "        text-align: right;\n",
       "    }\n",
       "</style>\n",
       "<table border=\"1\" class=\"dataframe\">\n",
       "  <thead>\n",
       "    <tr style=\"text-align: right;\">\n",
       "      <th></th>\n",
       "      <th>StudyInstanceUID</th>\n",
       "      <th>Slice</th>\n",
       "      <th>ImageHeight</th>\n",
       "      <th>ImageWidth</th>\n",
       "      <th>SliceThickness</th>\n",
       "      <th>ImagePositionPatient_x</th>\n",
       "      <th>ImagePositionPatient_y</th>\n",
       "      <th>ImagePositionPatient_z</th>\n",
       "      <th>C1</th>\n",
       "      <th>C2</th>\n",
       "      <th>C3</th>\n",
       "      <th>C4</th>\n",
       "      <th>C5</th>\n",
       "      <th>C6</th>\n",
       "      <th>C7</th>\n",
       "      <th>patient_overall</th>\n",
       "      <th>C1_fracture</th>\n",
       "      <th>C2_fracture</th>\n",
       "      <th>C3_fracture</th>\n",
       "      <th>C4_fracture</th>\n",
       "      <th>C5_fracture</th>\n",
       "      <th>C6_fracture</th>\n",
       "      <th>C7_fracture</th>\n",
       "      <th>split</th>\n",
       "      <th>C1_effnet_frac</th>\n",
       "      <th>C2_effnet_frac</th>\n",
       "      <th>C3_effnet_frac</th>\n",
       "      <th>C4_effnet_frac</th>\n",
       "      <th>C5_effnet_frac</th>\n",
       "      <th>C6_effnet_frac</th>\n",
       "      <th>C7_effnet_frac</th>\n",
       "      <th>C1_effnet_vert</th>\n",
       "      <th>C2_effnet_vert</th>\n",
       "      <th>C3_effnet_vert</th>\n",
       "      <th>C4_effnet_vert</th>\n",
       "      <th>C5_effnet_vert</th>\n",
       "      <th>C6_effnet_vert</th>\n",
       "      <th>C7_effnet_vert</th>\n",
       "    </tr>\n",
       "  </thead>\n",
       "  <tbody>\n",
       "    <tr>\n",
       "      <th>0</th>\n",
       "      <td>1.2.826.0.1.3680043.10032</td>\n",
       "      <td>1</td>\n",
       "      <td>512</td>\n",
       "      <td>512</td>\n",
       "      <td>0.625</td>\n",
       "      <td>-82.000</td>\n",
       "      <td>11.7120</td>\n",
       "      <td>37.166</td>\n",
       "      <td>0</td>\n",
       "      <td>0</td>\n",
       "      <td>0</td>\n",
       "      <td>0</td>\n",
       "      <td>0</td>\n",
       "      <td>0</td>\n",
       "      <td>0</td>\n",
       "      <td>0</td>\n",
       "      <td>0</td>\n",
       "      <td>0</td>\n",
       "      <td>0</td>\n",
       "      <td>0</td>\n",
       "      <td>0</td>\n",
       "      <td>0</td>\n",
       "      <td>0</td>\n",
       "      <td>0.0</td>\n",
       "      <td>0.000727</td>\n",
       "      <td>0.000883</td>\n",
       "      <td>0.000820</td>\n",
       "      <td>0.000997</td>\n",
       "      <td>0.000693</td>\n",
       "      <td>0.000422</td>\n",
       "      <td>0.000429</td>\n",
       "      <td>0.001040</td>\n",
       "      <td>0.001831</td>\n",
       "      <td>0.003172</td>\n",
       "      <td>0.007347</td>\n",
       "      <td>0.001095</td>\n",
       "      <td>0.000229</td>\n",
       "      <td>0.000194</td>\n",
       "    </tr>\n",
       "    <tr>\n",
       "      <th>1</th>\n",
       "      <td>1.2.826.0.1.3680043.10032</td>\n",
       "      <td>2</td>\n",
       "      <td>512</td>\n",
       "      <td>512</td>\n",
       "      <td>0.625</td>\n",
       "      <td>-82.000</td>\n",
       "      <td>11.7120</td>\n",
       "      <td>36.541</td>\n",
       "      <td>0</td>\n",
       "      <td>0</td>\n",
       "      <td>0</td>\n",
       "      <td>0</td>\n",
       "      <td>0</td>\n",
       "      <td>0</td>\n",
       "      <td>0</td>\n",
       "      <td>0</td>\n",
       "      <td>0</td>\n",
       "      <td>0</td>\n",
       "      <td>0</td>\n",
       "      <td>0</td>\n",
       "      <td>0</td>\n",
       "      <td>0</td>\n",
       "      <td>0</td>\n",
       "      <td>0.0</td>\n",
       "      <td>0.000675</td>\n",
       "      <td>0.000807</td>\n",
       "      <td>0.000709</td>\n",
       "      <td>0.000897</td>\n",
       "      <td>0.000600</td>\n",
       "      <td>0.000361</td>\n",
       "      <td>0.000354</td>\n",
       "      <td>0.000922</td>\n",
       "      <td>0.001411</td>\n",
       "      <td>0.002350</td>\n",
       "      <td>0.005200</td>\n",
       "      <td>0.000752</td>\n",
       "      <td>0.000163</td>\n",
       "      <td>0.000147</td>\n",
       "    </tr>\n",
       "    <tr>\n",
       "      <th>2</th>\n",
       "      <td>1.2.826.0.1.3680043.10032</td>\n",
       "      <td>3</td>\n",
       "      <td>512</td>\n",
       "      <td>512</td>\n",
       "      <td>0.625</td>\n",
       "      <td>-82.000</td>\n",
       "      <td>11.7120</td>\n",
       "      <td>35.916</td>\n",
       "      <td>0</td>\n",
       "      <td>0</td>\n",
       "      <td>0</td>\n",
       "      <td>0</td>\n",
       "      <td>0</td>\n",
       "      <td>0</td>\n",
       "      <td>0</td>\n",
       "      <td>0</td>\n",
       "      <td>0</td>\n",
       "      <td>0</td>\n",
       "      <td>0</td>\n",
       "      <td>0</td>\n",
       "      <td>0</td>\n",
       "      <td>0</td>\n",
       "      <td>0</td>\n",
       "      <td>0.0</td>\n",
       "      <td>0.000730</td>\n",
       "      <td>0.000869</td>\n",
       "      <td>0.000721</td>\n",
       "      <td>0.000883</td>\n",
       "      <td>0.000624</td>\n",
       "      <td>0.000379</td>\n",
       "      <td>0.000424</td>\n",
       "      <td>0.000915</td>\n",
       "      <td>0.001315</td>\n",
       "      <td>0.002192</td>\n",
       "      <td>0.004757</td>\n",
       "      <td>0.000789</td>\n",
       "      <td>0.000190</td>\n",
       "      <td>0.000194</td>\n",
       "    </tr>\n",
       "    <tr>\n",
       "      <th>3</th>\n",
       "      <td>1.2.826.0.1.3680043.10032</td>\n",
       "      <td>4</td>\n",
       "      <td>512</td>\n",
       "      <td>512</td>\n",
       "      <td>0.625</td>\n",
       "      <td>-82.000</td>\n",
       "      <td>11.7120</td>\n",
       "      <td>35.291</td>\n",
       "      <td>0</td>\n",
       "      <td>0</td>\n",
       "      <td>0</td>\n",
       "      <td>0</td>\n",
       "      <td>0</td>\n",
       "      <td>0</td>\n",
       "      <td>0</td>\n",
       "      <td>0</td>\n",
       "      <td>0</td>\n",
       "      <td>0</td>\n",
       "      <td>0</td>\n",
       "      <td>0</td>\n",
       "      <td>0</td>\n",
       "      <td>0</td>\n",
       "      <td>0</td>\n",
       "      <td>0.0</td>\n",
       "      <td>0.000863</td>\n",
       "      <td>0.001147</td>\n",
       "      <td>0.000846</td>\n",
       "      <td>0.001000</td>\n",
       "      <td>0.000638</td>\n",
       "      <td>0.000382</td>\n",
       "      <td>0.000439</td>\n",
       "      <td>0.001129</td>\n",
       "      <td>0.002209</td>\n",
       "      <td>0.002834</td>\n",
       "      <td>0.005120</td>\n",
       "      <td>0.000680</td>\n",
       "      <td>0.000173</td>\n",
       "      <td>0.000203</td>\n",
       "    </tr>\n",
       "    <tr>\n",
       "      <th>4</th>\n",
       "      <td>1.2.826.0.1.3680043.10032</td>\n",
       "      <td>5</td>\n",
       "      <td>512</td>\n",
       "      <td>512</td>\n",
       "      <td>0.625</td>\n",
       "      <td>-82.000</td>\n",
       "      <td>11.7120</td>\n",
       "      <td>34.666</td>\n",
       "      <td>0</td>\n",
       "      <td>0</td>\n",
       "      <td>0</td>\n",
       "      <td>0</td>\n",
       "      <td>0</td>\n",
       "      <td>0</td>\n",
       "      <td>0</td>\n",
       "      <td>0</td>\n",
       "      <td>0</td>\n",
       "      <td>0</td>\n",
       "      <td>0</td>\n",
       "      <td>0</td>\n",
       "      <td>0</td>\n",
       "      <td>0</td>\n",
       "      <td>0</td>\n",
       "      <td>0.0</td>\n",
       "      <td>0.000820</td>\n",
       "      <td>0.000940</td>\n",
       "      <td>0.000820</td>\n",
       "      <td>0.001090</td>\n",
       "      <td>0.000707</td>\n",
       "      <td>0.000386</td>\n",
       "      <td>0.000494</td>\n",
       "      <td>0.000925</td>\n",
       "      <td>0.001265</td>\n",
       "      <td>0.002405</td>\n",
       "      <td>0.005688</td>\n",
       "      <td>0.000738</td>\n",
       "      <td>0.000155</td>\n",
       "      <td>0.000220</td>\n",
       "    </tr>\n",
       "    <tr>\n",
       "      <th>...</th>\n",
       "      <td>...</td>\n",
       "      <td>...</td>\n",
       "      <td>...</td>\n",
       "      <td>...</td>\n",
       "      <td>...</td>\n",
       "      <td>...</td>\n",
       "      <td>...</td>\n",
       "      <td>...</td>\n",
       "      <td>...</td>\n",
       "      <td>...</td>\n",
       "      <td>...</td>\n",
       "      <td>...</td>\n",
       "      <td>...</td>\n",
       "      <td>...</td>\n",
       "      <td>...</td>\n",
       "      <td>...</td>\n",
       "      <td>...</td>\n",
       "      <td>...</td>\n",
       "      <td>...</td>\n",
       "      <td>...</td>\n",
       "      <td>...</td>\n",
       "      <td>...</td>\n",
       "      <td>...</td>\n",
       "      <td>...</td>\n",
       "      <td>...</td>\n",
       "      <td>...</td>\n",
       "      <td>...</td>\n",
       "      <td>...</td>\n",
       "      <td>...</td>\n",
       "      <td>...</td>\n",
       "      <td>...</td>\n",
       "      <td>...</td>\n",
       "      <td>...</td>\n",
       "      <td>...</td>\n",
       "      <td>...</td>\n",
       "      <td>...</td>\n",
       "      <td>...</td>\n",
       "      <td>...</td>\n",
       "    </tr>\n",
       "    <tr>\n",
       "      <th>711498</th>\n",
       "      <td>1.2.826.0.1.3680043.9994</td>\n",
       "      <td>260</td>\n",
       "      <td>512</td>\n",
       "      <td>512</td>\n",
       "      <td>1.000</td>\n",
       "      <td>-130.412</td>\n",
       "      <td>-119.7876</td>\n",
       "      <td>-690.700</td>\n",
       "      <td>0</td>\n",
       "      <td>0</td>\n",
       "      <td>0</td>\n",
       "      <td>0</td>\n",
       "      <td>0</td>\n",
       "      <td>0</td>\n",
       "      <td>0</td>\n",
       "      <td>0</td>\n",
       "      <td>0</td>\n",
       "      <td>0</td>\n",
       "      <td>0</td>\n",
       "      <td>0</td>\n",
       "      <td>0</td>\n",
       "      <td>0</td>\n",
       "      <td>0</td>\n",
       "      <td>4.0</td>\n",
       "      <td>0.001853</td>\n",
       "      <td>0.001450</td>\n",
       "      <td>0.001216</td>\n",
       "      <td>0.001040</td>\n",
       "      <td>0.000709</td>\n",
       "      <td>0.000575</td>\n",
       "      <td>0.002502</td>\n",
       "      <td>0.001341</td>\n",
       "      <td>0.000577</td>\n",
       "      <td>0.000918</td>\n",
       "      <td>0.000582</td>\n",
       "      <td>0.000162</td>\n",
       "      <td>0.000181</td>\n",
       "      <td>0.000951</td>\n",
       "    </tr>\n",
       "    <tr>\n",
       "      <th>711499</th>\n",
       "      <td>1.2.826.0.1.3680043.9994</td>\n",
       "      <td>261</td>\n",
       "      <td>512</td>\n",
       "      <td>512</td>\n",
       "      <td>1.000</td>\n",
       "      <td>-130.412</td>\n",
       "      <td>-119.7876</td>\n",
       "      <td>-691.500</td>\n",
       "      <td>0</td>\n",
       "      <td>0</td>\n",
       "      <td>0</td>\n",
       "      <td>0</td>\n",
       "      <td>0</td>\n",
       "      <td>0</td>\n",
       "      <td>0</td>\n",
       "      <td>0</td>\n",
       "      <td>0</td>\n",
       "      <td>0</td>\n",
       "      <td>0</td>\n",
       "      <td>0</td>\n",
       "      <td>0</td>\n",
       "      <td>0</td>\n",
       "      <td>0</td>\n",
       "      <td>4.0</td>\n",
       "      <td>0.001315</td>\n",
       "      <td>0.001269</td>\n",
       "      <td>0.001184</td>\n",
       "      <td>0.000922</td>\n",
       "      <td>0.000631</td>\n",
       "      <td>0.000542</td>\n",
       "      <td>0.002846</td>\n",
       "      <td>0.000752</td>\n",
       "      <td>0.000553</td>\n",
       "      <td>0.001124</td>\n",
       "      <td>0.000634</td>\n",
       "      <td>0.000145</td>\n",
       "      <td>0.000185</td>\n",
       "      <td>0.001394</td>\n",
       "    </tr>\n",
       "    <tr>\n",
       "      <th>711500</th>\n",
       "      <td>1.2.826.0.1.3680043.9994</td>\n",
       "      <td>262</td>\n",
       "      <td>512</td>\n",
       "      <td>512</td>\n",
       "      <td>1.000</td>\n",
       "      <td>-130.412</td>\n",
       "      <td>-119.7876</td>\n",
       "      <td>-692.300</td>\n",
       "      <td>0</td>\n",
       "      <td>0</td>\n",
       "      <td>0</td>\n",
       "      <td>0</td>\n",
       "      <td>0</td>\n",
       "      <td>0</td>\n",
       "      <td>0</td>\n",
       "      <td>0</td>\n",
       "      <td>0</td>\n",
       "      <td>0</td>\n",
       "      <td>0</td>\n",
       "      <td>0</td>\n",
       "      <td>0</td>\n",
       "      <td>0</td>\n",
       "      <td>0</td>\n",
       "      <td>4.0</td>\n",
       "      <td>0.001188</td>\n",
       "      <td>0.001037</td>\n",
       "      <td>0.001274</td>\n",
       "      <td>0.001061</td>\n",
       "      <td>0.000735</td>\n",
       "      <td>0.000677</td>\n",
       "      <td>0.004280</td>\n",
       "      <td>0.000548</td>\n",
       "      <td>0.000315</td>\n",
       "      <td>0.001044</td>\n",
       "      <td>0.000856</td>\n",
       "      <td>0.000190</td>\n",
       "      <td>0.000259</td>\n",
       "      <td>0.002672</td>\n",
       "    </tr>\n",
       "    <tr>\n",
       "      <th>711501</th>\n",
       "      <td>1.2.826.0.1.3680043.9994</td>\n",
       "      <td>263</td>\n",
       "      <td>512</td>\n",
       "      <td>512</td>\n",
       "      <td>1.000</td>\n",
       "      <td>-130.412</td>\n",
       "      <td>-119.7876</td>\n",
       "      <td>-693.100</td>\n",
       "      <td>0</td>\n",
       "      <td>0</td>\n",
       "      <td>0</td>\n",
       "      <td>0</td>\n",
       "      <td>0</td>\n",
       "      <td>0</td>\n",
       "      <td>0</td>\n",
       "      <td>0</td>\n",
       "      <td>0</td>\n",
       "      <td>0</td>\n",
       "      <td>0</td>\n",
       "      <td>0</td>\n",
       "      <td>0</td>\n",
       "      <td>0</td>\n",
       "      <td>0</td>\n",
       "      <td>4.0</td>\n",
       "      <td>0.001305</td>\n",
       "      <td>0.001037</td>\n",
       "      <td>0.001507</td>\n",
       "      <td>0.001372</td>\n",
       "      <td>0.000911</td>\n",
       "      <td>0.000770</td>\n",
       "      <td>0.004383</td>\n",
       "      <td>0.000577</td>\n",
       "      <td>0.000278</td>\n",
       "      <td>0.001192</td>\n",
       "      <td>0.001138</td>\n",
       "      <td>0.000257</td>\n",
       "      <td>0.000285</td>\n",
       "      <td>0.002571</td>\n",
       "    </tr>\n",
       "    <tr>\n",
       "      <th>711502</th>\n",
       "      <td>1.2.826.0.1.3680043.9994</td>\n",
       "      <td>264</td>\n",
       "      <td>512</td>\n",
       "      <td>512</td>\n",
       "      <td>1.000</td>\n",
       "      <td>-130.412</td>\n",
       "      <td>-119.7876</td>\n",
       "      <td>-693.900</td>\n",
       "      <td>0</td>\n",
       "      <td>0</td>\n",
       "      <td>0</td>\n",
       "      <td>0</td>\n",
       "      <td>0</td>\n",
       "      <td>0</td>\n",
       "      <td>0</td>\n",
       "      <td>0</td>\n",
       "      <td>0</td>\n",
       "      <td>0</td>\n",
       "      <td>0</td>\n",
       "      <td>0</td>\n",
       "      <td>0</td>\n",
       "      <td>0</td>\n",
       "      <td>0</td>\n",
       "      <td>4.0</td>\n",
       "      <td>0.000955</td>\n",
       "      <td>0.000830</td>\n",
       "      <td>0.001206</td>\n",
       "      <td>0.001151</td>\n",
       "      <td>0.000826</td>\n",
       "      <td>0.000699</td>\n",
       "      <td>0.002580</td>\n",
       "      <td>0.000414</td>\n",
       "      <td>0.000276</td>\n",
       "      <td>0.001048</td>\n",
       "      <td>0.000974</td>\n",
       "      <td>0.000276</td>\n",
       "      <td>0.000274</td>\n",
       "      <td>0.001192</td>\n",
       "    </tr>\n",
       "  </tbody>\n",
       "</table>\n",
       "<p>711503 rows × 38 columns</p>\n",
       "</div>"
      ],
      "text/plain": [
       "                 StudyInstanceUID  Slice  ImageHeight  ImageWidth  \\\n",
       "0       1.2.826.0.1.3680043.10032      1          512         512   \n",
       "1       1.2.826.0.1.3680043.10032      2          512         512   \n",
       "2       1.2.826.0.1.3680043.10032      3          512         512   \n",
       "3       1.2.826.0.1.3680043.10032      4          512         512   \n",
       "4       1.2.826.0.1.3680043.10032      5          512         512   \n",
       "...                           ...    ...          ...         ...   \n",
       "711498   1.2.826.0.1.3680043.9994    260          512         512   \n",
       "711499   1.2.826.0.1.3680043.9994    261          512         512   \n",
       "711500   1.2.826.0.1.3680043.9994    262          512         512   \n",
       "711501   1.2.826.0.1.3680043.9994    263          512         512   \n",
       "711502   1.2.826.0.1.3680043.9994    264          512         512   \n",
       "\n",
       "        SliceThickness  ImagePositionPatient_x  ImagePositionPatient_y  \\\n",
       "0                0.625                 -82.000                 11.7120   \n",
       "1                0.625                 -82.000                 11.7120   \n",
       "2                0.625                 -82.000                 11.7120   \n",
       "3                0.625                 -82.000                 11.7120   \n",
       "4                0.625                 -82.000                 11.7120   \n",
       "...                ...                     ...                     ...   \n",
       "711498           1.000                -130.412               -119.7876   \n",
       "711499           1.000                -130.412               -119.7876   \n",
       "711500           1.000                -130.412               -119.7876   \n",
       "711501           1.000                -130.412               -119.7876   \n",
       "711502           1.000                -130.412               -119.7876   \n",
       "\n",
       "        ImagePositionPatient_z  C1  C2  C3  C4  C5  C6  C7  patient_overall  \\\n",
       "0                       37.166   0   0   0   0   0   0   0                0   \n",
       "1                       36.541   0   0   0   0   0   0   0                0   \n",
       "2                       35.916   0   0   0   0   0   0   0                0   \n",
       "3                       35.291   0   0   0   0   0   0   0                0   \n",
       "4                       34.666   0   0   0   0   0   0   0                0   \n",
       "...                        ...  ..  ..  ..  ..  ..  ..  ..              ...   \n",
       "711498                -690.700   0   0   0   0   0   0   0                0   \n",
       "711499                -691.500   0   0   0   0   0   0   0                0   \n",
       "711500                -692.300   0   0   0   0   0   0   0                0   \n",
       "711501                -693.100   0   0   0   0   0   0   0                0   \n",
       "711502                -693.900   0   0   0   0   0   0   0                0   \n",
       "\n",
       "        C1_fracture  C2_fracture  C3_fracture  C4_fracture  C5_fracture  \\\n",
       "0                 0            0            0            0            0   \n",
       "1                 0            0            0            0            0   \n",
       "2                 0            0            0            0            0   \n",
       "3                 0            0            0            0            0   \n",
       "4                 0            0            0            0            0   \n",
       "...             ...          ...          ...          ...          ...   \n",
       "711498            0            0            0            0            0   \n",
       "711499            0            0            0            0            0   \n",
       "711500            0            0            0            0            0   \n",
       "711501            0            0            0            0            0   \n",
       "711502            0            0            0            0            0   \n",
       "\n",
       "        C6_fracture  C7_fracture  split  C1_effnet_frac  C2_effnet_frac  \\\n",
       "0                 0            0    0.0        0.000727        0.000883   \n",
       "1                 0            0    0.0        0.000675        0.000807   \n",
       "2                 0            0    0.0        0.000730        0.000869   \n",
       "3                 0            0    0.0        0.000863        0.001147   \n",
       "4                 0            0    0.0        0.000820        0.000940   \n",
       "...             ...          ...    ...             ...             ...   \n",
       "711498            0            0    4.0        0.001853        0.001450   \n",
       "711499            0            0    4.0        0.001315        0.001269   \n",
       "711500            0            0    4.0        0.001188        0.001037   \n",
       "711501            0            0    4.0        0.001305        0.001037   \n",
       "711502            0            0    4.0        0.000955        0.000830   \n",
       "\n",
       "        C3_effnet_frac  C4_effnet_frac  C5_effnet_frac  C6_effnet_frac  \\\n",
       "0             0.000820        0.000997        0.000693        0.000422   \n",
       "1             0.000709        0.000897        0.000600        0.000361   \n",
       "2             0.000721        0.000883        0.000624        0.000379   \n",
       "3             0.000846        0.001000        0.000638        0.000382   \n",
       "4             0.000820        0.001090        0.000707        0.000386   \n",
       "...                ...             ...             ...             ...   \n",
       "711498        0.001216        0.001040        0.000709        0.000575   \n",
       "711499        0.001184        0.000922        0.000631        0.000542   \n",
       "711500        0.001274        0.001061        0.000735        0.000677   \n",
       "711501        0.001507        0.001372        0.000911        0.000770   \n",
       "711502        0.001206        0.001151        0.000826        0.000699   \n",
       "\n",
       "        C7_effnet_frac  C1_effnet_vert  C2_effnet_vert  C3_effnet_vert  \\\n",
       "0             0.000429        0.001040        0.001831        0.003172   \n",
       "1             0.000354        0.000922        0.001411        0.002350   \n",
       "2             0.000424        0.000915        0.001315        0.002192   \n",
       "3             0.000439        0.001129        0.002209        0.002834   \n",
       "4             0.000494        0.000925        0.001265        0.002405   \n",
       "...                ...             ...             ...             ...   \n",
       "711498        0.002502        0.001341        0.000577        0.000918   \n",
       "711499        0.002846        0.000752        0.000553        0.001124   \n",
       "711500        0.004280        0.000548        0.000315        0.001044   \n",
       "711501        0.004383        0.000577        0.000278        0.001192   \n",
       "711502        0.002580        0.000414        0.000276        0.001048   \n",
       "\n",
       "        C4_effnet_vert  C5_effnet_vert  C6_effnet_vert  C7_effnet_vert  \n",
       "0             0.007347        0.001095        0.000229        0.000194  \n",
       "1             0.005200        0.000752        0.000163        0.000147  \n",
       "2             0.004757        0.000789        0.000190        0.000194  \n",
       "3             0.005120        0.000680        0.000173        0.000203  \n",
       "4             0.005688        0.000738        0.000155        0.000220  \n",
       "...                ...             ...             ...             ...  \n",
       "711498        0.000582        0.000162        0.000181        0.000951  \n",
       "711499        0.000634        0.000145        0.000185        0.001394  \n",
       "711500        0.000856        0.000190        0.000259        0.002672  \n",
       "711501        0.001138        0.000257        0.000285        0.002571  \n",
       "711502        0.000974        0.000276        0.000274        0.001192  \n",
       "\n",
       "[711503 rows x 38 columns]"
      ]
     },
     "execution_count": 29,
     "metadata": {},
     "output_type": "execute_result"
    }
   ],
   "source": [
    "df_pred = gen_effnet_predictions(effnet_models, df_train)\n",
    "df_pred.to_csv('train_predictions.csv', index=False)\n",
    "df_pred"
   ]
  },
  {
   "cell_type": "code",
   "execution_count": 30,
   "id": "9c832056",
   "metadata": {
    "execution": {
     "iopub.execute_input": "2024-11-04T00:25:39.056551Z",
     "iopub.status.busy": "2024-11-04T00:25:39.055779Z",
     "iopub.status.idle": "2024-11-04T00:25:39.065104Z",
     "shell.execute_reply": "2024-11-04T00:25:39.064179Z"
    },
    "papermill": {
     "duration": 0.033453,
     "end_time": "2024-11-04T00:25:39.067161",
     "exception": false,
     "start_time": "2024-11-04T00:25:39.033708",
     "status": "completed"
    },
    "pycharm": {
     "name": "#%%\n"
    },
    "tags": []
   },
   "outputs": [],
   "source": [
    "def plot_sample_patient(df_pred):\n",
    "    \"\"\"\n",
    "    Grafica un paciente aleatorio con sus predicciones de fracturas y vértebras\n",
    "\n",
    "    Args:\n",
    "        df_pred (pd.DataFrame): DataFrame con las predicciones de fracturas y vértebras\n",
    "    \"\"\"\n",
    "    patient = np.random.choice(df_pred.StudyInstanceUID)\n",
    "    df = df_pred.query('StudyInstanceUID == @patient').reset_index()\n",
    "\n",
    "    # Primer gráfico: fracturas del paciente\n",
    "    ax1 = plt.subplot(1, 3, 1)\n",
    "    ax1.plot(df[[f'C{i}_fracture' for i in range(1, 8)]].values * df[[f'C{i}' for i in range(1, 8)]].values)\n",
    "    ax1.set_title(f'Patient {patient}, fractures')\n",
    "\n",
    "    # Segundo gráfico: predicción de fracturas\n",
    "    df[[f'C{i}_effnet_frac' for i in range(1, 8)]].plot(\n",
    "        title=f'Patient {patient}, fracture prediction',\n",
    "        ax=plt.subplot(1, 3, 2)\n",
    "    )\n",
    "\n",
    "    # Tercer gráfico: predicción de vértebras\n",
    "    df[[f'C{i}_effnet_vert' for i in range(1, 8)]].plot(\n",
    "        title=f'Patient {patient}, vertebrae prediction',\n",
    "        ax=plt.subplot(1, 3, 3)\n",
    "    )\n",
    "\n",
    "    plt.tight_layout()  # Ajusta el layout para que los títulos no se solapen\n",
    "    plt.show()\n"
   ]
  },
  {
   "cell_type": "markdown",
   "id": "e81aa94a",
   "metadata": {
    "papermill": {
     "duration": 0.020714,
     "end_time": "2024-11-04T00:25:39.108718",
     "exception": false,
     "start_time": "2024-11-04T00:25:39.088004",
     "status": "completed"
    },
    "tags": []
   },
   "source": [
    "### Resultados con pacientes aleatorios"
   ]
  },
  {
   "cell_type": "code",
   "execution_count": 31,
   "id": "63d10128",
   "metadata": {
    "execution": {
     "iopub.execute_input": "2024-11-04T00:25:39.151820Z",
     "iopub.status.busy": "2024-11-04T00:25:39.151120Z",
     "iopub.status.idle": "2024-11-04T00:25:39.919532Z",
     "shell.execute_reply": "2024-11-04T00:25:39.918543Z"
    },
    "papermill": {
     "duration": 0.797937,
     "end_time": "2024-11-04T00:25:39.927469",
     "exception": false,
     "start_time": "2024-11-04T00:25:39.129532",
     "status": "completed"
    },
    "tags": []
   },
   "outputs": [
    {
     "data": {
      "image/png": "[encoded data removed]",
      "text/plain": [
       "<Figure size 1440x360 with 3 Axes>"
      ]
     },
     "metadata": {
      "needs_background": "light"
     },
     "output_type": "display_data"
    }
   ],
   "source": [
    "\n",
    "plot_sample_patient(df_pred)"
   ]
  },
  {
   "cell_type": "code",
   "execution_count": 32,
   "id": "d2237f0d",
   "metadata": {
    "execution": {
     "iopub.execute_input": "2024-11-04T00:25:39.975005Z",
     "iopub.status.busy": "2024-11-04T00:25:39.974670Z",
     "iopub.status.idle": "2024-11-04T00:25:40.662275Z",
     "shell.execute_reply": "2024-11-04T00:25:40.661322Z"
    },
    "papermill": {
     "duration": 0.71472,
     "end_time": "2024-11-04T00:25:40.665537",
     "exception": false,
     "start_time": "2024-11-04T00:25:39.950817",
     "status": "completed"
    },
    "pycharm": {
     "name": "#%%\n"
    },
    "tags": []
   },
   "outputs": [
    {
     "data": {
      "image/png": "[encoded data removed]",
      "text/plain": [
       "<Figure size 1440x360 with 3 Axes>"
      ]
     },
     "metadata": {
      "needs_background": "light"
     },
     "output_type": "display_data"
    }
   ],
   "source": [
    "plot_sample_patient(df_pred)"
   ]
  },
  {
   "cell_type": "code",
   "execution_count": 33,
   "id": "fe6ea274",
   "metadata": {
    "execution": {
     "iopub.execute_input": "2024-11-04T00:25:40.717437Z",
     "iopub.status.busy": "2024-11-04T00:25:40.716339Z",
     "iopub.status.idle": "2024-11-04T00:25:41.419659Z",
     "shell.execute_reply": "2024-11-04T00:25:41.418724Z"
    },
    "papermill": {
     "duration": 0.732985,
     "end_time": "2024-11-04T00:25:41.423149",
     "exception": false,
     "start_time": "2024-11-04T00:25:40.690164",
     "status": "completed"
    },
    "pycharm": {
     "name": "#%%\n"
    },
    "tags": []
   },
   "outputs": [
    {
     "data": {
      "image/png": "[encoded data removed]",
      "text/plain": [
       "<Figure size 1440x360 with 3 Axes>"
      ]
     },
     "metadata": {
      "needs_background": "light"
     },
     "output_type": "display_data"
    }
   ],
   "source": [
    "plot_sample_patient(df_pred)"
   ]
  },
  {
   "cell_type": "markdown",
   "id": "956f04c5",
   "metadata": {
    "papermill": {
     "duration": 0.025183,
     "end_time": "2024-11-04T00:25:41.474663",
     "exception": false,
     "start_time": "2024-11-04T00:25:41.449480",
     "status": "completed"
    },
    "tags": []
   },
   "source": [
    "## Generacion de predicciones"
   ]
  },
  {
   "cell_type": "code",
   "execution_count": 34,
   "id": "eb7f31a6",
   "metadata": {
    "execution": {
     "iopub.execute_input": "2024-11-04T00:25:41.527010Z",
     "iopub.status.busy": "2024-11-04T00:25:41.526690Z",
     "iopub.status.idle": "2024-11-04T00:25:43.903909Z",
     "shell.execute_reply": "2024-11-04T00:25:43.902773Z"
    },
    "papermill": {
     "duration": 2.406441,
     "end_time": "2024-11-04T00:25:43.906663",
     "exception": false,
     "start_time": "2024-11-04T00:25:41.500222",
     "status": "completed"
    },
    "pycharm": {
     "name": "#%%\n"
    },
    "tags": []
   },
   "outputs": [],
   "source": [
    "target_cols = ['patient_overall'] + [f'C{i}_fracture' for i in range(1, 8)]\n",
    "frac_cols = [f'C{i}_effnet_frac' for i in range(1, 8)]\n",
    "vert_cols = [f'C{i}_effnet_vert' for i in range(1, 8)]\n",
    "\n",
    "\n",
    "def patient_prediction(df):\n",
    "    c1c7 = np.average(df[frac_cols].values, axis=0, weights=df[vert_cols].values)\n",
    "    pred_patient_overall = 1 - np.prod(1 - c1c7)\n",
    "    return np.concatenate([[pred_patient_overall], c1c7])\n",
    "\n",
    "df_patient_pred = df_pred.groupby('StudyInstanceUID').apply(lambda df: patient_prediction(df)).to_frame('pred').join(df_pred.groupby('StudyInstanceUID')[target_cols].mean())"
   ]
  },
  {
   "cell_type": "code",
   "execution_count": 35,
   "id": "23127ce2",
   "metadata": {
    "execution": {
     "iopub.execute_input": "2024-11-04T00:25:43.963123Z",
     "iopub.status.busy": "2024-11-04T00:25:43.962770Z",
     "iopub.status.idle": "2024-11-04T00:25:43.985065Z",
     "shell.execute_reply": "2024-11-04T00:25:43.983974Z"
    },
    "papermill": {
     "duration": 0.052651,
     "end_time": "2024-11-04T00:25:43.987335",
     "exception": false,
     "start_time": "2024-11-04T00:25:43.934684",
     "status": "completed"
    },
    "pycharm": {
     "name": "#%%\n"
    },
    "tags": []
   },
   "outputs": [
    {
     "data": {
      "text/html": [
       "<div>\n",
       "<style scoped>\n",
       "    .dataframe tbody tr th:only-of-type {\n",
       "        vertical-align: middle;\n",
       "    }\n",
       "\n",
       "    .dataframe tbody tr th {\n",
       "        vertical-align: top;\n",
       "    }\n",
       "\n",
       "    .dataframe thead th {\n",
       "        text-align: right;\n",
       "    }\n",
       "</style>\n",
       "<table border=\"1\" class=\"dataframe\">\n",
       "  <thead>\n",
       "    <tr style=\"text-align: right;\">\n",
       "      <th></th>\n",
       "      <th>pred</th>\n",
       "      <th>patient_overall</th>\n",
       "      <th>C1_fracture</th>\n",
       "      <th>C2_fracture</th>\n",
       "      <th>C3_fracture</th>\n",
       "      <th>C4_fracture</th>\n",
       "      <th>C5_fracture</th>\n",
       "      <th>C6_fracture</th>\n",
       "      <th>C7_fracture</th>\n",
       "    </tr>\n",
       "    <tr>\n",
       "      <th>StudyInstanceUID</th>\n",
       "      <th></th>\n",
       "      <th></th>\n",
       "      <th></th>\n",
       "      <th></th>\n",
       "      <th></th>\n",
       "      <th></th>\n",
       "      <th></th>\n",
       "      <th></th>\n",
       "      <th></th>\n",
       "    </tr>\n",
       "  </thead>\n",
       "  <tbody>\n",
       "    <tr>\n",
       "      <th>1.2.826.0.1.3680043.10001</th>\n",
       "      <td>[0.6597993086925601, 0.016618907838660275, 0.0...</td>\n",
       "      <td>0.0</td>\n",
       "      <td>0.0</td>\n",
       "      <td>0.0</td>\n",
       "      <td>0.0</td>\n",
       "      <td>0.0</td>\n",
       "      <td>0.0</td>\n",
       "      <td>0.0</td>\n",
       "      <td>0.0</td>\n",
       "    </tr>\n",
       "    <tr>\n",
       "      <th>1.2.826.0.1.3680043.10005</th>\n",
       "      <td>[0.5736867044966425, 0.045942942809370294, 0.2...</td>\n",
       "      <td>0.0</td>\n",
       "      <td>0.0</td>\n",
       "      <td>0.0</td>\n",
       "      <td>0.0</td>\n",
       "      <td>0.0</td>\n",
       "      <td>0.0</td>\n",
       "      <td>0.0</td>\n",
       "      <td>0.0</td>\n",
       "    </tr>\n",
       "    <tr>\n",
       "      <th>1.2.826.0.1.3680043.10014</th>\n",
       "      <td>[0.45689148601955476, 0.04066260208031813, 0.0...</td>\n",
       "      <td>0.0</td>\n",
       "      <td>0.0</td>\n",
       "      <td>0.0</td>\n",
       "      <td>0.0</td>\n",
       "      <td>0.0</td>\n",
       "      <td>0.0</td>\n",
       "      <td>0.0</td>\n",
       "      <td>0.0</td>\n",
       "    </tr>\n",
       "    <tr>\n",
       "      <th>1.2.826.0.1.3680043.10016</th>\n",
       "      <td>[0.2460321392949666, 0.015621005477521474, 0.0...</td>\n",
       "      <td>1.0</td>\n",
       "      <td>0.0</td>\n",
       "      <td>1.0</td>\n",
       "      <td>0.0</td>\n",
       "      <td>0.0</td>\n",
       "      <td>0.0</td>\n",
       "      <td>0.0</td>\n",
       "      <td>0.0</td>\n",
       "    </tr>\n",
       "    <tr>\n",
       "      <th>1.2.826.0.1.3680043.10032</th>\n",
       "      <td>[0.43718611420226183, 0.04664682763992611, 0.0...</td>\n",
       "      <td>0.0</td>\n",
       "      <td>0.0</td>\n",
       "      <td>0.0</td>\n",
       "      <td>0.0</td>\n",
       "      <td>0.0</td>\n",
       "      <td>0.0</td>\n",
       "      <td>0.0</td>\n",
       "      <td>0.0</td>\n",
       "    </tr>\n",
       "  </tbody>\n",
       "</table>\n",
       "</div>"
      ],
      "text/plain": [
       "                                                                        pred  \\\n",
       "StudyInstanceUID                                                               \n",
       "1.2.826.0.1.3680043.10001  [0.6597993086925601, 0.016618907838660275, 0.0...   \n",
       "1.2.826.0.1.3680043.10005  [0.5736867044966425, 0.045942942809370294, 0.2...   \n",
       "1.2.826.0.1.3680043.10014  [0.45689148601955476, 0.04066260208031813, 0.0...   \n",
       "1.2.826.0.1.3680043.10016  [0.2460321392949666, 0.015621005477521474, 0.0...   \n",
       "1.2.826.0.1.3680043.10032  [0.43718611420226183, 0.04664682763992611, 0.0...   \n",
       "\n",
       "                           patient_overall  C1_fracture  C2_fracture  \\\n",
       "StudyInstanceUID                                                       \n",
       "1.2.826.0.1.3680043.10001              0.0          0.0          0.0   \n",
       "1.2.826.0.1.3680043.10005              0.0          0.0          0.0   \n",
       "1.2.826.0.1.3680043.10014              0.0          0.0          0.0   \n",
       "1.2.826.0.1.3680043.10016              1.0          0.0          1.0   \n",
       "1.2.826.0.1.3680043.10032              0.0          0.0          0.0   \n",
       "\n",
       "                           C3_fracture  C4_fracture  C5_fracture  C6_fracture  \\\n",
       "StudyInstanceUID                                                                \n",
       "1.2.826.0.1.3680043.10001          0.0          0.0          0.0          0.0   \n",
       "1.2.826.0.1.3680043.10005          0.0          0.0          0.0          0.0   \n",
       "1.2.826.0.1.3680043.10014          0.0          0.0          0.0          0.0   \n",
       "1.2.826.0.1.3680043.10016          0.0          0.0          0.0          0.0   \n",
       "1.2.826.0.1.3680043.10032          0.0          0.0          0.0          0.0   \n",
       "\n",
       "                           C7_fracture  \n",
       "StudyInstanceUID                        \n",
       "1.2.826.0.1.3680043.10001          0.0  \n",
       "1.2.826.0.1.3680043.10005          0.0  \n",
       "1.2.826.0.1.3680043.10014          0.0  \n",
       "1.2.826.0.1.3680043.10016          0.0  \n",
       "1.2.826.0.1.3680043.10032          0.0  "
      ]
     },
     "metadata": {},
     "output_type": "display_data"
    }
   ],
   "source": [
    "display(df_patient_pred.head())"
   ]
  },
  {
   "cell_type": "code",
   "execution_count": 36,
   "id": "fa637574",
   "metadata": {
    "execution": {
     "iopub.execute_input": "2024-11-04T00:25:44.041128Z",
     "iopub.status.busy": "2024-11-04T00:25:44.040330Z",
     "iopub.status.idle": "2024-11-04T00:25:44.047473Z",
     "shell.execute_reply": "2024-11-04T00:25:44.046557Z"
    },
    "papermill": {
     "duration": 0.036128,
     "end_time": "2024-11-04T00:25:44.049535",
     "exception": false,
     "start_time": "2024-11-04T00:25:44.013407",
     "status": "completed"
    },
    "pycharm": {
     "name": "#%%\n"
    },
    "tags": []
   },
   "outputs": [],
   "source": [
    "# Pasar a numpy stack\n",
    "predictions = np.stack(df_patient_pred.pred.values.tolist())"
   ]
  },
  {
   "cell_type": "code",
   "execution_count": 37,
   "id": "763d3532",
   "metadata": {
    "execution": {
     "iopub.execute_input": "2024-11-04T00:25:44.103474Z",
     "iopub.status.busy": "2024-11-04T00:25:44.102934Z",
     "iopub.status.idle": "2024-11-04T00:25:44.109070Z",
     "shell.execute_reply": "2024-11-04T00:25:44.108295Z"
    },
    "papermill": {
     "duration": 0.035313,
     "end_time": "2024-11-04T00:25:44.111155",
     "exception": false,
     "start_time": "2024-11-04T00:25:44.075842",
     "status": "completed"
    },
    "pycharm": {
     "name": "#%%\n"
    },
    "tags": []
   },
   "outputs": [],
   "source": [
    "# Generar array de targets\n",
    "targets = df_patient_pred[target_cols].values"
   ]
  },
  {
   "cell_type": "code",
   "execution_count": 38,
   "id": "6901cc8e",
   "metadata": {
    "execution": {
     "iopub.execute_input": "2024-11-04T00:25:44.167602Z",
     "iopub.status.busy": "2024-11-04T00:25:44.166820Z",
     "iopub.status.idle": "2024-11-04T00:25:44.179901Z",
     "shell.execute_reply": "2024-11-04T00:25:44.178932Z"
    },
    "papermill": {
     "duration": 0.044302,
     "end_time": "2024-11-04T00:25:44.182048",
     "exception": false,
     "start_time": "2024-11-04T00:25:44.137746",
     "status": "completed"
    },
    "pycharm": {
     "name": "#%%\n"
    },
    "tags": []
   },
   "outputs": [
    {
     "name": "stdout",
     "output_type": "stream",
     "text": [
      "CV score: tensor(0.4955, device='cuda:0', dtype=torch.float64)\n"
     ]
    }
   ],
   "source": [
    "# Obtener el Cross Valdation score\n",
    "print('CV score:', weighted_loss(torch.logit(torch.as_tensor(predictions)).to(DEVICE), torch.as_tensor(targets).to(DEVICE)))"
   ]
  }
 ],
 "metadata": {
  "kaggle": {
   "accelerator": "gpu",
   "dataSources": [
    {
     "databundleVersionId": 4050810,
     "sourceId": 36363,
     "sourceType": "competition"
    },
    {
     "datasetId": 2438951,
     "sourceId": 4128666,
     "sourceType": "datasetVersion"
    },
    {
     "datasetId": 2440666,
     "sourceId": 4131877,
     "sourceType": "datasetVersion"
    },
    {
     "datasetId": 6004626,
     "sourceId": 9797883,
     "sourceType": "datasetVersion"
    },
    {
     "sourceId": 104036025,
     "sourceType": "kernelVersion"
    }
   ],
   "dockerImageVersionId": 30214,
   "isGpuEnabled": true,
   "isInternetEnabled": true,
   "language": "python",
   "sourceType": "notebook"
  },
  "kernelspec": {
   "display_name": "Python 3",
   "language": "python",
   "name": "python3"
  },
  "language_info": {
   "codemirror_mode": {
    "name": "ipython",
    "version": 3
   },
   "file_extension": ".py",
   "mimetype": "text/x-python",
   "name": "python",
   "nbconvert_exporter": "python",
   "pygments_lexer": "ipython3",
   "version": "3.7.12"
  },
  "papermill": {
   "default_parameters": {},
   "duration": 155.555029,
   "end_time": "2024-11-04T00:25:45.330918",
   "environment_variables": {},
   "exception": null,
   "input_path": "__notebook__.ipynb",
   "output_path": "__notebook__.ipynb",
   "parameters": {},
   "start_time": "2024-11-04T00:23:09.775889",
   "version": "2.3.4"
  },
  "widgets": {
   "application/vnd.jupyter.widget-state+json": {
    "state": {
     "00d7e37d3dc24926815ab7c48b82deed": {
      "model_module": "@jupyter-widgets/base",
      "model_module_version": "1.2.0",
      "model_name": "LayoutModel",
      "state": {
       "_model_module": "@jupyter-widgets/base",
       "_model_module_version": "1.2.0",
       "_model_name": "LayoutModel",
       "_view_count": null,
       "_view_module": "@jupyter-widgets/base",
       "_view_module_version": "1.2.0",
       "_view_name": "LayoutView",
       "align_content": null,
       "align_items": null,
       "align_self": null,
       "border": null,
       "bottom": null,
       "display": null,
       "flex": null,
       "flex_flow": null,
       "grid_area": null,
       "grid_auto_columns": null,
       "grid_auto_flow": null,
       "grid_auto_rows": null,
       "grid_column": null,
       "grid_gap": null,
       "grid_row": null,
       "grid_template_areas": null,
       "grid_template_columns": null,
       "grid_template_rows": null,
       "height": null,
       "justify_content": null,
       "justify_items": null,
       "left": null,
       "margin": null,
       "max_height": null,
       "max_width": null,
       "min_height": null,
       "min_width": null,
       "object_fit": null,
       "object_position": null,
       "order": null,
       "overflow": null,
       "overflow_x": null,
       "overflow_y": null,
       "padding": null,
       "right": null,
       "top": null,
       "visibility": null,
       "width": null
      }
     },
     "39f29bb94ad74780b554f15ce0ab1adf": {
      "model_module": "@jupyter-widgets/base",
      "model_module_version": "1.2.0",
      "model_name": "LayoutModel",
      "state": {
       "_model_module": "@jupyter-widgets/base",
       "_model_module_version": "1.2.0",
       "_model_name": "LayoutModel",
       "_view_count": null,
       "_view_module": "@jupyter-widgets/base",
       "_view_module_version": "1.2.0",
       "_view_name": "LayoutView",
       "align_content": null,
       "align_items": null,
       "align_self": null,
       "border": null,
       "bottom": null,
       "display": null,
       "flex": null,
       "flex_flow": null,
       "grid_area": null,
       "grid_auto_columns": null,
       "grid_auto_flow": null,
       "grid_auto_rows": null,
       "grid_column": null,
       "grid_gap": null,
       "grid_row": null,
       "grid_template_areas": null,
       "grid_template_columns": null,
       "grid_template_rows": null,
       "height": null,
       "justify_content": null,
       "justify_items": null,
       "left": null,
       "margin": null,
       "max_height": null,
       "max_width": null,
       "min_height": null,
       "min_width": null,
       "object_fit": null,
       "object_position": null,
       "order": null,
       "overflow": null,
       "overflow_x": null,
       "overflow_y": null,
       "padding": null,
       "right": null,
       "top": null,
       "visibility": null,
       "width": null
      }
     },
     "4c220a67d2624261bfd125ddbee1e9b3": {
      "model_module": "@jupyter-widgets/base",
      "model_module_version": "1.2.0",
      "model_name": "LayoutModel",
      "state": {
       "_model_module": "@jupyter-widgets/base",
       "_model_module_version": "1.2.0",
       "_model_name": "LayoutModel",
       "_view_count": null,
       "_view_module": "@jupyter-widgets/base",
       "_view_module_version": "1.2.0",
       "_view_name": "LayoutView",
       "align_content": null,
       "align_items": null,
       "align_self": null,
       "border": null,
       "bottom": null,
       "display": null,
       "flex": null,
       "flex_flow": null,
       "grid_area": null,
       "grid_auto_columns": null,
       "grid_auto_flow": null,
       "grid_auto_rows": null,
       "grid_column": null,
       "grid_gap": null,
       "grid_row": null,
       "grid_template_areas": null,
       "grid_template_columns": null,
       "grid_template_rows": null,
       "height": null,
       "justify_content": null,
       "justify_items": null,
       "left": null,
       "margin": null,
       "max_height": null,
       "max_width": null,
       "min_height": null,
       "min_width": null,
       "object_fit": null,
       "object_position": null,
       "order": null,
       "overflow": null,
       "overflow_x": null,
       "overflow_y": null,
       "padding": null,
       "right": null,
       "top": null,
       "visibility": null,
       "width": null
      }
     },
     "5dd2ca9a2bbb4bb79bfe9f6627acc995": {
      "model_module": "@jupyter-widgets/controls",
      "model_module_version": "1.5.0",
      "model_name": "HBoxModel",
      "state": {
       "_dom_classes": [],
       "_model_module": "@jupyter-widgets/controls",
       "_model_module_version": "1.5.0",
       "_model_name": "HBoxModel",
       "_view_count": null,
       "_view_module": "@jupyter-widgets/controls",
       "_view_module_version": "1.5.0",
       "_view_name": "HBoxView",
       "box_style": "",
       "children": [
        "IPY_MODEL_6fb8ff8b43084319962748d791605cb7",
        "IPY_MODEL_c772bb6349ea462db2d9eefb34207fcc",
        "IPY_MODEL_7bc9f8bd462f43ca928ceff0cd2b0120"
       ],
       "layout": "IPY_MODEL_00d7e37d3dc24926815ab7c48b82deed"
      }
     },
     "6fb8ff8b43084319962748d791605cb7": {
      "model_module": "@jupyter-widgets/controls",
      "model_module_version": "1.5.0",
      "model_name": "HTMLModel",
      "state": {
       "_dom_classes": [],
       "_model_module": "@jupyter-widgets/controls",
       "_model_module_version": "1.5.0",
       "_model_name": "HTMLModel",
       "_view_count": null,
       "_view_module": "@jupyter-widgets/controls",
       "_view_module_version": "1.5.0",
       "_view_name": "HTMLView",
       "description": "",
       "description_tooltip": null,
       "layout": "IPY_MODEL_4c220a67d2624261bfd125ddbee1e9b3",
       "placeholder": "​",
       "style": "IPY_MODEL_e04c363a048040beb7b0000564a60067",
       "value": "100%"
      }
     },
     "7bc9f8bd462f43ca928ceff0cd2b0120": {
      "model_module": "@jupyter-widgets/controls",
      "model_module_version": "1.5.0",
      "model_name": "HTMLModel",
      "state": {
       "_dom_classes": [],
       "_model_module": "@jupyter-widgets/controls",
       "_model_module_version": "1.5.0",
       "_model_name": "HTMLModel",
       "_view_count": null,
       "_view_module": "@jupyter-widgets/controls",
       "_view_module_version": "1.5.0",
       "_view_name": "HTMLView",
       "description": "",
       "description_tooltip": null,
       "layout": "IPY_MODEL_39f29bb94ad74780b554f15ce0ab1adf",
       "placeholder": "​",
       "style": "IPY_MODEL_a475dbf48af040aba4043998adb59f42",
       "value": " 5/5 [00:05&lt;00:00,  1.17s/it]"
      }
     },
     "a475dbf48af040aba4043998adb59f42": {
      "model_module": "@jupyter-widgets/controls",
      "model_module_version": "1.5.0",
      "model_name": "DescriptionStyleModel",
      "state": {
       "_model_module": "@jupyter-widgets/controls",
       "_model_module_version": "1.5.0",
       "_model_name": "DescriptionStyleModel",
       "_view_count": null,
       "_view_module": "@jupyter-widgets/base",
       "_view_module_version": "1.2.0",
       "_view_name": "StyleView",
       "description_width": ""
      }
     },
     "a5fa2a8f06424bcab6dbf062f1c1eb97": {
      "model_module": "@jupyter-widgets/controls",
      "model_module_version": "1.5.0",
      "model_name": "ProgressStyleModel",
      "state": {
       "_model_module": "@jupyter-widgets/controls",
       "_model_module_version": "1.5.0",
       "_model_name": "ProgressStyleModel",
       "_view_count": null,
       "_view_module": "@jupyter-widgets/base",
       "_view_module_version": "1.2.0",
       "_view_name": "StyleView",
       "bar_color": null,
       "description_width": ""
      }
     },
     "c772bb6349ea462db2d9eefb34207fcc": {
      "model_module": "@jupyter-widgets/controls",
      "model_module_version": "1.5.0",
      "model_name": "FloatProgressModel",
      "state": {
       "_dom_classes": [],
       "_model_module": "@jupyter-widgets/controls",
       "_model_module_version": "1.5.0",
       "_model_name": "FloatProgressModel",
       "_view_count": null,
       "_view_module": "@jupyter-widgets/controls",
       "_view_module_version": "1.5.0",
       "_view_name": "ProgressView",
       "bar_style": "success",
       "description": "",
       "description_tooltip": null,
       "layout": "IPY_MODEL_fc5a55e35b294368a611f42a7f5b2c0a",
       "max": 5.0,
       "min": 0.0,
       "orientation": "horizontal",
       "style": "IPY_MODEL_a5fa2a8f06424bcab6dbf062f1c1eb97",
       "value": 5.0
      }
     },
     "e04c363a048040beb7b0000564a60067": {
      "model_module": "@jupyter-widgets/controls",
      "model_module_version": "1.5.0",
      "model_name": "DescriptionStyleModel",
      "state": {
       "_model_module": "@jupyter-widgets/controls",
       "_model_module_version": "1.5.0",
       "_model_name": "DescriptionStyleModel",
       "_view_count": null,
       "_view_module": "@jupyter-widgets/base",
       "_view_module_version": "1.2.0",
       "_view_name": "StyleView",
       "description_width": ""
      }
     },
     "fc5a55e35b294368a611f42a7f5b2c0a": {
      "model_module": "@jupyter-widgets/base",
      "model_module_version": "1.2.0",
      "model_name": "LayoutModel",
      "state": {
       "_model_module": "@jupyter-widgets/base",
       "_model_module_version": "1.2.0",
       "_model_name": "LayoutModel",
       "_view_count": null,
       "_view_module": "@jupyter-widgets/base",
       "_view_module_version": "1.2.0",
       "_view_name": "LayoutView",
       "align_content": null,
       "align_items": null,
       "align_self": null,
       "border": null,
       "bottom": null,
       "display": null,
       "flex": null,
       "flex_flow": null,
       "grid_area": null,
       "grid_auto_columns": null,
       "grid_auto_flow": null,
       "grid_auto_rows": null,
       "grid_column": null,
       "grid_gap": null,
       "grid_row": null,
       "grid_template_areas": null,
       "grid_template_columns": null,
       "grid_template_rows": null,
       "height": null,
       "justify_content": null,
       "justify_items": null,
       "left": null,
       "margin": null,
       "max_height": null,
       "max_width": null,
       "min_height": null,
       "min_width": null,
       "object_fit": null,
       "object_position": null,
       "order": null,
       "overflow": null,
       "overflow_x": null,
       "overflow_y": null,
       "padding": null,
       "right": null,
       "top": null,
       "visibility": null,
       "width": null
      }
     }
    },
    "version_major": 2,
    "version_minor": 0
   }
  }
 },
 "nbformat": 4,
 "nbformat_minor": 5
}
