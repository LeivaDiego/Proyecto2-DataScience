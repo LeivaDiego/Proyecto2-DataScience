{
 "cells": [
  {
   "cell_type": "markdown",
   "id": "673a4775",
   "metadata": {
    "papermill": {
     "duration": 0.01071,
     "end_time": "2024-11-04T19:51:28.022401",
     "exception": false,
     "start_time": "2024-11-04T19:51:28.011691",
     "status": "completed"
    },
    "tags": []
   },
   "source": [
    "# Proyecto 2\n",
    "## RSNA 2022 Cervical Spine Fracture Detection\n",
    "**Universidad del Valle de Guatemala**\\\n",
    "**Facultad de Ingeniería**\\\n",
    "**Departamento de Ciencias de la Computación**\\\n",
    "**Data Science**\n",
    "\n",
    "# Inferencia de Fracturas con Modelo Base EfficientNetV2 de PyTorch\n",
    "---\n",
    "\n",
    "## Integrantes\n",
    "- Gustavo Gonzalez\n",
    "- Pablo Orellana\n",
    "- Diego Leiva\n",
    "- Maria Ramirez\n",
    "\n",
    "---\n",
    "\n",
    "Este notebook contiene el codigo necesario para generar las predicciones de todo el conjunto de datos."
   ]
  },
  {
   "cell_type": "markdown",
   "id": "9c750415",
   "metadata": {
    "papermill": {
     "duration": 0.009112,
     "end_time": "2024-11-04T19:51:28.041149",
     "exception": false,
     "start_time": "2024-11-04T19:51:28.032037",
     "status": "completed"
    },
    "tags": []
   },
   "source": [
    "## Dependencias"
   ]
  },
  {
   "cell_type": "code",
   "execution_count": 1,
   "id": "32471e81",
   "metadata": {
    "execution": {
     "iopub.execute_input": "2024-11-04T19:51:28.061546Z",
     "iopub.status.busy": "2024-11-04T19:51:28.061100Z",
     "iopub.status.idle": "2024-11-04T19:53:18.890111Z",
     "shell.execute_reply": "2024-11-04T19:53:18.888494Z"
    },
    "papermill": {
     "duration": 110.843467,
     "end_time": "2024-11-04T19:53:18.893965",
     "exception": false,
     "start_time": "2024-11-04T19:51:28.050498",
     "status": "completed"
    },
    "pycharm": {
     "name": "#%%\n"
    },
    "tags": []
   },
   "outputs": [
    {
     "name": "stdout",
     "output_type": "stream",
     "text": [
      "cp: cannot create regular file '/root/.cache/torch/hub/checkpoints/': No such file or directory\r\n",
      "Processing /kaggle/input/rsna-2022-whl/pydicom-2.3.0-py3-none-any.whl\r\n",
      "Processing /kaggle/input/rsna-2022-whl/pylibjpeg-1.4.0-py3-none-any.whl\r\n",
      "Processing /kaggle/input/rsna-2022-whl/python_gdcm-3.0.15-cp37-cp37m-manylinux_2_17_x86_64.manylinux2014_x86_64.whl\r\n",
      "Requirement already satisfied: numpy in /opt/conda/lib/python3.7/site-packages (from pylibjpeg==1.4.0) (1.21.6)\r\n",
      "pydicom is already installed with the same version as the provided wheel. Use --force-reinstall to force an installation of the wheel.\r\n",
      "Installing collected packages: python-gdcm, pylibjpeg\r\n",
      "Successfully installed pylibjpeg-1.4.0 python-gdcm-3.0.15\r\n",
      "\u001b[33mWARNING: Running pip as the 'root' user can result in broken permissions and conflicting behaviour with the system package manager. It is recommended to use a virtual environment instead: https://pip.pypa.io/warnings/venv\u001b[0m\u001b[33m\r\n",
      "\u001b[0m\u001b[33mWARNING: There was an error checking the latest version of pip.\u001b[0m\u001b[33m\r\n",
      "\u001b[0mProcessing /kaggle/input/rsna-2022-whl/torch-1.12.1-cp37-cp37m-manylinux1_x86_64.whl\r\n",
      "Processing /kaggle/input/rsna-2022-whl/torchvision-0.13.1-cp37-cp37m-manylinux1_x86_64.whl\r\n",
      "Requirement already satisfied: typing-extensions in /opt/conda/lib/python3.7/site-packages (from torch==1.12.1) (4.3.0)\r\n",
      "Requirement already satisfied: requests in /opt/conda/lib/python3.7/site-packages (from torchvision==0.13.1) (2.28.1)\r\n",
      "Requirement already satisfied: numpy in /opt/conda/lib/python3.7/site-packages (from torchvision==0.13.1) (1.21.6)\r\n",
      "Requirement already satisfied: pillow!=8.3.*,>=5.3.0 in /opt/conda/lib/python3.7/site-packages (from torchvision==0.13.1) (9.1.1)\r\n",
      "Requirement already satisfied: charset-normalizer<3,>=2 in /opt/conda/lib/python3.7/site-packages (from requests->torchvision==0.13.1) (2.1.0)\r\n",
      "Requirement already satisfied: urllib3<1.27,>=1.21.1 in /opt/conda/lib/python3.7/site-packages (from requests->torchvision==0.13.1) (1.26.12)\r\n",
      "Requirement already satisfied: idna<4,>=2.5 in /opt/conda/lib/python3.7/site-packages (from requests->torchvision==0.13.1) (3.3)\r\n",
      "Requirement already satisfied: certifi>=2017.4.17 in /opt/conda/lib/python3.7/site-packages (from requests->torchvision==0.13.1) (2022.6.15)\r\n",
      "Installing collected packages: torch, torchvision\r\n",
      "  Attempting uninstall: torch\r\n",
      "    Found existing installation: torch 1.11.0\r\n",
      "    Uninstalling torch-1.11.0:\r\n",
      "      Successfully uninstalled torch-1.11.0\r\n",
      "  Attempting uninstall: torchvision\r\n",
      "    Found existing installation: torchvision 0.12.0\r\n",
      "    Uninstalling torchvision-0.12.0:\r\n",
      "      Successfully uninstalled torchvision-0.12.0\r\n",
      "\u001b[31mERROR: pip's dependency resolver does not currently take into account all the packages that are installed. This behaviour is the source of the following dependency conflicts.\r\n",
      "allennlp 2.10.0 requires protobuf==3.20.0, but you have protobuf 3.19.4 which is incompatible.\r\n",
      "allennlp 2.10.0 requires torch<1.12.0,>=1.10.0, but you have torch 1.12.1 which is incompatible.\r\n",
      "allennlp 2.10.0 requires torchvision<0.13.0,>=0.8.1, but you have torchvision 0.13.1 which is incompatible.\u001b[0m\u001b[31m\r\n",
      "\u001b[0mSuccessfully installed torch-1.12.1 torchvision-0.13.1\r\n",
      "\u001b[33mWARNING: Running pip as the 'root' user can result in broken permissions and conflicting behaviour with the system package manager. It is recommended to use a virtual environment instead: https://pip.pypa.io/warnings/venv\u001b[0m\u001b[33m\r\n",
      "\u001b[0m\u001b[33mWARNING: There was an error checking the latest version of pip.\u001b[0m\u001b[33m\r\n",
      "\u001b[0m"
     ]
    }
   ],
   "source": [
    "try:\n",
    "    import pylibjpeg\n",
    "except:\n",
    "    # Dependencias para extraccion de JPEG y TorchVision\n",
    "    # Dependencias de https://www.kaggle.com/code/vslaykovsky/rsna-2022-whl    !mkdir -p /root/.cache/torch/hub/checkpoints/\n",
    "    !cp ../input/rsna-2022-whl/efficientnet_v2_s-dd5fe13b.pth  /root/.cache/torch/hub/checkpoints/\n",
    "    !pip install /kaggle/input/rsna-2022-whl/{pydicom-2.3.0-py3-none-any.whl,pylibjpeg-1.4.0-py3-none-any.whl,python_gdcm-3.0.15-cp37-cp37m-manylinux_2_17_x86_64.manylinux2014_x86_64.whl}\n",
    "    !pip install /kaggle/input/rsna-2022-whl/{torch-1.12.1-cp37-cp37m-manylinux1_x86_64.whl,torchvision-0.13.1-cp37-cp37m-manylinux1_x86_64.whl}"
   ]
  },
  {
   "cell_type": "markdown",
   "id": "3f6b5892",
   "metadata": {
    "papermill": {
     "duration": 0.015482,
     "end_time": "2024-11-04T19:53:18.929704",
     "exception": false,
     "start_time": "2024-11-04T19:53:18.914222",
     "status": "completed"
    },
    "tags": []
   },
   "source": [
    "## Librerias"
   ]
  },
  {
   "cell_type": "code",
   "execution_count": 2,
   "id": "cb85cbb6",
   "metadata": {
    "execution": {
     "iopub.execute_input": "2024-11-04T19:53:18.962938Z",
     "iopub.status.busy": "2024-11-04T19:53:18.961943Z",
     "iopub.status.idle": "2024-11-04T19:53:21.170109Z",
     "shell.execute_reply": "2024-11-04T19:53:21.169264Z"
    },
    "papermill": {
     "duration": 2.228031,
     "end_time": "2024-11-04T19:53:21.172789",
     "exception": false,
     "start_time": "2024-11-04T19:53:18.944758",
     "status": "completed"
    },
    "pycharm": {
     "name": "#%%\n"
    },
    "tags": []
   },
   "outputs": [],
   "source": [
    "# Sistema y archivos\n",
    "import gc\n",
    "import os\n",
    "import glob\n",
    "\n",
    "# Manejo de Imagenes DICOM\n",
    "import cv2\n",
    "import pydicom as dicom\n",
    "\n",
    "# Utilidades\n",
    "import re\n",
    "from typing import List\n",
    "\n",
    "# Visualizaciones de Python\n",
    "import matplotlib.pyplot as plt\n",
    "from tqdm.notebook import tqdm\n",
    "\n",
    "# Manejo de Datos\n",
    "import numpy as np\n",
    "import pandas as pd\n",
    "\n",
    "# PyTorch y CUDA\n",
    "import torch\n",
    "import torchvision as tv\n",
    "from torch.cuda.amp import GradScaler, autocast\n",
    "from torchvision.models.feature_extraction import create_feature_extractor\n",
    "\n",
    "# Scikit Learn Para los Folds\n",
    "from sklearn.model_selection import GroupKFold"
   ]
  },
  {
   "cell_type": "markdown",
   "id": "f477ff0d",
   "metadata": {
    "papermill": {
     "duration": 0.010465,
     "end_time": "2024-11-04T19:53:21.194769",
     "exception": false,
     "start_time": "2024-11-04T19:53:21.184304",
     "status": "completed"
    },
    "tags": []
   },
   "source": [
    "## Constantes"
   ]
  },
  {
   "cell_type": "code",
   "execution_count": 3,
   "id": "1d855b87",
   "metadata": {
    "execution": {
     "iopub.execute_input": "2024-11-04T19:53:21.218232Z",
     "iopub.status.busy": "2024-11-04T19:53:21.217165Z",
     "iopub.status.idle": "2024-11-04T19:53:21.225267Z",
     "shell.execute_reply": "2024-11-04T19:53:21.224316Z"
    },
    "papermill": {
     "duration": 0.021911,
     "end_time": "2024-11-04T19:53:21.227303",
     "exception": false,
     "start_time": "2024-11-04T19:53:21.205392",
     "status": "completed"
    },
    "pycharm": {
     "name": "#%%\n"
    },
    "tags": []
   },
   "outputs": [],
   "source": [
    "# Configuracion para display de pandas\n",
    "plt.rcParams['figure.figsize'] = (20, 5)\n",
    "pd.set_option('display.max_rows', 10)\n",
    "pd.set_option('display.max_columns', 1000)\n",
    "\n",
    "# Pesos y Checkpoints de Efficient Net \n",
    "WEIGHTS = tv.models.efficientnet.EfficientNet_V2_S_Weights.DEFAULT\n",
    "EFFNET_CHECKPOINTS_PATH = '../input/rsna-2022-base-effnetv2'\n",
    "\n",
    "# Rutas de Archivos base\n",
    "RSNA_2022_PATH = '../input/rsna-2022-cervical-spine-fracture-detection'\n",
    "TRAIN_IMAGES_PATH = f'{RSNA_2022_PATH}/train_images'\n",
    "TEST_IMAGES_PATH = f'{RSNA_2022_PATH}/test_images'\n",
    "\n",
    "# MODEL_NAMES = [f'effnetv2']\n",
    "\n",
    "# Predicciones para esnsamblado de modelos\n",
    "MODEL_NAMES = [f'effnetv2-f{i}' for i in range(5)]\n",
    "\n",
    "# Common\n",
    "FRAC_COLS = [f'C{i}_effnet_frac' for i in range(1, 8)]\n",
    "VERT_COLS = [f'C{i}_effnet_vert' for i in range(1, 8)]"
   ]
  },
  {
   "cell_type": "markdown",
   "id": "7ce5ef1b",
   "metadata": {
    "papermill": {
     "duration": 0.010438,
     "end_time": "2024-11-04T19:53:21.248261",
     "exception": false,
     "start_time": "2024-11-04T19:53:21.237823",
     "status": "completed"
    },
    "tags": []
   },
   "source": [
    "## Configuracion de CUDA"
   ]
  },
  {
   "cell_type": "code",
   "execution_count": 4,
   "id": "38ee07f7",
   "metadata": {
    "execution": {
     "iopub.execute_input": "2024-11-04T19:53:21.270596Z",
     "iopub.status.busy": "2024-11-04T19:53:21.270310Z",
     "iopub.status.idle": "2024-11-04T19:53:21.329440Z",
     "shell.execute_reply": "2024-11-04T19:53:21.328470Z"
    },
    "papermill": {
     "duration": 0.072792,
     "end_time": "2024-11-04T19:53:21.331546",
     "exception": false,
     "start_time": "2024-11-04T19:53:21.258754",
     "status": "completed"
    },
    "pycharm": {
     "name": "#%%\n"
    },
    "tags": []
   },
   "outputs": [],
   "source": [
    "DEVICE = 'cuda' if torch.cuda.is_available() else 'cpu'\n",
    "if DEVICE == 'cuda':\n",
    "    BATCH_SIZE = 32\n",
    "else:\n",
    "    BATCH_SIZE = 2"
   ]
  },
  {
   "cell_type": "markdown",
   "id": "15f1bacc",
   "metadata": {
    "papermill": {
     "duration": 0.010562,
     "end_time": "2024-11-04T19:53:21.352846",
     "exception": false,
     "start_time": "2024-11-04T19:53:21.342284",
     "status": "completed"
    },
    "tags": []
   },
   "source": [
    "## Carga de Conjunto de Prueba"
   ]
  },
  {
   "cell_type": "markdown",
   "id": "bffe7a76",
   "metadata": {
    "papermill": {
     "duration": 0.010479,
     "end_time": "2024-11-04T19:53:21.373965",
     "exception": false,
     "start_time": "2024-11-04T19:53:21.363486",
     "status": "completed"
    },
    "tags": []
   },
   "source": [
    "- Se cargan los dataset de entrenamiento de la competencia `test.csv`"
   ]
  },
  {
   "cell_type": "code",
   "execution_count": 5,
   "id": "e6df85a8",
   "metadata": {
    "execution": {
     "iopub.execute_input": "2024-11-04T19:53:21.396473Z",
     "iopub.status.busy": "2024-11-04T19:53:21.396163Z",
     "iopub.status.idle": "2024-11-04T19:53:21.427135Z",
     "shell.execute_reply": "2024-11-04T19:53:21.426187Z"
    },
    "papermill": {
     "duration": 0.044796,
     "end_time": "2024-11-04T19:53:21.429363",
     "exception": false,
     "start_time": "2024-11-04T19:53:21.384567",
     "status": "completed"
    },
    "pycharm": {
     "name": "#%%\n"
    },
    "tags": []
   },
   "outputs": [
    {
     "data": {
      "text/html": [
       "<div>\n",
       "<style scoped>\n",
       "    .dataframe tbody tr th:only-of-type {\n",
       "        vertical-align: middle;\n",
       "    }\n",
       "\n",
       "    .dataframe tbody tr th {\n",
       "        vertical-align: top;\n",
       "    }\n",
       "\n",
       "    .dataframe thead th {\n",
       "        text-align: right;\n",
       "    }\n",
       "</style>\n",
       "<table border=\"1\" class=\"dataframe\">\n",
       "  <thead>\n",
       "    <tr style=\"text-align: right;\">\n",
       "      <th></th>\n",
       "      <th>row_id</th>\n",
       "      <th>StudyInstanceUID</th>\n",
       "      <th>prediction_type</th>\n",
       "    </tr>\n",
       "  </thead>\n",
       "  <tbody>\n",
       "    <tr>\n",
       "      <th>0</th>\n",
       "      <td>1.2.826.0.1.3680043.22327_C1</td>\n",
       "      <td>1.2.826.0.1.3680043.22327</td>\n",
       "      <td>C1</td>\n",
       "    </tr>\n",
       "    <tr>\n",
       "      <th>1</th>\n",
       "      <td>1.2.826.0.1.3680043.25399_C1</td>\n",
       "      <td>1.2.826.0.1.3680043.25399</td>\n",
       "      <td>C1</td>\n",
       "    </tr>\n",
       "    <tr>\n",
       "      <th>2</th>\n",
       "      <td>1.2.826.0.1.3680043.5876_C1</td>\n",
       "      <td>1.2.826.0.1.3680043.5876</td>\n",
       "      <td>patient_overall</td>\n",
       "    </tr>\n",
       "  </tbody>\n",
       "</table>\n",
       "</div>"
      ],
      "text/plain": [
       "                         row_id           StudyInstanceUID  prediction_type\n",
       "0  1.2.826.0.1.3680043.22327_C1  1.2.826.0.1.3680043.22327               C1\n",
       "1  1.2.826.0.1.3680043.25399_C1  1.2.826.0.1.3680043.25399               C1\n",
       "2   1.2.826.0.1.3680043.5876_C1   1.2.826.0.1.3680043.5876  patient_overall"
      ]
     },
     "metadata": {},
     "output_type": "display_data"
    }
   ],
   "source": [
    "def load_df_test():\n",
    "    \"\"\"\n",
    "    Carga el conjunto de datos de prueba del csv\n",
    "    \"\"\"\n",
    "    df_test = pd.read_csv(f'{RSNA_2022_PATH}/test.csv')\n",
    "\n",
    "    if df_test.iloc[0].row_id == '1.2.826.0.1.3680043.10197_C1':\n",
    "         # Las labels son inconsistentes entre las imagenes y el conjunto de entrenamiento\n",
    "        df_test = pd.DataFrame({\n",
    "            \"row_id\": ['1.2.826.0.1.3680043.22327_C1', '1.2.826.0.1.3680043.25399_C1', '1.2.826.0.1.3680043.5876_C1'],\n",
    "            \"StudyInstanceUID\": ['1.2.826.0.1.3680043.22327', '1.2.826.0.1.3680043.25399', '1.2.826.0.1.3680043.5876'],\n",
    "            \"prediction_type\": [\"C1\", \"C1\", \"patient_overall\"]}\n",
    "        )\n",
    "    return df_test\n",
    "\n",
    "df_test = load_df_test()\n",
    "display(df_test)"
   ]
  },
  {
   "cell_type": "code",
   "execution_count": 6,
   "id": "68416c29",
   "metadata": {
    "execution": {
     "iopub.execute_input": "2024-11-04T19:53:21.452552Z",
     "iopub.status.busy": "2024-11-04T19:53:21.452271Z",
     "iopub.status.idle": "2024-11-04T19:53:22.012713Z",
     "shell.execute_reply": "2024-11-04T19:53:22.011674Z"
    },
    "papermill": {
     "duration": 0.574384,
     "end_time": "2024-11-04T19:53:22.014876",
     "exception": false,
     "start_time": "2024-11-04T19:53:21.440492",
     "status": "completed"
    },
    "pycharm": {
     "name": "#%%\n"
    },
    "tags": []
   },
   "outputs": [
    {
     "data": {
      "text/html": [
       "<div>\n",
       "<style scoped>\n",
       "    .dataframe tbody tr th:only-of-type {\n",
       "        vertical-align: middle;\n",
       "    }\n",
       "\n",
       "    .dataframe tbody tr th {\n",
       "        vertical-align: top;\n",
       "    }\n",
       "\n",
       "    .dataframe thead th {\n",
       "        text-align: right;\n",
       "    }\n",
       "</style>\n",
       "<table border=\"1\" class=\"dataframe\">\n",
       "  <thead>\n",
       "    <tr style=\"text-align: right;\">\n",
       "      <th></th>\n",
       "      <th>StudyInstanceUID</th>\n",
       "      <th>Slice</th>\n",
       "    </tr>\n",
       "  </thead>\n",
       "  <tbody>\n",
       "    <tr>\n",
       "      <th>664</th>\n",
       "      <td>1.2.826.0.1.3680043.25399</td>\n",
       "      <td>352</td>\n",
       "    </tr>\n",
       "    <tr>\n",
       "      <th>322</th>\n",
       "      <td>1.2.826.0.1.3680043.25399</td>\n",
       "      <td>10</td>\n",
       "    </tr>\n",
       "    <tr>\n",
       "      <th>460</th>\n",
       "      <td>1.2.826.0.1.3680043.25399</td>\n",
       "      <td>148</td>\n",
       "    </tr>\n",
       "    <tr>\n",
       "      <th>772</th>\n",
       "      <td>1.2.826.0.1.3680043.25399</td>\n",
       "      <td>460</td>\n",
       "    </tr>\n",
       "    <tr>\n",
       "      <th>840</th>\n",
       "      <td>1.2.826.0.1.3680043.25399</td>\n",
       "      <td>528</td>\n",
       "    </tr>\n",
       "  </tbody>\n",
       "</table>\n",
       "</div>"
      ],
      "text/plain": [
       "              StudyInstanceUID  Slice\n",
       "664  1.2.826.0.1.3680043.25399    352\n",
       "322  1.2.826.0.1.3680043.25399     10\n",
       "460  1.2.826.0.1.3680043.25399    148\n",
       "772  1.2.826.0.1.3680043.25399    460\n",
       "840  1.2.826.0.1.3680043.25399    528"
      ]
     },
     "metadata": {},
     "output_type": "display_data"
    }
   ],
   "source": [
    "test_slices = glob.glob(f'{TEST_IMAGES_PATH}/*/*')\n",
    "test_slices = [re.findall(f'{TEST_IMAGES_PATH}/(.*)/(.*).dcm', s)[0] for s in test_slices]\n",
    "df_test_slices = pd.DataFrame(data=test_slices, columns=['StudyInstanceUID', 'Slice']).astype({'Slice': int}).sort_values(['StudyInstanceUID', 'Slice']).reset_index(drop=True)\n",
    "display(df_test_slices.sample(5))"
   ]
  },
  {
   "cell_type": "code",
   "execution_count": 7,
   "id": "5794af00",
   "metadata": {
    "execution": {
     "iopub.execute_input": "2024-11-04T19:53:22.038614Z",
     "iopub.status.busy": "2024-11-04T19:53:22.038287Z",
     "iopub.status.idle": "2024-11-04T19:53:22.044865Z",
     "shell.execute_reply": "2024-11-04T19:53:22.044008Z"
    },
    "papermill": {
     "duration": 0.020838,
     "end_time": "2024-11-04T19:53:22.046930",
     "exception": false,
     "start_time": "2024-11-04T19:53:22.026092",
     "status": "completed"
    },
    "pycharm": {
     "name": "#%%\n"
    },
    "tags": []
   },
   "outputs": [],
   "source": [
    "def load_dicom(path):\n",
    "    \"\"\"\n",
    "    Carga una imagen DICOM y la convierte a RGB.\n",
    "\n",
    "    Args:\n",
    "        path (str): Ruta de la imagen DICOM.\n",
    "    \n",
    "    Returns:\n",
    "        img (np.array): Imagen RGB.\n",
    "        img (pydicom.dataset.FileDataset): Objeto DICOM.\n",
    "    \"\"\"\n",
    "    img = dicom.dcmread(path)\n",
    "    img.PhotometricInterpretation = 'YBR_FULL'\n",
    "    data = img.pixel_array\n",
    "    data = data - np.min(data)\n",
    "    if np.max(data) != 0:\n",
    "        data = data / np.max(data)\n",
    "    data = (data * 255).astype(np.uint8)\n",
    "    return cv2.cvtColor(data, cv2.COLOR_GRAY2RGB), img"
   ]
  },
  {
   "cell_type": "markdown",
   "id": "9922ab62",
   "metadata": {
    "papermill": {
     "duration": 0.010936,
     "end_time": "2024-11-04T19:53:22.068855",
     "exception": false,
     "start_time": "2024-11-04T19:53:22.057919",
     "status": "completed"
    },
    "tags": []
   },
   "source": [
    "## Clase Dataset para PyTorch"
   ]
  },
  {
   "cell_type": "markdown",
   "id": "5352a184",
   "metadata": {
    "papermill": {
     "duration": 0.010848,
     "end_time": "2024-11-04T19:53:22.090680",
     "exception": false,
     "start_time": "2024-11-04T19:53:22.079832",
     "status": "completed"
    },
    "tags": []
   },
   "source": [
    "La clase `EffnetDataSet` devuelve imágenes de cortes individuales. Usa un parámetro `df` (dataframe) como fuente de metadatos de los cortes para localizar y cargar las imágenes desde una carpeta de rutas. Acepta el parámetro `transforms`, que configuramos con `WEIGHTS.transforms()`. Este conjunto de transformaciones fue utilizado para pre-entrenar el modelo en el conjunto de datos ImageNet."
   ]
  },
  {
   "cell_type": "code",
   "execution_count": 8,
   "id": "7979c9a9",
   "metadata": {
    "execution": {
     "iopub.execute_input": "2024-11-04T19:53:22.114567Z",
     "iopub.status.busy": "2024-11-04T19:53:22.113913Z",
     "iopub.status.idle": "2024-11-04T19:53:22.125989Z",
     "shell.execute_reply": "2024-11-04T19:53:22.125088Z"
    },
    "papermill": {
     "duration": 0.0263,
     "end_time": "2024-11-04T19:53:22.128079",
     "exception": false,
     "start_time": "2024-11-04T19:53:22.101779",
     "status": "completed"
    },
    "pycharm": {
     "name": "#%%\n"
    },
    "tags": []
   },
   "outputs": [],
   "source": [
    "class EffnetDataSet(torch.utils.data.Dataset): \n",
    "    \"\"\"\n",
    "    Clase para cargar las imágenes de un dataframe con las columnas 'StudyInstanceUID' y 'Slice' y los targets de fracturas\n",
    "    y vertebras. Se puede pasar un objeto de la clase 'torchvision.transforms' para aplicar transformaciones a las imágenes.\n",
    "\n",
    "    Args:\n",
    "        df (pd.DataFrame): Dataframe con las columnas 'StudyInstanceUID' y 'Slice' y los targets de fracturas y vertebras.\n",
    "        path (str): Ruta donde se encuentran las imágenes.\n",
    "        transforms (torchvision.transforms): Transformaciones a aplicar a las imágenes. (default: None)\n",
    "\n",
    "    Returns:\n",
    "        img (torch.Tensor): Imagen en formato tensor.\n",
    "        frac_targets (torch.Tensor): Targets de fracturas.\n",
    "        vert_targets (torch.Tensor): Targets de vertebras.\n",
    "    \"\"\"\n",
    "    def __init__(self, df, path, transforms=None):\n",
    "        super().__init__()\n",
    "        self.df = df\n",
    "        self.path = path\n",
    "        self.transforms = transforms\n",
    "        \n",
    "    def __getitem__(self, i):\n",
    "        path = os.path.join(self.path, self.df.iloc[i].StudyInstanceUID, f'{self.df.iloc[i].Slice}.dcm')        \n",
    "        \n",
    "        try:\n",
    "            img = load_dicom(path)[0]\n",
    "            # Pytorch usa el orden (batch, channel, height, width). Convertimos (height, width, channel) -> (channel, height, width)\n",
    "            img = np.transpose(img, (2, 0, 1))  \n",
    "            if self.transforms is not None:\n",
    "                img = self.transforms(torch.as_tensor(img))\n",
    "                \n",
    "        except Exception as ex:\n",
    "            print(ex)\n",
    "            return None\n",
    "        \n",
    "        # Si se detecta una fractura, se devuelven los targets\n",
    "        if 'C1_fracture' in self.df:\n",
    "            frac_targets = torch.as_tensor(self.df.iloc[i][['C1_fracture', 'C2_fracture', 'C3_fracture', 'C4_fracture', 'C5_fracture', 'C6_fracture', 'C7_fracture']].astype('float32').values)\n",
    "            vert_targets = torch.as_tensor(self.df.iloc[i][['C1', 'C2', 'C3', 'C4', 'C5', 'C6', 'C7']].astype('float32').values)\n",
    "            frac_targets = frac_targets * vert_targets   # we only enable targets that are visible on the current slice\n",
    "            return img, frac_targets, vert_targets\n",
    "        return img        \n",
    "    \n",
    "    def __len__(self):\n",
    "        return len(self.df)\n",
    "    "
   ]
  },
  {
   "cell_type": "code",
   "execution_count": 9,
   "id": "1c893acc",
   "metadata": {
    "execution": {
     "iopub.execute_input": "2024-11-04T19:53:22.151216Z",
     "iopub.status.busy": "2024-11-04T19:53:22.150906Z",
     "iopub.status.idle": "2024-11-04T19:53:22.203454Z",
     "shell.execute_reply": "2024-11-04T19:53:22.202403Z"
    },
    "papermill": {
     "duration": 0.066562,
     "end_time": "2024-11-04T19:53:22.205614",
     "exception": false,
     "start_time": "2024-11-04T19:53:22.139052",
     "status": "completed"
    },
    "pycharm": {
     "name": "#%%\n"
    },
    "tags": []
   },
   "outputs": [
    {
     "data": {
      "text/plain": [
       "torch.Size([3, 384, 384])"
      ]
     },
     "execution_count": 9,
     "metadata": {},
     "output_type": "execute_result"
    }
   ],
   "source": [
    "# Generar un dataset de prueba\n",
    "ds_test = EffnetDataSet(df_test_slices, TEST_IMAGES_PATH, WEIGHTS.transforms())\n",
    "X = ds_test[42]\n",
    "X.shape"
   ]
  },
  {
   "cell_type": "markdown",
   "id": "b9d92e59",
   "metadata": {
    "papermill": {
     "duration": 0.011058,
     "end_time": "2024-11-04T19:53:22.227940",
     "exception": false,
     "start_time": "2024-11-04T19:53:22.216882",
     "status": "completed"
    },
    "tags": []
   },
   "source": [
    "## Modelo Efficient Net V2 para deteccion de Fracturas"
   ]
  },
  {
   "cell_type": "markdown",
   "id": "64db8736",
   "metadata": {
    "papermill": {
     "duration": 0.010968,
     "end_time": "2024-11-04T19:53:22.250072",
     "exception": false,
     "start_time": "2024-11-04T19:53:22.239104",
     "status": "completed"
    },
    "tags": []
   },
   "source": [
    "En PyTorch se usa **create_feature_extractor** para acceder a las capas de características de modelos preexistentes. La última capa aplanada del modelo `efficientnet_v2_s` se llama `flatten`. Se hara la clasificacion sobre esta."
   ]
  },
  {
   "cell_type": "code",
   "execution_count": 10,
   "id": "a5db935c",
   "metadata": {
    "execution": {
     "iopub.execute_input": "2024-11-04T19:53:22.274180Z",
     "iopub.status.busy": "2024-11-04T19:53:22.273592Z",
     "iopub.status.idle": "2024-11-04T19:53:22.283737Z",
     "shell.execute_reply": "2024-11-04T19:53:22.282599Z"
    },
    "papermill": {
     "duration": 0.024515,
     "end_time": "2024-11-04T19:53:22.285817",
     "exception": false,
     "start_time": "2024-11-04T19:53:22.261302",
     "status": "completed"
    },
    "pycharm": {
     "name": "#%%\n"
    },
    "tags": []
   },
   "outputs": [],
   "source": [
    "class EffnetModel(torch.nn.Module):\n",
    "    \"\"\"\n",
    "    Modelo de red neuronal basado en EfficientNetV2-S.\n",
    "\n",
    "\n",
    "    Args:\n",
    "        torch (torch.nn.Module): Clase base de PyTorch.\n",
    "\n",
    "    Attributes:\n",
    "        model (torch.nn.Module): Modelo de red neuronal EfficientNetV2-S.\n",
    "        nn_fracture (torch.nn.Module): Red neuronal para clasificación de fracturas.\n",
    "        nn_vertebrae (torch.nn.Module): Red neuronal para clasificación de vértebras.\n",
    "    \"\"\"\n",
    "    def __init__(self):\n",
    "        super().__init__()\n",
    "        effnet = tv.models.efficientnet_v2_s()\n",
    "        self.model = create_feature_extractor(effnet, ['flatten'])\n",
    "        self.nn_fracture = torch.nn.Sequential(\n",
    "            torch.nn.Linear(1280, 7),\n",
    "        )\n",
    "        self.nn_vertebrae = torch.nn.Sequential(\n",
    "            torch.nn.Linear(1280, 7),\n",
    "        )\n",
    "\n",
    "    def forward(self, x):\n",
    "        # returns logits\n",
    "        x = self.model(x)['flatten']\n",
    "        return self.nn_fracture(x), self.nn_vertebrae(x)\n",
    "\n",
    "    def predict(self, x):\n",
    "        frac, vert = self.forward(x)\n",
    "        return torch.sigmoid(frac), torch.sigmoid(vert)"
   ]
  },
  {
   "cell_type": "markdown",
   "id": "659380b6",
   "metadata": {
    "papermill": {
     "duration": 0.010973,
     "end_time": "2024-11-04T19:53:22.307815",
     "exception": false,
     "start_time": "2024-11-04T19:53:22.296842",
     "status": "completed"
    },
    "tags": []
   },
   "source": [
    "### Carga del Modelo"
   ]
  },
  {
   "cell_type": "code",
   "execution_count": 11,
   "id": "12d94953",
   "metadata": {
    "execution": {
     "iopub.execute_input": "2024-11-04T19:53:22.331079Z",
     "iopub.status.busy": "2024-11-04T19:53:22.330792Z",
     "iopub.status.idle": "2024-11-04T19:53:22.336260Z",
     "shell.execute_reply": "2024-11-04T19:53:22.335361Z"
    },
    "papermill": {
     "duration": 0.019441,
     "end_time": "2024-11-04T19:53:22.338268",
     "exception": false,
     "start_time": "2024-11-04T19:53:22.318827",
     "status": "completed"
    },
    "pycharm": {
     "name": "#%%\n"
    },
    "tags": []
   },
   "outputs": [],
   "source": [
    "def load_model(model, name, path='.'):\n",
    "    data = torch.load(os.path.join(path, f'{name}.tph'), map_location=DEVICE)\n",
    "    model.load_state_dict(data)\n",
    "    return model"
   ]
  },
  {
   "cell_type": "code",
   "execution_count": 12,
   "id": "90f690af",
   "metadata": {
    "execution": {
     "iopub.execute_input": "2024-11-04T19:53:22.362611Z",
     "iopub.status.busy": "2024-11-04T19:53:22.361777Z",
     "iopub.status.idle": "2024-11-04T19:53:32.424425Z",
     "shell.execute_reply": "2024-11-04T19:53:32.423249Z"
    },
    "papermill": {
     "duration": 10.077412,
     "end_time": "2024-11-04T19:53:32.427040",
     "exception": false,
     "start_time": "2024-11-04T19:53:22.349628",
     "status": "completed"
    },
    "pycharm": {
     "name": "#%%\n"
    },
    "tags": []
   },
   "outputs": [],
   "source": [
    "# Cargar Modelos preentrenado\n",
    "effnet_models = [load_model(EffnetModel(), name, EFFNET_CHECKPOINTS_PATH).to(DEVICE) for name in MODEL_NAMES]"
   ]
  },
  {
   "cell_type": "markdown",
   "id": "32d2aa91",
   "metadata": {
    "papermill": {
     "duration": 0.011398,
     "end_time": "2024-11-04T19:53:32.450745",
     "exception": false,
     "start_time": "2024-11-04T19:53:32.439347",
     "status": "completed"
    },
    "pycharm": {
     "name": "#%% md\n"
    },
    "tags": []
   },
   "source": [
    "## Predicciones de fracturas"
   ]
  },
  {
   "cell_type": "markdown",
   "id": "86e4d6ea",
   "metadata": {
    "papermill": {
     "duration": 0.011257,
     "end_time": "2024-11-04T19:53:32.473907",
     "exception": false,
     "start_time": "2024-11-04T19:53:32.462650",
     "status": "completed"
    },
    "tags": []
   },
   "source": [
    "- Se ejecutan todos los modelos base `effnet_model` para cada imagen del conjunto de prueba y se promedia el resultado\n",
    "- Se pasa el promedio de los modelos base al modelo `lstm_model` para producir una prediccion final para cada paciente."
   ]
  },
  {
   "cell_type": "code",
   "execution_count": 13,
   "id": "7fd46bfb",
   "metadata": {
    "collapsed": false,
    "execution": {
     "iopub.execute_input": "2024-11-04T19:53:32.498435Z",
     "iopub.status.busy": "2024-11-04T19:53:32.497996Z",
     "iopub.status.idle": "2024-11-04T19:53:32.507214Z",
     "shell.execute_reply": "2024-11-04T19:53:32.506324Z"
    },
    "jupyter": {
     "outputs_hidden": false
    },
    "papermill": {
     "duration": 0.023576,
     "end_time": "2024-11-04T19:53:32.509197",
     "exception": false,
     "start_time": "2024-11-04T19:53:32.485621",
     "status": "completed"
    },
    "pycharm": {
     "name": "#%%\n"
    },
    "tags": []
   },
   "outputs": [],
   "source": [
    "def predict_effnet(models: List[EffnetModel], ds, max_batches=1e9):\n",
    "    dl_test = torch.utils.data.DataLoader(ds, batch_size=BATCH_SIZE, shuffle=False, num_workers=os.cpu_count())\n",
    "    for m in models:\n",
    "        m.eval()\n",
    "\n",
    "    with torch.no_grad():\n",
    "        predictions = []\n",
    "        for idx, X in enumerate(tqdm(dl_test, miniters=10)):\n",
    "            pred = torch.zeros(len(X), 14).to(DEVICE)\n",
    "            for m in models:\n",
    "                y1, y2 = m.predict(X.to(DEVICE))\n",
    "                pred += torch.concat([y1, y2], dim=1) / len(models)\n",
    "            predictions.append(pred)\n",
    "            if idx >= max_batches:\n",
    "                break\n",
    "        return torch.concat(predictions).cpu().numpy()"
   ]
  },
  {
   "cell_type": "code",
   "execution_count": 14,
   "id": "a1043b1d",
   "metadata": {
    "execution": {
     "iopub.execute_input": "2024-11-04T19:53:32.534508Z",
     "iopub.status.busy": "2024-11-04T19:53:32.533826Z",
     "iopub.status.idle": "2024-11-04T19:54:09.379902Z",
     "shell.execute_reply": "2024-11-04T19:54:09.378948Z"
    },
    "papermill": {
     "duration": 36.860775,
     "end_time": "2024-11-04T19:54:09.382054",
     "exception": false,
     "start_time": "2024-11-04T19:53:32.521279",
     "status": "completed"
    },
    "pycharm": {
     "name": "#%%\n"
    },
    "tags": []
   },
   "outputs": [
    {
     "data": {
      "application/vnd.jupyter.widget-view+json": {
       "model_id": "8acd09b9310f446188b22d5a030f3d4c",
       "version_major": 2,
       "version_minor": 0
      },
      "text/plain": [
       "  0%|          | 0/42 [00:00<?, ?it/s]"
      ]
     },
     "metadata": {},
     "output_type": "display_data"
    }
   ],
   "source": [
    "# Obtener las predicciones\n",
    "effnet_pred = predict_effnet(effnet_models, ds_test)\n",
    "\n",
    "# Generar el dataframe con las predicciones\n",
    "df_effnet_pred = pd.DataFrame(\n",
    "    data=effnet_pred, columns=[f'C{i}_effnet_frac' for i in range(1, 8)] + [f'C{i}_effnet_vert' for i in range(1, 8)]\n",
    ")"
   ]
  },
  {
   "cell_type": "code",
   "execution_count": 15,
   "id": "48a63497",
   "metadata": {
    "execution": {
     "iopub.execute_input": "2024-11-04T19:54:09.407625Z",
     "iopub.status.busy": "2024-11-04T19:54:09.406706Z",
     "iopub.status.idle": "2024-11-04T19:54:09.432836Z",
     "shell.execute_reply": "2024-11-04T19:54:09.431952Z"
    },
    "papermill": {
     "duration": 0.04101,
     "end_time": "2024-11-04T19:54:09.434928",
     "exception": false,
     "start_time": "2024-11-04T19:54:09.393918",
     "status": "completed"
    },
    "pycharm": {
     "name": "#%%\n"
    },
    "tags": []
   },
   "outputs": [
    {
     "data": {
      "text/html": [
       "<div>\n",
       "<style scoped>\n",
       "    .dataframe tbody tr th:only-of-type {\n",
       "        vertical-align: middle;\n",
       "    }\n",
       "\n",
       "    .dataframe tbody tr th {\n",
       "        vertical-align: top;\n",
       "    }\n",
       "\n",
       "    .dataframe thead th {\n",
       "        text-align: right;\n",
       "    }\n",
       "</style>\n",
       "<table border=\"1\" class=\"dataframe\">\n",
       "  <thead>\n",
       "    <tr style=\"text-align: right;\">\n",
       "      <th></th>\n",
       "      <th>StudyInstanceUID</th>\n",
       "      <th>Slice</th>\n",
       "      <th>C1_effnet_frac</th>\n",
       "      <th>C2_effnet_frac</th>\n",
       "      <th>C3_effnet_frac</th>\n",
       "      <th>C4_effnet_frac</th>\n",
       "      <th>C5_effnet_frac</th>\n",
       "      <th>C6_effnet_frac</th>\n",
       "      <th>C7_effnet_frac</th>\n",
       "      <th>C1_effnet_vert</th>\n",
       "      <th>C2_effnet_vert</th>\n",
       "      <th>C3_effnet_vert</th>\n",
       "      <th>C4_effnet_vert</th>\n",
       "      <th>C5_effnet_vert</th>\n",
       "      <th>C6_effnet_vert</th>\n",
       "      <th>C7_effnet_vert</th>\n",
       "    </tr>\n",
       "  </thead>\n",
       "  <tbody>\n",
       "    <tr>\n",
       "      <th>1014</th>\n",
       "      <td>1.2.826.0.1.3680043.5876</td>\n",
       "      <td>155</td>\n",
       "      <td>0.000424</td>\n",
       "      <td>0.036996</td>\n",
       "      <td>0.020354</td>\n",
       "      <td>0.000750</td>\n",
       "      <td>0.000282</td>\n",
       "      <td>0.000535</td>\n",
       "      <td>0.000530</td>\n",
       "      <td>0.001649</td>\n",
       "      <td>0.993488</td>\n",
       "      <td>0.995766</td>\n",
       "      <td>0.006482</td>\n",
       "      <td>0.000722</td>\n",
       "      <td>0.001149</td>\n",
       "      <td>0.000841</td>\n",
       "    </tr>\n",
       "    <tr>\n",
       "      <th>299</th>\n",
       "      <td>1.2.826.0.1.3680043.22327</td>\n",
       "      <td>300</td>\n",
       "      <td>0.000386</td>\n",
       "      <td>0.000268</td>\n",
       "      <td>0.000348</td>\n",
       "      <td>0.000434</td>\n",
       "      <td>0.000536</td>\n",
       "      <td>0.000492</td>\n",
       "      <td>0.000731</td>\n",
       "      <td>0.000239</td>\n",
       "      <td>0.000108</td>\n",
       "      <td>0.000339</td>\n",
       "      <td>0.000745</td>\n",
       "      <td>0.000506</td>\n",
       "      <td>0.000367</td>\n",
       "      <td>0.000391</td>\n",
       "    </tr>\n",
       "    <tr>\n",
       "      <th>109</th>\n",
       "      <td>1.2.826.0.1.3680043.22327</td>\n",
       "      <td>110</td>\n",
       "      <td>0.001530</td>\n",
       "      <td>0.159135</td>\n",
       "      <td>0.056811</td>\n",
       "      <td>0.001788</td>\n",
       "      <td>0.000971</td>\n",
       "      <td>0.001556</td>\n",
       "      <td>0.001725</td>\n",
       "      <td>0.001710</td>\n",
       "      <td>0.996384</td>\n",
       "      <td>0.988927</td>\n",
       "      <td>0.003808</td>\n",
       "      <td>0.001484</td>\n",
       "      <td>0.002594</td>\n",
       "      <td>0.002330</td>\n",
       "    </tr>\n",
       "    <tr>\n",
       "      <th>337</th>\n",
       "      <td>1.2.826.0.1.3680043.25399</td>\n",
       "      <td>25</td>\n",
       "      <td>0.000288</td>\n",
       "      <td>0.000277</td>\n",
       "      <td>0.000348</td>\n",
       "      <td>0.000291</td>\n",
       "      <td>0.000236</td>\n",
       "      <td>0.000250</td>\n",
       "      <td>0.000441</td>\n",
       "      <td>0.000223</td>\n",
       "      <td>0.000221</td>\n",
       "      <td>0.000706</td>\n",
       "      <td>0.000369</td>\n",
       "      <td>0.000113</td>\n",
       "      <td>0.000119</td>\n",
       "      <td>0.000199</td>\n",
       "    </tr>\n",
       "    <tr>\n",
       "      <th>1110</th>\n",
       "      <td>1.2.826.0.1.3680043.5876</td>\n",
       "      <td>251</td>\n",
       "      <td>0.000376</td>\n",
       "      <td>0.000464</td>\n",
       "      <td>0.000156</td>\n",
       "      <td>0.000701</td>\n",
       "      <td>0.026538</td>\n",
       "      <td>0.051730</td>\n",
       "      <td>0.007103</td>\n",
       "      <td>0.000580</td>\n",
       "      <td>0.000924</td>\n",
       "      <td>0.000187</td>\n",
       "      <td>0.004641</td>\n",
       "      <td>0.990714</td>\n",
       "      <td>0.996756</td>\n",
       "      <td>0.077876</td>\n",
       "    </tr>\n",
       "  </tbody>\n",
       "</table>\n",
       "</div>"
      ],
      "text/plain": [
       "               StudyInstanceUID  Slice  C1_effnet_frac  C2_effnet_frac  \\\n",
       "1014   1.2.826.0.1.3680043.5876    155        0.000424        0.036996   \n",
       "299   1.2.826.0.1.3680043.22327    300        0.000386        0.000268   \n",
       "109   1.2.826.0.1.3680043.22327    110        0.001530        0.159135   \n",
       "337   1.2.826.0.1.3680043.25399     25        0.000288        0.000277   \n",
       "1110   1.2.826.0.1.3680043.5876    251        0.000376        0.000464   \n",
       "\n",
       "      C3_effnet_frac  C4_effnet_frac  C5_effnet_frac  C6_effnet_frac  \\\n",
       "1014        0.020354        0.000750        0.000282        0.000535   \n",
       "299         0.000348        0.000434        0.000536        0.000492   \n",
       "109         0.056811        0.001788        0.000971        0.001556   \n",
       "337         0.000348        0.000291        0.000236        0.000250   \n",
       "1110        0.000156        0.000701        0.026538        0.051730   \n",
       "\n",
       "      C7_effnet_frac  C1_effnet_vert  C2_effnet_vert  C3_effnet_vert  \\\n",
       "1014        0.000530        0.001649        0.993488        0.995766   \n",
       "299         0.000731        0.000239        0.000108        0.000339   \n",
       "109         0.001725        0.001710        0.996384        0.988927   \n",
       "337         0.000441        0.000223        0.000221        0.000706   \n",
       "1110        0.007103        0.000580        0.000924        0.000187   \n",
       "\n",
       "      C4_effnet_vert  C5_effnet_vert  C6_effnet_vert  C7_effnet_vert  \n",
       "1014        0.006482        0.000722        0.001149        0.000841  \n",
       "299         0.000745        0.000506        0.000367        0.000391  \n",
       "109         0.003808        0.001484        0.002594        0.002330  \n",
       "337         0.000369        0.000113        0.000119        0.000199  \n",
       "1110        0.004641        0.990714        0.996756        0.077876  "
      ]
     },
     "metadata": {},
     "output_type": "display_data"
    }
   ],
   "source": [
    "# Unificar la data\n",
    "df_test_pred = pd.concat([df_test_slices, df_effnet_pred], axis=1).sort_values(['StudyInstanceUID', 'Slice'])\n",
    "display(df_test_pred.sample(5))"
   ]
  },
  {
   "cell_type": "code",
   "execution_count": 16,
   "id": "2a4a5ce7",
   "metadata": {
    "collapsed": false,
    "execution": {
     "iopub.execute_input": "2024-11-04T19:54:09.460328Z",
     "iopub.status.busy": "2024-11-04T19:54:09.459636Z",
     "iopub.status.idle": "2024-11-04T19:54:09.467642Z",
     "shell.execute_reply": "2024-11-04T19:54:09.466703Z"
    },
    "jupyter": {
     "outputs_hidden": false
    },
    "papermill": {
     "duration": 0.023107,
     "end_time": "2024-11-04T19:54:09.469770",
     "exception": false,
     "start_time": "2024-11-04T19:54:09.446663",
     "status": "completed"
    },
    "pycharm": {
     "name": "#%%\n"
    },
    "tags": []
   },
   "outputs": [],
   "source": [
    "def plot_sample_patient(df_pred):\n",
    "    \"\"\"\n",
    "    Grafica un paciente aleatorio con sus predicciones de fracturas y vértebras\n",
    "\n",
    "    Args:\n",
    "        df_pred (pd.DataFrame): DataFrame con las predicciones de fracturas y vértebras\n",
    "    \"\"\"\n",
    "    patient = np.random.choice(df_pred.StudyInstanceUID)\n",
    "    df = df_pred.query('StudyInstanceUID == @patient').reset_index()\n",
    "    \n",
    "    # Primer gráfico: predicción de fracturas\n",
    "    df[[f'C{i}_effnet_frac' for i in range(1, 8)]].plot(\n",
    "        title=f'Patient {patient}, fracture prediction',\n",
    "        ax=(plt.subplot(1, 2, 1)))\n",
    "    \n",
    "    # Segundo gráfico: predicción de vértebras\n",
    "    df[[f'C{i}_effnet_vert' for i in range(1, 8)]].plot(\n",
    "        title=f'Patient {patient}, vertebrae prediction',\n",
    "        ax=plt.subplot(1, 2, 2)\n",
    "    )\n",
    "    \n",
    "    plt.tight_layout()  # Ajusta el layout para que los títulos no se solapen\n",
    "    plt.show()"
   ]
  },
  {
   "cell_type": "code",
   "execution_count": 17,
   "id": "15c0fcdd",
   "metadata": {
    "execution": {
     "iopub.execute_input": "2024-11-04T19:54:09.494924Z",
     "iopub.status.busy": "2024-11-04T19:54:09.494211Z",
     "iopub.status.idle": "2024-11-04T19:54:10.111179Z",
     "shell.execute_reply": "2024-11-04T19:54:10.110161Z"
    },
    "papermill": {
     "duration": 0.633735,
     "end_time": "2024-11-04T19:54:10.115200",
     "exception": false,
     "start_time": "2024-11-04T19:54:09.481465",
     "status": "completed"
    },
    "tags": []
   },
   "outputs": [
    {
     "data": {
      "image/png": "[encoded data removed]",
      "text/plain": [
       "<Figure size 1440x360 with 2 Axes>"
      ]
     },
     "metadata": {
      "needs_background": "light"
     },
     "output_type": "display_data"
    }
   ],
   "source": [
    "# Resultados para un paciente aleatorio\n",
    "plot_sample_patient(df_test_pred)"
   ]
  },
  {
   "cell_type": "markdown",
   "id": "dda67bb8",
   "metadata": {
    "papermill": {
     "duration": 0.013346,
     "end_time": "2024-11-04T19:54:10.142159",
     "exception": false,
     "start_time": "2024-11-04T19:54:10.128813",
     "status": "completed"
    },
    "tags": []
   },
   "source": [
    "## Generacion de Predicciones Finales"
   ]
  },
  {
   "cell_type": "code",
   "execution_count": 18,
   "id": "2e3f858f",
   "metadata": {
    "collapsed": false,
    "execution": {
     "iopub.execute_input": "2024-11-04T19:54:10.170526Z",
     "iopub.status.busy": "2024-11-04T19:54:10.170193Z",
     "iopub.status.idle": "2024-11-04T19:54:10.194042Z",
     "shell.execute_reply": "2024-11-04T19:54:10.193155Z"
    },
    "jupyter": {
     "outputs_hidden": false
    },
    "papermill": {
     "duration": 0.040568,
     "end_time": "2024-11-04T19:54:10.196004",
     "exception": false,
     "start_time": "2024-11-04T19:54:10.155436",
     "status": "completed"
    },
    "pycharm": {
     "name": "#%%\n"
    },
    "tags": []
   },
   "outputs": [
    {
     "data": {
      "text/html": [
       "<div>\n",
       "<style scoped>\n",
       "    .dataframe tbody tr th:only-of-type {\n",
       "        vertical-align: middle;\n",
       "    }\n",
       "\n",
       "    .dataframe tbody tr th {\n",
       "        vertical-align: top;\n",
       "    }\n",
       "\n",
       "    .dataframe thead th {\n",
       "        text-align: right;\n",
       "    }\n",
       "</style>\n",
       "<table border=\"1\" class=\"dataframe\">\n",
       "  <thead>\n",
       "    <tr style=\"text-align: right;\">\n",
       "      <th></th>\n",
       "      <th>patient_overall</th>\n",
       "      <th>C1</th>\n",
       "      <th>C2</th>\n",
       "      <th>C3</th>\n",
       "      <th>C4</th>\n",
       "      <th>C5</th>\n",
       "      <th>C6</th>\n",
       "      <th>C7</th>\n",
       "    </tr>\n",
       "    <tr>\n",
       "      <th>StudyInstanceUID</th>\n",
       "      <th></th>\n",
       "      <th></th>\n",
       "      <th></th>\n",
       "      <th></th>\n",
       "      <th></th>\n",
       "      <th></th>\n",
       "      <th></th>\n",
       "      <th></th>\n",
       "    </tr>\n",
       "  </thead>\n",
       "  <tbody>\n",
       "    <tr>\n",
       "      <th>1.2.826.0.1.3680043.22327</th>\n",
       "      <td>0.494886</td>\n",
       "      <td>0.032177</td>\n",
       "      <td>0.064765</td>\n",
       "      <td>0.041566</td>\n",
       "      <td>0.079764</td>\n",
       "      <td>0.101204</td>\n",
       "      <td>0.112345</td>\n",
       "      <td>0.206940</td>\n",
       "    </tr>\n",
       "    <tr>\n",
       "      <th>1.2.826.0.1.3680043.25399</th>\n",
       "      <td>0.477033</td>\n",
       "      <td>0.073948</td>\n",
       "      <td>0.074153</td>\n",
       "      <td>0.063346</td>\n",
       "      <td>0.062717</td>\n",
       "      <td>0.073354</td>\n",
       "      <td>0.138978</td>\n",
       "      <td>0.129193</td>\n",
       "    </tr>\n",
       "    <tr>\n",
       "      <th>1.2.826.0.1.3680043.5876</th>\n",
       "      <td>0.349543</td>\n",
       "      <td>0.055733</td>\n",
       "      <td>0.073613</td>\n",
       "      <td>0.012201</td>\n",
       "      <td>0.025163</td>\n",
       "      <td>0.038483</td>\n",
       "      <td>0.060258</td>\n",
       "      <td>0.145396</td>\n",
       "    </tr>\n",
       "  </tbody>\n",
       "</table>\n",
       "</div>"
      ],
      "text/plain": [
       "                           patient_overall        C1        C2        C3  \\\n",
       "StudyInstanceUID                                                           \n",
       "1.2.826.0.1.3680043.22327         0.494886  0.032177  0.064765  0.041566   \n",
       "1.2.826.0.1.3680043.25399         0.477033  0.073948  0.074153  0.063346   \n",
       "1.2.826.0.1.3680043.5876          0.349543  0.055733  0.073613  0.012201   \n",
       "\n",
       "                                 C4        C5        C6        C7  \n",
       "StudyInstanceUID                                                   \n",
       "1.2.826.0.1.3680043.22327  0.079764  0.101204  0.112345  0.206940  \n",
       "1.2.826.0.1.3680043.25399  0.062717  0.073354  0.138978  0.129193  \n",
       "1.2.826.0.1.3680043.5876   0.025163  0.038483  0.060258  0.145396  "
      ]
     },
     "metadata": {},
     "output_type": "display_data"
    }
   ],
   "source": [
    "def patient_prediction(df):\n",
    "    c1c7 = np.average(df[FRAC_COLS].values, axis=0, weights=df[VERT_COLS].values)\n",
    "    pred_patient_overall = 1 - np.prod(1 - c1c7)\n",
    "    return pd.Series(data=np.concatenate([[pred_patient_overall], c1c7]), index=['patient_overall'] + [f'C{i}' for i in range(1, 8)])\n",
    "\n",
    "df_patient_pred = df_test_pred.groupby('StudyInstanceUID').apply(lambda df: patient_prediction(df))\n",
    "display(df_patient_pred.head())"
   ]
  },
  {
   "cell_type": "code",
   "execution_count": 19,
   "id": "eff882b6",
   "metadata": {
    "collapsed": false,
    "execution": {
     "iopub.execute_input": "2024-11-04T19:54:10.225311Z",
     "iopub.status.busy": "2024-11-04T19:54:10.224279Z",
     "iopub.status.idle": "2024-11-04T19:54:10.252505Z",
     "shell.execute_reply": "2024-11-04T19:54:10.251444Z"
    },
    "jupyter": {
     "outputs_hidden": false
    },
    "papermill": {
     "duration": 0.045058,
     "end_time": "2024-11-04T19:54:10.254717",
     "exception": false,
     "start_time": "2024-11-04T19:54:10.209659",
     "status": "completed"
    },
    "pycharm": {
     "name": "#%%\n"
    },
    "tags": []
   },
   "outputs": [
    {
     "data": {
      "text/html": [
       "<div>\n",
       "<style scoped>\n",
       "    .dataframe tbody tr th:only-of-type {\n",
       "        vertical-align: middle;\n",
       "    }\n",
       "\n",
       "    .dataframe tbody tr th {\n",
       "        vertical-align: top;\n",
       "    }\n",
       "\n",
       "    .dataframe thead th {\n",
       "        text-align: right;\n",
       "    }\n",
       "</style>\n",
       "<table border=\"1\" class=\"dataframe\">\n",
       "  <thead>\n",
       "    <tr style=\"text-align: right;\">\n",
       "      <th></th>\n",
       "      <th>patient_overall</th>\n",
       "      <th>C1</th>\n",
       "      <th>C2</th>\n",
       "      <th>C3</th>\n",
       "      <th>C4</th>\n",
       "      <th>C5</th>\n",
       "      <th>C6</th>\n",
       "      <th>C7</th>\n",
       "    </tr>\n",
       "    <tr>\n",
       "      <th>StudyInstanceUID</th>\n",
       "      <th></th>\n",
       "      <th></th>\n",
       "      <th></th>\n",
       "      <th></th>\n",
       "      <th></th>\n",
       "      <th></th>\n",
       "      <th></th>\n",
       "      <th></th>\n",
       "    </tr>\n",
       "  </thead>\n",
       "  <tbody>\n",
       "    <tr>\n",
       "      <th>1.2.826.0.1.3680043.22327</th>\n",
       "      <td>0</td>\n",
       "      <td>0</td>\n",
       "      <td>0</td>\n",
       "      <td>0</td>\n",
       "      <td>0</td>\n",
       "      <td>0</td>\n",
       "      <td>0</td>\n",
       "      <td>0</td>\n",
       "    </tr>\n",
       "    <tr>\n",
       "      <th>1.2.826.0.1.3680043.25399</th>\n",
       "      <td>0</td>\n",
       "      <td>0</td>\n",
       "      <td>0</td>\n",
       "      <td>0</td>\n",
       "      <td>0</td>\n",
       "      <td>0</td>\n",
       "      <td>0</td>\n",
       "      <td>0</td>\n",
       "    </tr>\n",
       "    <tr>\n",
       "      <th>1.2.826.0.1.3680043.5876</th>\n",
       "      <td>0</td>\n",
       "      <td>0</td>\n",
       "      <td>0</td>\n",
       "      <td>0</td>\n",
       "      <td>0</td>\n",
       "      <td>0</td>\n",
       "      <td>0</td>\n",
       "      <td>0</td>\n",
       "    </tr>\n",
       "  </tbody>\n",
       "</table>\n",
       "</div>"
      ],
      "text/plain": [
       "                           patient_overall  C1  C2  C3  C4  C5  C6  C7\n",
       "StudyInstanceUID                                                      \n",
       "1.2.826.0.1.3680043.22327                0   0   0   0   0   0   0   0\n",
       "1.2.826.0.1.3680043.25399                0   0   0   0   0   0   0   0\n",
       "1.2.826.0.1.3680043.5876                 0   0   0   0   0   0   0   0"
      ]
     },
     "metadata": {},
     "output_type": "display_data"
    }
   ],
   "source": [
    "# Generar el CSV final\n",
    "df_sub = df_test.copy()\n",
    "df_sub = df_sub.set_index('StudyInstanceUID').join(df_patient_pred)\n",
    "df_sub['fractured'] = df_sub.apply(lambda r: r[r.prediction_type], axis=1)\n",
    "df_sub = df_sub.drop(columns=['row_id', 'prediction_type', 'fractured'])\n",
    "\n",
    "# Guardar las predicciones originales (antes del threshold)\n",
    "df_sub.to_csv('prob_predictions.csv', index=True)\n",
    "\n",
    "# Aplicar el threshold a las columnas especificadas\n",
    "columns_to_transform = ['patient_overall', 'C1', 'C2', 'C3', 'C4', 'C5', 'C6', 'C7']\n",
    "df_sub[columns_to_transform] = df_sub[columns_to_transform].applymap(lambda x: 1 if x > 0.5 else 0)\n",
    "\n",
    "# Guardar las predicciones finales (después del threshold)\n",
    "df_sub.to_csv('final_predictions.csv', index=True)\n",
    "\n",
    "display(df_sub.head())\n"
   ]
  }
 ],
 "metadata": {
  "kaggle": {
   "accelerator": "gpu",
   "dataSources": [
    {
     "databundleVersionId": 4050810,
     "sourceId": 36363,
     "sourceType": "competition"
    },
    {
     "datasetId": 2440666,
     "sourceId": 4131877,
     "sourceType": "datasetVersion"
    },
    {
     "sourceId": 104036025,
     "sourceType": "kernelVersion"
    }
   ],
   "dockerImageVersionId": 30236,
   "isGpuEnabled": true,
   "isInternetEnabled": false,
   "language": "python",
   "sourceType": "notebook"
  },
  "kernelspec": {
   "display_name": "Python 3",
   "language": "python",
   "name": "python3"
  },
  "language_info": {
   "codemirror_mode": {
    "name": "ipython",
    "version": 3
   },
   "file_extension": ".py",
   "mimetype": "text/x-python",
   "name": "python",
   "nbconvert_exporter": "python",
   "pygments_lexer": "ipython3",
   "version": "3.7.12"
  },
  "papermill": {
   "default_parameters": {},
   "duration": 172.344659,
   "end_time": "2024-11-04T19:54:11.390749",
   "environment_variables": {},
   "exception": null,
   "input_path": "__notebook__.ipynb",
   "output_path": "__notebook__.ipynb",
   "parameters": {},
   "start_time": "2024-11-04T19:51:19.046090",
   "version": "2.3.4"
  },
  "widgets": {
   "application/vnd.jupyter.widget-state+json": {
    "state": {
     "1b91bed7bfd949c4ad5847796f900c30": {
      "model_module": "@jupyter-widgets/base",
      "model_module_version": "1.2.0",
      "model_name": "LayoutModel",
      "state": {
       "_model_module": "@jupyter-widgets/base",
       "_model_module_version": "1.2.0",
       "_model_name": "LayoutModel",
       "_view_count": null,
       "_view_module": "@jupyter-widgets/base",
       "_view_module_version": "1.2.0",
       "_view_name": "LayoutView",
       "align_content": null,
       "align_items": null,
       "align_self": null,
       "border": null,
       "bottom": null,
       "display": null,
       "flex": null,
       "flex_flow": null,
       "grid_area": null,
       "grid_auto_columns": null,
       "grid_auto_flow": null,
       "grid_auto_rows": null,
       "grid_column": null,
       "grid_gap": null,
       "grid_row": null,
       "grid_template_areas": null,
       "grid_template_columns": null,
       "grid_template_rows": null,
       "height": null,
       "justify_content": null,
       "justify_items": null,
       "left": null,
       "margin": null,
       "max_height": null,
       "max_width": null,
       "min_height": null,
       "min_width": null,
       "object_fit": null,
       "object_position": null,
       "order": null,
       "overflow": null,
       "overflow_x": null,
       "overflow_y": null,
       "padding": null,
       "right": null,
       "top": null,
       "visibility": null,
       "width": null
      }
     },
     "4624fffd04ae44d7a6aee9cfda25b513": {
      "model_module": "@jupyter-widgets/base",
      "model_module_version": "1.2.0",
      "model_name": "LayoutModel",
      "state": {
       "_model_module": "@jupyter-widgets/base",
       "_model_module_version": "1.2.0",
       "_model_name": "LayoutModel",
       "_view_count": null,
       "_view_module": "@jupyter-widgets/base",
       "_view_module_version": "1.2.0",
       "_view_name": "LayoutView",
       "align_content": null,
       "align_items": null,
       "align_self": null,
       "border": null,
       "bottom": null,
       "display": null,
       "flex": null,
       "flex_flow": null,
       "grid_area": null,
       "grid_auto_columns": null,
       "grid_auto_flow": null,
       "grid_auto_rows": null,
       "grid_column": null,
       "grid_gap": null,
       "grid_row": null,
       "grid_template_areas": null,
       "grid_template_columns": null,
       "grid_template_rows": null,
       "height": null,
       "justify_content": null,
       "justify_items": null,
       "left": null,
       "margin": null,
       "max_height": null,
       "max_width": null,
       "min_height": null,
       "min_width": null,
       "object_fit": null,
       "object_position": null,
       "order": null,
       "overflow": null,
       "overflow_x": null,
       "overflow_y": null,
       "padding": null,
       "right": null,
       "top": null,
       "visibility": null,
       "width": null
      }
     },
     "4b33d6f6c6e84ee49ea376d994728838": {
      "model_module": "@jupyter-widgets/base",
      "model_module_version": "1.2.0",
      "model_name": "LayoutModel",
      "state": {
       "_model_module": "@jupyter-widgets/base",
       "_model_module_version": "1.2.0",
       "_model_name": "LayoutModel",
       "_view_count": null,
       "_view_module": "@jupyter-widgets/base",
       "_view_module_version": "1.2.0",
       "_view_name": "LayoutView",
       "align_content": null,
       "align_items": null,
       "align_self": null,
       "border": null,
       "bottom": null,
       "display": null,
       "flex": null,
       "flex_flow": null,
       "grid_area": null,
       "grid_auto_columns": null,
       "grid_auto_flow": null,
       "grid_auto_rows": null,
       "grid_column": null,
       "grid_gap": null,
       "grid_row": null,
       "grid_template_areas": null,
       "grid_template_columns": null,
       "grid_template_rows": null,
       "height": null,
       "justify_content": null,
       "justify_items": null,
       "left": null,
       "margin": null,
       "max_height": null,
       "max_width": null,
       "min_height": null,
       "min_width": null,
       "object_fit": null,
       "object_position": null,
       "order": null,
       "overflow": null,
       "overflow_x": null,
       "overflow_y": null,
       "padding": null,
       "right": null,
       "top": null,
       "visibility": null,
       "width": null
      }
     },
     "6f5a3af7676341768ad01f7ff8d00290": {
      "model_module": "@jupyter-widgets/controls",
      "model_module_version": "1.5.0",
      "model_name": "HTMLModel",
      "state": {
       "_dom_classes": [],
       "_model_module": "@jupyter-widgets/controls",
       "_model_module_version": "1.5.0",
       "_model_name": "HTMLModel",
       "_view_count": null,
       "_view_module": "@jupyter-widgets/controls",
       "_view_module_version": "1.5.0",
       "_view_name": "HTMLView",
       "description": "",
       "description_tooltip": null,
       "layout": "IPY_MODEL_82ccd4ae2f47499ba45815d341f55c59",
       "placeholder": "​",
       "style": "IPY_MODEL_e5a7f5ee1cf94cdca0bf861e09f108ee",
       "value": "100%"
      }
     },
     "70549f1bd10c4750976b7a92ed53f49e": {
      "model_module": "@jupyter-widgets/controls",
      "model_module_version": "1.5.0",
      "model_name": "HTMLModel",
      "state": {
       "_dom_classes": [],
       "_model_module": "@jupyter-widgets/controls",
       "_model_module_version": "1.5.0",
       "_model_name": "HTMLModel",
       "_view_count": null,
       "_view_module": "@jupyter-widgets/controls",
       "_view_module_version": "1.5.0",
       "_view_name": "HTMLView",
       "description": "",
       "description_tooltip": null,
       "layout": "IPY_MODEL_1b91bed7bfd949c4ad5847796f900c30",
       "placeholder": "​",
       "style": "IPY_MODEL_99596b2b3f094605ac559a118e76d929",
       "value": " 42/42 [00:36&lt;00:00,  1.44it/s]"
      }
     },
     "82ccd4ae2f47499ba45815d341f55c59": {
      "model_module": "@jupyter-widgets/base",
      "model_module_version": "1.2.0",
      "model_name": "LayoutModel",
      "state": {
       "_model_module": "@jupyter-widgets/base",
       "_model_module_version": "1.2.0",
       "_model_name": "LayoutModel",
       "_view_count": null,
       "_view_module": "@jupyter-widgets/base",
       "_view_module_version": "1.2.0",
       "_view_name": "LayoutView",
       "align_content": null,
       "align_items": null,
       "align_self": null,
       "border": null,
       "bottom": null,
       "display": null,
       "flex": null,
       "flex_flow": null,
       "grid_area": null,
       "grid_auto_columns": null,
       "grid_auto_flow": null,
       "grid_auto_rows": null,
       "grid_column": null,
       "grid_gap": null,
       "grid_row": null,
       "grid_template_areas": null,
       "grid_template_columns": null,
       "grid_template_rows": null,
       "height": null,
       "justify_content": null,
       "justify_items": null,
       "left": null,
       "margin": null,
       "max_height": null,
       "max_width": null,
       "min_height": null,
       "min_width": null,
       "object_fit": null,
       "object_position": null,
       "order": null,
       "overflow": null,
       "overflow_x": null,
       "overflow_y": null,
       "padding": null,
       "right": null,
       "top": null,
       "visibility": null,
       "width": null
      }
     },
     "8acd09b9310f446188b22d5a030f3d4c": {
      "model_module": "@jupyter-widgets/controls",
      "model_module_version": "1.5.0",
      "model_name": "HBoxModel",
      "state": {
       "_dom_classes": [],
       "_model_module": "@jupyter-widgets/controls",
       "_model_module_version": "1.5.0",
       "_model_name": "HBoxModel",
       "_view_count": null,
       "_view_module": "@jupyter-widgets/controls",
       "_view_module_version": "1.5.0",
       "_view_name": "HBoxView",
       "box_style": "",
       "children": [
        "IPY_MODEL_6f5a3af7676341768ad01f7ff8d00290",
        "IPY_MODEL_cf7926a5976e4b578a89befdfd240500",
        "IPY_MODEL_70549f1bd10c4750976b7a92ed53f49e"
       ],
       "layout": "IPY_MODEL_4624fffd04ae44d7a6aee9cfda25b513"
      }
     },
     "99596b2b3f094605ac559a118e76d929": {
      "model_module": "@jupyter-widgets/controls",
      "model_module_version": "1.5.0",
      "model_name": "DescriptionStyleModel",
      "state": {
       "_model_module": "@jupyter-widgets/controls",
       "_model_module_version": "1.5.0",
       "_model_name": "DescriptionStyleModel",
       "_view_count": null,
       "_view_module": "@jupyter-widgets/base",
       "_view_module_version": "1.2.0",
       "_view_name": "StyleView",
       "description_width": ""
      }
     },
     "cf7926a5976e4b578a89befdfd240500": {
      "model_module": "@jupyter-widgets/controls",
      "model_module_version": "1.5.0",
      "model_name": "FloatProgressModel",
      "state": {
       "_dom_classes": [],
       "_model_module": "@jupyter-widgets/controls",
       "_model_module_version": "1.5.0",
       "_model_name": "FloatProgressModel",
       "_view_count": null,
       "_view_module": "@jupyter-widgets/controls",
       "_view_module_version": "1.5.0",
       "_view_name": "ProgressView",
       "bar_style": "success",
       "description": "",
       "description_tooltip": null,
       "layout": "IPY_MODEL_4b33d6f6c6e84ee49ea376d994728838",
       "max": 42.0,
       "min": 0.0,
       "orientation": "horizontal",
       "style": "IPY_MODEL_deff6afc27a4412b88cf735fd642bbff",
       "value": 42.0
      }
     },
     "deff6afc27a4412b88cf735fd642bbff": {
      "model_module": "@jupyter-widgets/controls",
      "model_module_version": "1.5.0",
      "model_name": "ProgressStyleModel",
      "state": {
       "_model_module": "@jupyter-widgets/controls",
       "_model_module_version": "1.5.0",
       "_model_name": "ProgressStyleModel",
       "_view_count": null,
       "_view_module": "@jupyter-widgets/base",
       "_view_module_version": "1.2.0",
       "_view_name": "StyleView",
       "bar_color": null,
       "description_width": ""
      }
     },
     "e5a7f5ee1cf94cdca0bf861e09f108ee": {
      "model_module": "@jupyter-widgets/controls",
      "model_module_version": "1.5.0",
      "model_name": "DescriptionStyleModel",
      "state": {
       "_model_module": "@jupyter-widgets/controls",
       "_model_module_version": "1.5.0",
       "_model_name": "DescriptionStyleModel",
       "_view_count": null,
       "_view_module": "@jupyter-widgets/base",
       "_view_module_version": "1.2.0",
       "_view_name": "StyleView",
       "description_width": ""
      }
     }
    },
    "version_major": 2,
    "version_minor": 0
   }
  }
 },
 "nbformat": 4,
 "nbformat_minor": 5
}
